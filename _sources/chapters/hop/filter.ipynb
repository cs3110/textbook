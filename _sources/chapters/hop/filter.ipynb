{
 "cells": [
  {
   "cell_type": "markdown",
   "id": "2b4e1b15",
   "metadata": {},
   "source": [
    "# Filter\n",
    "\n",
    "{{ video_embed | replace(\"%%VID%%\", \"FaWtD-LRdpU\")}}\n",
    "\n",
    "Suppose we wanted to filter out only the even numbers from a list, or the odd\n",
    "numbers.  Here are some functions to do that:"
   ]
  },
  {
   "cell_type": "code",
   "execution_count": null,
   "id": "226a99fb",
   "metadata": {},
   "outputs": [],
   "source": [
    "(** [even n] is whether [n] is even. *)\n",
    "let even n =\n",
    "  n mod 2 = 0\n",
    "\n",
    "(** [evens lst] is the sublist of [lst] containing only even numbers. *)\n",
    "let rec evens = function\n",
    "  | [] -> []\n",
    "  | h :: t -> if even h then h :: evens t else evens t\n",
    "\n",
    "let lst1 = evens [1; 2; 3; 4]"
   ]
  },
  {
   "cell_type": "code",
   "execution_count": null,
   "id": "448f5095",
   "metadata": {},
   "outputs": [],
   "source": [
    "(** [odd n] is whether [n] is odd. *)\n",
    "let odd n =\n",
    "  n mod 2 <> 0\n",
    "\n",
    "(** [odds lst] is the sublist of [lst] containing only odd numbers. *)\n",
    "let rec odds = function\n",
    "  | [] -> []\n",
    "  | h :: t -> if odd h then h :: odds t else odds t\n",
    "\n",
    "let lst2 = odds [1; 2; 3; 4]"
   ]
  },
  {
   "cell_type": "markdown",
   "id": "908f7dc1",
   "metadata": {},
   "source": [
    "Functions `evens` and `odds` are nearly the same code: the only essential\n",
    "difference is the test they apply to the head element. So as we did with `map`\n",
    "in the previous section, let's factor out that test as a function. Let's name\n",
    "the function `p` as short for \"predicate\", which is a fancy way of saying\n",
    "that it tests whether something is true or false:"
   ]
  },
  {
   "cell_type": "code",
   "execution_count": null,
   "id": "e5582497",
   "metadata": {},
   "outputs": [],
   "source": [
    "let rec filter p = function\n",
    "  | [] -> []\n",
    "  | h :: t -> if p h then h :: filter p t else filter p t"
   ]
  },
  {
   "cell_type": "markdown",
   "id": "5425c111",
   "metadata": {},
   "source": [
    "And now we can reimplement our original two functions:"
   ]
  },
  {
   "cell_type": "code",
   "execution_count": null,
   "id": "1e5879ae",
   "metadata": {},
   "outputs": [],
   "source": [
    "let evens = filter even\n",
    "let odds = filter odd"
   ]
  },
  {
   "cell_type": "markdown",
   "id": "5b0bf66e",
   "metadata": {},
   "source": [
    "How simple these are! How clear! (At least to the reader who is familiar with\n",
    "`filter`.)\n",
    "\n",
    "## Filter and Tail Recursion\n",
    "\n",
    "As we did with `map`, we can create a tail-recursive version of `filter`:"
   ]
  },
  {
   "cell_type": "code",
   "execution_count": null,
   "id": "7e0a46e3",
   "metadata": {},
   "outputs": [],
   "source": [
    "let rec filter_aux p acc = function\n",
    "  | [] -> acc\n",
    "  | h :: t -> if p h then filter_aux p (h :: acc) t else filter_aux p acc t\n",
    "\n",
    "let filter p = filter_aux p []\n",
    "\n",
    "let lst = filter even [1; 2; 3; 4]"
   ]
  },
  {
   "cell_type": "markdown",
   "id": "91b57d8d",
   "metadata": {},
   "source": [
    "And again we discover the output is backwards. Here, the standard library makes\n",
    "a different choice than it did with `map`. It builds in the reversal to\n",
    "`List.filter`, which is implemented like this:"
   ]
  },
  {
   "cell_type": "code",
   "execution_count": null,
   "id": "d38e23ce",
   "metadata": {},
   "outputs": [],
   "source": [
    "let rec filter_aux p acc = function\n",
    "  | [] -> List.rev acc (* note the built-in reversal *)\n",
    "  | h :: t -> if p h then filter_aux p (h :: acc) t else filter_aux p acc t\n",
    "\n",
    "let filter p = filter_aux p []"
   ]
  },
  {
   "cell_type": "markdown",
   "id": "dac5b991",
   "metadata": {},
   "source": [
    "Why does the standard library treat `map` and `filter` differently on this\n",
    "point? Good question. Perhaps there has simply never been a demand for a\n",
    "`filter` function whose time efficiency is a constant factor better. Or perhaps\n",
    "it is just historical accident.\n",
    "\n",
    "## Filter in Other Languages\n",
    "\n",
    "Again, the idea of filter exists in many programming languages. Here it is in\n",
    "Python:\n",
    "```python\n",
    ">>> print(list(filter(lambda x: x % 2 == 0, [1, 2, 3, 4])))\n",
    "[2, 4]\n",
    "```\n",
    "And in Java:\n",
    "```java\n",
    "jshell> Stream.of(1, 2, 3, 4).filter(x -> x % 2 == 0).collect(Collectors.toList())\n",
    "$1 ==> [2, 4]\n",
    "```"
   ]
  }
 ],
 "metadata": {
  "jupytext": {
   "cell_metadata_filter": "-all",
   "formats": "md:myst",
   "text_representation": {
    "extension": ".md",
    "format_name": "myst",
    "format_version": 0.13,
    "jupytext_version": "1.10.3"
   }
  },
  "kernelspec": {
   "display_name": "OCaml",
   "language": "OCaml",
   "name": "ocaml-jupyter"
  },
  "source_map": [
   14,
   23,
   36,
   47,
   55,
   59,
   63,
   66,
   75,
   83,
   89,
   95
  ]
 },
 "nbformat": 4,
 "nbformat_minor": 5
}