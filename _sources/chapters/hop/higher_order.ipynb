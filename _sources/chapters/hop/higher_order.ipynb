{
 "cells": [
  {
   "cell_type": "markdown",
   "id": "4a0211c7",
   "metadata": {},
   "source": [
    "# Higher-Order Functions\n",
    "\n",
    "Consider these functions `double` and `square` on integers:"
   ]
  },
  {
   "cell_type": "code",
   "execution_count": null,
   "id": "614255e6",
   "metadata": {},
   "outputs": [],
   "source": [
    "let double x = 2 * x\n",
    "let square x = x * x"
   ]
  },
  {
   "cell_type": "markdown",
   "id": "a3866d8a",
   "metadata": {},
   "source": [
    "Let's use these functions to write other functions that quadruple and raise a\n",
    "number to the fourth power:"
   ]
  },
  {
   "cell_type": "code",
   "execution_count": null,
   "id": "cebf7ec9",
   "metadata": {},
   "outputs": [],
   "source": [
    "let quad x = double (double x)\n",
    "let fourth x = square (square x)"
   ]
  },
  {
   "cell_type": "markdown",
   "id": "255965ff",
   "metadata": {},
   "source": [
    "There is an obvious similarity between these two functions: what they do is\n",
    "apply a given function twice to a value. By passing in the function to another\n",
    "function `twice` as an argument, we can abstract this functionality:"
   ]
  },
  {
   "cell_type": "code",
   "execution_count": null,
   "id": "912a81fc",
   "metadata": {},
   "outputs": [],
   "source": [
    "let twice f x = f (f x)"
   ]
  },
  {
   "cell_type": "markdown",
   "id": "7cb0fdfa",
   "metadata": {},
   "source": [
    "The function `twice` is higher-order: its input `f` is a function.\n",
    "And&mdash;recalling that all OCaml functions really take only a single\n",
    "argument&mdash;its output is technically `fun x -> f (f x)`, so `twice` returns\n",
    "a function hence is also higher-order in that way.\n",
    "\n",
    "Using `twice`, we can implement `quad` and `fourth` in a uniform way:"
   ]
  },
  {
   "cell_type": "code",
   "execution_count": null,
   "id": "d0485a73",
   "metadata": {},
   "outputs": [],
   "source": [
    "let quad x = twice double x\n",
    "let fourth x = twice square x"
   ]
  },
  {
   "cell_type": "markdown",
   "id": "6dd9a32a",
   "metadata": {},
   "source": [
    "## The Abstraction Principle\n",
    "\n",
    "Above, we have exploited the structural similarity between `quad` and `fourth`\n",
    "to save work. Admittedly, in this toy example it might not seem like much work.\n",
    "But imagine that `twice` were actually some much more complicated function.\n",
    "Then, if someone comes up with a more efficient version of it, every function\n",
    "written in terms of it (like `quad` and `fourth`) could benefit from that\n",
    "improvement in efficiency, without needing to be recoded.\n",
    "\n",
    "Part of being an excellent programmer is recognizing such similarities and\n",
    "*abstracting* them by creating functions (or other units of code) that implement\n",
    "them. Bruce MacLennan names this the **Abstraction Principle** in his textbook\n",
    "*Functional Programming: Theory and Practice* (1990). The Abstraction Principle\n",
    "says to avoid requiring something to be stated more than once; instead, *factor\n",
    "out* the recurring pattern. Higher-order functions enable such refactoring,\n",
    "because they allow us to factor out functions and parameterize functions on\n",
    "other functions.\n",
    "\n",
    "Besides `twice`, here are some more relatively simple examples, indebted also to\n",
    "MacLennan:\n",
    "\n",
    "**Apply.** We can write a function that applies its first input to its second\n",
    "input:"
   ]
  },
  {
   "cell_type": "code",
   "execution_count": null,
   "id": "31b792df",
   "metadata": {},
   "outputs": [],
   "source": [
    "let apply f x = f x"
   ]
  },
  {
   "cell_type": "markdown",
   "id": "4aaf80c1",
   "metadata": {},
   "source": [
    "Of course, writing `apply f` is a lot more work than just writing `f`.\n",
    "\n",
    "**Pipeline.** The pipeline operator, which we've previously seen, is a\n",
    "higher-order function:"
   ]
  },
  {
   "cell_type": "code",
   "execution_count": null,
   "id": "b3ed744d",
   "metadata": {},
   "outputs": [],
   "source": [
    "let pipeline x f = f x\n",
    "let (|>) = pipeline\n",
    "let x = 5 |> double"
   ]
  },
  {
   "cell_type": "markdown",
   "id": "139110a7",
   "metadata": {},
   "source": [
    "**Compose.** We can write a function that composes two other functions:"
   ]
  },
  {
   "cell_type": "code",
   "execution_count": null,
   "id": "5132b3c2",
   "metadata": {},
   "outputs": [],
   "source": [
    "let compose f g x = f (g x)"
   ]
  },
  {
   "cell_type": "markdown",
   "id": "0076b4b0",
   "metadata": {},
   "source": [
    "This function would let us create a new function that can be applied\n",
    "many times, such as the following:"
   ]
  },
  {
   "cell_type": "code",
   "execution_count": null,
   "id": "c7955a0e",
   "metadata": {},
   "outputs": [],
   "source": [
    "let square_then_double = compose double square\n",
    "let x = square_then_double 1\n",
    "let y = square_then_double 2"
   ]
  },
  {
   "cell_type": "markdown",
   "id": "c1939e4c",
   "metadata": {},
   "source": [
    "**Both.** We can write a function that applies two functions to the same\n",
    "argument and returns a pair of the result:"
   ]
  },
  {
   "cell_type": "code",
   "execution_count": null,
   "id": "e00d65e3",
   "metadata": {},
   "outputs": [],
   "source": [
    "let both f g x = (f x, g x)\n",
    "let ds = both double square\n",
    "let p = ds 3"
   ]
  },
  {
   "cell_type": "markdown",
   "id": "037a9087",
   "metadata": {},
   "source": [
    "**Cond.** We can write a function that conditionally chooses which of two\n",
    "functions to apply based on a predicate:"
   ]
  },
  {
   "cell_type": "code",
   "execution_count": null,
   "id": "e3666bc3",
   "metadata": {},
   "outputs": [],
   "source": [
    "let cond p f g x =\n",
    "  if p x then f x else g x"
   ]
  },
  {
   "cell_type": "markdown",
   "id": "93f3b63e",
   "metadata": {},
   "source": [
    "## The Meaning of \"Higher Order\"\n",
    "\n",
    "The phrase \"higher order\" is used throughout logic and computer science, though\n",
    "not necessarily with a precise or consistent meaning in all cases.\n",
    "\n",
    "In logic, *first-order quantification* refers primarily to the universal and\n",
    "existential ($\\forall$ and $\\exists$) quantifiers. These let you quantify over\n",
    "some *domain* of interest, such as the natural numbers. But for any given\n",
    "quantification, say $\\forall x$, the variable being quantified represents an\n",
    "individual element of that domain, say the natural number 42.\n",
    "\n",
    "*Second-order quantification* lets you do something strictly more powerful,\n",
    "which is to quantify over *properties* of the domain. Properties are assertions\n",
    "about individual elements, for example, that a natural number is even, or that\n",
    "it is prime. In some logics we can equate properties with sets of individual,\n",
    "for example the set of all even naturals. So second-order quantification is\n",
    "often thought of as quantification over *sets*. You can also think of properties\n",
    "as being functions that take in an element and return a Boolean indicating\n",
    "whether the element satisfies the property; this is called the *characteristic\n",
    "function* of the property.\n",
    "\n",
    "*Third-order* logic would allow quantification over properties of properties,\n",
    "and *fourth-order* over properties of properties of properties, and so forth.\n",
    "*Higher-order logic* refers to all these logics that are more powerful than\n",
    "first-order logic; though one interesting result in this area is that all\n",
    "higher-order logics can be expressed in second-order logic.\n",
    "\n",
    "In programming languages, *first-order functions* similarly refer to functions\n",
    "that operate on individual data elements (e.g., strings, ints, records,\n",
    "variants, etc.). Whereas *higher-order function* can operate on functions, much\n",
    "like higher-order logics can quantify over properties (which are like\n",
    "functions).\n",
    "\n",
    "## Famous Higher-order Functions\n",
    "\n",
    "In the next few sections we'll dive into three of the most famous higher-order\n",
    "functions: map, filter, and fold. These are functions that can be defined for\n",
    "many data structures, including lists and trees. The basic idea of each is that:\n",
    "\n",
    "* *map* transforms elements,\n",
    "* *filter* eliminates elements, and\n",
    "* *fold* combines elements."
   ]
  }
 ],
 "metadata": {
  "jupytext": {
   "cell_metadata_filter": "-all",
   "formats": "md:myst",
   "text_representation": {
    "extension": ".md",
    "format_name": "myst",
    "format_version": 0.13,
    "jupytext_version": "1.10.3"
   }
  },
  "kernelspec": {
   "display_name": "OCaml",
   "language": "OCaml",
   "name": "ocaml-jupyter"
  },
  "source_map": [
   14,
   20,
   23,
   28,
   31,
   37,
   39,
   48,
   51,
   76,
   78,
   83,
   87,
   90,
   92,
   95,
   99,
   103,
   107,
   111,
   114
  ]
 },
 "nbformat": 4,
 "nbformat_minor": 5
}