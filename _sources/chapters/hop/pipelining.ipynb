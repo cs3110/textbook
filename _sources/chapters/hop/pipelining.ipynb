{
 "cells": [
  {
   "cell_type": "markdown",
   "id": "d09b8614",
   "metadata": {},
   "source": [
    "# Pipelining\n",
    "\n",
    "Suppose we wanted to compute the sum of squares of the numbers from 0 up to $n$.\n",
    "How might we go about it? Of course (math being the best form of optimization),\n",
    "the most efficient way would be a closed-form formula:\n",
    "\n",
    "$$\n",
    "\\frac{n (n+1) (2n+1)}{6}\n",
    "$$\n",
    "\n",
    "But let's imagine you've forgotten that formula. In an imperative language you\n",
    "might use a `for` loop:\n",
    "\n",
    "```python\n",
    "# Python\n",
    "def sum_sq(n):\n",
    "\tsum = 0\n",
    "\tfor i in range(0, n+1):\n",
    "\t\tsum += i * i\n",
    "\treturn sum\n",
    "```\n",
    "\n",
    "The equivalent (tail) recursive code in OCaml would be:"
   ]
  },
  {
   "cell_type": "code",
   "execution_count": 1,
   "id": "e93239dd",
   "metadata": {},
   "outputs": [
    {
     "data": {
      "text/plain": [
       "val sum_sq : int -> int = <fun>\n"
      ]
     },
     "execution_count": 1,
     "metadata": {},
     "output_type": "execute_result"
    }
   ],
   "source": [
    "let sum_sq n =\n",
    "  let rec loop i sum =\n",
    "    if i > n then sum\n",
    "    else loop (i + 1) (sum + i * i)\n",
    "  in loop 0 0"
   ]
  },
  {
   "cell_type": "markdown",
   "id": "18489f15",
   "metadata": {},
   "source": [
    "Another, clearer way of producing the same result in OCaml uses higher-order\n",
    "functions and the pipeline operator:"
   ]
  },
  {
   "cell_type": "code",
   "execution_count": 2,
   "id": "5ee0ae46",
   "metadata": {},
   "outputs": [
    {
     "data": {
      "text/plain": [
       "val ( -- ) : int -> int -> int list = <fun>\n"
      ]
     },
     "execution_count": 2,
     "metadata": {},
     "output_type": "execute_result"
    },
    {
     "data": {
      "text/plain": [
       "val square : int -> int = <fun>\n"
      ]
     },
     "execution_count": 2,
     "metadata": {},
     "output_type": "execute_result"
    },
    {
     "data": {
      "text/plain": [
       "val sum : int list -> int = <fun>\n"
      ]
     },
     "execution_count": 2,
     "metadata": {},
     "output_type": "execute_result"
    },
    {
     "data": {
      "text/plain": [
       "val sum_sq : int -> int = <fun>\n"
      ]
     },
     "execution_count": 2,
     "metadata": {},
     "output_type": "execute_result"
    }
   ],
   "source": [
    "let rec ( -- ) i j = if i > j then [] else i :: i + 1 -- j\n",
    "let square x = x * x\n",
    "let sum = List.fold_left ( + ) 0\n",
    "\n",
    "let sum_sq n =\n",
    "  0 -- n              (* [0;1;2;...;n]   *)\n",
    "  |> List.map square  (* [0;1;4;...;n*n] *)\n",
    "  |> sum              (*  0+1+4+...+n*n  *)"
   ]
  },
  {
   "cell_type": "markdown",
   "id": "eb0c7c14",
   "metadata": {},
   "source": [
    "The function `sum_sq` first constructs a list containing all the numbers `0..n`.\n",
    "Then it uses the pipeline operator `|>` to pass that list through\n",
    "`List.map square`, which squares every element. Then the resulting list is\n",
    "pipelined through `sum`, which adds all the elements together.\n",
    "\n",
    "The other alternatives that you might consider are somewhat uglier:"
   ]
  },
  {
   "cell_type": "code",
   "execution_count": 3,
   "id": "5a995bda",
   "metadata": {},
   "outputs": [
    {
     "data": {
      "text/plain": [
       "val sum_sq : int -> int = <fun>\n"
      ]
     },
     "execution_count": 3,
     "metadata": {},
     "output_type": "execute_result"
    },
    {
     "data": {
      "text/plain": [
       "val sum_sq : int -> int = <fun>\n"
      ]
     },
     "execution_count": 3,
     "metadata": {},
     "output_type": "execute_result"
    }
   ],
   "source": [
    "(* Maybe worse: a lot of extra [let..in] syntax and unnecessary names\n",
    "   for intermediate values we don't care about. *)\n",
    "let sum_sq n =\n",
    "  let l = 0 -- n in\n",
    "  let sq_l = List.map square l in\n",
    "  sum sq_l\n",
    "\n",
    "(* Maybe worse: have to read the function applications from right to left\n",
    "   rather than top to bottom, and extra parentheses. *)\n",
    "let sum_sq n =\n",
    "  sum (List.map square (0--n))"
   ]
  },
  {
   "cell_type": "markdown",
   "id": "8a630853",
   "metadata": {},
   "source": [
    "The downside of all of these compared to the original tail recursive version is\n",
    "that they are wasteful of space&mdash;linear instead of constant&mdash;and take\n",
    "a constant factor more time. So as is so often the case in programming, there is\n",
    "a tradeoff between clarity and efficiency of code.\n",
    "\n",
    "Note that the inefficiency is *not* from the pipeline operator itself, but from\n",
    "having to construct all those unnecessary intermediate lists. So don't get the\n",
    "idea that pipelining is intrinsically bad. In fact, it can be quite useful. When\n",
    "we get to the chapter on modules, we'll use it quite often with some of the data\n",
    "structures we study there."
   ]
  }
 ],
 "metadata": {
  "jupytext": {
   "cell_metadata_filter": "-all",
   "formats": "md:myst",
   "text_representation": {
    "extension": ".md",
    "format_name": "myst",
    "format_version": 0.13,
    "jupytext_version": "1.10.3"
   }
  },
  "kernelspec": {
   "display_name": "OCaml",
   "language": "OCaml",
   "name": "ocaml-jupyter"
  },
  "language_info": {
   "codemirror_mode": "text/x-ocaml",
   "file_extension": ".ml",
   "mimetype": "text/x-ocaml",
   "name": "OCaml",
   "nbconverter_exporter": null,
   "pygments_lexer": "OCaml",
   "version": "4.14.0"
  },
  "source_map": [
   14,
   39,
   45,
   49,
   58,
   65,
   77
  ]
 },
 "nbformat": 4,
 "nbformat_minor": 5
}