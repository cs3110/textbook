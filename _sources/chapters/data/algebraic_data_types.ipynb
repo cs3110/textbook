{
 "cells": [
  {
   "cell_type": "markdown",
   "id": "0a665b0d",
   "metadata": {},
   "source": [
    "# Algebraic Data Types\n",
    "\n",
    "Thus far, we have seen variants simply as enumerating a set of constant values,\n",
    "such as:\n",
    "```ocaml\n",
    "type day = Sun | Mon | Tue | Wed | Thu | Fri | Sat\n",
    "\n",
    "type ptype = TNormal | TFire | TWater\n",
    "\n",
    "type peff = ENormal | ENotVery | Esuper\n",
    "```\n",
    "But variants are far more powerful than this.\n",
    "\n",
    "## Variants that Carry Data\n",
    "\n",
    "{{ video_embed | replace(\"%%VID%%\", \"u6P5XdRta04\")}}\n",
    "\n",
    "As a running example, here is a variant type `shape` that does more than just\n",
    "enumerate values:"
   ]
  },
  {
   "cell_type": "code",
   "execution_count": null,
   "id": "16fb1fa1",
   "metadata": {},
   "outputs": [],
   "source": [
    "type point = float * float\n",
    "type shape =\n",
    "  | Point of point\n",
    "  | Circle of point * float (* center and radius *)\n",
    "  | Rect of point * point (* lower-left and upper-right corners *)"
   ]
  },
  {
   "cell_type": "markdown",
   "id": "d3ec8daf",
   "metadata": {},
   "source": [
    "This type, `shape`, represents a shape that is either a point, a circle, or a\n",
    "rectangle. A point is represented by a constructor `Point` that *carries* some\n",
    "additional data, which is a value of type `point`. A circle is represented by a\n",
    "constructor `Circle` that carries two pieces of data: one of type `point` and\n",
    "the other of type `float`. Those data represent the center of the circle and its\n",
    "radius. A rectangle is represented by a constructor `Rect` that carries two more\n",
    "points.\n",
    "\n",
    "{{ video_embed | replace(\"%%VID%%\", \"K_eA-8LhlVY\")}}\n",
    "{{ video_embed | replace(\"%%VID%%\", \"SpuQfO_597E\")}}\n",
    "\n",
    "Here are a couple functions that use the `shape` type:"
   ]
  },
  {
   "cell_type": "code",
   "execution_count": null,
   "id": "f84c1d36",
   "metadata": {},
   "outputs": [],
   "source": [
    "let area = function\n",
    "  | Point _ -> 0.0\n",
    "  | Circle (_, r) -> Float.pi *. (r ** 2.0)\n",
    "  | Rect ((x1, y1), (x2, y2)) ->\n",
    "      let w = x2 -. x1 in\n",
    "      let h = y2 -. y1 in\n",
    "      w *. h\n",
    "\n",
    "let center = function\n",
    "  | Point p -> p\n",
    "  | Circle (p, _) -> p\n",
    "  | Rect ((x1, y1), (x2, y2)) -> ((x2 +. x1) /. 2.0, (y2 +. y1) /. 2.0)"
   ]
  },
  {
   "cell_type": "markdown",
   "id": "462c356d",
   "metadata": {},
   "source": [
    "The `shape` variant type is the same as those we've seen before in that it is\n",
    "defined in terms of a collection of constructors. What's different than before\n",
    "is that those constructors carry additional data along with them. Every value of\n",
    "type `shape` is formed from exactly one of those constructors. Sometimes we call\n",
    "the constructor a *tag*, because it tags the data it carries as being from that\n",
    "particular constructor.\n",
    "\n",
    "Variant types are sometimes called *tagged unions*. Every value of the type is\n",
    "from the set of values that is the union of all values from the underlying types\n",
    "that the constructor carries. For example, with the `shape` type, every value is\n",
    "tagged with either `Point` or `Circle` or `Rect` and carries a value from:\n",
    "\n",
    "- the set of all `point` values, unioned with \n",
    "- the set of all `point * float` values, unioned with\n",
    "- the set of all `point * point` values.\n",
    "\n",
    "Another name for these variant types is an *algebraic data type*. \"Algebra\" here\n",
    "refers to the fact that variant types contain both sum and product types, as\n",
    "defined in the previous lecture. The sum types come from the fact that a value\n",
    "of a variant is formed by *one of* the constructors. The product types come from\n",
    "that fact that a constructor can carry tuples or records, whose values have a\n",
    "sub-value from *each of* their component types.\n",
    "\n",
    "Using variants, we can express a type that represents the union of several other\n",
    "types, but in a type-safe way. Here, for example, is a type that represents\n",
    "either a `string` or an `int`:"
   ]
  },
  {
   "cell_type": "code",
   "execution_count": null,
   "id": "e08394df",
   "metadata": {},
   "outputs": [],
   "source": [
    "type string_or_int =\n",
    "  | String of string\n",
    "  | Int of int"
   ]
  },
  {
   "cell_type": "markdown",
   "id": "e1cc90c3",
   "metadata": {},
   "source": [
    "If we wanted to, we could use this type to code up lists (e.g.) that contain\n",
    "either strings or ints:"
   ]
  },
  {
   "cell_type": "code",
   "execution_count": null,
   "id": "5553d815",
   "metadata": {},
   "outputs": [],
   "source": [
    "type string_or_int_list = string_or_int list\n",
    "\n",
    "let rec sum : string_or_int list -> int = function\n",
    "  | [] -> 0\n",
    "  | String s :: t -> int_of_string s + sum t\n",
    "  | Int i :: t -> i + sum t\n",
    "\n",
    "let lst_sum = sum [String \"1\"; Int 2]"
   ]
  },
  {
   "cell_type": "markdown",
   "id": "09a18c27",
   "metadata": {},
   "source": [
    "Variants thus provide a type-safe way of doing something that might before have\n",
    "seemed impossible.\n",
    "\n",
    "Variants also make it possible to discriminate which tag a value was constructed\n",
    "with, even if multiple constructors carry the same type. For example:"
   ]
  },
  {
   "cell_type": "code",
   "execution_count": null,
   "id": "acf61a82",
   "metadata": {},
   "outputs": [],
   "source": [
    "type t = Left of int | Right of int\n",
    "let x = Left 1\n",
    "let double_right = function\n",
    "  | Left i -> i\n",
    "  | Right i -> 2 * i"
   ]
  },
  {
   "cell_type": "markdown",
   "id": "345b4359",
   "metadata": {},
   "source": [
    "## Syntax and Semantics\n",
    "\n",
    "{{ video_embed | replace(\"%%VID%%\", \"3A_PNz5njt0\")}}\n",
    "\n",
    "**Syntax.**\n",
    "\n",
    "To define a variant type:\n",
    "```ocaml\n",
    "type t = C1 [of t1] | ... | Cn [of tn]\n",
    "```\n",
    "The square brackets above denote that `of ti` is optional. Every constructor may\n",
    "individually either carry no data or carry data. We call constructors that carry\n",
    "no data *constant*; and those that carry data, *non-constant*.\n",
    "\n",
    "To write an expression that is a variant:\n",
    "```ocaml\n",
    "C e\n",
    "```\n",
    "Or:\n",
    "```ocaml\n",
    "C\n",
    "```\n",
    "depending on whether the constructor name `C` is non-constant or constant.\n",
    "\n",
    "**Dynamic semantics.**\n",
    "\n",
    "* If `e ==> v` then `C e ==> C v`, assuming `C` is non-constant.\n",
    "* `C` is already a value, assuming `C` is constant.\n",
    "\n",
    "**Static semantics.**\n",
    "\n",
    "* If `t = ... | C | ...` then `C : t`.\n",
    "* If `t = ... | C of t' | ...` and if `e : t'` then `C e : t`.\n",
    "\n",
    "**Pattern matching.**\n",
    "\n",
    "We add the following new pattern form to the list of legal patterns:\n",
    "\n",
    "* `C p`\n",
    "\n",
    "And we extend the definition of when a pattern matches a value and produces\n",
    "a binding as follows:\n",
    "\n",
    "* If `p` matches `v` and produces bindings $b$, then `C p` matches `C v` and\n",
    "  produces bindings $b$.\n",
    "\n",
    "## Catch-all Cases\n",
    "\n",
    "One thing to beware of when pattern matching against variants is what *Real\n",
    "World OCaml* calls \"catch-all cases\". Here's a simple example of what can go\n",
    "wrong. Let's suppose you write this variant and function:"
   ]
  },
  {
   "cell_type": "code",
   "execution_count": null,
   "id": "ae2486f7",
   "metadata": {},
   "outputs": [],
   "source": [
    "type color = Blue | Red\n",
    "\n",
    "(* a thousand lines of code in between *)\n",
    "\n",
    "let string_of_color = function\n",
    "  | Blue -> \"blue\"\n",
    "  | _ -> \"red\""
   ]
  },
  {
   "cell_type": "markdown",
   "id": "b1e22733",
   "metadata": {},
   "source": [
    "Seems fine, right?  But then one day you realize there are more colors\n",
    "in the world.  You need to represent green.  So you go back and add green\n",
    "to your variant:"
   ]
  },
  {
   "cell_type": "code",
   "execution_count": null,
   "id": "9d5962b6",
   "metadata": {},
   "outputs": [],
   "source": [
    "type color = Blue | Red | Green\n",
    "\n",
    "(* a thousand lines of code in between *)\n",
    "\n",
    "let string_of_color = function\n",
    "  | Blue -> \"blue\"\n",
    "  | _ -> \"red\""
   ]
  },
  {
   "cell_type": "markdown",
   "id": "c912985e",
   "metadata": {},
   "source": [
    "But because of the thousand lines of code in between, you forget that\n",
    "`string_of_color` needs updating.  And now, all the sudden, you are\n",
    "red-green color blind:"
   ]
  },
  {
   "cell_type": "code",
   "execution_count": null,
   "id": "df977048",
   "metadata": {},
   "outputs": [],
   "source": [
    "string_of_color Green"
   ]
  },
  {
   "cell_type": "markdown",
   "id": "00d8899a",
   "metadata": {},
   "source": [
    "The problem is the *catch-all* case in the pattern match inside\n",
    "`string_of_color`: the final case that uses the wildcard pattern to match\n",
    "anything. Such code is not robust against future changes to the variant type.\n",
    "\n",
    "If, instead, you had originally coded the function as follows, life would be\n",
    "better:"
   ]
  },
  {
   "cell_type": "code",
   "execution_count": null,
   "id": "29f69b3e",
   "metadata": {},
   "outputs": [],
   "source": [
    "let string_of_color = function\n",
    "  | Blue -> \"blue\"\n",
    "  | Red  -> \"red\""
   ]
  },
  {
   "cell_type": "markdown",
   "id": "48b29324",
   "metadata": {},
   "source": [
    "The OCaml type checker now alerts you that you haven't yet updated\n",
    "`string_of_color` to account for the new constructor.\n",
    "\n",
    "The moral of the story is: catch-all cases lead to buggy code. Avoid using them.\n",
    "\n",
    "## Recursive Variants\n",
    "\n",
    "{{ video_embed | replace(\"%%VID%%\", \"gDh217oAfnY\")}}\n",
    "\n",
    "Variant types may mention their own name inside their own body. For example,\n",
    "here is a variant type that could be used to represent something similar to\n",
    "`int list`:"
   ]
  },
  {
   "cell_type": "code",
   "execution_count": null,
   "id": "fe2446ae",
   "metadata": {},
   "outputs": [],
   "source": [
    "type intlist = Nil | Cons of int * intlist\n",
    "\n",
    "let lst3 = Cons (3, Nil)  (* similar to 3 :: [] or [3] *)\n",
    "let lst123 = Cons(1, Cons(2, lst3)) (* similar to [1; 2; 3] *)\n",
    "\n",
    "let rec sum (l : intlist) : int =\n",
    "  match l with\n",
    "  | Nil -> 0\n",
    "  | Cons (h, t) -> h + sum t\n",
    "\n",
    "let rec length : intlist -> int = function\n",
    "  | Nil -> 0\n",
    "  | Cons (_, t) -> 1 + length t\n",
    "\n",
    "let empty : intlist -> bool = function\n",
    "  | Nil -> true\n",
    "  | Cons _ -> false"
   ]
  },
  {
   "cell_type": "markdown",
   "id": "f981ba5f",
   "metadata": {},
   "source": [
    "Notice that in the definition of `intlist`, we define the `Cons` constructor to\n",
    "carry a value that contains an `intlist`. This makes the type `intlist` be\n",
    "*recursive*: it is defined in terms of itself.\n",
    "\n",
    "Types may be mutually recursive if you use the `and` keyword:"
   ]
  },
  {
   "cell_type": "code",
   "execution_count": null,
   "id": "4d49a726",
   "metadata": {},
   "outputs": [],
   "source": [
    "type node = {value : int; next : mylist}\n",
    "and mylist = Nil | Node of node"
   ]
  },
  {
   "cell_type": "markdown",
   "id": "082a027f",
   "metadata": {},
   "source": [
    "Any such mutual recursion must involve at least one variant or record type\n",
    "that the recursion \"goes through\".  For example, the following is not allowed:"
   ]
  },
  {
   "cell_type": "code",
   "execution_count": null,
   "id": "95ae2e17",
   "metadata": {
    "tags": [
     "raises-exception"
    ]
   },
   "outputs": [],
   "source": [
    "type t = u and u = t"
   ]
  },
  {
   "cell_type": "markdown",
   "id": "fe188159",
   "metadata": {},
   "source": [
    "But this is:"
   ]
  },
  {
   "cell_type": "code",
   "execution_count": null,
   "id": "f7e22d74",
   "metadata": {},
   "outputs": [],
   "source": [
    "type t = U of u and u = T of t"
   ]
  },
  {
   "cell_type": "markdown",
   "id": "29c3899e",
   "metadata": {},
   "source": [
    "Record types may also be recursive:"
   ]
  },
  {
   "cell_type": "code",
   "execution_count": null,
   "id": "f53d93ca",
   "metadata": {},
   "outputs": [],
   "source": [
    "type node = {value : int; next : node}"
   ]
  },
  {
   "cell_type": "markdown",
   "id": "a06626e3",
   "metadata": {},
   "source": [
    "But plain old type synonyms may not be:"
   ]
  },
  {
   "cell_type": "code",
   "execution_count": null,
   "id": "d241b144",
   "metadata": {
    "tags": [
     "raises-exception"
    ]
   },
   "outputs": [],
   "source": [
    "type t = t * t"
   ]
  },
  {
   "cell_type": "markdown",
   "id": "e339659d",
   "metadata": {},
   "source": [
    "Although `node` is a legal type definition, there is no way to construct a value\n",
    "of that type because of the circularity involved: to construct the very first\n",
    "`node` value in existence, you would already need a value of type `node` to\n",
    "exist. Later, when we cover imperative features, we'll see a similar idea used\n",
    "(but successfully) for mutable linked lists.\n",
    "\n",
    "## Parameterized Variants\n",
    "\n",
    "Variant types may be *parameterized* on other types.  For example,\n",
    "the `intlist` type above could be generalized to provide lists (coded\n",
    "up ourselves) over any type:"
   ]
  },
  {
   "cell_type": "code",
   "execution_count": null,
   "id": "2c158dae",
   "metadata": {},
   "outputs": [],
   "source": [
    "type 'a mylist = Nil | Cons of 'a * 'a mylist\n",
    "\n",
    "let lst3 = Cons (3, Nil)  (* similar to [3] *)\n",
    "let lst_hi = Cons (\"hi\", Nil)  (* similar to [\"hi\"] *)"
   ]
  },
  {
   "cell_type": "markdown",
   "id": "0cae59fa",
   "metadata": {},
   "source": [
    "Here, `mylist` is a *type constructor* but not a type: there is no way to write\n",
    "a value of type `mylist`. But we can write value of type `int mylist` (e.g.,\n",
    "`lst3`) and `string mylist` (e.g., `lst_hi`). Think of a type constructor as\n",
    "being like a function, but one that maps types to types, rather than values to\n",
    "value.\n",
    "\n",
    "Here are some functions over `'a mylist`:"
   ]
  },
  {
   "cell_type": "code",
   "execution_count": null,
   "id": "0ad726e4",
   "metadata": {},
   "outputs": [],
   "source": [
    "let rec length : 'a mylist -> int = function\n",
    "  | Nil -> 0\n",
    "  | Cons (_, t) -> 1 + length t\n",
    "\n",
    "let empty : 'a mylist -> bool = function\n",
    "  | Nil -> true\n",
    "  | Cons _ -> false"
   ]
  },
  {
   "cell_type": "markdown",
   "id": "a7486a5d",
   "metadata": {},
   "source": [
    "Notice that the body of each function is unchanged from its previous definition\n",
    "for `intlist`. All that we changed was the type annotation. And that could even\n",
    "be omitted safely:"
   ]
  },
  {
   "cell_type": "code",
   "execution_count": null,
   "id": "574cdb35",
   "metadata": {},
   "outputs": [],
   "source": [
    "let rec length = function\n",
    "  | Nil -> 0\n",
    "  | Cons (_, t) -> 1 + length t\n",
    "\n",
    "let empty = function\n",
    "  | Nil -> true\n",
    "  | Cons _ -> false"
   ]
  },
  {
   "cell_type": "markdown",
   "id": "0546fd2d",
   "metadata": {},
   "source": [
    "The functions we just wrote are an example of a language feature called\n",
    "**parametric polymorphism**. The functions don't care what the `'a` is in\n",
    "`'a mylist`, hence they are perfectly happy to work on `int mylist` or\n",
    "`string mylist` or any other `(whatever) mylist`. The word \"polymorphism\" is\n",
    "based on the Greek roots \"poly\" (many) and \"morph\" (form). A value of type\n",
    "`'a mylist` could have many forms, depending on the actual type `'a`.\n",
    "\n",
    "As soon, though, as you place a constraint on what the type `'a` might be, you\n",
    "give up some polymorphism. For example,"
   ]
  },
  {
   "cell_type": "code",
   "execution_count": null,
   "id": "993d564d",
   "metadata": {},
   "outputs": [],
   "source": [
    "let rec sum = function\n",
    "  | Nil -> 0\n",
    "  | Cons (h, t) -> h + sum t"
   ]
  },
  {
   "cell_type": "markdown",
   "id": "b96c9a23",
   "metadata": {},
   "source": [
    "The fact that we use the `( + )` operator with the head of the list constrains\n",
    "that head element to be an `int`, hence all elements must be `int`. That means\n",
    "`sum` must take in an `int mylist`, not any other kind of `'a mylist`.\n",
    "\n",
    "It is also possible to have multiple type parameters for a parameterized type,\n",
    "in which case parentheses are needed:"
   ]
  },
  {
   "cell_type": "code",
   "execution_count": null,
   "id": "536b273a",
   "metadata": {},
   "outputs": [],
   "source": [
    "type ('a, 'b) pair = {first : 'a; second : 'b}\n",
    "let x = {first = 2; second = \"hello\"}"
   ]
  },
  {
   "cell_type": "markdown",
   "id": "7828fc1b",
   "metadata": {},
   "source": [
    "## Polymorphic Variants\n",
    "\n",
    "Thus far, whenever you've wanted to define a variant type, you have had to give\n",
    "it a name, such as `day`, `shape`, or `'a mylist`:"
   ]
  },
  {
   "cell_type": "code",
   "execution_count": null,
   "id": "581ffe9b",
   "metadata": {},
   "outputs": [],
   "source": [
    "type day = Sun | Mon | Tue | Wed | Thu | Fri | Sat\n",
    "\n",
    "type shape =\n",
    "  | Point of point\n",
    "  | Circle of point * float\n",
    "  | Rect of point * point\n",
    "\n",
    "type 'a mylist = Nil | Cons of 'a * 'a mylist"
   ]
  },
  {
   "cell_type": "markdown",
   "id": "40984acf",
   "metadata": {},
   "source": [
    "Occasionally, you might need a variant type only for the return value of a\n",
    "single function. For example, here's a function `f` that can either return an\n",
    "`int` or $\\infty$; you are forced to define a variant type to represent that\n",
    "result:"
   ]
  },
  {
   "cell_type": "code",
   "execution_count": null,
   "id": "351dbc1d",
   "metadata": {},
   "outputs": [],
   "source": [
    "type fin_or_inf = Finite of int | Infinity\n",
    "\n",
    "let f = function\n",
    "  | 0 -> Infinity\n",
    "  | 1 -> Finite 1\n",
    "  | n -> Finite (-n)"
   ]
  },
  {
   "cell_type": "markdown",
   "id": "11e60ad2",
   "metadata": {},
   "source": [
    "The downside of this definition is that you were forced to define\n",
    "`fin_or_inf` even though it won't be used throughout much of your program.\n",
    "\n",
    "There's another kind of variant in OCaml that supports this kind of programming:\n",
    "*polymorphic variants*. Polymorphic variants are just like variants, except:\n",
    "\n",
    "1. You don't have to declare their type or constructors before using them.\n",
    "\n",
    "2. There is no name for a polymorphic variant type. (So another name for this\n",
    "   feature could have been \"anonymous variants\".)\n",
    "\n",
    "3. The constructors of a polymorphic variant start with a backquote character.\n",
    "\n",
    "Using polymorphic variants, we can rewrite `f`:"
   ]
  },
  {
   "cell_type": "code",
   "execution_count": null,
   "id": "2f10f0db",
   "metadata": {},
   "outputs": [],
   "source": [
    "let f = function\n",
    "  | 0 -> `Infinity\n",
    "  | 1 -> `Finite 1\n",
    "  | n -> `Finite (-n)"
   ]
  },
  {
   "cell_type": "markdown",
   "id": "42e91cc3",
   "metadata": {},
   "source": [
    "This type says that `f` either returns `` `Finite n`` for some `n : int` or\n",
    "`` `Infinity``. The square brackets do not denote a list, but rather a set of\n",
    "possible constructors. The `>` sign means that any code that pattern matches\n",
    "against a value of that type must *at least* handle the constructors\n",
    "`` `Finite`` and `` `Infinity``, and possibly more. For example, we could write:"
   ]
  },
  {
   "cell_type": "code",
   "execution_count": null,
   "id": "ea5d9d4d",
   "metadata": {},
   "outputs": [],
   "source": [
    "match f 3 with\n",
    "  | `NegInfinity -> \"negative infinity\"\n",
    "  | `Finite n -> \"finite\"\n",
    "  | `Infinity -> \"infinite\""
   ]
  },
  {
   "cell_type": "markdown",
   "id": "fda8cf4f",
   "metadata": {},
   "source": [
    "It's perfectly fine for the pattern match to include constructors other than\n",
    "`` `Finite`` or `` `Infinity``, because `f` is guaranteed never to return any\n",
    "constructors other than those.\n",
    "\n",
    "There are other, more compelling uses for polymorphic variants that we'll see\n",
    "later in the course. They are particularly useful in libraries. For now, we\n",
    "generally will steer you away from extensive use of polymorphic variants,\n",
    "because their types can become difficult to manage.\n",
    "\n",
    "## Built-in Variants\n",
    "\n",
    "OCaml's built-in list data type is really a recursive, parameterized variant. It\n",
    "is defined as follows:"
   ]
  },
  {
   "cell_type": "code",
   "execution_count": null,
   "id": "e63f6e11",
   "metadata": {
    "tags": [
     "remove-output"
    ]
   },
   "outputs": [],
   "source": [
    "type 'a list = [] | ( :: ) of 'a * 'a list"
   ]
  },
  {
   "cell_type": "markdown",
   "id": "0341e43f",
   "metadata": {},
   "source": [
    "So `list` is really just a type constructor, with (value) constructors\n",
    "`[]` (which we pronounce \"nil\") and `::` (which we pronounce \"cons\").\n",
    "\n",
    "OCaml's built-in option data type is also really a parameterized variant. It's\n",
    "defined as follows:"
   ]
  },
  {
   "cell_type": "code",
   "execution_count": null,
   "id": "6fec9dd7",
   "metadata": {
    "tags": [
     "remove-output"
    ]
   },
   "outputs": [],
   "source": [
    "type 'a option = None | Some of 'a"
   ]
  },
  {
   "cell_type": "markdown",
   "id": "3440923c",
   "metadata": {},
   "source": [
    "So `option` is really just a type constructor, with (value) constructors\n",
    "`None` and `Some`.\n",
    "\n",
    "You can see both `list` and `option` defined in the [core OCaml library][core].\n",
    "\n",
    "[core]: https://ocaml.org/manual/core.html"
   ]
  }
 ],
 "metadata": {
  "jupytext": {
   "cell_metadata_filter": "-all",
   "formats": "md:myst",
   "text_representation": {
    "extension": ".md",
    "format_name": "myst",
    "format_version": 0.13,
    "jupytext_version": "1.10.3"
   }
  },
  "kernelspec": {
   "display_name": "OCaml",
   "language": "OCaml",
   "name": "ocaml-jupyter"
  },
  "source_map": [
   14,
   35,
   41,
   54,
   67,
   95,
   99,
   102,
   111,
   117,
   123,
   176,
   184,
   188,
   196,
   200,
   202,
   209,
   213,
   226,
   244,
   250,
   253,
   257,
   260,
   262,
   264,
   267,
   269,
   271,
   274,
   287,
   292,
   300,
   308,
   312,
   320,
   331,
   335,
   342,
   345,
   352,
   361,
   367,
   374,
   389,
   394,
   401,
   406,
   420,
   423,
   429,
   432
  ]
 },
 "nbformat": 4,
 "nbformat_minor": 5
}