{
 "cells": [
  {
   "cell_type": "markdown",
   "id": "b9bf4bc2",
   "metadata": {},
   "source": [
    "# Variants\n",
    "\n",
    "A *variant* is a data type representing a value that is one of several\n",
    "possibilities. At their simplest, variants are like enums from C or Java:"
   ]
  },
  {
   "cell_type": "code",
   "execution_count": null,
   "id": "18c60f1c",
   "metadata": {},
   "outputs": [],
   "source": [
    "type day = Sun | Mon | Tue | Wed | Thu | Fri | Sat\n",
    "let d = Tue"
   ]
  },
  {
   "cell_type": "markdown",
   "id": "46d22b4e",
   "metadata": {},
   "source": [
    "The individual names of the values of a variant are called *constructors* in\n",
    "OCaml. In the example above, the constructors are `Sun`, `Mon`, etc. This is a\n",
    "somewhat different use of the word constructor than in C++ or Java.\n",
    "\n",
    "For each kind of data type in OCaml, we've been discussing how to build and\n",
    "access it. For variants, building is easy: just write the name of the\n",
    "constructor. For accessing, we use pattern matching. For example:"
   ]
  },
  {
   "cell_type": "code",
   "execution_count": null,
   "id": "a11914cf",
   "metadata": {},
   "outputs": [],
   "source": [
    "let int_of_day d =\n",
    "  match d with\n",
    "  | Sun -> 1\n",
    "  | Mon -> 2\n",
    "  | Tue -> 3\n",
    "  | Wed -> 4\n",
    "  | Thu -> 5\n",
    "  | Fri -> 6\n",
    "  | Sat -> 7"
   ]
  },
  {
   "cell_type": "markdown",
   "id": "a38097fb",
   "metadata": {},
   "source": [
    "There isn't any kind of automatic way of mapping a constructor name to an `int`,\n",
    "like you might expect from languages with enums.\n",
    "\n",
    "**Syntax.**\n",
    "\n",
    "Defining a variant type:\n",
    "```ocaml\n",
    "type t = C1 | ... | Cn\n",
    "```\n",
    "\n",
    "The constructor names must begin with an uppercase letter.  OCaml\n",
    "uses that to distinguish constructors from variable identifiers.\n",
    "\n",
    "The syntax for writing a constructor value is simply its name, e.g., `C`.\n",
    "\n",
    "**Dynamic semantics.**\n",
    "\n",
    "* A constructor is already a value.  There is no computation to perform.\n",
    "\n",
    "**Static semantics.**\n",
    "\n",
    "* If `t` is a type defined as `type t = ... | C | ...`, then `C : t`.\n",
    "\n",
    "## Scope\n",
    "\n",
    "Suppose there are two types defined with overlapping constructor names, for\n",
    "example,"
   ]
  },
  {
   "cell_type": "code",
   "execution_count": null,
   "id": "c1b12a67",
   "metadata": {},
   "outputs": [],
   "source": [
    "type t1 = C | D\n",
    "type t2 = D | E\n",
    "let x = D"
   ]
  },
  {
   "cell_type": "markdown",
   "id": "a6c7d5fc",
   "metadata": {},
   "source": [
    "When `D` appears after these definitions, to which type does it refer? That is,\n",
    "what is the type of `x` above? The answer is that the type defined later wins.\n",
    "So `x : t2`. That is potentially surprising to programmers, so within any given\n",
    "scope (e.g., a file or a module, though we haven't covered modules yet) it's\n",
    "idiomatic whenever overlapping constructor names might occur to prefix them with\n",
    "some distinguishing character. For example, suppose we're defining types to\n",
    "represent Pok&eacute;mon:"
   ]
  },
  {
   "cell_type": "code",
   "execution_count": null,
   "id": "d784b5be",
   "metadata": {},
   "outputs": [],
   "source": [
    "type ptype =\n",
    "  TNormal | TFire | TWater\n",
    "\n",
    "type peff =\n",
    "  ENormal | ENotVery | ESuper"
   ]
  },
  {
   "cell_type": "markdown",
   "id": "dba97335",
   "metadata": {},
   "source": [
    "Because \"Normal\" would naturally be a constructor name for both the type of a\n",
    "Pok&eacute;mon and the effectiveness of a Pok&eacute;mon attack, we add an extra\n",
    "character in front of each constructor name to indicate whether it's a type or\n",
    "an effectiveness.\n",
    "\n",
    "## Pattern Matching\n",
    "\n",
    "Each time we introduced a new kind of data type, we need to introduce the new\n",
    "patterns associated with it. For variants, this is easy. We add the following\n",
    "new pattern form to the list of legal patterns:\n",
    "\n",
    "* a constructor name `C`\n",
    "\n",
    "And we extend the definition of when a pattern matches a value and produces a\n",
    "binding as follows:\n",
    "\n",
    "* The pattern `C` matches the value `C` and produces no bindings.\n",
    "\n",
    "```{note}\n",
    "Variants are considerably more powerful than what we have seen here. We'll\n",
    "return to them again soon.\n",
    "```"
   ]
  }
 ],
 "metadata": {
  "jupytext": {
   "cell_metadata_filter": "-all",
   "formats": "md:myst",
   "text_representation": {
    "extension": ".md",
    "format_name": "myst",
    "format_version": 0.13,
    "jupytext_version": "1.10.3"
   }
  },
  "kernelspec": {
   "display_name": "OCaml",
   "language": "OCaml",
   "name": "ocaml-jupyter"
  },
  "source_map": [
   14,
   21,
   24,
   32,
   42,
   70,
   74,
   82,
   88
  ]
 },
 "nbformat": 4,
 "nbformat_minor": 5
}