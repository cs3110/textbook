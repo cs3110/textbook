{
 "cells": [
  {
   "cell_type": "markdown",
   "id": "5d56fee9",
   "metadata": {},
   "source": [
    "# Association Lists\n",
    "\n",
    "A *map* is a data structure that maps *keys* to *values*. Maps are also known as\n",
    "*dictionaries*. One easy implementation of a map is an *association list*, which\n",
    "is a list of pairs. Here, for example, is an association list that maps some\n",
    "shape names to the number of sides they have:"
   ]
  },
  {
   "cell_type": "code",
   "execution_count": null,
   "id": "6357e430",
   "metadata": {},
   "outputs": [],
   "source": [
    "let d = [(\"rectangle\", 4); (\"nonagon\", 9); (\"icosagon\", 20)]"
   ]
  },
  {
   "cell_type": "markdown",
   "id": "5b03e1b9",
   "metadata": {},
   "source": [
    "Note that an association list isn't so much a built-in data type in OCaml as a\n",
    "combination of two other types: lists and pairs.\n",
    "\n",
    "Here are two functions that implement insertion and lookup in an association\n",
    "list:"
   ]
  },
  {
   "cell_type": "code",
   "execution_count": null,
   "id": "a9b76a0c",
   "metadata": {},
   "outputs": [],
   "source": [
    "(** [insert k v lst] is an association list that binds key [k] to value [v]\n",
    "    and otherwise is the same as [lst] *)\n",
    "let insert k v lst = (k, v) :: lst\n",
    "\n",
    "(** [lookup k lst] is [Some v] if association list [lst] binds key [k] to\n",
    "    value [v]; and is [None] if [lst] does not bind [k]. *)\n",
    "let rec lookup k = function\n",
    "| [] -> None\n",
    "| (k', v) :: t -> if k = k' then Some v else lookup k t"
   ]
  },
  {
   "cell_type": "markdown",
   "id": "e6c53de2",
   "metadata": {},
   "source": [
    "The `insert` function simply adds a new map from a key to a value at the front\n",
    "of the list. It doesn't bother to check whether the key is already in the list.\n",
    "The `lookup` function looks through the list from left to right. So if there did\n",
    "happen to be multiple maps for a given key in the list, only the most recently\n",
    "inserted one would be returned.\n",
    "\n",
    "Insertion in an association list is therefore constant time, and lookup is\n",
    "linear time. Although there are certainly more efficient implementations of\n",
    "dictionaries&mdash;and we'll study some later in this course&mdash;association\n",
    "lists are a very easy and useful implementation for small dictionaries that\n",
    "aren't performance critical. The OCaml standard library has functions for\n",
    "association lists in the [`List` module][list]; look for `List.assoc` and the\n",
    "functions below it in the documentation. What we just wrote as `lookup` is\n",
    "actually already defined as `List.assoc_opt`. There is no pre-defined `insert`\n",
    "function in the library because it's so trivial just to cons a pair on.\n",
    "\n",
    "[list]: https://ocaml.org/api/List.html"
   ]
  }
 ],
 "metadata": {
  "jupytext": {
   "cell_metadata_filter": "-all",
   "formats": "md:myst",
   "text_representation": {
    "extension": ".md",
    "format_name": "myst",
    "format_version": 0.13,
    "jupytext_version": "1.10.3"
   }
  },
  "kernelspec": {
   "display_name": "OCaml",
   "language": "OCaml",
   "name": "ocaml-jupyter"
  },
  "source_map": [
   14,
   22,
   24,
   30,
   40
  ]
 },
 "nbformat": 4,
 "nbformat_minor": 5
}