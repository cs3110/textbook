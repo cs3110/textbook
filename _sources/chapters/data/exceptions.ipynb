{
 "cells": [
  {
   "cell_type": "markdown",
   "id": "5de8e57e",
   "metadata": {},
   "source": [
    "# Exceptions\n",
    "\n",
    "{{ video_embed | replace(\"%%VID%%\", \"0zZNEJvcZqg\")}}\n",
    "\n",
    "OCaml has an exception mechanism similar to many other programming languages. A\n",
    "new type of OCaml exception is defined with this syntax:\n",
    "```ocaml\n",
    "exception E of t\n",
    "```\n",
    "where `E` is a constructor name and `t` is a type. The `of t` is optional.\n",
    "Notice how this is similar to defining a constructor of a variant type. For\n",
    "example:"
   ]
  },
  {
   "cell_type": "code",
   "execution_count": null,
   "id": "acd663a8",
   "metadata": {},
   "outputs": [],
   "source": [
    "exception A\n",
    "exception B\n",
    "exception Code of int\n",
    "exception Details of string"
   ]
  },
  {
   "cell_type": "markdown",
   "id": "6dfbd3d8",
   "metadata": {},
   "source": [
    "To create an exception value, use the same syntax you would for creating a\n",
    "variant value. Here, for example, is an exception value whose constructor is\n",
    "`Failure`, which carries a `string`:"
   ]
  },
  {
   "cell_type": "code",
   "execution_count": null,
   "id": "3d779444",
   "metadata": {},
   "outputs": [],
   "source": [
    "Failure \"something went wrong\""
   ]
  },
  {
   "cell_type": "markdown",
   "id": "64d3478b",
   "metadata": {},
   "source": [
    "This constructor is [pre-defined in the standard library][stdlib-exn] and is one of the more common exceptions that\n",
    "OCaml programmers use.\n",
    "\n",
    "[stdlib-exn]: https://ocaml.org/manual/core.html#ss:predef-exn\n",
    "\n",
    "To raise an exception value `e`, simply write\n",
    "```ocaml\n",
    "raise e\n",
    "```\n",
    "\n",
    "There is a convenient function `failwith : string -> 'a` in the standard library\n",
    "that raises `Failure`. That is, `failwith s` is equivalent to\n",
    "`raise (Failure s)`.\n",
    "\n",
    "{{ video_embed | replace(\"%%VID%%\", \"XTdT1zdF2IY\")}}\n",
    "\n",
    "To catch an exception, use this syntax:\n",
    "```ocaml\n",
    "try e with\n",
    "| p1 -> e1\n",
    "| ...\n",
    "| pn -> en\n",
    "```\n",
    "The expression `e` is what might raise an exception. If it does not, the entire\n",
    "`try` expression evaluates to whatever `e` does. If `e` does raise an exception\n",
    "value `v`, that value `v` is matched against the provided patterns, exactly\n",
    "like `match` expression.\n",
    "\n",
    "## Exceptions are Extensible Variants\n",
    "\n",
    "All exception values have type `exn`, which is a variant defined in the\n",
    "[core][core]. It's an unusual kind of variant, though, called an *extensible*\n",
    "variant, which allows new constructors of the variant to be defined after the\n",
    "variant type itself is defined. See the OCaml manual for more information about\n",
    "[extensible variants][extvar] if you're interested.\n",
    "\n",
    "[core]: https://ocaml.org/manual/core.html\n",
    "[extvar]: https://ocaml.org/manual/extn.html\n",
    "\n",
    "## Exception Semantics\n",
    "\n",
    "Since they are just variants, the syntax and semantics of exceptions is already\n",
    "covered by the syntax and semantics of variants&mdash;with one exception (pun\n",
    "intended), which is the dynamic semantics of how exceptions are raised and\n",
    "handled.\n",
    "\n",
    "**Dynamic semantics.** As we originally said, every OCaml expression either\n",
    "\n",
    "* evaluates to a value\n",
    "\n",
    "* raises an exception\n",
    "\n",
    "* or fails to terminate (i.e., an \"infinite loop\").\n",
    "\n",
    "So far we've only presented the part of the dynamic semantics that handles the\n",
    "first of those three cases. What happens when we add exceptions? Now, evaluation\n",
    "of an expression either produces a value or produces an *exception packet*.\n",
    "Packets are not normal OCaml values; the only pieces of the language that\n",
    "recognizes them are `raise` and `try`. The exception value produced by (e.g.)\n",
    "`Failure \"oops\"` is part of the exception packet produced by\n",
    "`raise (Failure \"oops\")`, but the packet contains more than just the exception\n",
    "value; there can also be a stack trace, for example.\n",
    "\n",
    "For any expression `e` other than `try`, if evaluation of a subexpression of `e`\n",
    "produces an exception packet `P`, then evaluation of `e` produces packet `P`.\n",
    "\n",
    "But now we run into a problem for the first time: what order are subexpressions\n",
    "evaluated in? Sometimes the answer to that question is provided by the semantics\n",
    "we have already developed. For example, with let expressions, we know that the\n",
    "binding expression must be evaluated before the body expression. So the\n",
    "following code raises `A`:"
   ]
  },
  {
   "cell_type": "code",
   "execution_count": null,
   "id": "bf9e1a7c",
   "metadata": {
    "tags": [
     "raises-exception"
    ]
   },
   "outputs": [],
   "source": [
    "let _ = raise A in raise B;;"
   ]
  },
  {
   "cell_type": "markdown",
   "id": "12c88872",
   "metadata": {},
   "source": [
    "And with functions, OCaml does not officially specify the evaluation order of a function\n",
    "and its argument, but the current implementation evaluates the argument before the function.\n",
    "So the following code also raises `A`, in addition to producing some compiler warnings\n",
    "that the first expression will never actually be applied as a function to an\n",
    "argument:"
   ]
  },
  {
   "cell_type": "code",
   "execution_count": null,
   "id": "7b9a0efb",
   "metadata": {
    "tags": [
     "raises-exception",
     "hide-output"
    ]
   },
   "outputs": [],
   "source": [
    "(raise B) (raise A)"
   ]
  },
  {
   "cell_type": "markdown",
   "id": "872eeba8",
   "metadata": {},
   "source": [
    "It makes sense that both those pieces of code would raise the same exception,\n",
    "given that we know `let x = e1 in e2` is syntactic sugar for `(fun x -> e2) e1`.\n",
    "\n",
    "But what does the following code raise as an exception?"
   ]
  },
  {
   "cell_type": "code",
   "execution_count": null,
   "id": "d6ef09eb",
   "metadata": {
    "tags": [
     "raises-exception",
     "hide-output"
    ]
   },
   "outputs": [],
   "source": [
    "(raise A, raise B)"
   ]
  },
  {
   "cell_type": "markdown",
   "id": "9f12236a",
   "metadata": {},
   "source": [
    "The answer is nuanced. The language specification does not stipulate what order\n",
    "the components of pairs should be evaluated in. Nor did our semantics exactly\n",
    "determine the order. (Though you would be forgiven if you thought it was left to\n",
    "right.) So programmers actually cannot rely on that order. The current\n",
    "implementation of OCaml, as it turns out, evaluates right to left. So the code\n",
    "above actually raises `B`. If you really want to force the evaluation order, you\n",
    "need to use let expressions:"
   ]
  },
  {
   "cell_type": "code",
   "execution_count": null,
   "id": "06cf77f5",
   "metadata": {
    "tags": [
     "raises-exception"
    ]
   },
   "outputs": [],
   "source": [
    "let a = raise A in\n",
    "let b = raise B in\n",
    "(a, b)"
   ]
  },
  {
   "cell_type": "markdown",
   "id": "6d8df684",
   "metadata": {},
   "source": [
    "That code is guaranteed to raise `A` rather than `B`.\n",
    "\n",
    "One interesting corner case is what happens when a raise expression itself has\n",
    "a subexpression that raises:"
   ]
  },
  {
   "cell_type": "code",
   "execution_count": null,
   "id": "3abdb6a0",
   "metadata": {
    "tags": [
     "raises-exception"
    ]
   },
   "outputs": [],
   "source": [
    "exception C of string;;\n",
    "exception D of string;;\n",
    "raise (C (raise (D \"oops\")))"
   ]
  },
  {
   "cell_type": "markdown",
   "id": "4603aac6",
   "metadata": {},
   "source": [
    "That code ends up raising `D`, because the first thing that has to happen is to\n",
    "evaluate `C (raise (D \"oops\"))` to a value. Doing that requires evaluating\n",
    "`raise (D \"oops\")` to a value. Doing that causes a packet containing `D \"oops\"` to\n",
    "be produced, and that packet then propagates and becomes the result of\n",
    "evaluating `C (raise (D \"oops\"))`, hence the result of evaluating\n",
    "`raise (C (raise (D \"oops\")))`.\n",
    "\n",
    "Once evaluation of an expression produces an exception packet `P`, that packet\n",
    "propagates until it reaches a `try` expression:\n",
    "```ocaml\n",
    "try e with\n",
    "| p1 -> e1\n",
    "| ...\n",
    "| pn -> en\n",
    "```\n",
    "The exception value inside `P` is matched against the provided patterns using\n",
    "the usual evaluation rules for pattern matching&mdash;with one exception (again,\n",
    "pun intended). If none of the patterns matches, then instead of producing\n",
    "`Match_failure` inside a new exception packet, the original exception packet `P`\n",
    "continues propagating until the next `try` expression is reached.\n",
    "\n",
    "## Pattern Matching\n",
    "\n",
    "There is a pattern form for exceptions.  Here's an example\n",
    "of its usage:"
   ]
  },
  {
   "cell_type": "code",
   "execution_count": null,
   "id": "db7d3a60",
   "metadata": {},
   "outputs": [],
   "source": [
    "match List.hd [] with\n",
    "  | [] -> \"empty\"\n",
    "  | _ :: _ -> \"non-empty\"\n",
    "  | exception (Failure s) -> s"
   ]
  },
  {
   "cell_type": "markdown",
   "id": "66976c9f",
   "metadata": {},
   "source": [
    "Note that the code above is just a standard `match` expression, not a `try`\n",
    "expression. It matches the value of `List.hd []` against the three provided\n",
    "patterns. As we know, `List.hd []` will raise an exception containing the value\n",
    "`Failure \"hd\"`. The *exception pattern* `exception (Failure s)` matches that\n",
    "value. So the above code will evaluate to `\"hd\"`.\n",
    "\n",
    "Exception patterns are a kind of syntactic sugar. Consider this code for example:\n",
    "```ocaml\n",
    "match e with\n",
    "  | p1 -> e1\n",
    "  | exception p2 -> e2\n",
    "  | p3 -> e3\n",
    "  | exception p4 -> e4\n",
    "```\n",
    "\n",
    "We can rewrite the code to eliminate the exception pattern:\n",
    "```ocaml\n",
    "try \n",
    "  match e with\n",
    "    | p1 -> e1\n",
    "    | p3 -> e3\n",
    "with\n",
    "  | p2 -> e2\n",
    "  | p4 -> e4\n",
    "``` \n",
    "\n",
    "In general if there are both exception and non-exception patterns, evaluation \n",
    "proceeds as follows: try evaluating `e`. If it produces an exception packet,\n",
    "use the exception patterns from the original match expression to handle that\n",
    "packet. If it doesn't produce an exception packet but instead produces a \n",
    "non-exception value, use the non-exception patterns from the original match \n",
    "expression to match that value.\n",
    "\n",
    "## Exceptions and OUnit\n",
    "\n",
    "If it is part of a function's specification that it raises an exception, you\n",
    "might want to write OUnit tests that check whether the function correctly does\n",
    "so. Here's how to do that:\n",
    "```ocaml\n",
    "open OUnit2\n",
    "\n",
    "let tests = \"suite\" >::: [\n",
    "    \"empty\" >:: (fun _ -> assert_raises (Failure \"hd\") (fun () -> List.hd []));\n",
    "  ]\n",
    "\n",
    "let _ = run_test_tt_main tests\n",
    "```\n",
    "The expression `assert_raises exn (fun () -> e)` checks to see whether\n",
    "expression `e` raises exception `exn`. If so, the OUnit test case succeeds,\n",
    "otherwise it fails.\n",
    "\n",
    "Note that the second argument of `assert_raises` is a *function* of type `unit\n",
    "-> 'a`, sometimes called a \"thunk\". It may seem strange to write a function with\n",
    "this type---the only possible input is `()`---but this is a common pattern in\n",
    "functional languages to suspend or delay the evaluation of a program. In this\n",
    "case, we want `assert_raises` to evaluate `List.hd []` when it is ready. If we\n",
    "evaluated `List.hd []` immediately, `assert_raises` would not be able to check\n",
    "if the right exception is raised. We'll learn more about thunks in a later\n",
    "chapter.\n",
    "\n",
    "```{warning}\n",
    "A common error is to forget the `(fun () -> ...)` around `e`. If you make this\n",
    "mistake, the program may still typecheck but the OUnit test case will fail:\n",
    "without the extra anonymous function, the exception is raised before\n",
    "`assert_raises` ever gets a chance to handle it.\n",
    "```"
   ]
  }
 ],
 "metadata": {
  "jupytext": {
   "cell_metadata_filter": "-all",
   "formats": "md:myst",
   "text_representation": {
    "extension": ".md",
    "format_name": "myst",
    "format_version": 0.13,
    "jupytext_version": "1.10.3"
   }
  },
  "kernelspec": {
   "display_name": "OCaml",
   "language": "OCaml",
   "name": "ocaml-jupyter"
  },
  "source_map": [
   14,
   28,
   33,
   38,
   40,
   112,
   115,
   121,
   124,
   129,
   132,
   140,
   145,
   150,
   155,
   181,
   186
  ]
 },
 "nbformat": 4,
 "nbformat_minor": 5
}