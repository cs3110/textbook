{
 "cells": [
  {
   "cell_type": "markdown",
   "id": "079e37e8",
   "metadata": {},
   "source": [
    "# Type Synonyms\n",
    "\n",
    "A *type synonym* is a new name for an already existing type. For example, here\n",
    "are some type synonyms that might be useful in representing some types from\n",
    "linear algebra:"
   ]
  },
  {
   "cell_type": "code",
   "execution_count": null,
   "id": "0b25ffcd",
   "metadata": {},
   "outputs": [],
   "source": [
    "type point = float * float\n",
    "type vector = float list\n",
    "type matrix = float list list"
   ]
  },
  {
   "cell_type": "markdown",
   "id": "414d18fd",
   "metadata": {},
   "source": [
    "Anywhere that a `float * float` is expected, you could use `point`, and\n",
    "vice-versa. The two are completely exchangeable for one another. In the\n",
    "following code, `get_x` doesn't care whether you pass it a value that is\n",
    "annotated as one vs. the other:"
   ]
  },
  {
   "cell_type": "code",
   "execution_count": null,
   "id": "d19d30c5",
   "metadata": {},
   "outputs": [],
   "source": [
    "let get_x = fun (x, _) -> x\n",
    "\n",
    "let p1 : point = (1., 2.)\n",
    "let p2 : float * float = (1., 3.)\n",
    "\n",
    "let a = get_x p1\n",
    "let b = get_x p2"
   ]
  },
  {
   "cell_type": "markdown",
   "id": "dda3bb2a",
   "metadata": {},
   "source": [
    "Type synonyms are useful because they let us give descriptive names to complex\n",
    "types. They are a way of making code more self-documenting."
   ]
  }
 ],
 "metadata": {
  "jupytext": {
   "cell_metadata_filter": "-all",
   "formats": "md:myst",
   "text_representation": {
    "extension": ".md",
    "format_name": "myst",
    "format_version": 0.13,
    "jupytext_version": "1.10.3"
   }
  },
  "kernelspec": {
   "display_name": "OCaml",
   "language": "OCaml",
   "name": "ocaml-jupyter"
  },
  "source_map": [
   14,
   21,
   25,
   32,
   40
  ]
 },
 "nbformat": 4,
 "nbformat_minor": 5
}