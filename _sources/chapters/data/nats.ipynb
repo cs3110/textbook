{
 "cells": [
  {
   "cell_type": "markdown",
   "id": "d2810185",
   "metadata": {},
   "source": [
    "# Example: Natural Numbers\n",
    "\n",
    "We can define a recursive variant that acts like numbers, demonstrating that we\n",
    "don't really have to have numbers built into OCaml! (For sake of efficiency,\n",
    "though, it's a good thing they are.)\n",
    "\n",
    "A *natural number* is either *zero* or the *successor* of some other natural\n",
    "number. This is how you might define the natural numbers in a mathematical logic\n",
    "course, and it leads naturally to the following OCaml type `nat`:"
   ]
  },
  {
   "cell_type": "code",
   "execution_count": null,
   "id": "9c24fe67",
   "metadata": {},
   "outputs": [],
   "source": [
    "type nat = Zero | Succ of nat"
   ]
  },
  {
   "cell_type": "markdown",
   "id": "b80a59d1",
   "metadata": {},
   "source": [
    "We have defined a new type `nat`, and `Zero` and `Succ` are constructors for\n",
    "values of this type. This allows us to build expressions that have an arbitrary\n",
    "number of nested `Succ` constructors. Such values act like natural numbers:"
   ]
  },
  {
   "cell_type": "code",
   "execution_count": null,
   "id": "812593e8",
   "metadata": {},
   "outputs": [],
   "source": [
    "let zero = Zero\n",
    "let one = Succ zero\n",
    "let two = Succ one\n",
    "let three = Succ two\n",
    "let four = Succ three"
   ]
  },
  {
   "cell_type": "markdown",
   "id": "d0505a48",
   "metadata": {},
   "source": [
    "Now we can write functions to manipulate values of this type.\n",
    "We'll write a lot of type annotations in the code below to help the reader\n",
    "keep track of which values are `nat` versus `int`; the compiler, of course,\n",
    "doesn't need our help."
   ]
  },
  {
   "cell_type": "code",
   "execution_count": null,
   "id": "e98ca041",
   "metadata": {},
   "outputs": [],
   "source": [
    "let iszero = function\n",
    "  | Zero -> true\n",
    "  | Succ _ -> false\n",
    "\n",
    "let pred = function\n",
    "  | Zero -> failwith \"pred Zero is undefined\"\n",
    "  | Succ m -> m"
   ]
  },
  {
   "cell_type": "markdown",
   "id": "3005ad63",
   "metadata": {},
   "source": [
    "Similarly, we can define a function to add two numbers:"
   ]
  },
  {
   "cell_type": "code",
   "execution_count": null,
   "id": "bf13ff79",
   "metadata": {},
   "outputs": [],
   "source": [
    "let rec add n1 n2 =\n",
    "  match n1 with\n",
    "  | Zero -> n2\n",
    "  | Succ pred_n -> add pred_n (Succ n2)"
   ]
  },
  {
   "cell_type": "markdown",
   "id": "e191bb19",
   "metadata": {},
   "source": [
    "We can convert `nat` values to type `int` and vice-versa:"
   ]
  },
  {
   "cell_type": "code",
   "execution_count": null,
   "id": "5643ad92",
   "metadata": {},
   "outputs": [],
   "source": [
    "let rec int_of_nat = function\n",
    "  | Zero -> 0\n",
    "  | Succ m -> 1 + int_of_nat m\n",
    "\n",
    "let rec nat_of_int = function\n",
    "  | i when i = 0 -> Zero\n",
    "  | i when i > 0 -> Succ (nat_of_int (i - 1))\n",
    "  | _ -> failwith \"nat_of_int is undefined on negative ints\""
   ]
  },
  {
   "cell_type": "markdown",
   "id": "c57d01b3",
   "metadata": {},
   "source": [
    "To determine whether a natural number is even or odd, we can write a\n",
    "pair of mutually recursive functions:"
   ]
  },
  {
   "cell_type": "code",
   "execution_count": null,
   "id": "776a8fc4",
   "metadata": {},
   "outputs": [],
   "source": [
    "let rec even = function Zero -> true | Succ m -> odd m\n",
    "and odd = function Zero -> false | Succ m -> even m"
   ]
  }
 ],
 "metadata": {
  "jupytext": {
   "cell_metadata_filter": "-all",
   "formats": "md:myst",
   "text_representation": {
    "extension": ".md",
    "format_name": "myst",
    "format_version": 0.13,
    "jupytext_version": "1.10.3"
   }
  },
  "kernelspec": {
   "display_name": "OCaml",
   "language": "OCaml",
   "name": "ocaml-jupyter"
  },
  "source_map": [
   14,
   25,
   27,
   32,
   38,
   45,
   53,
   57,
   62,
   65,
   74,
   79
  ]
 },
 "nbformat": 4,
 "nbformat_minor": 5
}