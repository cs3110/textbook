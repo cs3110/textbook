{
 "cells": [
  {
   "cell_type": "markdown",
   "id": "ebb46cb1",
   "metadata": {},
   "source": [
    "# Sequences\n",
    "\n",
    "A *sequence* is an infinite list. For example, the infinite list of all natural\n",
    "numbers would be a sequence. So would the list of all primes, or all Fibonacci\n",
    "numbers. How can we efficiently represent infinite lists? Obviously we can't\n",
    "store the whole list in memory.\n",
    "\n",
    "We already know that OCaml allows us to create recursive functions&mdash;that\n",
    "is, functions defined in terms of themselves. It turns out we can define other\n",
    "values in terms of themselves, too."
   ]
  },
  {
   "cell_type": "code",
   "execution_count": null,
   "id": "3a48758a",
   "metadata": {},
   "outputs": [],
   "source": [
    "let rec ones = 1 :: ones"
   ]
  },
  {
   "cell_type": "code",
   "execution_count": null,
   "id": "445c2814",
   "metadata": {},
   "outputs": [],
   "source": [
    "let rec a = 0 :: b and b = 1 :: a"
   ]
  },
  {
   "cell_type": "markdown",
   "id": "84e0c567",
   "metadata": {},
   "source": [
    "The expressions above create *recursive values*. The list `ones` contains an\n",
    "infinite sequence of `1`, and the lists `a` and `b` alternate infinitely between\n",
    "`0` and `1`. As the lists are infinite, the toplevel cannot print them in their\n",
    "entirety. Instead, it indicates a *cycle*: the list cycles back to its\n",
    "beginning. Even though these lists represent an infinite sequence of values,\n",
    "their representation in memory is finite: they are linked lists with back\n",
    "pointers that create those cycles.\n",
    "\n",
    "Beyond sequences of numbers, there are other kinds of infinite mathematical\n",
    "objects we might want to represent with finite data structures:\n",
    "\n",
    "* A stream of inputs read from a file, a network socket, or a user. All of these\n",
    "  are unbounded in length, hence we can think of them as being infinite in\n",
    "  length. In fact, many I/O libraries treat reaching the end of an I/O stream as\n",
    "  an unexpected situation and raise an exception.\n",
    "\n",
    "* A *game tree* is a tree in which the positions of a game (e.g., chess or\n",
    "  tic-tac-toe)_ are the nodes and the edges are possible moves. For some games\n",
    "  this tree is in fact infinite (imagine, e.g., that the pieces on the board\n",
    "  could chase each other around forever), and for other games, it's so deep that\n",
    "  we would never want to manifest the entire tree, hence it is effectively\n",
    "  infinite.\n",
    "\n",
    "## How Not to Define a Sequence\n",
    "\n",
    "Suppose we wanted to represent the first of those examples: the sequence of all\n",
    "natural numbers. Some of the obvious things we might try simply don't work:"
   ]
  },
  {
   "cell_type": "code",
   "execution_count": null,
   "id": "4e6e7c8c",
   "metadata": {},
   "outputs": [],
   "source": [
    "(** [from n] is the infinite list [[n; n + 1; n + 2; ...]]. *)\n",
    "let rec from n = n :: from (n + 1)"
   ]
  },
  {
   "cell_type": "markdown",
   "id": "94b97765",
   "metadata": {},
   "source": [
    "```ocaml\n",
    "(** [nats] is the infinite list of natural numbers [[0; 1; ...]]. *)\n",
    "let nats = from 0\n",
    "```\n",
    "\n",
    "```text\n",
    "Stack overflow during evaluation (looping recursion?).\n",
    "```\n",
    "\n",
    "The problem with that attempt is that `nats` attempts to compute the entire\n",
    "infinite sequence of natural numbers. Because the function isn't tail recursive,\n",
    "it quickly overflows the stack. If it were tail recursive, it would go into an\n",
    "infinite loop.\n",
    "\n",
    "Here's another attempt, using what we discovered above about recursive values:"
   ]
  },
  {
   "cell_type": "code",
   "execution_count": null,
   "id": "587d817a",
   "metadata": {
    "tags": [
     "raises-exception"
    ]
   },
   "outputs": [],
   "source": [
    "let rec nats = 0 :: List.map (fun x -> x + 1) nats"
   ]
  },
  {
   "cell_type": "markdown",
   "id": "9795f5f4",
   "metadata": {},
   "source": [
    "That attempt doesn't work for a more subtle reason. In the definition of a\n",
    "recursive value, we are not permitted to use a value before it is finished being\n",
    "defined. The problem is that `List.map` is applied to `nats`, and therefore\n",
    "pattern matches to extract the head and tail of `nats`. But we are in the middle\n",
    "of defining `nats`, so that use of `nats` is not permitted.\n",
    "\n",
    "## How to Correctly Define a Sequence\n",
    "\n",
    "We can try to define a sequence by analogy to how we can define (finite) lists.\n",
    "Recall that definition:"
   ]
  },
  {
   "cell_type": "code",
   "execution_count": null,
   "id": "be638fef",
   "metadata": {},
   "outputs": [],
   "source": [
    "type 'a mylist = Nil | Cons of 'a * 'a mylist"
   ]
  },
  {
   "cell_type": "markdown",
   "id": "8dc154b2",
   "metadata": {},
   "source": [
    "We could try to convert that into a definition for sequences:"
   ]
  },
  {
   "cell_type": "code",
   "execution_count": null,
   "id": "d380e9fd",
   "metadata": {},
   "outputs": [],
   "source": [
    "type 'a sequence = Cons of 'a * 'a sequence"
   ]
  },
  {
   "cell_type": "markdown",
   "id": "61a9664b",
   "metadata": {},
   "source": [
    "Note that we got rid of the `Nil` constructor, because the empty list is finite,\n",
    "but we want only infinite lists.\n",
    "\n",
    "The problem with that definition is that it's really no better than the built-in\n",
    "list in OCaml, in that we still can't define `nats`:"
   ]
  },
  {
   "cell_type": "code",
   "execution_count": null,
   "id": "ba1dbe1f",
   "metadata": {},
   "outputs": [],
   "source": [
    "let rec from n = Cons (n, from (n + 1))"
   ]
  },
  {
   "cell_type": "markdown",
   "id": "218b8fca",
   "metadata": {},
   "source": [
    "```ocaml\n",
    "let nats = from 0\n",
    "```\n",
    "\n",
    "```text\n",
    "Stack overflow during evaluation (looping recursion?).\n",
    "```\n",
    "\n",
    "As before, that definition attempts to go off and compute the entire infinite\n",
    "sequence of naturals.\n",
    "\n",
    "What we need is a way to *pause* evaluation, so that at any point in time, only\n",
    "a finite approximation to the infinite sequence has been computed. Fortunately,\n",
    "we already know how to do that!\n",
    "\n",
    "Consider the following definitions:"
   ]
  },
  {
   "cell_type": "code",
   "execution_count": null,
   "id": "5c1197e8",
   "metadata": {
    "tags": [
     "raises-exception"
    ]
   },
   "outputs": [],
   "source": [
    "let f1 = failwith \"oops\""
   ]
  },
  {
   "cell_type": "code",
   "execution_count": null,
   "id": "9893b29d",
   "metadata": {},
   "outputs": [],
   "source": [
    "let f2 = fun x -> failwith \"oops\""
   ]
  },
  {
   "cell_type": "code",
   "execution_count": null,
   "id": "0d89b9aa",
   "metadata": {
    "tags": [
     "raises-exception"
    ]
   },
   "outputs": [],
   "source": [
    "f2 ();;"
   ]
  },
  {
   "cell_type": "markdown",
   "id": "fe797bcf",
   "metadata": {},
   "source": [
    "The definition of `f1` immediately raises an exception, whereas the definition\n",
    "of `f2` does not. Why? Because `f2` wraps the `failwith` inside an anonymous\n",
    "function. Recall that, according to the dynamic semantics of OCaml, **functions\n",
    "are already values**. So no computation is done inside the body of the function\n",
    "until it is applied. That's why `f2 ()` raises an exception.\n",
    "\n",
    "We can use this property of evaluation&mdash;that functions delay\n",
    "evaluation&mdash;to our advantage in defining sequences: let's wrap the tail of\n",
    "a sequence inside a function. Since it doesn't really matter what argument that\n",
    "function takes, we might as well let it be unit. A function that is used just to\n",
    "delay computation, and in particular one that takes unit as input, is called a\n",
    "*thunk*."
   ]
  },
  {
   "cell_type": "code",
   "execution_count": null,
   "id": "c2c28751",
   "metadata": {},
   "outputs": [],
   "source": [
    "(** An ['a sequence] is an infinite list of values of type ['a].\n",
    "    AF: [Cons (x, f)] is the sequence whose head is [x] and tail is [f ()].\n",
    "    RI: none. *)\n",
    "type 'a sequence = Cons of 'a * (unit -> 'a sequence)"
   ]
  },
  {
   "cell_type": "markdown",
   "id": "7842bd04",
   "metadata": {},
   "source": [
    "This definition turns out to work quite well.  We can define `nats`, at last:"
   ]
  },
  {
   "cell_type": "code",
   "execution_count": null,
   "id": "1d85d500",
   "metadata": {},
   "outputs": [],
   "source": [
    "let rec from n = Cons (n, fun () -> from (n + 1))\n",
    "let nats = from 0"
   ]
  },
  {
   "cell_type": "markdown",
   "id": "3fb5ae89",
   "metadata": {},
   "source": [
    "We do not get an infinite loop or a stack overflow. The evaluation of `nats` has\n",
    "paused. Only the first element of it, `0`, has been computed. The remaining\n",
    "elements will not be computed until they are requested. To do that, we can\n",
    "define functions to access parts of a sequence, similarly to how we can access\n",
    "parts of a list:"
   ]
  },
  {
   "cell_type": "code",
   "execution_count": null,
   "id": "67d305fa",
   "metadata": {},
   "outputs": [],
   "source": [
    "(** [hd s] is the head of [s]. *)\n",
    "let hd (Cons (h, _)) = h"
   ]
  },
  {
   "cell_type": "code",
   "execution_count": null,
   "id": "d444d864",
   "metadata": {},
   "outputs": [],
   "source": [
    "(** [tl s] is the tail of [s]. *)\n",
    "let tl (Cons (_, t)) = t ()"
   ]
  },
  {
   "cell_type": "markdown",
   "id": "44105220",
   "metadata": {},
   "source": [
    "Note how, in the definition of `tl`, we must apply the function `t` to `()` to\n",
    "obtain the tail of the sequence. That is, we must *force* the thunk to evaluate\n",
    "at that point, rather than continue to delay its computation.\n",
    "\n",
    "For convenience, we can write functions that apply `hd` or `tl` multiple times\n",
    "to take or drop some finite prefix of a sequence:"
   ]
  },
  {
   "cell_type": "code",
   "execution_count": null,
   "id": "77a444a9",
   "metadata": {},
   "outputs": [],
   "source": [
    "(** [take n s] is the list of the first [n] elements of [s]. *)\n",
    "let rec take n s =\n",
    "  if n = 0 then [] else hd s :: take (n - 1) (tl s)\n",
    "\n",
    "(** [drop n s] is all but the first [n] elements of [s]. *)\n",
    "let rec drop n s =\n",
    "  if n = 0 then s else drop (n - 1) (tl s)"
   ]
  },
  {
   "cell_type": "markdown",
   "id": "ba072a61",
   "metadata": {},
   "source": [
    "For example:"
   ]
  },
  {
   "cell_type": "code",
   "execution_count": null,
   "id": "40c855c2",
   "metadata": {},
   "outputs": [],
   "source": [
    "take 10 nats"
   ]
  },
  {
   "cell_type": "markdown",
   "id": "ce3d7c9f",
   "metadata": {},
   "source": [
    "## Programming with Sequences\n",
    "\n",
    "Let's write some functions that manipulate sequences. It will help to have a\n",
    "notation for sequences to use as part of documentation. Let's use\n",
    "`<a; b; c; ...>` to denote the sequence that has elements `a`, `b`, and `c` at\n",
    "its head, followed by infinitely many other elements.\n",
    "\n",
    "Here are functions to square a sequence, and to sum two sequences:"
   ]
  },
  {
   "cell_type": "code",
   "execution_count": null,
   "id": "0e7fe5c0",
   "metadata": {},
   "outputs": [],
   "source": [
    "(** [square <a; b; c; ...>] is [<a * a; b * b; c * c; ...]. *)\n",
    "let rec square (Cons (h, t)) =\n",
    "  Cons (h * h, fun () -> square (t ()))\n",
    "\n",
    "(** [sum <a1; a2; a3; ...> <b1; b2; b3; ...>] is\n",
    "    [<a1 + b1; a2 + b2; a3 + b3; ...>]. *)\n",
    "let rec sum (Cons (h1, t1)) (Cons (h2, t2)) =\n",
    "  Cons (h1 + h2, fun () -> sum (t1 ()) (t2 ()))"
   ]
  },
  {
   "cell_type": "markdown",
   "id": "842bcc73",
   "metadata": {},
   "source": [
    "Note how the basic template for defining both functions is the same:\n",
    "\n",
    "* Pattern match against the input sequence(s), which must be `Cons`\n",
    "  of a head and a tail function (a thunk).\n",
    "\n",
    "* Construct a sequence as the output, which must be `Cons` of a new head and a\n",
    "  new tail function (a thunk).\n",
    "\n",
    "* In constructing the new tail function, delay the evaluation of the tail by\n",
    "  immediately starting with `fun () -> ...`.\n",
    "\n",
    "* Inside the body of that thunk, recursively apply the function being defined\n",
    "  (square or sum) to the result of forcing a thunk (or thunks) to evaluate.\n",
    "\n",
    "Of course, squaring and summing are just two possible ways of mapping a function\n",
    "across a sequence or sequences. That suggests we could write a higher-order map\n",
    "function, much like for lists:"
   ]
  },
  {
   "cell_type": "code",
   "execution_count": null,
   "id": "f025f9c3",
   "metadata": {},
   "outputs": [],
   "source": [
    "(** [map f <a; b; c; ...>] is [<f a; f b; f c; ...>]. *)\n",
    "let rec map f (Cons (h, t)) =\n",
    "  Cons (f h, fun () -> map f (t ()))\n",
    "\n",
    "(** [map2 f <a1; b1; c1;...> <a2; b2; c2; ...>] is\n",
    "    [<f a1 b1; f a2 b2; f a3 b3; ...>]. *)\n",
    "let rec map2 f (Cons (h1, t1)) (Cons (h2, t2)) =\n",
    "  Cons (f h1 h2, fun () -> map2 f (t1 ()) (t2 ()))\n",
    "\n",
    "let square' = map (fun n -> n * n)\n",
    "let sum' = map2 ( + )"
   ]
  },
  {
   "cell_type": "markdown",
   "id": "004bcdda",
   "metadata": {},
   "source": [
    "Now that we have a map function for sequences, we can successfully define `nats`\n",
    "in one of the clever ways we originally attempted:"
   ]
  },
  {
   "cell_type": "code",
   "execution_count": null,
   "id": "4650ec5c",
   "metadata": {},
   "outputs": [],
   "source": [
    "let rec nats = Cons (0, fun () -> map (fun x -> x + 1) nats)"
   ]
  },
  {
   "cell_type": "code",
   "execution_count": null,
   "id": "d332b69d",
   "metadata": {},
   "outputs": [],
   "source": [
    "take 10 nats"
   ]
  },
  {
   "cell_type": "markdown",
   "id": "788f7bdc",
   "metadata": {},
   "source": [
    "Why does this work? Intuitively, `nats` is `<0; 1; 2; 3; ...>`, so mapping the\n",
    "increment function over `nats` is `<1; 2; 3; 4; ...>`. If we cons `0` onto the\n",
    "beginning of `<1; 2; 3; 4; ...>`, we get `<0; 1; 2; 3; ...>`, as desired. The\n",
    "recursive value definition is permitted, because we never attempt to use `nats`\n",
    "until after its definition is finished. In particular, the thunk delays `nats`\n",
    "from being evaluated on the right-hand side of the definition.\n",
    "\n",
    "Here's another clever definition. Consider the Fibonacci sequence\n",
    "`<1; 1; 2; 3; 5; 8; ...>`. If we take the tail of it, we get\n",
    "`<1; 2; 3; 5; 8; 13; ...>`. If we sum those two sequences, we get\n",
    "`<2; 3; 5; 8; 13; 21; ...>`. That's nothing other than the tail of the tail of\n",
    "the Fibonacci sequence. So if we were to prepend `[1; 1]` to it, we'd have the\n",
    "actual Fibonacci sequence. That's the intuition behind this definition:"
   ]
  },
  {
   "cell_type": "code",
   "execution_count": null,
   "id": "7c8b5faa",
   "metadata": {},
   "outputs": [],
   "source": [
    "let rec fibs =\n",
    "  Cons (1, fun () ->\n",
    "    Cons (1, fun () ->\n",
    "      sum fibs (tl fibs)))"
   ]
  },
  {
   "cell_type": "markdown",
   "id": "6779e582",
   "metadata": {},
   "source": [
    "And it works!"
   ]
  },
  {
   "cell_type": "code",
   "execution_count": null,
   "id": "7a6a7451",
   "metadata": {},
   "outputs": [],
   "source": [
    "take 10 fibs"
   ]
  },
  {
   "cell_type": "markdown",
   "id": "d7816dd7",
   "metadata": {},
   "source": [
    "Unfortunately, it's highly inefficient. Every time we force the computation of\n",
    "the next element, it required recomputing all the previous elements, twice: once\n",
    "for `fibs` and once for `tl fibs` in the last line of the definition. Try\n",
    "running the code yourself. By the time we get up to the 30th number, the\n",
    "computation is noticeably slow; by the time of the 100th, it seems to last\n",
    "forever.\n",
    "\n",
    "Could we do better? Yes, with a little help from a new language feature:\n",
    "laziness. We discuss it, next.\n",
    "\n",
    "## Laziness\n",
    "\n",
    "The example with the Fibonacci sequence demonstrates that it would be useful if\n",
    "the computation of a thunk happened only once: when it is forced, the resulting\n",
    "value could be remembered, and if the thunk is ever forced again, that value\n",
    "could immediately be returned instead of recomputing it. That's the idea behind\n",
    "the OCaml `Lazy` module:\n",
    "\n",
    "```ocaml\n",
    "module Lazy :\n",
    "  sig\n",
    "    type 'a t = 'a lazy_t\n",
    "    val force : 'a t -> 'a\n",
    "    ...\n",
    "  end\n",
    "```\n",
    "\n",
    "A value of type `'a Lazy.t` is a value of type `'a` whose computation has been\n",
    "delayed. Intuitively, the language is being *lazy* about evaluating it: it won't\n",
    "be computed until specifically demanded. The way that demand is expressed with\n",
    "by *forcing* the evaluation with `Lazy.force`, which takes the `'a Lazy.t` and\n",
    "causes the `'a` inside it to finally be produced. The first time a lazy value is\n",
    "forced, the computation might take a long time. But the result is *cached* aka\n",
    "*memoized*, and any subsequent time that lazy value is forced, the memoized\n",
    "result will be returned immediately without recomputing it.\n",
    "\n",
    "```{note}\n",
    "\"Memoized\" really is the correct spelling of this term. We didn't misspell\n",
    "\"memorized\", though it might look that way.\n",
    "```\n",
    "\n",
    "The `Lazy` module doesn't contain a function that produces a `'a Lazy.t`.\n",
    "Instead, there is a keyword built-in to the OCaml syntax that does it: `lazy e`.\n",
    "\n",
    "* **Syntax:**  `lazy e`\n",
    "\n",
    "* **Static semantics:**  If `e : u`, then `lazy e : u Lazy.t`.\n",
    "\n",
    "* **Dynamic semantics:** `lazy e` does not evaluate `e` to a value. Instead, it\n",
    "  produces a *suspension* that, when later forced, will evaluate `e` to a value\n",
    "  `v` and return `v`. Moreover, that suspension remembers that `v` is its forced\n",
    "  value. And if the suspension is ever forced again, it immediately returns `v`\n",
    "  instead of recomputing it.\n",
    "\n",
    "```{note}\n",
    "OCaml's usual evaluation strategy is *eager* aka *strict*: it always evaluate an\n",
    "argument before function application. If you want a value to be computed lazily,\n",
    "you must specifically request that with the `lazy` keyword. Other function\n",
    "languages, notably Haskell, are lazy by default. Laziness can be pleasant when\n",
    "programming with infinite data structures. But lazy evaluation makes it harder\n",
    "to reason about space and time, and it has unpleasant interactions with side\n",
    "effects.\n",
    "```\n",
    "\n",
    "To illustrate the use of lazy values, let's try computing the 30th Fibonacci\n",
    "number using this definition of `fibs`:"
   ]
  },
  {
   "cell_type": "code",
   "execution_count": null,
   "id": "bb3afdf3",
   "metadata": {},
   "outputs": [],
   "source": [
    "let rec fibs =\n",
    "  Cons (1, fun () ->\n",
    "    Cons (1, fun () ->\n",
    "      sum fibs (tl fibs)))"
   ]
  },
  {
   "cell_type": "markdown",
   "id": "4ac6bc92",
   "metadata": {},
   "source": [
    "```{tip}\n",
    "These next few examples will make much more sense if you run them interactively,\n",
    "rather than just reading this page.\n",
    "```\n",
    "\n",
    "If we try to get the 30th Fibonacci number, it will take a long time to compute:"
   ]
  },
  {
   "cell_type": "code",
   "execution_count": null,
   "id": "5ab8d252",
   "metadata": {},
   "outputs": [],
   "source": [
    "let fib30long = take 30 fibs |> List.rev |> List.hd"
   ]
  },
  {
   "cell_type": "markdown",
   "id": "fca24328",
   "metadata": {},
   "source": [
    "But if we wrap evaluation of that with `lazy`, it will return immediately,\n",
    "because the evaluation of that number has been suspended:"
   ]
  },
  {
   "cell_type": "code",
   "execution_count": null,
   "id": "8070a8d5",
   "metadata": {},
   "outputs": [],
   "source": [
    "let fib30lazy = lazy (take 30 fibs |> List.rev |> List.hd)"
   ]
  },
  {
   "cell_type": "markdown",
   "id": "e4fb054b",
   "metadata": {},
   "source": [
    "Later on we could force the evaluation of that lazy value, and that will take a\n",
    "long time to compute, as did `fib30long`:"
   ]
  },
  {
   "cell_type": "code",
   "execution_count": null,
   "id": "33842d0d",
   "metadata": {},
   "outputs": [],
   "source": [
    "let fib30 = Lazy.force fib30lazy"
   ]
  },
  {
   "cell_type": "markdown",
   "id": "f04cf0c4",
   "metadata": {},
   "source": [
    "But if we ever try to recompute that same lazy value, it will return\n",
    "immediately, because the result has been memoized:"
   ]
  },
  {
   "cell_type": "code",
   "execution_count": null,
   "id": "525a74b1",
   "metadata": {},
   "outputs": [],
   "source": [
    "let fib30fast = Lazy.force fib30lazy"
   ]
  },
  {
   "cell_type": "markdown",
   "id": "fb14dd9f",
   "metadata": {},
   "source": [
    "Nonetheless, we still haven't totally succeeded. That particular computation of\n",
    "the 30th Fibonacci number has been memoized, but if we later define some other\n",
    "computation of another it won't be sped up the first time it's computed:"
   ]
  },
  {
   "cell_type": "code",
   "execution_count": null,
   "id": "c9f0242f",
   "metadata": {},
   "outputs": [],
   "source": [
    "let fib29 = take 29 fibs |> List.rev |> List.hd"
   ]
  },
  {
   "cell_type": "markdown",
   "id": "7e049fa4",
   "metadata": {},
   "source": [
    "What we really want is to change the representation of sequences itself to make\n",
    "use of lazy values.\n",
    "\n",
    "### Lazy Sequences\n",
    "\n",
    "Here's a representation for infinite lists using lazy values:"
   ]
  },
  {
   "cell_type": "code",
   "execution_count": null,
   "id": "2aafed12",
   "metadata": {},
   "outputs": [],
   "source": [
    "type 'a lazysequence = Cons of 'a * 'a lazysequence Lazy.t"
   ]
  },
  {
   "cell_type": "markdown",
   "id": "f44915f6",
   "metadata": {},
   "source": [
    "We've gotten rid of the thunk, and instead are using a lazy value as the tail of\n",
    "the lazy sequence. If we ever want that tail to be computed, we force it.\n",
    "\n",
    "For sake of comparison, the following two modules implement the Fibonacci\n",
    "sequence with sequences, then with lazy sequences. Try computing the 30th\n",
    "Fibonacci number with both modules, and you'll see that the lazy-sequence\n",
    "implementation is much faster than the standard-sequence implementation."
   ]
  },
  {
   "cell_type": "code",
   "execution_count": null,
   "id": "7099e712",
   "metadata": {},
   "outputs": [],
   "source": [
    "module SequenceFibs = struct\n",
    "  type 'a sequence = Cons of 'a * (unit -> 'a sequence)\n",
    "\n",
    "  let hd : 'a sequence -> 'a =\n",
    "    fun (Cons (h, _)) -> h\n",
    "\n",
    "  let tl : 'a sequence -> 'a sequence =\n",
    "    fun (Cons (_, t)) -> t ()\n",
    "\n",
    "  let rec take_aux n (Cons (h, t)) lst =\n",
    "    if n = 0 then lst\n",
    "    else take_aux (n - 1) (t ()) (h :: lst)\n",
    "\n",
    "  let take : int -> 'a sequence -> 'a list =\n",
    "    fun n s -> List.rev (take_aux n s [])\n",
    "\n",
    "  let nth : int -> 'a sequence -> 'a =\n",
    "    fun n s -> List.hd (take_aux (n + 1) s [])\n",
    "\n",
    "  let rec sum : int sequence -> int sequence -> int sequence =\n",
    "    fun (Cons (h_a, t_a)) (Cons (h_b, t_b)) ->\n",
    "      Cons (h_a + h_b, fun () -> sum (t_a ()) (t_b ()))\n",
    "\n",
    "  let rec fibs =\n",
    "    Cons(1, fun () ->\n",
    "      Cons(1, fun () ->\n",
    "        sum (tl fibs) fibs))\n",
    "\n",
    "  let nth_fib n =\n",
    "    nth n fibs\n",
    "\n",
    "end\n",
    "\n",
    "module LazyFibs = struct\n",
    "\n",
    "  type 'a lazysequence = Cons of 'a * 'a lazysequence Lazy.t\n",
    "\n",
    "  let hd : 'a lazysequence -> 'a =\n",
    "    fun (Cons (h, _)) -> h\n",
    "\n",
    "  let tl : 'a lazysequence -> 'a lazysequence =\n",
    "    fun (Cons (_, t)) -> Lazy.force t\n",
    "\n",
    "  let rec take_aux n (Cons (h, t)) lst =\n",
    "    if n = 0 then lst else\n",
    "      take_aux (n - 1) (Lazy.force t) (h :: lst)\n",
    "\n",
    "  let take : int -> 'a lazysequence -> 'a list =\n",
    "    fun n s -> List.rev (take_aux n s [])\n",
    "\n",
    "  let nth : int -> 'a lazysequence -> 'a =\n",
    "    fun n s -> List.hd (take_aux (n + 1) s [])\n",
    "\n",
    "  let rec sum : int lazysequence -> int lazysequence -> int lazysequence =\n",
    "    fun (Cons (h_a, t_a)) (Cons (h_b, t_b)) ->\n",
    "      Cons (h_a + h_b, lazy (sum (Lazy.force t_a) (Lazy.force t_b)))\n",
    "\n",
    "  let rec fibs =\n",
    "    Cons(1, lazy (\n",
    "      Cons(1, lazy (\n",
    "        sum (tl fibs) fibs))))\n",
    "\n",
    "  let nth_fib n =\n",
    "    nth n fibs\n",
    "end"
   ]
  }
 ],
 "metadata": {
  "jupytext": {
   "cell_metadata_filter": "-all",
   "formats": "md:myst",
   "text_representation": {
    "extension": ".md",
    "format_name": "myst",
    "format_version": 0.13,
    "jupytext_version": "1.10.3"
   }
  },
  "kernelspec": {
   "display_name": "OCaml",
   "language": "OCaml",
   "name": "ocaml-jupyter"
  },
  "source_map": [
   14,
   27,
   31,
   33,
   63,
   66,
   84,
   87,
   100,
   102,
   106,
   108,
   116,
   118,
   136,
   141,
   145,
   148,
   163,
   168,
   172,
   175,
   183,
   188,
   191,
   200,
   208,
   212,
   214,
   225,
   234,
   254,
   266,
   271,
   275,
   277,
   293,
   298,
   302,
   304,
   373,
   378,
   387,
   389,
   394,
   396,
   401,
   403,
   408,
   410,
   416,
   418,
   427,
   429,
   439
  ]
 },
 "nbformat": 4,
 "nbformat_minor": 5
}