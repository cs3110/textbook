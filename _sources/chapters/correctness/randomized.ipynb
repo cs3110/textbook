{
 "cells": [
  {
   "cell_type": "markdown",
   "id": "f784f330",
   "metadata": {},
   "source": [
    "# Randomized Testing with QCheck\n",
    "\n",
    "{{ video_embed | replace(\"%%VID%%\", \"62SYeSlSCNM\")}}\n",
    "\n",
    "*Randomized testing* aka *fuzz testing* is the process of generating random\n",
    "inputs and feeding them to a program or a function to see whether the program\n",
    "behaves correctly. The immediate issue is how to determine what the correct\n",
    "output is for a given input. If a *reference implementation* is\n",
    "available&mdash;that is, an implementation that is believed to be correct but in\n",
    "some other way does not suffice (e.g., its performance is too slow, or it is in\n",
    "a different language)&mdash;then the outputs of the two implementations can be\n",
    "compared. Otherwise, perhaps some *property* of the output could be checked. For\n",
    "example,\n",
    "\n",
    "* \"not crashing\" is a property of interest in user interfaces;\n",
    "\n",
    "* adding $n$ elements to a data collection then removing those elements, and\n",
    "  ending up with an empty collection, is a property of interest in data\n",
    "  structures; and\n",
    "\n",
    "* encrypting a string under a key then decrypting it under that key and getting\n",
    "  back the original string is a property of interest in an encryption scheme\n",
    "  like Enigma.\n",
    "\n",
    "Randomized testing is an incredibly powerful technique. It is often used in\n",
    "testing programs for security vulnerabilities. The [`qcheck` package][qcheck]\n",
    "for OCaml supports randomized testing. We'll look at it, next, after we discuss\n",
    "random number generation.\n",
    "\n",
    "[qcheck]: https://github.com/c-cube/qcheck\n",
    "\n",
    "## Random Number Generation\n",
    "\n",
    "To understand randomized testing, we need to take a brief digression into random\n",
    "number generation.\n",
    "\n",
    "Most languages provide the facility to generate random numbers. In truth, these\n",
    "generators are usually not truly random (in the sense that they are completely\n",
    "unpredictable) but in fact are [*pseudorandom*][prng]: the sequence of numbers\n",
    "they generate pass good statistical tests to ensure there is no discernible\n",
    "pattern in them, but the sequence itself is a deterministic function of an\n",
    "initial *seed* value. (Recall that the prefix *pseudo* is from the Greek\n",
    "*pseud&emacr;s* meaning \"false\".) [Java][java-random] and\n",
    "[Python][python-random] both provide pseudorandom number generators (PRNGs). So\n",
    "does OCaml in the standard library's [`Random` module][random].\n",
    "\n",
    "[prng]: https://en.wikipedia.org/wiki/Pseudorandom_number_generator\n",
    "[java-random]: https://docs.oracle.com/javase/8/docs/api/java/util/Random.html\n",
    "[python-random]: https://docs.python.org/3/library/random.html\n",
    "[random]: https://ocaml.org/api/Random.html\n",
    "\n",
    "**An Experiment.** Start a new session of utop and enter the following:\n",
    "\n",
    "```ocaml\n",
    "# Random.int 100;;\n",
    "# Random.int 100;;\n",
    "# Random.int 100;;\n",
    "```\n",
    "\n",
    "Each response will be an integer $i$ such that $0 \\leq i < 100$.\n",
    "\n",
    "Now quit utop and start another new session. Enter the same phrases again. You\n",
    "will get the same responses as last time. In fact, unless your OCaml\n",
    "installation is somehow different than that used to produce this book, you will\n",
    "get the same numbers as those below:"
   ]
  },
  {
   "cell_type": "code",
   "execution_count": null,
   "id": "06ade2c4",
   "metadata": {},
   "outputs": [],
   "source": [
    "Random.int 100;;\n",
    "Random.int 100;;\n",
    "Random.int 100;;"
   ]
  },
  {
   "cell_type": "markdown",
   "id": "5774f31c",
   "metadata": {},
   "source": [
    "Not exactly unpredictable, eh?\n",
    "\n",
    "**PRNGs.** Although for purposes of security and cryptography a PRNG leads to\n",
    "terrible vulnerabilities, for other purposes&mdash;including testing and\n",
    "simulation&mdash;PRNGs are just fine. Their predictability can even be useful:\n",
    "given the same initial seed, a PRNG will always produce the same sequence of\n",
    "pseudorandom numbers, leading to the ability to repeat a particular sequence of\n",
    "tests or a particular simulation.\n",
    "\n",
    "The way a PRNG works in general is that it initializes a *state* that it keeps\n",
    "internally from the initial seed. From then on, each time the PRNG generates a\n",
    "new value, it imperatively updates that state. The `Random` module makes it\n",
    "possible to manipulate that state in limited ways. For example, you can\n",
    "\n",
    "* get the current state with `Random.get_state`,\n",
    "\n",
    "* duplicate the current state with `Random.State.copy`,\n",
    "\n",
    "* request a random `int` generated from a particular state with\n",
    "  `Random.State.int`, and\n",
    "\n",
    "* initialize the state yourself. The functions `Random.self_init` and\n",
    "  `Random.State.make_self_init` will choose a \"random\" seed to initialize the\n",
    "  state. They do so by sampling from a special Unix file named\n",
    "  [`/dev/urandom`][urandom], which is meant to provide as close to true\n",
    "  randomness as a computer can.\n",
    "\n",
    "[urandom]: https://en.wikipedia.org/wiki//dev/random\n",
    "\n",
    "**Repeating the Experiment.** Start a new session of utop. Enter the following:\n",
    "\n",
    "```ocaml\n",
    "# Random.self_init ();;\n",
    "# Random.int 100;;\n",
    "# Random.int 100;;\n",
    "# Random.int 100;;\n",
    "```\n",
    "\n",
    "Now do that a second time (it doesn't matter whether you exit utop\n",
    "or not in between).  You will notice that you get a different\n",
    "sequence of values.  With high probability, what you get will be different\n",
    "than the values below:"
   ]
  },
  {
   "cell_type": "code",
   "execution_count": null,
   "id": "73e0b06e",
   "metadata": {},
   "outputs": [],
   "source": [
    "Random.self_init ();;\n",
    "Random.int 100;;\n",
    "Random.int 100;;\n",
    "Random.int 100;;"
   ]
  },
  {
   "cell_type": "markdown",
   "id": "98315bf7",
   "metadata": {},
   "source": [
    "## QCheck Abstractions\n",
    "\n",
    "QCheck has three abstractions we need to cover before using it for testing:\n",
    "generators, properties, and arbitraries.  If you want to follow along in\n",
    "utop, load QCheck with this directive:"
   ]
  },
  {
   "cell_type": "code",
   "execution_count": null,
   "id": "7bfdde22",
   "metadata": {
    "tags": [
     "remove-cell"
    ]
   },
   "outputs": [],
   "source": [
    "#use \"topfind\";;"
   ]
  },
  {
   "cell_type": "code",
   "execution_count": null,
   "id": "cbeb0068",
   "metadata": {
    "tags": [
     "remove-output"
    ]
   },
   "outputs": [],
   "source": [
    "#require \"qcheck\";;"
   ]
  },
  {
   "cell_type": "markdown",
   "id": "416347da",
   "metadata": {},
   "source": [
    "**Generators.** One of the key pieces of functionality provided by QCheck is the\n",
    "ability to generate pseudorandom values of various types. Here is some of the\n",
    "signature of the module that does that:\n",
    "\n",
    "```ocaml\n",
    "module QCheck : sig\n",
    "  ...\n",
    "  module Gen :\n",
    "  sig\n",
    "    type 'a t = Random.State.t -> 'a\n",
    "    val int : int t\n",
    "    val generate : ?rand:Random.State.t -> n:int -> 'a t -> 'a list\n",
    "    val generate1 : ?rand:Random.State.t -> 'a t -> 'a\n",
    "    ...\n",
    "  end\n",
    "  ...\n",
    "end\n",
    "```\n",
    "An `'a QCheck.Gen.t` is a function that takes in a PRNG state and uses it to\n",
    "produce a pseudorandom value of type `'a`. So `QCheck.Gen.int` produces\n",
    "pseudorandom integers. The function `generate1` actually does the generation of\n",
    "one pseudorandom value. It takes an optional argument that is a PRNG state; if\n",
    "that argument is not supplied, it uses the default PRNG state. The function\n",
    "`generate` produces a list of `n` pseudorandom values.\n",
    "\n",
    "QCheck implements many producers of pseudorandom values. Here are a few more of\n",
    "them:\n",
    "\n",
    "```ocaml\n",
    "module QCheck : sig\n",
    "  ...\n",
    "  module Gen :\n",
    "  sig\n",
    "    val int : int t\n",
    "    val small_int : int t\n",
    "    val int_range : int -> int -> int t\n",
    "    val list : 'a t -> 'a list t\n",
    "    val list_size : int t -> 'a t -> 'a list t\n",
    "    val string : ?gen:char t -> string t\n",
    "    val small_string : ?gen:char t -> string t\n",
    "    ...\n",
    "  end\n",
    "  ...\n",
    "end\n",
    "```\n",
    "You can [read the documentation][qcheckdoc] of those and many others.\n",
    "\n",
    "[qcheckdoc]: https://c-cube.github.io/qcheck/0.17/qcheck-core/QCheck/Gen/index.html\n",
    "\n",
    "**Properties.** It's tempting to think that QCheck would enable us to test a\n",
    "function by generating many pseudorandom inputs to the function, running the\n",
    "function on them, then checking that the outputs are correct. But there's\n",
    "immediately a problem: how can QCheck know what the correct output is for each\n",
    "of those inputs? Since they're randomly generated, the test engineer can't\n",
    "hardcode the right outputs.\n",
    "\n",
    "So instead, QCheck allows us to check whether a *property* of each output holds.\n",
    "A property is a function of type `t -> bool`, for some type `t`, that tells us\n",
    "whether the value of type `t` exhibits some desired characteristic. Here, for\n",
    "example, are two properties; one that determines whether an integer is\n",
    "even, and another that determines whether a list is sorted in non-decreasing\n",
    "order according to the built-in `<=` operator:"
   ]
  },
  {
   "cell_type": "code",
   "execution_count": null,
   "id": "4c9dd96b",
   "metadata": {},
   "outputs": [],
   "source": [
    "let is_even n = n mod 2 = 0\n",
    "\n",
    "let rec is_sorted = function\n",
    "  | [] -> true\n",
    "  | [_] -> true\n",
    "  | h1 :: (h2 :: t as t') -> h1 <= h2 && is_sorted t'"
   ]
  },
  {
   "cell_type": "markdown",
   "id": "70c1eac1",
   "metadata": {},
   "source": [
    "**Arbitraries.** The way we present to QCheck the outputs to be checked is with\n",
    "a value of type `'a QCheck.arbitrary`. This type represents an \"arbitrary\" value\n",
    "of type `'a`&mdash;that is, it has been pseudorandomly chosen as a value that we\n",
    "want to check, and more specifically, to check whether it satisfies a property.\n",
    "\n",
    "We can create *arbitraries* out of generators using the function\n",
    "`QCheck.make : 'a QCheck.Gen.t -> 'a QCheck.arbitrary`. (Actually that function\n",
    "takes some optional arguments that we elide here.) This isn't actually the\n",
    "normal way to create arbitraries, but it's a simple way that will help us\n",
    "understand them; we'll get to the normal way in a little while. For example, the\n",
    "following expression represents an arbitrary integer:"
   ]
  },
  {
   "cell_type": "code",
   "execution_count": null,
   "id": "113107d4",
   "metadata": {
    "tags": [
     "hide-output"
    ]
   },
   "outputs": [],
   "source": [
    "QCheck.make QCheck.Gen.int"
   ]
  },
  {
   "cell_type": "markdown",
   "id": "e78b8916",
   "metadata": {},
   "source": [
    "## Testing Properties\n",
    "\n",
    "To construct a QCheck test, we create an arbitrary and a property, and pass them\n",
    "to `QCheck.Test.make`, whose type can be simplified to:\n",
    "\n",
    "```ocaml\n",
    "QCheck.Test.make : 'a QCheck.arbitrary -> ('a -> bool) -> QCheck.Test.t\n",
    "```\n",
    "\n",
    "In reality, that function also takes several optional arguments that we elide\n",
    "here. The test will generate some number of arbitraries and check whether the\n",
    "property holds of each of them. For example, the following code creates a QCheck\n",
    "test that checks whether an arbitrary integer is even:"
   ]
  },
  {
   "cell_type": "code",
   "execution_count": null,
   "id": "1c57d144",
   "metadata": {},
   "outputs": [],
   "source": [
    "let t = QCheck.Test.make (QCheck.make QCheck.Gen.int) is_even"
   ]
  },
  {
   "cell_type": "markdown",
   "id": "99c23332",
   "metadata": {},
   "source": [
    "If we want to change the number of arbitraries that are checked, we can\n",
    "pass an optional integer argument `~count` to `QCheck.Test.make`.\n",
    "\n",
    "We can run that test with `QCheck_runner.run_tests : QCheck.Test.t list -> int`.\n",
    "(Once more, that function takes some optional arguments that we elide here.) The\n",
    "integer it returns is 0 if all the tests in the list pass, and 1 otherwise. For\n",
    "the test above, running it will output 1 with high probability, because it will\n",
    "generate at least one odd integer."
   ]
  },
  {
   "cell_type": "code",
   "execution_count": null,
   "id": "ce106129",
   "metadata": {},
   "outputs": [],
   "source": [
    "QCheck_runner.run_tests [t]"
   ]
  },
  {
   "cell_type": "markdown",
   "id": "50e75b11",
   "metadata": {},
   "source": [
    "Unfortunately, that output isn't very informative; it doesn't tell us what\n",
    "particular values failed to satisfy the property! We'll fix that problem in a\n",
    "little while.\n",
    "\n",
    "If you want to make an OCaml program that runs QCheck tests and prints the\n",
    "results, there is a function `QCheck_runner.run_tests_main` that works much like\n",
    "`OUnit2.run_test_tt_main`: just invoke it as the final expression in a test\n",
    "file. For example:\n",
    "\n",
    "```ocaml\n",
    "let tests = (* code that constructs a [QCheck.Test.t list] *)\n",
    "let _ = QCheck_runner.run_tests_main tests\n",
    "```\n",
    "\n",
    "To compile QCheck code, just add the `qcheck` library to your `dune` file:\n",
    "\n",
    "```console\n",
    "(executable\n",
    " ...\n",
    " (libraries ... qcheck))\n",
    "```\n",
    "\n",
    "QCheck tests can be converted to OUnit tests and included in the usual kind of\n",
    "OUnit test suite we've been writing all along. The function that does this is:"
   ]
  },
  {
   "cell_type": "code",
   "execution_count": null,
   "id": "f1f4ae5e",
   "metadata": {},
   "outputs": [],
   "source": [
    "QCheck_runner.to_ounit2_test"
   ]
  },
  {
   "cell_type": "markdown",
   "id": "2dcac85e",
   "metadata": {},
   "source": [
    "## Informative Output from QCheck\n",
    "\n",
    "We noted above that the output of QCheck so far has told us only *whether* some\n",
    "arbitraries satisfied a property, but not *which* arbitraries failed to satisfy\n",
    "it. Let's fix that problem.\n",
    "\n",
    "The issue is with how we constructed an arbitrary directly out of a generator.\n",
    "An arbitrary is properly more than just a generator. The QCheck library needs to\n",
    "know how to print values of the generator, and a few other things as well. You\n",
    "can see that in the definition of `'a QCheck.arbitrary`:"
   ]
  },
  {
   "cell_type": "code",
   "execution_count": null,
   "id": "e9270608",
   "metadata": {},
   "outputs": [],
   "source": [
    "#show QCheck.arbitrary;;"
   ]
  },
  {
   "cell_type": "markdown",
   "id": "d715f354",
   "metadata": {},
   "source": [
    "In addition to the generator field `gen`, there is a field containing an\n",
    "optional function to print values from the generator, and a few other optional\n",
    "fields as well. Luckily, we don't usually have to find a way to complete those\n",
    "fields ourselves; the `QCheck` module provides many arbitraries that correspond\n",
    "to the generators found in `QCheck.Gen`:\n",
    "\n",
    "```ocaml\n",
    "module QCheck :\n",
    "  sig\n",
    "    ...\n",
    "  val int : int arbitrary\n",
    "  val small_int : int arbitrary\n",
    "  val int_range : int -> int -> int arbitrary\n",
    "  val list : 'a arbitrary -> 'a list arbitrary\n",
    "  val list_of_size : int Gen.t -> 'a arbitrary -> 'a list arbitrary\n",
    "  val string : string arbitrary\n",
    "  val small_string : string arbitrary\n",
    "    ...\n",
    "  end\n",
    "```\n",
    "\n",
    "Using those arbitraries, we can get improved error messages:"
   ]
  },
  {
   "cell_type": "code",
   "execution_count": null,
   "id": "be95f5fe",
   "metadata": {},
   "outputs": [],
   "source": [
    "let t = QCheck.Test.make ~name:\"my_test\" QCheck.int is_even;;\n",
    "QCheck_runner.run_tests [t];;"
   ]
  },
  {
   "cell_type": "markdown",
   "id": "b13b0f82",
   "metadata": {},
   "source": [
    "The output tells us the `my_test` failed, and shows us the input that\n",
    "caused the failure.\n",
    "\n",
    "## Testing Functions with QCheck\n",
    "\n",
    "The final piece of the QCheck puzzle is to use a randomly generated input to\n",
    "test whether a function's output satisfies some property. For example, here is a\n",
    "QCheck test to see whether the output of `double` is correct:"
   ]
  },
  {
   "cell_type": "code",
   "execution_count": null,
   "id": "874e1bb5",
   "metadata": {},
   "outputs": [],
   "source": [
    "let double x = 2 * x;;\n",
    "let double_check x = double x = x + x;;\n",
    "let t = QCheck.Test.make ~count:1000 QCheck.int double_check;;\n",
    "QCheck_runner.run_tests [t];;"
   ]
  },
  {
   "cell_type": "markdown",
   "id": "6951d29a",
   "metadata": {},
   "source": [
    "Above, `double` is the function we are testing. The property we're testing\n",
    "`double_check`, is that `double x` is always `x + x`. We do that by having\n",
    "QCheck create 1000 arbitrary integers and test that the property holds of each\n",
    "of them.\n",
    "\n",
    "Here are a couple more examples, drawn from QCheck's own documentation.  The\n",
    "first checks that `List.rev` is an *involution*, meaning that applying it\n",
    "twice brings you back to the original list.  That is a property that should\n",
    "hold of a correct implementation of list reversal."
   ]
  },
  {
   "cell_type": "code",
   "execution_count": null,
   "id": "f5858ae5",
   "metadata": {},
   "outputs": [],
   "source": [
    "let rev_involutive lst = List.(lst |> rev |> rev = lst);;\n",
    "let t = QCheck.(Test.make ~count:1000 (list int) rev_involutive);;\n",
    "QCheck_runner.run_tests [t];;"
   ]
  },
  {
   "cell_type": "markdown",
   "id": "01bd245f",
   "metadata": {},
   "source": [
    "Indeed, running 1000 random tests reveals that none of them fails. The `int`\n",
    "generator used above generates integers uniformly over the entire range of OCaml\n",
    "integers. The `list` generator creates lists whose elements are individual\n",
    "generated by `int`. According to the documentation of `list`, the length of each\n",
    "list is randomly generated by another generator `nat`, which generates \"small\n",
    "natural numbers.\" What does that mean? It isn't specified. But if we read the\n",
    "[current source code][src-nat], we see that those are integers from 0 to 10,000,\n",
    "and biased toward being smaller numbers in that range.\n",
    "\n",
    "[src-nat]: https://github.com/c-cube/qcheck/blob/18247cf40af4272f7a2f93e273724b962db61b01/src/core/QCheck2.ml#L276\n",
    "\n",
    "\n",
    "The second example checks that all lists are sorted.  Of course, not all lists\n",
    "*are* sorted!  So we should expect this test to fail."
   ]
  },
  {
   "cell_type": "code",
   "execution_count": null,
   "id": "958d1be2",
   "metadata": {},
   "outputs": [],
   "source": [
    "let is_sorted lst = lst = List.sort Stdlib.compare lst;;\n",
    "let t = QCheck.(Test.make ~count:1000 (list small_nat) is_sorted);;\n",
    "QCheck_runner.run_tests [t];;"
   ]
  },
  {
   "cell_type": "markdown",
   "id": "ba42bf22",
   "metadata": {},
   "source": [
    "The output shows an example of a list that is not sorted, hence violates the\n",
    "property. Generator `small_nat` is like `nat` but ranges from 0 to 100."
   ]
  }
 ],
 "metadata": {
  "jupytext": {
   "cell_metadata_filter": "-all",
   "formats": "md:myst",
   "text_representation": {
    "extension": ".md",
    "format_name": "myst",
    "format_version": 0.13,
    "jupytext_version": "1.10.3"
   }
  },
  "kernelspec": {
   "display_name": "OCaml",
   "language": "OCaml",
   "name": "ocaml-jupyter"
  },
  "source_map": [
   14,
   82,
   86,
   131,
   136,
   144,
   149,
   152,
   217,
   224,
   238,
   241,
   257,
   259,
   270,
   272,
   299,
   301,
   314,
   316,
   341,
   344,
   355,
   360,
   372,
   376,
   393,
   397
  ]
 },
 "nbformat": 4,
 "nbformat_minor": 5
}