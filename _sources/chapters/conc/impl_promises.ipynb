{
 "cells": [
  {
   "cell_type": "markdown",
   "id": "9297b23d",
   "metadata": {},
   "source": [
    "# Implementing Promises\n",
    "\n",
    "Here is an interface for our own Lwt-style promises. The names have been changed\n",
    "to make the interface clearer."
   ]
  },
  {
   "cell_type": "code",
   "execution_count": 1,
   "id": "9a60dc29",
   "metadata": {},
   "outputs": [
    {
     "data": {
      "text/plain": [
       "module type PROMISE =\n",
       "  sig\n",
       "    type 'a state = Pending | Fulfilled of 'a | Rejected of exn\n",
       "    type 'a promise\n",
       "    type 'a resolver\n",
       "    val make : unit -> 'a promise * 'a resolver\n",
       "    val return : 'a -> 'a promise\n",
       "    val state : 'a promise -> 'a state\n",
       "    val fulfill : 'a resolver -> 'a -> unit\n",
       "    val reject : 'a resolver -> exn -> unit\n",
       "  end\n"
      ]
     },
     "execution_count": 1,
     "metadata": {},
     "output_type": "execute_result"
    }
   ],
   "source": [
    "(** A signature for Lwt-style promises, with better names. *)\n",
    "module type PROMISE = sig\n",
    "  type 'a state =\n",
    "    | Pending\n",
    "    | Fulfilled of 'a\n",
    "    | Rejected of exn\n",
    "\n",
    "  type 'a promise\n",
    "\n",
    "  type 'a resolver\n",
    "\n",
    "  (** [make ()] is a new promise and resolver. The promise is pending. *)\n",
    "  val make : unit -> 'a promise * 'a resolver\n",
    "\n",
    "  (** [return x] is a new promise that is already fulfilled with value\n",
    "      [x]. *)\n",
    "  val return : 'a -> 'a promise\n",
    "\n",
    "  (** [state p] is the state of the promise. *)\n",
    "  val state : 'a promise -> 'a state\n",
    "\n",
    "  (** [fulfill r x] fulfills the promise [p] associated with [r] with\n",
    "      value [x], meaning that [state p] will become [Fulfilled x].\n",
    "      Requires: [p] is pending. *)\n",
    "  val fulfill : 'a resolver -> 'a -> unit\n",
    "\n",
    "  (** [reject r x] rejects the promise [p] associated with [r] with\n",
    "      exception [x], meaning that [state p] will become [Rejected x].\n",
    "      Requires: [p] is pending. *)\n",
    "  val reject : 'a resolver -> exn -> unit\n",
    "end"
   ]
  },
  {
   "cell_type": "markdown",
   "id": "e016ee22",
   "metadata": {},
   "source": [
    "To implement that interface, we can make the representation type of\n",
    "`'a promise` be a reference to a state:"
   ]
  },
  {
   "cell_type": "code",
   "execution_count": 2,
   "id": "93c5784b",
   "metadata": {},
   "outputs": [
    {
     "data": {
      "text/plain": [
       "type 'a state = Pending | Fulfilled of 'a | Rejected of exn\n"
      ]
     },
     "execution_count": 2,
     "metadata": {},
     "output_type": "execute_result"
    },
    {
     "data": {
      "text/plain": [
       "type 'a promise = 'a state ref\n"
      ]
     },
     "execution_count": 2,
     "metadata": {},
     "output_type": "execute_result"
    }
   ],
   "source": [
    "type 'a state = Pending | Fulfilled of 'a | Rejected of exn\n",
    "type 'a promise = 'a state ref"
   ]
  },
  {
   "cell_type": "markdown",
   "id": "f9386f24",
   "metadata": {},
   "source": [
    "That way it's possible to mutate the contents of the promise.\n",
    "\n",
    "For the representation type of the resolver, we'll do something a little clever.\n",
    "It will simply be the same as a promise."
   ]
  },
  {
   "cell_type": "code",
   "execution_count": 3,
   "id": "0b84d8ad",
   "metadata": {},
   "outputs": [
    {
     "data": {
      "text/plain": [
       "type 'a resolver = 'a promise\n"
      ]
     },
     "execution_count": 3,
     "metadata": {},
     "output_type": "execute_result"
    }
   ],
   "source": [
    "type 'a resolver = 'a promise"
   ]
  },
  {
   "cell_type": "markdown",
   "id": "d9ac22c5",
   "metadata": {},
   "source": [
    "So internally, the two types are exactly the same. But externally, no client of\n",
    "the `Promise` module will be able to distinguish them. In other words, we're\n",
    "using the type system to control whether it's possible to apply certain\n",
    "functions (e.g., `state` vs `fulfill`) to a promise.\n",
    "\n",
    "To help implement the rest of the functions, let's start by writing a helper\n",
    "function `write_once : 'a promise -> 'a state -> unit` to update the reference. This\n",
    "function will implement changing the state of the promise from pending to either\n",
    "fulfilled or rejected, and once the state has changed, it will not allow it to be\n",
    "changed again. That is, it enforces the \"write once\" invariant."
   ]
  },
  {
   "cell_type": "code",
   "execution_count": 4,
   "id": "f5709013",
   "metadata": {},
   "outputs": [
    {
     "data": {
      "text/plain": [
       "val write_once : 'a state ref -> 'a state -> unit = <fun>\n"
      ]
     },
     "execution_count": 4,
     "metadata": {},
     "output_type": "execute_result"
    }
   ],
   "source": [
    "(** [write_once p s] changes the state of [p] to be [s].  If [p] and [s]\n",
    "    are both pending, that has no effect.\n",
    "    Raises: [Invalid_arg] if the state of [p] is not pending. *)\n",
    "let write_once p s =\n",
    "  if !p = Pending\n",
    "  then p := s\n",
    "  else invalid_arg \"cannot write twice\""
   ]
  },
  {
   "cell_type": "markdown",
   "id": "8ac099e8",
   "metadata": {},
   "source": [
    "Using that helper, we can implement the `make` function:"
   ]
  },
  {
   "cell_type": "code",
   "execution_count": 5,
   "id": "ce7289d6",
   "metadata": {},
   "outputs": [
    {
     "data": {
      "text/plain": [
       "val make : unit -> 'a state ref * 'a state ref = <fun>\n"
      ]
     },
     "execution_count": 5,
     "metadata": {},
     "output_type": "execute_result"
    }
   ],
   "source": [
    "let make () =\n",
    "  let p = ref Pending in\n",
    "  (p, p)"
   ]
  },
  {
   "cell_type": "markdown",
   "id": "20c4ad2e",
   "metadata": {},
   "source": [
    "The remaining functions in the interface are trivial to implement.\n",
    "Putting it altogether in a module, we have:"
   ]
  },
  {
   "cell_type": "code",
   "execution_count": 6,
   "id": "bbccc040",
   "metadata": {},
   "outputs": [
    {
     "data": {
      "text/plain": [
       "module Promise : PROMISE\n"
      ]
     },
     "execution_count": 6,
     "metadata": {},
     "output_type": "execute_result"
    }
   ],
   "source": [
    "module Promise : PROMISE = struct\n",
    "  type 'a state =\n",
    "    | Pending\n",
    "    | Fulfilled of 'a\n",
    "    | Rejected of exn\n",
    "\n",
    "  type 'a promise = 'a state ref\n",
    "\n",
    "  type 'a resolver = 'a promise\n",
    "\n",
    "  (** [write_once p s] changes the state of [p] to be [s]. If [p] and\n",
    "      [s] are both pending, that has no effect. Raises: [Invalid_arg] if\n",
    "      the state of [p] is not pending. *)\n",
    "  let write_once p s =\n",
    "    if !p = Pending then p := s else invalid_arg \"cannot write twice\"\n",
    "\n",
    "  let make () =\n",
    "    let p = ref Pending in\n",
    "    (p, p)\n",
    "\n",
    "  let return x = ref (Fulfilled x)\n",
    "\n",
    "  let state p = !p\n",
    "\n",
    "  let fulfill r x = write_once r (Fulfilled x)\n",
    "\n",
    "  let reject r x = write_once r (Rejected x)\n",
    "end"
   ]
  },
  {
   "cell_type": "markdown",
   "id": "4549af9b",
   "metadata": {},
   "source": [
    "## Lwt Promises\n",
    "\n",
    "The types and names used in Lwt are a bit more obscure than those we used above.\n",
    "Lwt uses analogical terminology that comes from threads&mdash;but since Lwt does\n",
    "not actually implement threads, that terminology is not necessarily helpful. (We\n",
    "don't mean to demean Lwt! It is a library that has been developing and changing\n",
    "over time.)\n",
    "\n",
    "The Lwt interface includes the following declarations, which we have annotated\n",
    "with comments to compare them to the interface we implemented above:"
   ]
  },
  {
   "cell_type": "code",
   "execution_count": 7,
   "id": "8cb3ec9d",
   "metadata": {},
   "outputs": [
    {
     "data": {
      "text/plain": [
       "module type Lwt =\n",
       "  sig\n",
       "    type 'a state = Sleep | Return of 'a | Fail of exn\n",
       "    type 'a t\n",
       "    type 'a u\n",
       "    val state : 'a t -> 'a state\n",
       "    val wakeup_later : 'a u -> 'a -> unit\n",
       "    val wakeup_later_exn : 'a u -> exn -> unit\n",
       "    val wait : unit -> 'a t * 'a u\n",
       "    val return : 'a -> 'a t\n",
       "  end\n"
      ]
     },
     "execution_count": 7,
     "metadata": {},
     "output_type": "execute_result"
    }
   ],
   "source": [
    "module type Lwt = sig\n",
    "  (* [Sleep] means pending. [Return] means fulfilled.\n",
    "     [Fail] means rejected. *)\n",
    "  type 'a state = Sleep | Return of 'a | Fail of exn\n",
    "\n",
    "  (* a [t] is a promise *)\n",
    "  type 'a t\n",
    "\n",
    "  (* a [u] is a resolver *)\n",
    "  type 'a u\n",
    "\n",
    "  val state : 'a t -> 'a state\n",
    "\n",
    "  (* [wakeup_later] means [fulfill] *)\n",
    "  val wakeup_later : 'a u -> 'a -> unit\n",
    "\n",
    "  (* [wakeup_later_exn] means [reject] *)\n",
    "  val wakeup_later_exn : 'a u -> exn -> unit\n",
    "\n",
    "  (* [wait] means [make] *)\n",
    "  val wait : unit -> 'a t * 'a u\n",
    "\n",
    "  val return : 'a -> 'a t\n",
    "end"
   ]
  },
  {
   "cell_type": "markdown",
   "id": "08bb7c23",
   "metadata": {},
   "source": [
    "Lwt's implementation of that interface is much more complex than our own\n",
    "implementation above, because Lwt actually supports many more operations on\n",
    "promises. Nonetheless, the core ideas that we developed above provide sound\n",
    "intuition for what Lwt implements.\n",
    "\n",
    "Here is some example Lwt code that you can try out in utop:"
   ]
  },
  {
   "cell_type": "code",
   "execution_count": 8,
   "id": "696f1a49",
   "metadata": {
    "tags": [
     "remove-cell"
    ]
   },
   "outputs": [
    {
     "name": "stdout",
     "output_type": "stream",
     "text": [
      "- : unit = ()\n"
     ]
    },
    {
     "name": "stdout",
     "output_type": "stream",
     "text": [
      "Findlib has been successfully loaded. Additional directives:\n"
     ]
    },
    {
     "name": "stdout",
     "output_type": "stream",
     "text": [
      "  #require \"package\";;      to load a package\n"
     ]
    },
    {
     "name": "stdout",
     "output_type": "stream",
     "text": [
      "  #list;;                   to list the available packages\n"
     ]
    },
    {
     "name": "stdout",
     "output_type": "stream",
     "text": [
      "  #camlp4o;;                to load camlp4 (standard syntax)\n"
     ]
    },
    {
     "name": "stdout",
     "output_type": "stream",
     "text": [
      "  #camlp4r;;                to load camlp4 (revised syntax)\n"
     ]
    },
    {
     "name": "stdout",
     "output_type": "stream",
     "text": [
      "  #predicates \"p,q,...\";;   to set these predicates\n"
     ]
    },
    {
     "name": "stdout",
     "output_type": "stream",
     "text": [
      "  Topfind.reset();;         to force that packages will be reloaded\n"
     ]
    },
    {
     "name": "stdout",
     "output_type": "stream",
     "text": [
      "  #thread;;                 to enable threads\n"
     ]
    },
    {
     "name": "stdout",
     "output_type": "stream",
     "text": [
      "\n"
     ]
    },
    {
     "name": "stdout",
     "output_type": "stream",
     "text": [
      "- : unit = ()\n"
     ]
    }
   ],
   "source": [
    "#use \"topfind\";;"
   ]
  },
  {
   "cell_type": "code",
   "execution_count": 9,
   "id": "32a303c2",
   "metadata": {
    "tags": [
     "remove-output"
    ]
   },
   "outputs": [
    {
     "name": "stderr",
     "output_type": "stream",
     "text": [
      "/Users/clarkson/.opam/textbook/lib/lwt: added to search path\n"
     ]
    },
    {
     "name": "stderr",
     "output_type": "stream",
     "text": [
      "/Users/clarkson/.opam/textbook/lib/lwt/lwt.cma: loaded\n"
     ]
    }
   ],
   "source": [
    "#require \"lwt\";;"
   ]
  },
  {
   "cell_type": "code",
   "execution_count": 10,
   "id": "abf64a15",
   "metadata": {},
   "outputs": [
    {
     "data": {
      "text/plain": [
       "val p : '_weak1 Lwt.t = <abstr>\n",
       "val r : '_weak1 Lwt.u = <abstr>\n"
      ]
     },
     "execution_count": 10,
     "metadata": {},
     "output_type": "execute_result"
    }
   ],
   "source": [
    "let p, r = Lwt.wait();;"
   ]
  },
  {
   "cell_type": "markdown",
   "id": "e36155fe",
   "metadata": {},
   "source": [
    "To avoid those weak type variables, we can provide a further hint to OCaml as to\n",
    "what type we want to eventually put into the promise. For example, if we wanted\n",
    "to have a promise that will eventually contain an `int`, we could write this\n",
    "code:"
   ]
  },
  {
   "cell_type": "code",
   "execution_count": 11,
   "id": "c196d7df",
   "metadata": {},
   "outputs": [
    {
     "data": {
      "text/plain": [
       "val p : int Lwt.t = <abstr>\n",
       "val r : int Lwt.u = <abstr>\n"
      ]
     },
     "execution_count": 11,
     "metadata": {},
     "output_type": "execute_result"
    }
   ],
   "source": [
    "let (p : int Lwt.t), r = Lwt.wait ()"
   ]
  },
  {
   "cell_type": "markdown",
   "id": "e19bc1ab",
   "metadata": {},
   "source": [
    "Now we can resolve the promise:"
   ]
  },
  {
   "cell_type": "code",
   "execution_count": 12,
   "id": "6020d7d2",
   "metadata": {},
   "outputs": [
    {
     "data": {
      "text/plain": [
       "- : int Lwt.state = Lwt.Sleep\n"
      ]
     },
     "execution_count": 12,
     "metadata": {},
     "output_type": "execute_result"
    }
   ],
   "source": [
    "Lwt.state p"
   ]
  },
  {
   "cell_type": "code",
   "execution_count": 13,
   "id": "12b2a698",
   "metadata": {},
   "outputs": [
    {
     "data": {
      "text/plain": [
       "- : unit = ()\n"
      ]
     },
     "execution_count": 13,
     "metadata": {},
     "output_type": "execute_result"
    }
   ],
   "source": [
    "Lwt.wakeup_later r 42"
   ]
  },
  {
   "cell_type": "code",
   "execution_count": 14,
   "id": "b35c3eb3",
   "metadata": {},
   "outputs": [
    {
     "data": {
      "text/plain": [
       "- : int Lwt.state = Lwt.Return 42\n"
      ]
     },
     "execution_count": 14,
     "metadata": {},
     "output_type": "execute_result"
    }
   ],
   "source": [
    "Lwt.state p;;"
   ]
  },
  {
   "cell_type": "code",
   "execution_count": 15,
   "id": "9db1666f",
   "metadata": {
    "tags": [
     "raises-exception"
    ]
   },
   "outputs": [
    {
     "ename": "error",
     "evalue": "runtime_error",
     "output_type": "error",
     "traceback": [
      "\u001b[31mException: Invalid_argument \"Lwt.wakeup_later\".\nRaised at Stdlib.invalid_arg in file \"stdlib.ml\", line 30, characters 20-45\nCalled from Stdlib__Fun.protect in file \"fun.ml\", line 33, characters 8-15\nRe-raised at Stdlib__Fun.protect in file \"fun.ml\", line 38, characters 6-52\nCalled from Topeval.load_lambda in file \"toplevel/byte/topeval.ml\", line 89, characters 4-150\n\u001b[0m"
     ]
    }
   ],
   "source": [
    "Lwt.wakeup_later r 42"
   ]
  },
  {
   "cell_type": "markdown",
   "id": "73ed6062",
   "metadata": {},
   "source": [
    "That last exception was raised because we attempted to resolve the promise a\n",
    "second time, which is not permitted.\n",
    "\n",
    "To reject a promise, we can write similar code:"
   ]
  },
  {
   "cell_type": "code",
   "execution_count": 16,
   "id": "4dbc0bac",
   "metadata": {},
   "outputs": [
    {
     "data": {
      "text/plain": [
       "val p : int Lwt.t = <abstr>\n",
       "val r : int Lwt.u = <abstr>\n"
      ]
     },
     "execution_count": 16,
     "metadata": {},
     "output_type": "execute_result"
    },
    {
     "data": {
      "text/plain": [
       "- : unit = ()\n"
      ]
     },
     "execution_count": 16,
     "metadata": {},
     "output_type": "execute_result"
    },
    {
     "data": {
      "text/plain": [
       "- : int Lwt.state = Lwt.Fail (Failure \"nope\")\n"
      ]
     },
     "execution_count": 16,
     "metadata": {},
     "output_type": "execute_result"
    }
   ],
   "source": [
    "let (p : int Lwt.t), r = Lwt.wait ();;\n",
    "Lwt.wakeup_later_exn r (Failure \"nope\");;\n",
    "Lwt.state p;;"
   ]
  },
  {
   "cell_type": "markdown",
   "id": "7c0736d4",
   "metadata": {},
   "source": [
    "Note that nothing we have implemented so far does anything concurrently.\n",
    "The promise abstraction by itself is not inherently concurrent.  It's\n",
    "just a data structure that can be written at most once, and that provides\n",
    "a means to control who can write to it (through the resolver)."
   ]
  }
 ],
 "metadata": {
  "jupytext": {
   "cell_metadata_filter": "-all",
   "formats": "md:myst",
   "text_representation": {
    "extension": ".md",
    "format_name": "myst",
    "format_version": 0.13,
    "jupytext_version": "1.10.3"
   }
  },
  "kernelspec": {
   "display_name": "OCaml",
   "language": "OCaml",
   "name": "ocaml-jupyter"
  },
  "language_info": {
   "codemirror_mode": "text/x-ocaml",
   "file_extension": ".ml",
   "mimetype": "text/x-ocaml",
   "name": "OCaml",
   "nbconverter_exporter": null,
   "pygments_lexer": "OCaml",
   "version": "4.14.0"
  },
  "source_map": [
   14,
   21,
   53,
   58,
   61,
   68,
   70,
   83,
   91,
   95,
   99,
   104,
   133,
   146,
   171,
   180,
   185,
   190,
   192,
   198,
   200,
   204,
   207,
   210,
   213,
   216,
   223,
   227
  ]
 },
 "nbformat": 4,
 "nbformat_minor": 5
}