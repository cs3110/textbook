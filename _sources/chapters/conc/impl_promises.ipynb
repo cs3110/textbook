{
 "cells": [
  {
   "cell_type": "markdown",
   "id": "56f3c590",
   "metadata": {},
   "source": [
    "# Implementing Promises\n",
    "\n",
    "Here is an interface for our own Lwt-style promises. The names have been changed\n",
    "to make the interface clearer."
   ]
  },
  {
   "cell_type": "code",
   "execution_count": null,
   "id": "41ae91ca",
   "metadata": {},
   "outputs": [],
   "source": [
    "(** A signature for Lwt-style promises, with better names. *)\n",
    "module type PROMISE = sig\n",
    "  type 'a state =\n",
    "    | Pending\n",
    "    | Fulfilled of 'a\n",
    "    | Rejected of exn\n",
    "\n",
    "  type 'a promise\n",
    "\n",
    "  type 'a resolver\n",
    "\n",
    "  (** [make ()] is a new promise and resolver. The promise is pending. *)\n",
    "  val make : unit -> 'a promise * 'a resolver\n",
    "\n",
    "  (** [return x] is a new promise that is already fulfilled with value\n",
    "      [x]. *)\n",
    "  val return : 'a -> 'a promise\n",
    "\n",
    "  (** [state p] is the state of the promise. *)\n",
    "  val state : 'a promise -> 'a state\n",
    "\n",
    "  (** [fulfill r x] fulfills the promise [p] associated with [r] with\n",
    "      value [x], meaning that [state p] will become [Fulfilled x].\n",
    "      Requires: [p] is pending. *)\n",
    "  val fulfill : 'a resolver -> 'a -> unit\n",
    "\n",
    "  (** [reject r x] rejects the promise [p] associated with [r] with\n",
    "      exception [x], meaning that [state p] will become [Rejected x].\n",
    "      Requires: [p] is pending. *)\n",
    "  val reject : 'a resolver -> exn -> unit\n",
    "end"
   ]
  },
  {
   "cell_type": "markdown",
   "id": "0b37e9e8",
   "metadata": {},
   "source": [
    "To implement that interface, we can make the representation type of\n",
    "`'a promise` be a reference to a state:"
   ]
  },
  {
   "cell_type": "code",
   "execution_count": null,
   "id": "ab893ce6",
   "metadata": {},
   "outputs": [],
   "source": [
    "type 'a state = Pending | Fulfilled of 'a | Rejected of exn\n",
    "type 'a promise = 'a state ref"
   ]
  },
  {
   "cell_type": "markdown",
   "id": "22118285",
   "metadata": {},
   "source": [
    "That way it's possible to mutate the contents of the promise.\n",
    "\n",
    "For the representation type of the resolver, we'll do something a little clever.\n",
    "It will simply be the same as a promise."
   ]
  },
  {
   "cell_type": "code",
   "execution_count": null,
   "id": "ff609989",
   "metadata": {},
   "outputs": [],
   "source": [
    "type 'a resolver = 'a promise"
   ]
  },
  {
   "cell_type": "markdown",
   "id": "736c8027",
   "metadata": {},
   "source": [
    "So internally, the two types are exactly the same. But externally no client of\n",
    "the `Promise` module will be able to distinguish them. In other words, we're\n",
    "using the type system to control whether it's possible to apply certain\n",
    "functions (e.g., `state` vs `fulfill`) to a promise.\n",
    "\n",
    "To help implement the rest of the functions, let's start by writing a helper\n",
    "function `write_once : 'a promise -> 'a state -> unit` to update the reference. This\n",
    "function will implement changing the state of the promise from pending to either\n",
    "fulfilled or rejected, and once the state has changed, it will not allow it to be\n",
    "changed again. That is, it enforces the \"write once\" invariant."
   ]
  },
  {
   "cell_type": "code",
   "execution_count": null,
   "id": "bebb3f44",
   "metadata": {},
   "outputs": [],
   "source": [
    "(** [write_once p s] changes the state of [p] to be [s].  If [p] and [s]\n",
    "    are both pending, that has no effect.\n",
    "    Raises: [Invalid_arg] if the state of [p] is not pending. *)\n",
    "let write_once p s =\n",
    "  if !p = Pending\n",
    "  then p := s\n",
    "  else invalid_arg \"cannot write twice\""
   ]
  },
  {
   "cell_type": "markdown",
   "id": "06ae40d3",
   "metadata": {},
   "source": [
    "Using that helper, we can implement the `make` function:"
   ]
  },
  {
   "cell_type": "code",
   "execution_count": null,
   "id": "048cb17b",
   "metadata": {},
   "outputs": [],
   "source": [
    "let make () =\n",
    "  let p = ref Pending in\n",
    "  p, p"
   ]
  },
  {
   "cell_type": "markdown",
   "id": "6e8a4374",
   "metadata": {},
   "source": [
    "The remaining functions in the interface are trivial to implement.\n",
    "Putting it altogether in a module, we have:"
   ]
  },
  {
   "cell_type": "code",
   "execution_count": null,
   "id": "6dff818e",
   "metadata": {},
   "outputs": [],
   "source": [
    "module Promise : PROMISE = struct\n",
    "  type 'a state =\n",
    "    | Pending\n",
    "    | Fulfilled of 'a\n",
    "    | Rejected of exn\n",
    "\n",
    "  type 'a promise = 'a state ref\n",
    "\n",
    "  type 'a resolver = 'a promise\n",
    "\n",
    "  (** [write_once p s] changes the state of [p] to be [s]. If [p] and\n",
    "      [s] are both pending, that has no effect. Raises: [Invalid_arg] if\n",
    "      the state of [p] is not pending. *)\n",
    "  let write_once p s =\n",
    "    if !p = Pending then p := s else invalid_arg \"cannot write twice\"\n",
    "\n",
    "  let make () =\n",
    "    let p = ref Pending in\n",
    "    (p, p)\n",
    "\n",
    "  let return x = ref (Fulfilled x)\n",
    "\n",
    "  let state p = !p\n",
    "\n",
    "  let fulfill r x = write_once r (Fulfilled x)\n",
    "\n",
    "  let reject r x = write_once r (Rejected x)\n",
    "end"
   ]
  },
  {
   "cell_type": "markdown",
   "id": "4806c44d",
   "metadata": {},
   "source": [
    "## Lwt Promises\n",
    "\n",
    "The types and names used in Lwt are a bit more obscure than those we used above.\n",
    "Lwt uses analogical terminology that comes from threads&mdash;but since Lwt does\n",
    "not actually implement threads, that terminology is not necessarily helpful. (We\n",
    "don't mean to demean Lwt! It is a library that has been developing and changing\n",
    "over time.)\n",
    "\n",
    "The Lwt interface includes the following declarations, which we have annotated\n",
    "with comments to compare them to the interface we implemented above:"
   ]
  },
  {
   "cell_type": "code",
   "execution_count": null,
   "id": "e1369ce7",
   "metadata": {},
   "outputs": [],
   "source": [
    "module type Lwt = sig\n",
    "  (* [Sleep] means pending. [Return] means fulfilled.\n",
    "     [Fail] means rejected. *)\n",
    "  type 'a state = Sleep | Return of 'a | Fail of exn\n",
    "\n",
    "  (* a [t] is a promise *)\n",
    "  type 'a t\n",
    "\n",
    "  (* a [u] is a resolver *)\n",
    "  type 'a u\n",
    "\n",
    "  val state : 'a t -> 'a state\n",
    "\n",
    "  (* [wakeup_later] means [fulfill] *)\n",
    "  val wakeup_later : 'a u -> 'a -> unit\n",
    "\n",
    "  (* [wakeup_later_exn] means [reject] *)\n",
    "  val wakeup_later_exn : 'a u -> exn -> unit\n",
    "\n",
    "  (* [wait] means [make] *)\n",
    "  val wait : unit -> 'a t * 'a u\n",
    "\n",
    "  val return : 'a -> 'a t\n",
    "end"
   ]
  },
  {
   "cell_type": "markdown",
   "id": "28203f20",
   "metadata": {},
   "source": [
    "Lwt's implementation of that interface is much more complex than our own\n",
    "implementation above, because Lwt actually supports many more operations on\n",
    "promises. Nonetheless, the core ideas that we developed above provide sound\n",
    "intuition for what Lwt implements.\n",
    "\n",
    "Here is some example Lwt code that you can try out in utop:"
   ]
  },
  {
   "cell_type": "code",
   "execution_count": null,
   "id": "e13181ef",
   "metadata": {
    "tags": [
     "remove-cell"
    ]
   },
   "outputs": [],
   "source": [
    "#use \"topfind\";;"
   ]
  },
  {
   "cell_type": "code",
   "execution_count": null,
   "id": "0c722ac7",
   "metadata": {
    "tags": [
     "remove-output"
    ]
   },
   "outputs": [],
   "source": [
    "#require \"lwt\";;"
   ]
  },
  {
   "cell_type": "code",
   "execution_count": null,
   "id": "f0dcda28",
   "metadata": {},
   "outputs": [],
   "source": [
    "let p, r = Lwt.wait();;"
   ]
  },
  {
   "cell_type": "markdown",
   "id": "79a9000f",
   "metadata": {},
   "source": [
    "To avoid those weak type variables, we can provide a further hint to OCaml as to\n",
    "what type we want to eventually put into the promise. For example, if we wanted\n",
    "to have a promise that will eventually contain an `int`, we could write this\n",
    "code:"
   ]
  },
  {
   "cell_type": "code",
   "execution_count": null,
   "id": "5bf9a1e8",
   "metadata": {},
   "outputs": [],
   "source": [
    "let (p : int Lwt.t), r = Lwt.wait ()"
   ]
  },
  {
   "cell_type": "markdown",
   "id": "98d3d20c",
   "metadata": {},
   "source": [
    "Now we can resolve the promise:"
   ]
  },
  {
   "cell_type": "code",
   "execution_count": null,
   "id": "c04fe169",
   "metadata": {},
   "outputs": [],
   "source": [
    "Lwt.state p"
   ]
  },
  {
   "cell_type": "code",
   "execution_count": null,
   "id": "9b01c565",
   "metadata": {},
   "outputs": [],
   "source": [
    "Lwt.wakeup_later r 42"
   ]
  },
  {
   "cell_type": "code",
   "execution_count": null,
   "id": "32059ab7",
   "metadata": {},
   "outputs": [],
   "source": [
    "Lwt.state p;;"
   ]
  },
  {
   "cell_type": "code",
   "execution_count": null,
   "id": "30f6e7d0",
   "metadata": {
    "tags": [
     "raises-exception"
    ]
   },
   "outputs": [],
   "source": [
    "Lwt.wakeup_later r 42"
   ]
  },
  {
   "cell_type": "markdown",
   "id": "b6499161",
   "metadata": {},
   "source": [
    "That last exception was raised because we attempted to resolve the promise a\n",
    "second time, which is not permitted.\n",
    "\n",
    "To reject a promise, we can write similar code:"
   ]
  },
  {
   "cell_type": "code",
   "execution_count": null,
   "id": "f5807aae",
   "metadata": {},
   "outputs": [],
   "source": [
    "let (p : int Lwt.t), r = Lwt.wait ();;\n",
    "Lwt.wakeup_later_exn r (Failure \"nope\");;\n",
    "Lwt.state p;;"
   ]
  },
  {
   "cell_type": "markdown",
   "id": "4d3c1815",
   "metadata": {},
   "source": [
    "Note that nothing we have implemented so far does anything concurrently.\n",
    "The promise abstraction by itself is not inherently concurrent.  It's\n",
    "just a data structure that can be written at most once, and that provides\n",
    "a means to control who can write to it (through the resolver)."
   ]
  }
 ],
 "metadata": {
  "jupytext": {
   "cell_metadata_filter": "-all",
   "formats": "md:myst",
   "text_representation": {
    "extension": ".md",
    "format_name": "myst",
    "format_version": 0.13,
    "jupytext_version": "1.10.3"
   }
  },
  "kernelspec": {
   "display_name": "OCaml",
   "language": "OCaml",
   "name": "ocaml-jupyter"
  },
  "source_map": [
   14,
   21,
   53,
   58,
   61,
   68,
   70,
   83,
   91,
   95,
   99,
   104,
   133,
   146,
   171,
   180,
   185,
   190,
   192,
   198,
   200,
   204,
   207,
   210,
   213,
   216,
   223,
   227
  ]
 },
 "nbformat": 4,
 "nbformat_minor": 5
}