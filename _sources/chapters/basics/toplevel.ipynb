{
 "cells": [
  {
   "cell_type": "markdown",
   "id": "95b8415a",
   "metadata": {},
   "source": [
    "# The OCaml Toplevel\n",
    "\n",
    "{{ video_embed | replace(\"%%VID%%\", \"3fzrFY-2ZQ8\")}}\n",
    "\n",
    "The *toplevel* is like a calculator or command-line interface to OCaml. It's\n",
    "similar to JShell for Java, or the interactive Python interpreter. The toplevel\n",
    "is handy for trying out small pieces of code without going to the trouble of\n",
    "launching the OCaml compiler. But don't get too reliant on it, because creating,\n",
    "compiling, and testing large programs will require more powerful tools. Some\n",
    "other languages would call the toplevel a *REPL*, which stands for\n",
    "read-eval-print-loop: it reads programmer input, evaluates it, prints the\n",
    "result, and then repeats.\n",
    "\n",
    "In a terminal window, type `utop` to start the toplevel. Press Control-D to exit\n",
    "the toplevel. You can also enter `#quit;;` and press return. Note that you must\n",
    "type the `#` there: it is in addition to the `#` prompt you already see.\n",
    "\n",
    "\n",
    "## Types and values\n",
    "\n",
    "You can enter expressions into the OCaml toplevel. End an expression with a\n",
    "double semicolon `;;` and press the return key. OCaml will then evaluate the\n",
    "expression, tell you the resulting value, and the value's type. For example:\n",
    "\n",
    "```ocaml\n",
    "# 42;;\n",
    "- : int = 42\n",
    "```\n",
    "\n",
    "Let's dissect that response from utop, reading right to left:\n",
    "\n",
    "* `42` is the value.\n",
    "* `int` is the type of the value.\n",
    "* The value was not given a name, hence the symbol `-`.\n",
    "\n",
    "That utop interaction was \"hardcoded\" as part of this book. We had to type in\n",
    "all the characters: the `#`, the `-`, etc. But the infrastructure used to write\n",
    "this book actually enables us to write code that is evaluated by OCaml at the\n",
    "time the book is translated into HTML or PDF. From now on, that's usually what\n",
    "we will do.  It looks like this:"
   ]
  },
  {
   "cell_type": "code",
   "execution_count": null,
   "id": "234b0f2c",
   "metadata": {},
   "outputs": [],
   "source": [
    "42"
   ]
  },
  {
   "cell_type": "markdown",
   "id": "309c2418",
   "metadata": {},
   "source": [
    "The first code block with the `42` in it is the code we asked OCaml to run. If\n",
    "you want to enter that into utop, you can copy and paste it. There's an icon in\n",
    "the top right of the block to do that easily. Just remember to add the double\n",
    "semicolon at the end. The second code block, which is indented a little, is the\n",
    "output from OCaml as the book was being translated.\n",
    "\n",
    "```{tip}\n",
    "If you're viewing this in a web browser, look to the top right for a download\n",
    "icon. Choose the `.md` option, and you'll see the original\n",
    "[MyST Markdown][myst] source code for this page of the book. You'll see that the\n",
    "output from the second example above is not actually present in the source code.\n",
    "That's good! It means that the output stays consistent with whatever current\n",
    "version of the OCaml compiler we use to build the book. It also means that any\n",
    "compilation errors can be detected as part of building the book, instead of\n",
    "lurking for you, dear reader, to find them.\n",
    "```\n",
    "\n",
    "[myst]: https://myst-parser.readthedocs.io/en/latest/\n",
    "\n",
    "{{ video_embed | replace(\"%%VID%%\", \"eRnG4gwOTlI\")}}\n",
    "\n",
    "You can bind values to names with a `let` definition, as follows:"
   ]
  },
  {
   "cell_type": "code",
   "execution_count": null,
   "id": "59bf913a",
   "metadata": {},
   "outputs": [],
   "source": [
    "let x = 42"
   ]
  },
  {
   "cell_type": "markdown",
   "id": "1b83315c",
   "metadata": {},
   "source": [
    "Again, let's dissect that response, this time reading left to right:\n",
    "\n",
    "* A value was bound to a name, hence the `val` keyword.\n",
    "* `x` is the name to which the value was bound.\n",
    "* `int` is the type of the value.\n",
    "* `42` is the value.\n",
    "\n",
    "You can pronounce the entire output as \"`x` has type `int` and equals `42`.\"\n",
    "\n",
    "## Functions\n",
    "\n",
    "A function can be defined at the toplevel using syntax like this:"
   ]
  },
  {
   "cell_type": "code",
   "execution_count": null,
   "id": "a070b0bc",
   "metadata": {},
   "outputs": [],
   "source": [
    "let increment x = x + 1"
   ]
  },
  {
   "cell_type": "markdown",
   "id": "52ecbf4c",
   "metadata": {},
   "source": [
    "Let's dissect that response:\n",
    "\n",
    "* `increment` is the identifier to which the value was bound.\n",
    "* `int -> int` is the type of the value. This is the type of functions that take\n",
    "  an `int` as input and produce an `int` as output. Think of the arrow `->` as a\n",
    "  kind of visual metaphor for the transformation of one value into another\n",
    "  value&mdash;which is what functions do.\n",
    "* The value is a function, which the toplevel chooses not to print (because it\n",
    "  has now been compiled and has a representation in memory that isn't easily\n",
    "  amenable to pretty printing). Instead, the toplevel prints `<fun>`, which is\n",
    "  just a placeholder.\n",
    "\n",
    "```{note}\n",
    "`<fun>` itself is not a value. It just indicates an unprintable function value.\n",
    "```\n",
    "\n",
    "You can \"call\" functions with syntax like this:"
   ]
  },
  {
   "cell_type": "code",
   "execution_count": null,
   "id": "01ee2755",
   "metadata": {},
   "outputs": [],
   "source": [
    "increment 0"
   ]
  },
  {
   "cell_type": "code",
   "execution_count": null,
   "id": "ca492415",
   "metadata": {},
   "outputs": [],
   "source": [
    "increment(21)"
   ]
  },
  {
   "cell_type": "code",
   "execution_count": null,
   "id": "50c2ccbc",
   "metadata": {},
   "outputs": [],
   "source": [
    "increment (increment 5)"
   ]
  },
  {
   "cell_type": "markdown",
   "id": "257d357e",
   "metadata": {},
   "source": [
    "But in OCaml the usual vocabulary is that we \"apply\" the function rather than\n",
    "\"call\" it.\n",
    "\n",
    "Note how OCaml is flexible about whether you write the parentheses or not, and\n",
    "whether you write whitespace or not. One of the challenges of first learning\n",
    "OCaml can be figuring out when parentheses are actually required. So if you find\n",
    "yourself having problems with syntax errors, one strategy is to try adding some\n",
    "parentheses. The preferred style, though, is usually to omit parentheses when\n",
    "they are not needed. So, `increment 21` is better than `increment(21)`.\n",
    "\n",
    "## Loading code in the toplevel\n",
    "\n",
    "In addition to allowing you to define functions, the toplevel will also accept\n",
    "*directives* that are not OCaml code but rather tell the toplevel itself to do\n",
    "something. All directives begin with the `#` character. Perhaps the most common\n",
    "directive is `#use`, which loads all the code from a file into the toplevel,\n",
    "just as if you had typed the code from that file into the toplevel.\n",
    "\n",
    "For example, suppose you create a file named `mycode.ml`. In that file put the\n",
    "following code:\n",
    "\n",
    "```ocaml\n",
    "let inc x = x + 1\n",
    "```\n",
    "\n",
    "Start the toplevel. Try entering the following expression, and observe the\n",
    "error:"
   ]
  },
  {
   "cell_type": "code",
   "execution_count": null,
   "id": "f992368a",
   "metadata": {
    "tags": [
     "raises-exception"
    ]
   },
   "outputs": [],
   "source": [
    "inc 3"
   ]
  },
  {
   "cell_type": "markdown",
   "id": "17444ea3",
   "metadata": {},
   "source": [
    "The error occurs because the toplevel does not yet know anything about a\n",
    "function named `inc`. Now issue the following directive to the toplevel:\n",
    "\n",
    "```ocaml\n",
    "# #use \"mycode.ml\";;\n",
    "```\n",
    "\n",
    "Note that the first `#` character above indicates the toplevel prompt to you.\n",
    "The second `#` character is one that you type to tell the toplevel that you are\n",
    "issuing a directive. Without that character, the toplevel would think that you\n",
    "are trying to apply a function named `use`.\n",
    "\n",
    "Now try again:"
   ]
  },
  {
   "cell_type": "code",
   "execution_count": null,
   "id": "b5986598",
   "metadata": {
    "tags": [
     "remove-cell"
    ]
   },
   "outputs": [],
   "source": [
    "let inc x = x + 1"
   ]
  },
  {
   "cell_type": "code",
   "execution_count": null,
   "id": "f789a3f0",
   "metadata": {},
   "outputs": [],
   "source": [
    "inc 3"
   ]
  },
  {
   "cell_type": "markdown",
   "id": "bbd93ec5",
   "metadata": {},
   "source": [
    "## Workflow in the toplevel\n",
    "\n",
    "The best workflow when using the toplevel with code stored in files is:\n",
    "\n",
    "* Edit the code in the file.\n",
    "* Load the code in the toplevel with `#use`.\n",
    "* Interactively test the code.\n",
    "* Exit the toplevel.  **Warning:** do not skip this step.\n",
    "\n",
    "```{tip}\n",
    "Suppose you wanted to fix a bug in your code. It's tempting to not exit the\n",
    "toplevel, edit the file, and re-issue the `#use` directive into the same\n",
    "toplevel session. Resist that temptation. The \"stale code\" that was loaded from\n",
    "an earlier `#use` directive in the same session can cause surprising things to\n",
    "happen&mdash;surprising when you're first learning the language, anyway. So\n",
    "**always exit the toplevel before re-using a file.**\n",
    "```"
   ]
  }
 ],
 "metadata": {
  "jupytext": {
   "cell_metadata_filter": "-all",
   "formats": "md:myst",
   "text_representation": {
    "extension": ".md",
    "format_name": "myst",
    "format_version": 0.13,
    "jupytext_version": "1.10.3"
   }
  },
  "kernelspec": {
   "display_name": "OCaml",
   "language": "OCaml",
   "name": "ocaml-jupyter"
  },
  "source_map": [
   14,
   57,
   59,
   84,
   86,
   101,
   103,
   123,
   127,
   131,
   133,
   163,
   166,
   182,
   187,
   189
  ]
 },
 "nbformat": 4,
 "nbformat_minor": 5
}