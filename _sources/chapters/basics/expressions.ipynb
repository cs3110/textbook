{
 "cells": [
  {
   "cell_type": "markdown",
   "id": "7a1578c9",
   "metadata": {},
   "source": [
    "# Expressions\n",
    "\n",
    "The primary piece of OCaml syntax is the *expression*. Just like programs in\n",
    "imperative languages are primarily built out of *commands*, programs in\n",
    "functional languages are primarily built out of expressions. Examples of\n",
    "expressions include `2+2` and `increment 21`.\n",
    "\n",
    "The OCaml manual has a complete definition of [all the expressions in the\n",
    "language][exprs]. Though that page starts with a rather cryptic overview, if you\n",
    "scroll down, you'll come to some English explanations. Don't worry about\n",
    "studying that page now; just know that it's available for reference.\n",
    "\n",
    "[exprs]:  https://ocaml.org/manual/expr.html\n",
    "\n",
    "The primary task of computation in a functional language is to *evaluate* an\n",
    "expression to a *value*. A value is an expression for which there is no\n",
    "computation remaining to be performed. So, all values are expressions, but not\n",
    "all expressions are values. Examples of values include `2`, `true`, and\n",
    "`\"yay!\"`.\n",
    "\n",
    "The OCaml manual also has a definition of [all the values][values], though\n",
    "again, that page is mostly useful for reference rather than study.\n",
    "\n",
    "[values]: https://ocaml.org/manual/values.html\n",
    "\n",
    "Sometimes an expression might fail to evaluate to a value. There are two reasons\n",
    "that might happen:\n",
    "\n",
    "1. Evaluation of the expression raises an exception.\n",
    "2. Evaluation of the expression never terminates (e.g., it enters an \"infinite\n",
    "   loop\").\n",
    "\n",
    "## Primitive Types and Values\n",
    "\n",
    "The *primitive* types are the built-in and most basic types: integers,\n",
    "floating-point numbers, characters, strings, and booleans. They will be\n",
    "recognizable as similar to primitive types from other programming languages.\n",
    "\n",
    "**Type `int`: Integers.** OCaml integers are written as usual: `1`, `2`, etc.\n",
    "The usual operators are available: `+`, `-`, `*`, `/`, and `mod`. The latter\n",
    "two are integer division and modulus:"
   ]
  },
  {
   "cell_type": "code",
   "execution_count": null,
   "id": "11f1ae40",
   "metadata": {},
   "outputs": [],
   "source": [
    "65 / 60"
   ]
  },
  {
   "cell_type": "code",
   "execution_count": null,
   "id": "ed09e5ad",
   "metadata": {},
   "outputs": [],
   "source": [
    "65 mod 60"
   ]
  },
  {
   "cell_type": "code",
   "execution_count": null,
   "id": "a82678df",
   "metadata": {
    "tags": [
     "raises-exception"
    ]
   },
   "outputs": [],
   "source": [
    "65 / 0"
   ]
  },
  {
   "cell_type": "markdown",
   "id": "ae7c3781",
   "metadata": {},
   "source": [
    "OCaml integers range from $-2^{62}$ to $2^{62}-1$ on modern platforms. They are\n",
    "implemented with 64-bit machine *words*, which is the size of a register on\n",
    "64-bit processor. But one of those bits is \"stolen\" by the OCaml implementation,\n",
    "leading to a 63-bit representation. That bit is used at run time to distinguish\n",
    "integers from pointers. For applications that need true 64-bit integers, there\n",
    "is an [`Int64` module][int64] in the standard library. And for applications that\n",
    "need arbitrary-precision integers, there is a separate [`Zarith`][zarith]\n",
    "library. But for most purposes, the built-in `int` type suffices and offers the\n",
    "best performance.\n",
    "\n",
    "[int64]: https://ocaml.org/api/Int64.html\n",
    "[zarith]: https://github.com/ocaml/Zarith\n",
    "\n",
    "**Type `float`: Floating-point numbers.** OCaml floats are [IEEE 754\n",
    "double-precision floating-point numbers][binary64]. Syntactically, they must\n",
    "always contain a dot&mdash;for example, `3.14` or `3.0` or even `3.`.  The last\n",
    "is a `float`; if you write it as `3`, it is instead an `int`:"
   ]
  },
  {
   "cell_type": "code",
   "execution_count": null,
   "id": "dbcbf4d2",
   "metadata": {},
   "outputs": [],
   "source": [
    "3."
   ]
  },
  {
   "cell_type": "code",
   "execution_count": null,
   "id": "c020ab43",
   "metadata": {},
   "outputs": [],
   "source": [
    "3"
   ]
  },
  {
   "cell_type": "markdown",
   "id": "e7dfd833",
   "metadata": {},
   "source": [
    "OCaml deliberately does not support operator overloading, Arithmetic operations\n",
    "on floats are written with a dot after them. For example, floating-point\n",
    "multiplication is written `*.` not `*`:"
   ]
  },
  {
   "cell_type": "code",
   "execution_count": null,
   "id": "99dc6bc2",
   "metadata": {},
   "outputs": [],
   "source": [
    "3.14 *. 2."
   ]
  },
  {
   "cell_type": "code",
   "execution_count": null,
   "id": "31de02d1",
   "metadata": {
    "tags": [
     "raises-exception"
    ]
   },
   "outputs": [],
   "source": [
    "3.14 * 2."
   ]
  },
  {
   "cell_type": "markdown",
   "id": "1ed3d339",
   "metadata": {},
   "source": [
    "OCaml will not automatically convert between `int` and `float`. If you want to\n",
    "convert, there are two built-in functions for that purpose: `int_of_float` and\n",
    "`float_of_int`."
   ]
  },
  {
   "cell_type": "code",
   "execution_count": null,
   "id": "f7c55046",
   "metadata": {},
   "outputs": [],
   "source": [
    "3.14 *. (float_of_int 2)"
   ]
  },
  {
   "cell_type": "markdown",
   "id": "a26fa1c5",
   "metadata": {},
   "source": [
    "As in any language, the floating-point representation is approximate. That can\n",
    "lead to rounding errors:"
   ]
  },
  {
   "cell_type": "code",
   "execution_count": null,
   "id": "71b29a73",
   "metadata": {},
   "outputs": [],
   "source": [
    "0.1 +. 0.2"
   ]
  },
  {
   "cell_type": "markdown",
   "id": "0f8abc36",
   "metadata": {},
   "source": [
    "The same behavior can be observed in Python and Java, too.  If you haven't\n",
    "encountered this phenomenon before, here's a [basic guide to floating-point\n",
    "representation][fp-guide] that you might enjoy reading.\n",
    "\n",
    "[binary64]: https://en.wikipedia.org/wiki/Double-precision_floating-point_format\n",
    "[fp-guide]: https://floating-point-gui.de/basic/\n",
    "\n",
    "**Type `bool`: Booleans.** The boolean values are written `true` and `false`.\n",
    "The usual short-circuit conjunction `&&` and disjunction `||` operators are\n",
    "available.\n",
    "\n",
    "**Type `char`: Characters.** Characters are written with single quotes, such as\n",
    "`'a'`, `'b'`, and `'c'`. They are represented as bytes &mdash;that is, 8-bit\n",
    "integers&mdash; in the ISO 8859-1 \"Latin-1\" encoding. The first half of the\n",
    "characters in that range are the standard ASCII characters. You can convert\n",
    "characters to and from integers with `char_of_int` and `int_of_char`.\n",
    "\n",
    "**Type `string`: Strings.** Strings are sequences of characters. They are\n",
    "written with double quotes, such as `\"abc\"`.  The string concatenation operator\n",
    "is `^`:"
   ]
  },
  {
   "cell_type": "code",
   "execution_count": null,
   "id": "7cddeeb9",
   "metadata": {},
   "outputs": [],
   "source": [
    "\"abc\" ^ \"def\""
   ]
  },
  {
   "cell_type": "markdown",
   "id": "2e04ec87",
   "metadata": {},
   "source": [
    "Object-oriented languages often provide an overridable method for converting\n",
    "objects to strings, such as `toString()` in Java or `__str__()` in Python. But\n",
    "most OCaml values are not objects, so another means is required to convert to\n",
    "strings. For three of the primitive types, there are built-in functions:\n",
    "`string_of_int`, `string_of_float`, `string_of_bool`.  Strangely,\n",
    "there is no `string_of_char`, but the library function `String.make` can\n",
    "be used to accomplish the same goal."
   ]
  },
  {
   "cell_type": "code",
   "execution_count": null,
   "id": "ef46f65f",
   "metadata": {},
   "outputs": [],
   "source": [
    "string_of_int 42"
   ]
  },
  {
   "cell_type": "code",
   "execution_count": null,
   "id": "ea986728",
   "metadata": {},
   "outputs": [],
   "source": [
    "String.make 1 'z'"
   ]
  },
  {
   "cell_type": "markdown",
   "id": "c25358ad",
   "metadata": {},
   "source": [
    "Likewise, for the same three primitive types, there are built-in functions to\n",
    "convert from a string if possible: `int_of_string`, `float_of_string`, and\n",
    "`bool_of_string`."
   ]
  },
  {
   "cell_type": "code",
   "execution_count": null,
   "id": "8d3b6ce0",
   "metadata": {},
   "outputs": [],
   "source": [
    "int_of_string \"123\""
   ]
  },
  {
   "cell_type": "code",
   "execution_count": null,
   "id": "e323a3f9",
   "metadata": {
    "tags": [
     "raises-exception"
    ]
   },
   "outputs": [],
   "source": [
    "int_of_string \"not an int\""
   ]
  },
  {
   "cell_type": "markdown",
   "id": "ef07b84b",
   "metadata": {},
   "source": [
    "There is no `char_of_string`, but the individual characters of a string can be\n",
    "accessed by a 0-based index. The indexing operator is written with a dot and\n",
    "square brackets:"
   ]
  },
  {
   "cell_type": "code",
   "execution_count": null,
   "id": "9bdb3fd5",
   "metadata": {},
   "outputs": [],
   "source": [
    "\"abc\".[0]"
   ]
  },
  {
   "cell_type": "code",
   "execution_count": null,
   "id": "828d79f1",
   "metadata": {},
   "outputs": [],
   "source": [
    "\"abc\".[1]"
   ]
  },
  {
   "cell_type": "code",
   "execution_count": null,
   "id": "ca92e2e4",
   "metadata": {
    "tags": [
     "raises-exception"
    ]
   },
   "outputs": [],
   "source": [
    "\"abc\".[3]"
   ]
  },
  {
   "cell_type": "markdown",
   "id": "26e79321",
   "metadata": {},
   "source": [
    "## More Operators\n",
    "\n",
    "We've covered most of the built-in operators above, but there are a few more\n",
    "that you can see in the [OCaml manual][ops].\n",
    "\n",
    "There are two equality operators in OCaml, `=` and `==`, with corresponding\n",
    "inequality operators `<>` and `!=`. Operators `=` and `<>` examine *structural*\n",
    "equality whereas `==` and `!=` examine *physical* equality. Until we've studied\n",
    "the imperative features of OCaml, the difference between them will be tricky to\n",
    "explain. See the [documentation][stdlib] of `Stdlib.(==)` if you're curious now.\n",
    "\n",
    "```{important}\n",
    "Start training yourself now to use `=` and not to use `==`. This will be\n",
    "difficult if you're coming from a language like Java where `==` is the usual\n",
    "equality operator.\n",
    "```\n",
    "\n",
    "[ops]: https://ocaml.org/manual/expr.html#ss%3Aexpr-operators\n",
    "[stdlib]: https://ocaml.org/api/Stdlib.html\n",
    "\n",
    "## Assertions\n",
    "\n",
    "The expression `assert e` evaluates `e`. If the result is `true`, nothing more\n",
    "happens, and the entire expression evaluates to a special value called *unit*.\n",
    "The unit value is written `()` and its type is `unit`. But if the result is\n",
    "`false`, an exception is raised.\n",
    "\n",
    "One way to test a function `f` is to write a series of assertions like this:\n",
    "\n",
    "```ocaml\n",
    "let () = assert (f input1 = output1)\n",
    "let () = assert (f input2 = output2)\n",
    "let () = assert (f input3 = output3)\n",
    "```\n",
    "\n",
    "Those assert that `f input1` should be `output1`, and so forth. The\n",
    "`let () = ...` part of those is used to handle the unit value returned by each\n",
    "assertion.\n",
    "\n",
    "## If Expressions\n",
    "\n",
    "{{ video_embed | replace(\"%%VID%%\", \"XJ6QPtlPD7s\")}}\n",
    "\n",
    "The expression `if e1 then e2 else e3` evaluates to `e2` if `e1` evaluates to\n",
    "`true`, and to `e3` otherwise. We call `e1` the *guard* of the `if` expression."
   ]
  },
  {
   "cell_type": "code",
   "execution_count": null,
   "id": "0626ce33",
   "metadata": {},
   "outputs": [],
   "source": [
    "if 3 + 5 > 2 then \"yay!\" else \"boo!\""
   ]
  },
  {
   "cell_type": "markdown",
   "id": "ed26b7a1",
   "metadata": {},
   "source": [
    "Unlike `if-then-else` *statements* that you may have used in imperative\n",
    "languages, `if-then-else` *expressions* in OCaml are just like any other\n",
    "expression; they can be put anywhere an expression can go. That makes them\n",
    "similar to the ternary operator `? :` that you might have used in other\n",
    "languages."
   ]
  },
  {
   "cell_type": "code",
   "execution_count": null,
   "id": "e4a81dd3",
   "metadata": {},
   "outputs": [],
   "source": [
    "4 + (if 'a' = 'b' then 1 else 2)"
   ]
  },
  {
   "cell_type": "markdown",
   "id": "ccf1131c",
   "metadata": {},
   "source": [
    "`If` expressions can be nested in a pleasant way:\n",
    "\n",
    "```ocaml\n",
    "if e1 then e2\n",
    "else if e3 then e4\n",
    "else if e5 then e6\n",
    "...\n",
    "else en\n",
    "```\n",
    "\n",
    "You should regard the final `else` as mandatory, regardless of whether you are\n",
    "writing a single `if` expression or a highly nested `if` expression. If you\n",
    "omit it you'll likely get an error message that, for now, is inscrutable:"
   ]
  },
  {
   "cell_type": "code",
   "execution_count": null,
   "id": "4c908c15",
   "metadata": {
    "tags": [
     "raises-exception"
    ]
   },
   "outputs": [],
   "source": [
    "if 2 > 3 then 5"
   ]
  },
  {
   "cell_type": "markdown",
   "id": "3e812dbc",
   "metadata": {},
   "source": [
    "**Syntax.** The syntax of an `if` expression:\n",
    "\n",
    "```ocaml\n",
    "if e1 then e2 else e3\n",
    "```\n",
    "\n",
    "The letter `e` is used here to represent any other OCaml expression; it's an\n",
    "example of a *syntactic variable* aka *metavariable*, which is not actually a\n",
    "variable in the OCaml language itself, but instead a name for a certain\n",
    "syntactic construct. The numbers after the letter `e` are being used to\n",
    "distinguish the three different occurrences of it.\n",
    "\n",
    "**Dynamic semantics.** The dynamic semantics of an `if` expression:\n",
    "\n",
    "* If `e1` evaluates to `true`, and if `e2` evaluates to a value `v`, then\n",
    "  `if e1 then e2 else e3` evaluates to `v`\n",
    "\n",
    "* If `e1` evaluates to `false`, and if `e3` evaluates to a value `v`, then\n",
    "  `if e1 then e2 else e3` evaluates to `v`.\n",
    "\n",
    "We call these *evaluation rules*: they define how to evaluate expressions. Note\n",
    "how it takes two rules to describe the evaluation of an `if` expression, one for\n",
    "when the guard is true, and one for when the guard is false. The letter `v` is\n",
    "used here to represent any OCaml value; it's another example of a metavariable.\n",
    "Later we will develop a more mathematical way of expressing dynamic semantics,\n",
    "but for now we'll stick with this more informal style of explanation.\n",
    "\n",
    "**Static semantics.** The static semantics of an `if` expression:\n",
    "\n",
    "* If `e1` has type `bool` and `e2` has type `t` and `e3` has type `t` then\n",
    "  `if e1 then e2 else e3` has type `t`\n",
    "\n",
    "We call this a *typing rule*: it describes how to type check an expression. Note\n",
    "how it only takes one rule to describe the type checking of an `if` expression.\n",
    "At compile time, when type checking is done, it makes no difference whether the\n",
    "guard is true or false; in fact, there's no way for the compiler to know what\n",
    "value the guard will have at run time. The letter `t` here is used to represent\n",
    "any OCaml type; the OCaml manual also has definition of [all types][types]\n",
    "(which curiously does not name the base types of the language like `int` and\n",
    "`bool`).\n",
    "\n",
    "[types]: https://ocaml.org/manual/types.html\n",
    "\n",
    "We're going to be writing \"has type\" a lot, so let's introduce a more compact\n",
    "notation for it. Whenever we would write \"`e` has type `t`\", let's instead write\n",
    "`e : t`. The colon is pronounced \"has type\". This usage of colon is consistent\n",
    "with how the toplevel responds after it evaluates an expression that you enter:"
   ]
  },
  {
   "cell_type": "code",
   "execution_count": null,
   "id": "679f60a3",
   "metadata": {},
   "outputs": [],
   "source": [
    "let x = 42"
   ]
  },
  {
   "cell_type": "markdown",
   "id": "b71b466e",
   "metadata": {},
   "source": [
    "In the above example, variable `x` has type `int`, which is what the colon\n",
    "indicates.\n",
    "\n",
    "## Let Expressions\n",
    "\n",
    "{{ video_embed | replace(\"%%VID%%\", \"ug3L97FXC6A\")}}\n",
    "\n",
    "In our use of the word `let` thus far, we've been making definitions in the\n",
    "toplevel and in `.ml` files. For example,"
   ]
  },
  {
   "cell_type": "code",
   "execution_count": null,
   "id": "a7ba59a1",
   "metadata": {},
   "outputs": [],
   "source": [
    "let x = 42;;"
   ]
  },
  {
   "cell_type": "markdown",
   "id": "43c42ffc",
   "metadata": {},
   "source": [
    "defines `x` to be 42, after which we can use `x` in future definitions at the\n",
    "toplevel. We'll call this use of `let` a *let definition*.\n",
    "\n",
    "There's another use of `let` which is as an expression:"
   ]
  },
  {
   "cell_type": "code",
   "execution_count": null,
   "id": "2d43f363",
   "metadata": {},
   "outputs": [],
   "source": [
    "let x = 42 in x + 1"
   ]
  },
  {
   "cell_type": "markdown",
   "id": "38b7ee46",
   "metadata": {},
   "source": [
    "Here we're *binding* a value to the name `x` then using that binding inside\n",
    "another expression, `x+1`. We'll call this use of `let` a *let expression*.\n",
    "Since it's an expression, it evaluates to a value. That's different than\n",
    "definitions, which themselves do not evaluate to any value. You can see that if\n",
    "you try putting a let definition in place of where an expression is expected:"
   ]
  },
  {
   "cell_type": "code",
   "execution_count": null,
   "id": "4a9667cb",
   "metadata": {
    "tags": [
     "raises-exception"
    ]
   },
   "outputs": [],
   "source": [
    "(let x = 42) + 1"
   ]
  },
  {
   "cell_type": "markdown",
   "id": "83d181ba",
   "metadata": {},
   "source": [
    "Syntactically, a `let` definition is not permitted on the left-hand side of the\n",
    "`+` operator, because a value is needed there, and definitions do not evaluate\n",
    "to values. On the other hand, a `let` expression would work fine:"
   ]
  },
  {
   "cell_type": "code",
   "execution_count": null,
   "id": "2ed99adc",
   "metadata": {},
   "outputs": [],
   "source": [
    "(let x = 42 in x) + 1"
   ]
  },
  {
   "cell_type": "markdown",
   "id": "1ed2c33d",
   "metadata": {},
   "source": [
    "Another way to understand let definitions at the toplevel is that they are like\n",
    "let expression where we just haven't provided the body expression yet.\n",
    "Implicitly, that body expression is whatever else we type in the future. For\n",
    "example,\n",
    "```ocaml\n",
    "# let a = \"big\";;\n",
    "# let b = \"red\";;\n",
    "# let c = a ^ b;;\n",
    "# ...\n",
    "```\n",
    "is understood by OCaml in the same way as\n",
    "```ocaml\n",
    "let a = \"big\" in\n",
    "let b = \"red\" in\n",
    "let c = a ^ b in\n",
    "...\n",
    "```\n",
    "That latter series of `let` bindings is idiomatically how several variables\n",
    "can be bound inside a given block of code.\n",
    "\n",
    "**Syntax.**\n",
    "\n",
    "```ocaml\n",
    "let x = e1 in e2\n",
    "```\n",
    "\n",
    "As usual, `x` is an identifier. These identifiers must begin with lower-case,\n",
    "not upper, and idiomatically are written with `snake_case` not `camelCase`. We\n",
    "call `e1` the *binding expression*, because it's what's being bound to `x`; and\n",
    "we call `e2` the *body expression*, because that's the body of code in which the\n",
    "binding will be in scope.\n",
    "\n",
    "**Dynamic semantics.**\n",
    "\n",
    "To evaluate `let x = e1 in e2`:\n",
    "\n",
    "* Evaluate `e1` to a value `v1`.\n",
    "\n",
    "* Substitute `v1` for `x` in `e2`, yielding a new expression `e2'`.\n",
    "\n",
    "* Evaluate `e2'` to a value `v2`.\n",
    "\n",
    "* The result of evaluating the let expression is `v2`.\n",
    "\n",
    "Here's an example:\n",
    "```text\n",
    "    let x = 1 + 4 in x * 3\n",
    "-->   (evaluate e1 to a value v1)\n",
    "    let x = 5 in x * 3\n",
    "-->   (substitute v1 for x in e2, yielding e2')\n",
    "    5 * 3\n",
    "-->   (evaluate e2' to v2)\n",
    "    15\n",
    "      (result of evaluation is v2)\n",
    "```\n",
    "\n",
    "**Static semantics.**\n",
    "\n",
    "* If `e1 : t1` and if under the assumption that `x : t1` it holds that\n",
    "  `e2 : t2`, then `(let x = e1 in e2) : t2`.\n",
    "\n",
    "We use the parentheses above just for clarity. As usual, the compiler's type\n",
    "inferencer determines what the type of the variable is, or the programmer could\n",
    "explicitly annotate it with this syntax:\n",
    "```ocaml\n",
    "let x : t = e1 in e2\n",
    "```\n",
    "\n",
    "## Scope\n",
    "\n",
    "{{ video_embed | replace(\"%%VID%%\", \"_TpTC6eo34M\")}}\n",
    "\n",
    "`Let` bindings are in effect only in the block of code in which they occur. This\n",
    "is exactly what you're used to from nearly any modern programming language. For\n",
    "example:\n",
    "```ocaml\n",
    "let x = 42 in\n",
    "  (* y is not meaningful here *)\n",
    "  x + (let y = \"3110\" in\n",
    "         (* y is meaningful here *)\n",
    "         int_of_string y)\n",
    "```\n",
    "The *scope* of a variable is where its name is meaningful. Variable `y` is in\n",
    "scope only inside of the `let` expression that binds it above.\n",
    "\n",
    "It's possible to have overlapping bindings of the same name. For example:\n",
    "```ocaml\n",
    "let x = 5 in\n",
    "  ((let x = 6 in x) + x)\n",
    "```\n",
    "But this is darn confusing, and for that reason, it is strongly discouraged\n",
    "style.\n",
    "Nonetheless, let's consider what that code means.\n",
    "\n",
    "To what value does that code evaluate? The answer comes down to how `x` is\n",
    "replaced by a value each time it occurs. Here are a few possibilities for such\n",
    "*substitution*:\n",
    "```ocaml\n",
    "(* possibility 1 *)\n",
    "let x = 5 in\n",
    "  ((let x = 6 in 6) + 5)\n",
    "\n",
    "(* possibility 2 *)\n",
    "let x = 5 in\n",
    "  ((let x = 6 in 5) + 5)\n",
    "\n",
    "(* possibility 3 *)\n",
    "let x = 5 in\n",
    "  ((let x = 6 in 6) + 6)\n",
    "```\n",
    "The first one is what nearly any reasonable language would do. And most likely\n",
    "it's what you would guess But, **why?**\n",
    "\n",
    "The answer is something we'll call the *Principle of Name Irrelevance*: the name\n",
    "of a variable shouldn't intrinsically matter. You're used to this from math. For\n",
    "example, the following two functions are the same:\n",
    "\n",
    "\\begin{align*}\n",
    "f(x) &= x^2 \\\\\n",
    "f(y) &= y^2\n",
    "\\end{align*}\n",
    "\n",
    "It doesn't intrinsically matter whether we call the argument to the function\n",
    "$x$ or $y$; either way, it's still the squaring function.\n",
    "Therefore, in programs, these two functions should be identical:\n",
    "```ocaml\n",
    "let f x = x * x\n",
    "let f y = y * y\n",
    "```\n",
    "This principle is more commonly known as *alpha equivalence*: the two functions\n",
    "are equivalent up to renaming of variables, which is also called *alpha\n",
    "conversion* for historical reasons that are unimportant here.\n",
    "\n",
    "According to the Principle of Name Irrelevance, these two expressions should be\n",
    "identical:\n",
    "```ocaml\n",
    "let x = 6 in x\n",
    "let y = 6 in y\n",
    "```\n",
    "Therefore, the following two expressions, which have the above expressions\n",
    "embedded in them, should also be identical:\n",
    "```ocaml\n",
    "let x = 5 in (let x = 6 in x) + x\n",
    "let x = 5 in (let y = 6 in y) + x\n",
    "```\n",
    "But for those to be identical, we **must** choose the first of the three\n",
    "possibilities above. It is the only one that makes the name of the variable be\n",
    "irrelevant.\n",
    "\n",
    "There is a term commonly used for this phenomenon: a new binding of a variable\n",
    "*shadows* any old binding of the variable name. Metaphorically, it's as if the\n",
    "new binding temporarily casts a shadow over the old binding. But eventually the\n",
    "old binding could reappear as the shadow recedes.\n",
    "\n",
    "{{ video_embed | replace(\"%%VID%%\", \"4SqMkUwakEA\")}}\n",
    "\n",
    "Shadowing is not mutable assignment. For example, both of the following\n",
    "expressions evaluate to 11:\n",
    "```ocaml\n",
    "let x = 5 in ((let x = 6 in x) + x)\n",
    "let x = 5 in (x + (let x = 6 in x))\n",
    "```\n",
    "Likewise, the following utop transcript is not mutable assignment, though at\n",
    "first it could seem like it is:\n",
    "```ocaml\n",
    "# let x = 42;;\n",
    "val x : int = 42\n",
    "# let x = 22;;\n",
    "val x : int = 22\n",
    "```\n",
    "\n",
    "Recall that every `let` definition in the toplevel is effectively a nested `let`\n",
    "expression. So the above is effectively the following:\n",
    "```ocaml\n",
    "let x = 42 in\n",
    "  let x = 22 in\n",
    "    ... (* whatever else is typed in the toplevel *)\n",
    "```\n",
    "The right way to think about this is that the second `let` binds an entirely new\n",
    "variable that just happens to have the same name as the first `let`.\n",
    "\n",
    "Here is another utop transcript that is well worth studying:\n",
    "```ocaml\n",
    "# let x = 42;;\n",
    "val x : int = 42\n",
    "# let f y = x + y;;\n",
    "val f : int -> int = <fun>\n",
    "# f 0;;\n",
    ": int = 42\n",
    "# let x = 22;;\n",
    "val x : int = 22\n",
    "# f 0;;\n",
    "- : int = 42  (* x did not mutate! *)\n",
    "```\n",
    "\n",
    "To summarize, each let definition binds an entirely new variable. If that new\n",
    "variable happens to have the same name as an old variable, the new variable\n",
    "temporarily shadows the old one. But the old variable is still around, and its\n",
    "value is immutable: it never, ever changes. So even though `let` expressions\n",
    "might superficially look like assignment statements from imperative languages,\n",
    "they are actually quite different.\n",
    "\n",
    "## Type Annotations\n",
    "\n",
    "OCaml automatically infers the type of every expression, with no need for the\n",
    "programmer to write it manually. Nonetheless, it can sometimes be useful to\n",
    "manually specify the desired type of an expression. A *type annotation* does\n",
    "that:"
   ]
  },
  {
   "cell_type": "code",
   "execution_count": null,
   "id": "af341114",
   "metadata": {},
   "outputs": [],
   "source": [
    "(5 : int)"
   ]
  },
  {
   "cell_type": "markdown",
   "id": "d4b859e7",
   "metadata": {},
   "source": [
    "An incorrect annotation will produce a compile-time error:"
   ]
  },
  {
   "cell_type": "code",
   "execution_count": null,
   "id": "a83d858d",
   "metadata": {
    "tags": [
     "raises-exception"
    ]
   },
   "outputs": [],
   "source": [
    "(5 : float)"
   ]
  },
  {
   "cell_type": "markdown",
   "id": "6ba9f215",
   "metadata": {},
   "source": [
    "And that example shows why you might use manual type annotations during\n",
    "debugging.  Perhaps you had forgotten that `5` cannot be treated as a `float`,\n",
    "and you tried to write:\n",
    "\n",
    "```ocaml\n",
    "5 +. 1.1\n",
    "```\n",
    "\n",
    "You might try manually specifying that `5` was supposed to be a `float`:"
   ]
  },
  {
   "cell_type": "code",
   "execution_count": null,
   "id": "b9180d84",
   "metadata": {
    "tags": [
     "raises-exception"
    ]
   },
   "outputs": [],
   "source": [
    "(5 : float) +. 1.1"
   ]
  },
  {
   "cell_type": "markdown",
   "id": "dab7021f",
   "metadata": {},
   "source": [
    "It's clear that the type annotation has failed. Although that might seem silly\n",
    "for this tiny program, you might find this technique to be effective as programs\n",
    "get larger.\n",
    "\n",
    "```{important}\n",
    "Type annotations are **not** *type casts*, such as might be found in C or Java.\n",
    "They do not indicate a conversion from one type to another. Rather they indicate\n",
    "a check that the expression really does have the given type.\n",
    "```\n",
    "\n",
    "**Syntax.** The syntax of a type annotation:\n",
    "\n",
    "```ocaml\n",
    "(e : t)\n",
    "```\n",
    "\n",
    "Note that the parentheses are required.\n",
    "\n",
    "**Dynamic semantics.** There is no run-time meaning for a type annotation.\n",
    "It goes away during compilation, because it indicates a compile-time check.\n",
    "There is no run-time conversion.\n",
    "So, if `(e : t)` compiled successfully, then at run-time it is simply `e`,\n",
    "and it evaluates as `e` would.\n",
    "\n",
    "**Static semantics.**  If `e` has type `t` then `(e : t)` has type `t`."
   ]
  }
 ],
 "metadata": {
  "jupytext": {
   "cell_metadata_filter": "-all",
   "formats": "md:myst",
   "text_representation": {
    "extension": ".md",
    "format_name": "myst",
    "format_version": 0.13,
    "jupytext_version": "1.10.3"
   }
  },
  "kernelspec": {
   "display_name": "OCaml",
   "language": "OCaml",
   "name": "ocaml-jupyter"
  },
  "source_map": [
   14,
   58,
   62,
   66,
   69,
   89,
   93,
   95,
   101,
   105,
   108,
   114,
   116,
   121,
   123,
   146,
   148,
   158,
   162,
   164,
   170,
   174,
   177,
   183,
   187,
   191,
   194,
   242,
   244,
   252,
   254,
   270,
   275,
   325,
   327,
   337,
   339,
   344,
   346,
   352,
   355,
   359,
   361,
   572,
   574,
   578,
   581,
   593,
   596
  ]
 },
 "nbformat": 4,
 "nbformat_minor": 5
}