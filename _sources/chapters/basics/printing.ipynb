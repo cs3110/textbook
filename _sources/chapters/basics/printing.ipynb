{
 "cells": [
  {
   "cell_type": "markdown",
   "id": "b9688e1b",
   "metadata": {},
   "source": [
    "# Printing\n",
    "\n",
    "OCaml has built-in printing functions for a few of the built-in primitive\n",
    "types: `print_char`, `print_string`, `print_int`, and `print_float`. There's\n",
    "also a `print_endline` function, which is like `print_string`, but also outputs\n",
    "a newline."
   ]
  },
  {
   "cell_type": "code",
   "execution_count": null,
   "id": "cff93c8d",
   "metadata": {},
   "outputs": [],
   "source": [
    "print_endline \"Camels are bae\""
   ]
  },
  {
   "cell_type": "markdown",
   "id": "266b858c",
   "metadata": {},
   "source": [
    "## Unit\n",
    "\n",
    "Let's look at the types of a couple of those functions:"
   ]
  },
  {
   "cell_type": "code",
   "execution_count": null,
   "id": "b09aeeda",
   "metadata": {},
   "outputs": [],
   "source": [
    "print_endline"
   ]
  },
  {
   "cell_type": "code",
   "execution_count": null,
   "id": "b4cd242b",
   "metadata": {},
   "outputs": [],
   "source": [
    "print_string"
   ]
  },
  {
   "cell_type": "markdown",
   "id": "c7155cdb",
   "metadata": {},
   "source": [
    "They both take a string as input and return a value of type `unit`, which we\n",
    "haven't seen before. There is only one value of this type, which is written `()`\n",
    "and is also pronounced \"unit\". So `unit` is like `bool`, except there is one\n",
    "fewer value of type `unit` than there is of `bool`.\n",
    "\n",
    "Unit is used when you need to take an argument or return a value, but there's no\n",
    "interesting value to pass or return. It is the equivalent of `void` in Java, and\n",
    "is similar to `None` in Python. Unit is often used when you're writing or using\n",
    "code that has side effects. Printing is an example of a side effect: it changes\n",
    "the world and can't be undone.\n",
    "\n",
    "## Semicolon\n",
    "\n",
    "If you want to print one thing after another, you could sequence some print\n",
    "functions using nested `let` expressions:"
   ]
  },
  {
   "cell_type": "code",
   "execution_count": null,
   "id": "ddd220e2",
   "metadata": {},
   "outputs": [],
   "source": [
    "let _ = print_endline \"Camels\" in\n",
    "let _ = print_endline \"are\" in\n",
    "print_endline \"bae\""
   ]
  },
  {
   "cell_type": "markdown",
   "id": "9eab1f6a",
   "metadata": {},
   "source": [
    "The `let _ = e` syntax above is a way of evaluating `e` but not binding\n",
    "its value to any name.  Indeed, we know the value each of those `print_endline`\n",
    "functions will return: it will always be `()`, the unit value. So there's\n",
    "no good reason to bind it to a variable name.  We could also write `let () = e`\n",
    "to indicate we know it's just a unit value that we don't care about:"
   ]
  },
  {
   "cell_type": "code",
   "execution_count": null,
   "id": "65719354",
   "metadata": {},
   "outputs": [],
   "source": [
    "let () = print_endline \"Camels\" in\n",
    "let () = print_endline \"are\" in\n",
    "print_endline \"bae\""
   ]
  },
  {
   "cell_type": "markdown",
   "id": "88a70a02",
   "metadata": {},
   "source": [
    "But either way the boilerplate of all the `let..in` is annoying to have to\n",
    "write! So there's a special syntax that can be used to chain\n",
    "together multiple functions that return unit. The expression `e1; e2` first\n",
    "evaluates `e1`, which should evaluate to `()`, then discards that value, and\n",
    "evaluates `e2`. So we could rewrite the above code as:"
   ]
  },
  {
   "cell_type": "code",
   "execution_count": null,
   "id": "f73f77ad",
   "metadata": {},
   "outputs": [],
   "source": [
    "print_endline \"Camels\";\n",
    "print_endline \"are\";\n",
    "print_endline \"bae\""
   ]
  },
  {
   "cell_type": "markdown",
   "id": "eab819eb",
   "metadata": {},
   "source": [
    "That is more idiomatic OCaml code, and it also looks more natural to imperative\n",
    "programmers.\n",
    "\n",
    "```{warning}\n",
    "There is no semicolon after the final `print_endline` in that example. A common\n",
    "mistake is to put a semicolon *after* each print statement. Instead, the\n",
    "semicolons go strictly *between* statements. That is, semicolon is a statement\n",
    "*separator* not a statement *terminator*. If you were to add a semicolon at the\n",
    "end, you could get a syntax error depending on the surrounding code.\n",
    "```\n",
    "\n",
    "## Ignore\n",
    "\n",
    "If `e1` does not have type `unit`, then `e1; e2` will give a warning, because\n",
    "you are discarding a potentially useful value. If that is truly your intent, you\n",
    "can call the built-in function `ignore : 'a -> unit` to convert any value to\n",
    "`()`:"
   ]
  },
  {
   "cell_type": "code",
   "execution_count": null,
   "id": "43d523de",
   "metadata": {},
   "outputs": [],
   "source": [
    "(ignore 3); 5"
   ]
  },
  {
   "cell_type": "markdown",
   "id": "d5ce189b",
   "metadata": {},
   "source": [
    "Actually `ignore` is easy to implement yourself:"
   ]
  },
  {
   "cell_type": "code",
   "execution_count": null,
   "id": "634c3384",
   "metadata": {},
   "outputs": [],
   "source": [
    "let ignore x = ()"
   ]
  },
  {
   "cell_type": "markdown",
   "id": "e99d3832",
   "metadata": {},
   "source": [
    "Or you can even write underscore to indicate the function takes in a value but\n",
    "does not bind that value to a name. That means the function can never use that\n",
    "value in its body. But that's okay: we want to ignore it."
   ]
  },
  {
   "cell_type": "code",
   "execution_count": null,
   "id": "96f25fa2",
   "metadata": {},
   "outputs": [],
   "source": [
    "let ignore _ = ()"
   ]
  },
  {
   "cell_type": "markdown",
   "id": "99ec3dbd",
   "metadata": {},
   "source": [
    "## Printf\n",
    "\n",
    "For complicated text outputs, using the built-in functions for primitive type\n",
    "printing quickly becomes tedious. For example, suppose you wanted to write a\n",
    "function to print a statistic:"
   ]
  },
  {
   "cell_type": "code",
   "execution_count": null,
   "id": "7ffd0641",
   "metadata": {},
   "outputs": [],
   "source": [
    "(** [print_stat name num] prints [name: num]. *)\n",
    "let print_stat name num =\n",
    "  print_string name;\n",
    "  print_string \": \";\n",
    "  print_float num;\n",
    "  print_newline ()"
   ]
  },
  {
   "cell_type": "code",
   "execution_count": null,
   "id": "7055e5de",
   "metadata": {},
   "outputs": [],
   "source": [
    "print_stat \"mean\" 84.39"
   ]
  },
  {
   "cell_type": "markdown",
   "id": "ac430304",
   "metadata": {},
   "source": [
    "How could we shorten `print_stat`? In Java you might use the overloaded `+`\n",
    "operator to turn all objects into strings:\n",
    "\n",
    "```java\n",
    "void print_stat(String name, double num) {\n",
    "   System.out.println(name + \": \" + num);\n",
    "}\n",
    "```\n",
    "\n",
    "But OCaml values are not objects, and they do not have a `toString()` method\n",
    "they inherit from some root `Object` class. Nor does OCaml permit overloading of\n",
    "operators.\n",
    "\n",
    "Long ago though, FORTRAN invented a different solution that other languages like\n",
    "C and Java and even Python support. The idea is to use a *format specifier* to\n",
    "&mdash;as the name suggest&mdash; specify how to format output. The name this\n",
    "idea is best known under is probably \"printf\", which refers to the name of the C\n",
    "library function that implemented it. Many other languages and libraries still\n",
    "use that name, including OCaml's `Printf` module.\n",
    "\n",
    "Here's how we'd use `printf` to re-implement `print_stat`:"
   ]
  },
  {
   "cell_type": "code",
   "execution_count": null,
   "id": "61437a78",
   "metadata": {},
   "outputs": [],
   "source": [
    "let print_stat name num =\n",
    "  Printf.printf \"%s: %F\\n%!\" name num"
   ]
  },
  {
   "cell_type": "code",
   "execution_count": null,
   "id": "4656ca7c",
   "metadata": {},
   "outputs": [],
   "source": [
    "print_stat \"mean\" 84.39"
   ]
  },
  {
   "cell_type": "markdown",
   "id": "ecb37fc0",
   "metadata": {},
   "source": [
    "The first argument to function `Printf.printf` is the format specifier. It\n",
    "*looks* like a string, but there's more to it than that. It's actually\n",
    "understood by the OCaml compiler in quite a deep way. Inside the format\n",
    "specifier there are:\n",
    "\n",
    "- plain characters, and\n",
    "\n",
    "- conversion specifiers, which begin with `%`.\n",
    "\n",
    "There are about two dozen conversion specifiers available, which you can read\n",
    "about in the [documentation of `Printf`][printf-doc]. Let's pick apart the\n",
    "format specifier above as an example.\n",
    "\n",
    "[printf-doc]: https://ocaml.org/api/Printf.html\n",
    "\n",
    "- It starts with `\"%s\"`, which is the conversion specifier for strings.  That means\n",
    "  the next argument to `printf` must be a `string`, and the contents of that string\n",
    "  will be output.\n",
    "\n",
    "- It continues with `\": \"`, which are just plain characters.  Those are inserted\n",
    "  into the output.\n",
    "\n",
    "- It then has another conversion specifier, `%F`. That means the next argument of\n",
    "  `printf` must have type `float`, and will be output in the same format that\n",
    "  OCaml uses to print floats.\n",
    "\n",
    "- The newline `\"\\n\"` after that is another plain character sequence.\n",
    "\n",
    "- Finally, the conversion specifier `\"%!\"` means to *flush the output buffer*.\n",
    "  As you might have learned in earlier programming classes, output is often\n",
    "  *buffered*, meaning that it doesn't all happen at once or right away. Flushing\n",
    "  the buffer ensures that anything still sitting in the buffer gets output\n",
    "  immediately. This specifier is special in that it doesn't actually need\n",
    "  another argument to `printf`.\n",
    "\n",
    "If the type of an argument is incorrect with respect to the conversion specifier,\n",
    "OCaml will detect that.  Let's add a type annotation to force `num` to be an\n",
    "`int`, and see what happens with the float conversion specifier `%F`:"
   ]
  },
  {
   "cell_type": "code",
   "execution_count": null,
   "id": "14b278d5",
   "metadata": {
    "tags": [
     "raises-exception"
    ]
   },
   "outputs": [],
   "source": [
    "let print_stat name (num : int) =\n",
    "  Printf.printf \"%s: %F\\n%!\" name num"
   ]
  },
  {
   "cell_type": "markdown",
   "id": "01d1250d",
   "metadata": {},
   "source": [
    "To fix that, we can change to the conversion specifier for `int`, which is `%i`:"
   ]
  },
  {
   "cell_type": "code",
   "execution_count": null,
   "id": "36ac783f",
   "metadata": {},
   "outputs": [],
   "source": [
    "let print_stat name num =\n",
    "  Printf.printf \"%s: %i\\n%!\" name num"
   ]
  },
  {
   "cell_type": "markdown",
   "id": "6aa3b36d",
   "metadata": {},
   "source": [
    "Another very useful variant of `printf` is `sprintf`, which collects the output\n",
    "in string instead of printing it:"
   ]
  },
  {
   "cell_type": "code",
   "execution_count": null,
   "id": "dc344f8d",
   "metadata": {},
   "outputs": [],
   "source": [
    "let string_of_stat name num =\n",
    "  Printf.sprintf \"%s: %F\" name num"
   ]
  },
  {
   "cell_type": "code",
   "execution_count": null,
   "id": "ad91a7fd",
   "metadata": {},
   "outputs": [],
   "source": [
    "string_of_stat \"mean\" 84.39"
   ]
  }
 ],
 "metadata": {
  "jupytext": {
   "cell_metadata_filter": "-all",
   "formats": "md:myst",
   "text_representation": {
    "extension": ".md",
    "format_name": "myst",
    "format_version": 0.13,
    "jupytext_version": "1.10.3"
   }
  },
  "kernelspec": {
   "display_name": "OCaml",
   "language": "OCaml",
   "name": "ocaml-jupyter"
  },
  "source_map": [
   14,
   23,
   25,
   30,
   34,
   36,
   54,
   58,
   66,
   70,
   78,
   82,
   102,
   104,
   108,
   110,
   116,
   118,
   126,
   135,
   137,
   161,
   166,
   168,
   209,
   213,
   217,
   220,
   225,
   230
  ]
 },
 "nbformat": 4,
 "nbformat_minor": 5
}