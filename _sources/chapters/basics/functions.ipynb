{
 "cells": [
  {
   "cell_type": "markdown",
   "id": "19ed39df",
   "metadata": {},
   "source": [
    "# Functions\n",
    "\n",
    "Since OCaml is a functional language, there's a lot to cover about functions.\n",
    "Let's get started.\n",
    "\n",
    "```{important}\n",
    "Methods and functions are not the same idea. A method is a component of an\n",
    "object, and it implicitly has a receiver that is usually accessed with a keyword\n",
    "like `this` or `self`. OCaml functions are not methods: they are not components\n",
    "of objects, and they do not have a receiver.\n",
    "\n",
    "Some might say that all methods are functions, but not all functions are\n",
    "methods. Some might even quibble with that, making a distinction between\n",
    "functions and procedures. The latter would be functions that do not return any\n",
    "meaningful value, such as a `void` return type in Java or `None` return value in\n",
    "Python.\n",
    "\n",
    "So if you're coming from an object-oriented background, be careful about the\n",
    "terminology. **Everything here is strictly a function, not a method.**\n",
    "```\n",
    "\n",
    "## Function Definitions\n",
    "\n",
    "{{ video_embed | replace(\"%%VID%%\", \"vCxIlagS7kA\")}}\n",
    "\n",
    "The following code\n",
    "```ocaml\n",
    "let x = 42\n",
    "```\n",
    "has an expression in it (`42`) but is not itself an expression. Rather, it is a\n",
    "*definition*. Definitions bind values to names, in this case the value `42`\n",
    "being bound to the name `x`. The OCaml manual describes\n",
    "[definitions][definitions] (see the third major grouping titled \"*definition*\"\n",
    "on that page), but that manual page is again primarily for reference not for\n",
    "study. Definitions are not expressions, nor are expressions\n",
    "definitions&mdash;they are distinct syntactic classes.\n",
    "\n",
    "[definitions]: https://ocaml.org/manual/modules.html\n",
    "\n",
    "For now, let's focus on one particular kind of definition, a *function\n",
    "definition*. Non-recursive functions are defined like this:\n",
    "\n",
    "```ocaml\n",
    "let f x = ...\n",
    "```\n",
    "\n",
    "{{ video_embed | replace(\"%%VID%%\", \"_x82qitu2R8\")}}\n",
    "\n",
    "Recursive functions are defined like this:\n",
    "\n",
    "```ocaml\n",
    "let rec f x = ...\n",
    "```\n",
    "\n",
    "The difference is just the `rec` keyword. It's probably a bit surprising that\n",
    "you explicitly have to add a keyword to make a function recursive, because most\n",
    "languages assume by default that they are. OCaml doesn't make that assumption,\n",
    "though. (Nor does the Scheme family of languages.)\n",
    "\n",
    "One of the best known recursive functions is the factorial function. In OCaml,\n",
    "it can be written as follows:"
   ]
  },
  {
   "cell_type": "code",
   "execution_count": null,
   "id": "50ed8a45",
   "metadata": {},
   "outputs": [],
   "source": [
    "(** [fact n] is [n!].\n",
    "    Requires: [n >= 0]. *)\n",
    "let rec fact n = if n = 0 then 1 else n * fact (n - 1)"
   ]
  },
  {
   "cell_type": "markdown",
   "id": "da62f40c",
   "metadata": {},
   "source": [
    "We provided a specification comment above the function to document the\n",
    "precondition (`Requires`) and postcondition (`is`) of the function.\n",
    "\n",
    "Note that, as in many languages, OCaml integers are not the \"mathematical\"\n",
    "integers but are limited to a fixed number of bits. The [manual][man] specifies\n",
    "that (signed) integers are at least 31 bits, but they could be wider. As\n",
    "architectures have grown, so has that size. In current implementations, OCaml\n",
    "integers are 63 bits. So if you test on large enough inputs, you might begin to\n",
    "see strange results. The problem is machine arithmetic, not OCaml. (For\n",
    "interested readers: why 31 or 63 instead of 32 or 64? The OCaml garbage\n",
    "collector needs to distinguish between integers and pointers. The runtime\n",
    "representation of these therefore steals one bit to flag whether a word is an\n",
    "integer or a pointer.)\n",
    "\n",
    "[man]: https://ocaml.org/manual/values.html#sss:values:integer\n",
    "\n",
    "\n",
    "Here's another recursive function:"
   ]
  },
  {
   "cell_type": "code",
   "execution_count": null,
   "id": "4aebd630",
   "metadata": {},
   "outputs": [],
   "source": [
    "(** [pow x y] is [x] to the power of [y].\n",
    "     Requires: [y >= 0]. *)\n",
    "let rec pow x y = if y = 0 then 1 else x * pow x (y - 1)"
   ]
  },
  {
   "cell_type": "markdown",
   "id": "4d435813",
   "metadata": {},
   "source": [
    "Note how we didn't have to write any types in either of our functions: the OCaml\n",
    "compiler infers them for us automatically. The compiler solves this *type\n",
    "inference* problem algorithmically, but we could do it ourselves, too. It's like\n",
    "a mystery that can be solved by our mental power of deduction:\n",
    "\n",
    "* Since the `if` expression can return `1` in the `then` branch, we know by the\n",
    "  typing rule for `if` that the entire `if` expression has type `int`.\n",
    "\n",
    "* Since the `if` expression has type `int`, the function's return type must be\n",
    "  `int`.\n",
    "\n",
    "* Since `y` is compared to `0` with the equality operator, `y` must be an `int`.\n",
    "\n",
    "* Since `x` is multiplied with another expression using the `*` operator, `x`\n",
    "  must be an `int`.\n",
    "\n",
    "If we wanted to write down the types for some reason, we could do that:\n",
    "```ocaml\n",
    "let rec pow (x : int) (y : int) : int = ...\n",
    "```\n",
    "The parentheses are mandatory when we write the *type annotations* for `x` and\n",
    "`y`. We will generally leave out these annotations, because it's simpler to let\n",
    "the compiler infer them. There are other times when you'll want to explicitly\n",
    "write down types. One particularly useful time is when you get a type error from\n",
    "the compiler that you don't understand. Explicitly annotating the types can help\n",
    "with debugging such an error message.\n",
    "\n",
    "**Syntax.**\n",
    "The syntax for function definitions:\n",
    "```ocaml\n",
    "let rec f x1 x2 ... xn = e\n",
    "```\n",
    "The `f` is a metavariable indicating an identifier being used as a function\n",
    "name. These identifiers must begin with a lowercase letter. The remaining\n",
    "[rules for lowercase identifiers][lowercase] can be found in the manual. The\n",
    "names `x1` through `xn` are metavariables indicating argument identifiers. These\n",
    "follow the same rules as function identifiers. The keyword `rec` is required if\n",
    "`f` is to be a recursive function; otherwise it may be omitted.\n",
    "\n",
    "[lowercase]: https://ocaml.org/manual/lex.html#lowercase-ident\n",
    "\n",
    "Note that syntax for function definitions is actually simplified compared to\n",
    "what OCaml really allows. We will learn more about some augmented syntax for\n",
    "function definition in the next couple of weeks. But for now, this simplified\n",
    "version will help us focus.\n",
    "\n",
    "Mutually recursive functions can be defined with the `and` keyword:\n",
    "```ocaml\n",
    "let rec f x1 ... xn = e1\n",
    "and g y1 ... yn = e2\n",
    "```\n",
    "\n",
    "For example:"
   ]
  },
  {
   "cell_type": "code",
   "execution_count": null,
   "id": "07063c84",
   "metadata": {},
   "outputs": [],
   "source": [
    "(** [even n] is whether [n] is even.\n",
    "    Requires: [n >= 0]. *)\n",
    "let rec even n =\n",
    "  n = 0 || odd (n - 1)\n",
    "\n",
    "(** [odd n] is whether [n] is odd.\n",
    "    Requires: [n >= 0]. *)\n",
    "and odd n =\n",
    "  n <> 0 && even (n - 1);;"
   ]
  },
  {
   "cell_type": "markdown",
   "id": "1a242fa9",
   "metadata": {},
   "source": [
    "{{ video_embed | replace(\"%%VID%%\", \"W0rO84YXIXo\")}}\n",
    "\n",
    "The syntax for function types is:\n",
    "```ocaml\n",
    "t -> u\n",
    "t1 -> t2 -> u\n",
    "t1 -> ... -> tn -> u\n",
    "```\n",
    "The `t` and `u` are metavariables indicating types. Type `t -> u` is the type of\n",
    "a function that takes an input of type `t` and returns an output of type `u`. We\n",
    "can think of `t1 -> t2 -> u` as the type of a function that takes two inputs,\n",
    "the first of type `t1` and the second of type `t2`, and returns an output of\n",
    "type `u`. Likewise for a function that takes `n` arguments.\n",
    "\n",
    "**Dynamic semantics.** There is no dynamic semantics of function definitions.\n",
    "There is nothing to be evaluated. OCaml just records that the name `f` is bound\n",
    "to a function with the given arguments `x1..xn` and the given body `e`. Only\n",
    "later, when the function is applied, will there be some evaluation to do.\n",
    "\n",
    "**Static semantics.** The static semantics of function definitions:\n",
    "\n",
    "* For non-recursive functions: if by assuming that `x1 : t1` and `x2 : t2` and ...\n",
    "  and `xn : tn`, we can conclude that `e : u`, then\n",
    "  `f : t1 -> t2 -> ... -> tn -> u`.\n",
    "* For recursive functions: if by assuming that `x1 : t1` and `x2 : t2` and ...\n",
    "  and `xn : tn` and `f : t1 -> t2 -> ... -> tn -> u`, we can conclude that\n",
    "  `e : u`, then `f : t1 -> t2 -> ... -> tn -> u`.\n",
    "\n",
    "Note how the type checking rule for recursive functions assumes that the\n",
    "function identifier `f` has a particular type, then checks to see whether the\n",
    "body of the function is well-typed under that assumption. This is because `f` is\n",
    "in scope inside the function body itself (just like the arguments are in scope).\n",
    "\n",
    "## Anonymous Functions\n",
    "\n",
    "{{ video_embed | replace(\"%%VID%%\", \"JwoIIrj0bcM\")}}\n",
    "\n",
    "We already know that we can have values that are not bound to names.\n",
    "The integer `42`, for example, can be entered at the toplevel without\n",
    "giving it a name:"
   ]
  },
  {
   "cell_type": "code",
   "execution_count": null,
   "id": "fd82a569",
   "metadata": {},
   "outputs": [],
   "source": [
    "42"
   ]
  },
  {
   "cell_type": "markdown",
   "id": "3786a5bb",
   "metadata": {},
   "source": [
    "Or we can bind it to a name:"
   ]
  },
  {
   "cell_type": "code",
   "execution_count": null,
   "id": "b7eb5e5e",
   "metadata": {},
   "outputs": [],
   "source": [
    "let x = 42"
   ]
  },
  {
   "cell_type": "markdown",
   "id": "c45eeca8",
   "metadata": {},
   "source": [
    "Similarly, OCaml functions do not have to have names; they may be *anonymous*.\n",
    "For example, here is an anonymous function that increments its input:\n",
    "`fun x -> x + 1`. Here, `fun` is a keyword indicating an anonymous function, `x`\n",
    "is the argument, and `->` separates the argument from the body.\n",
    "\n",
    "We now have two ways we could write an increment function:"
   ]
  },
  {
   "cell_type": "code",
   "execution_count": null,
   "id": "dd2054d5",
   "metadata": {},
   "outputs": [],
   "source": [
    "let inc x = x + 1\n",
    "let inc = fun x -> x + 1"
   ]
  },
  {
   "cell_type": "markdown",
   "id": "553edccc",
   "metadata": {},
   "source": [
    "They are syntactically different but semantically equivalent. That is, even\n",
    "though they involve different keywords and put some identifiers in different\n",
    "places, they mean the same thing.\n",
    "\n",
    "{{ video_embed | replace(\"%%VID%%\", \"zHHCD7MOjmw\")}}\n",
    "\n",
    "Anonymous functions are also called *lambda expressions*, a term that comes from\n",
    "the *lambda calculus*, which is a mathematical model of computation in the same\n",
    "sense that Turing machines are a model of computation. In the lambda calculus,\n",
    "`fun x -> e` would be written $\\lambda x . e$. The $\\lambda$ denotes an\n",
    "anonymous function.\n",
    "\n",
    "It might seem a little mysterious right now why we would want functions that\n",
    "have no names. Don't worry; we'll see good uses for them later in the course,\n",
    "especially when we study so-called \"higher-order programming\". In particular, we\n",
    "will often create anonymous functions and pass them as input to other functions.\n",
    "\n",
    "**Syntax.**\n",
    "```ocaml\n",
    "fun x1 ... xn -> e\n",
    "```\n",
    "\n",
    "**Static semantics.**\n",
    "\n",
    "* If by assuming that\n",
    "  `x1 : t1` and `x2 : t2` and ... and `xn : tn`, we can conclude that `e : u`,\n",
    "  then `fun x1 ... xn -> e : t1 -> t2 -> ... -> tn -> u`.\n",
    "\n",
    "**Dynamic semantics.** An anonymous function is already a value. There is no\n",
    "computation to be performed.\n",
    "\n",
    "## Function Application\n",
    "\n",
    "{{ video_embed | replace(\"%%VID%%\", \"fgCTDhXAYnQ\")}}\n",
    "\n",
    "Here we cover a somewhat simplified syntax of function application compared to\n",
    "what OCaml actually allows.\n",
    "\n",
    "**Syntax.**\n",
    "```ocaml\n",
    "e0 e1 e2 ... en\n",
    "```\n",
    "The first expression `e0` is the function, and it is applied to arguments `e1`\n",
    "through `en`. Note that parentheses are not required around the arguments to\n",
    "indicate function application, as they are in languages in the C family,\n",
    "including Java.\n",
    "\n",
    "**Static semantics.**\n",
    "\n",
    "* If `e0 : t1 -> ... -> tn -> u` and `e1 : t1` and ... and `en : tn`\n",
    "  then `e0 e1 ... en : u`.\n",
    "\n",
    "**Dynamic semantics.**\n",
    "\n",
    "To evaluate `e0 e1 ... en`:\n",
    "\n",
    "1. Evaluate `e0` to a function. Also evaluate the argument expressions `e1`\n",
    "   through `en` to values `v1` through `vn`.\n",
    "\n",
    "   For `e0`, the result might be an anonymous function `fun x1 ... xn ->\n",
    "   e` or a name `f`. In the latter case, we need to find the definition of `f`,\n",
    "   which we can assume to be of the form `let rec f x1 ... xn =\n",
    "   e`.  Either way, we now know the argument names `x1` through `xn` and the\n",
    "   body `e`.\n",
    "\n",
    "2. Substitute each value `vi` for the corresponding argument name `xi` in the\n",
    "   body `e` of the function. That substitution results in a new expression `e'`.\n",
    "\n",
    "3. Evaluate `e'` to a value `v`, which is the result of evaluating\n",
    "   `e0 e1 ... en`.\n",
    "\n",
    "If you compare these evaluation rules to the rules for `let` expressions, you\n",
    "will notice they both involve substitution. This is not an accident. In fact,\n",
    "anywhere `let x = e1 in e2` appears in a program, we could replace it with\n",
    "`(fun x -> e2) e1`. They are syntactically different but semantically\n",
    "equivalent. In essence, `let` expressions are just syntactic sugar for anonymous\n",
    "function application.\n",
    "\n",
    "## Pipeline\n",
    "\n",
    "{{ video_embed | replace(\"%%VID%%\", \"arS9kEqCFEU\")}}\n",
    "\n",
    "There is a built-in infix operator in OCaml for function application called the\n",
    "*pipeline* operator, written `|>`. Imagine that as depicting a triangle pointing\n",
    "to the right. The metaphor is that values are sent through the pipeline from\n",
    "left to right. For example, suppose we have the increment function `inc` from\n",
    "above as well as a function `square` that squares its input:"
   ]
  },
  {
   "cell_type": "code",
   "execution_count": null,
   "id": "aa13cc94",
   "metadata": {},
   "outputs": [],
   "source": [
    "let square x = x * x"
   ]
  },
  {
   "cell_type": "markdown",
   "id": "72e301e4",
   "metadata": {},
   "source": [
    "Here are two equivalent ways of squaring `6`:"
   ]
  },
  {
   "cell_type": "code",
   "execution_count": null,
   "id": "76380e6f",
   "metadata": {},
   "outputs": [],
   "source": [
    "square (inc 5);;\n",
    "5 |> inc |> square;;"
   ]
  },
  {
   "cell_type": "markdown",
   "id": "f7b70c35",
   "metadata": {},
   "source": [
    "The latter uses the pipeline operator to send `5` through the `inc` function,\n",
    "then send the result of that through the `square` function. This is a nice,\n",
    "idiomatic way of expressing the computation in OCaml. The former way is arguably\n",
    "not as elegant: it involves writing extra parentheses and requires the reader's\n",
    "eyes to jump around, rather than move linearly from left to right. The latter\n",
    "way scales up nicely when the number of functions being applied grows, whereas\n",
    "the former way requires more and more parentheses:"
   ]
  },
  {
   "cell_type": "code",
   "execution_count": null,
   "id": "b575305f",
   "metadata": {},
   "outputs": [],
   "source": [
    "5 |> inc |> square |> inc |> inc |> square;;\n",
    "square (inc (inc (square (inc 5))));;"
   ]
  },
  {
   "cell_type": "markdown",
   "id": "bab41fc5",
   "metadata": {},
   "source": [
    "It might feel weird at first, but try using the pipeline operator in your own\n",
    "code the next time you find yourself writing a big chain of function\n",
    "applications.\n",
    "\n",
    "Since `e1 |> e2` is just another way of writing `e2 e1`, we don't need to state\n",
    "the semantics for `|>`: it's just the same as function application. These two\n",
    "programs are another example of expressions that are syntactically different but\n",
    "semantically equivalent.\n",
    "\n",
    "## Polymorphic Functions\n",
    "\n",
    "{{ video_embed | replace(\"%%VID%%\", \"UWmxYBEKzN8\")}}\n",
    "\n",
    "The *identity* function is the function that simply returns its input:"
   ]
  },
  {
   "cell_type": "code",
   "execution_count": null,
   "id": "7ad48aa3",
   "metadata": {},
   "outputs": [],
   "source": [
    "let id x = x"
   ]
  },
  {
   "cell_type": "markdown",
   "id": "d29a7dce",
   "metadata": {},
   "source": [
    "Or equivalently as an anonymous function:"
   ]
  },
  {
   "cell_type": "code",
   "execution_count": null,
   "id": "31a9d08b",
   "metadata": {},
   "outputs": [],
   "source": [
    "let id = fun x -> x"
   ]
  },
  {
   "cell_type": "markdown",
   "id": "44ad3029",
   "metadata": {},
   "source": [
    "The `'a` is a *type variable*: it stands for an unknown type, just like a\n",
    "regular variable stands for an unknown value. Type variables always begin with a\n",
    "single quote. Commonly used type variables include `'a`, `'b`, and `'c`, which\n",
    "OCaml programmers typically pronounce in Greek: alpha, beta, and gamma.\n",
    "\n",
    "We can apply the identity function to any type of value we like:"
   ]
  },
  {
   "cell_type": "code",
   "execution_count": null,
   "id": "47c93782",
   "metadata": {},
   "outputs": [],
   "source": [
    "id 42;;\n",
    "id true;;\n",
    "id \"bigred\";;"
   ]
  },
  {
   "cell_type": "markdown",
   "id": "7f8f41dc",
   "metadata": {},
   "source": [
    "Because you can apply `id` to many types of values, it is a *polymorphic*\n",
    "function: it can be applied to many (*poly*) forms (*morph*).\n",
    "\n",
    "With manual type annotations, it's possible to give a more restrictive type\n",
    "to a polymorphic function than the type the compiler automatically infers.\n",
    "For example:"
   ]
  },
  {
   "cell_type": "code",
   "execution_count": null,
   "id": "0d30b9c4",
   "metadata": {},
   "outputs": [],
   "source": [
    "let id_int (x : int) : int = x"
   ]
  },
  {
   "cell_type": "markdown",
   "id": "d52a5ce8",
   "metadata": {},
   "source": [
    "That's the same function as `id`, except for the two manual type annotations.\n",
    "Because of those, we cannot apply `id_int` to a `bool` like we did `id`:"
   ]
  },
  {
   "cell_type": "code",
   "execution_count": null,
   "id": "e920665a",
   "metadata": {
    "tags": [
     "raises-exception"
    ]
   },
   "outputs": [],
   "source": [
    "id_int true"
   ]
  },
  {
   "cell_type": "markdown",
   "id": "4ae019bf",
   "metadata": {},
   "source": [
    "Another way of writing `id_int` would be in terms of `id`:"
   ]
  },
  {
   "cell_type": "code",
   "execution_count": null,
   "id": "0a7f90d7",
   "metadata": {},
   "outputs": [],
   "source": [
    "let id_int' : int -> int = id"
   ]
  },
  {
   "cell_type": "markdown",
   "id": "798f2a43",
   "metadata": {},
   "source": [
    "In effect, we took a value of type `'a -> 'a`, and we bound it to a name whose\n",
    "type was manually specified as being `int -> int`. You might ask, why does that\n",
    "work? They aren't the same types, after all.\n",
    "\n",
    "One way to think about this is in terms of **behavior.** The type of `id_int`\n",
    "specifies one aspect of its behavior: given an `int` as input, it promises to\n",
    "produce an `int` as output. It turns out that `id` also makes the same promise:\n",
    "given an `int` as input, it too will return an `int` as output. Now `id` also\n",
    "makes many more promises, such as: given a `bool` as input, it will return a\n",
    "`bool` as output. So by binding `id` to a more restrictive type `int -> int`, we\n",
    "have thrown away all those additional promises as irrelevant. Sure, that's\n",
    "information lost, but at least no promises will be broken.  It's always\n",
    "going to be safe to use a function of type `'a -> 'a` when what we needed\n",
    "was a function of type `int -> int`.\n",
    "\n",
    "The converse is not true. If we needed a function of type `'a -> 'a` but tried\n",
    "to use a function of type `int -> int`, we'd be in trouble as soon as someone\n",
    "passed an input of another type, such as `bool`. To prevent that trouble, OCaml\n",
    "does something potentially surprising with the following code:"
   ]
  },
  {
   "cell_type": "code",
   "execution_count": null,
   "id": "d03924cb",
   "metadata": {},
   "outputs": [],
   "source": [
    "let id' : 'a -> 'a = fun x -> x + 1"
   ]
  },
  {
   "cell_type": "markdown",
   "id": "275fa166",
   "metadata": {},
   "source": [
    "Function `id'` is actually the increment function, not the identity function. So\n",
    "passing it a `bool` or `string` or some complicated data structure is not safe;\n",
    "the only data `+` can safely manipulate are integers. OCaml therefore\n",
    "*instantiates* the type variable `'a` to `int`, thus preventing us from\n",
    "applying `id'` to non-integers:"
   ]
  },
  {
   "cell_type": "code",
   "execution_count": null,
   "id": "be01f06b",
   "metadata": {
    "tags": [
     "raises-exception"
    ]
   },
   "outputs": [],
   "source": [
    "id' true"
   ]
  },
  {
   "cell_type": "markdown",
   "id": "9c18218c",
   "metadata": {},
   "source": [
    "That leads us to another, more mechanical, way to think about all of this in\n",
    "terms of **application**. By that we mean the very same notion of how a function\n",
    "is applied to arguments: when evaluating the application `id 5`, the argument\n",
    "`x` is *instantiated* with value `5`. Likewise, the `'a` in the type of `id` is\n",
    "being instantiated with type `int` at that application. So if we write"
   ]
  },
  {
   "cell_type": "code",
   "execution_count": null,
   "id": "1111d028",
   "metadata": {},
   "outputs": [],
   "source": [
    "let id_int' : int -> int = id"
   ]
  },
  {
   "cell_type": "markdown",
   "id": "1e8c051d",
   "metadata": {},
   "source": [
    "we are in fact instantiating the `'a` in the type of `id` with the type `int`.\n",
    "And just as there is no way to \"unapply\" a function&mdash;for example, given `5`\n",
    "we can't compute backwards to `id 5`&mdash;we can't unapply that type\n",
    "instantiation and change `int` back to `'a`.\n",
    "\n",
    "To make that precise, suppose we have a `let` definition [or expression]:\n",
    "\n",
    "```ocaml\n",
    "let x = e [in e']\n",
    "```\n",
    "\n",
    "and that OCaml infers `x` has a type `t` that includes some type variables `'a`,\n",
    "`'b`, etc. Then we are permitted to instantiate those type variables. We can do\n",
    "that by applying the function to arguments that reveal what the type\n",
    "instantiations should be (as in `id 5`) or by a type annotation (as in\n",
    "`id_int'`), among other ways. But we have to be consistent with the\n",
    "instantiation. For example, we cannot take a function of type `'a -> 'b -> 'a`\n",
    "and instantiate it at type `int -> 'b -> string`, because the instantiation of\n",
    "`'a` is not the same type in each of the two places it occurred:"
   ]
  },
  {
   "cell_type": "code",
   "execution_count": null,
   "id": "d588a21e",
   "metadata": {
    "tags": [
     "raises-exception"
    ]
   },
   "outputs": [],
   "source": [
    "let first x y = x;;\n",
    "let first_int : int -> 'b -> int = first;;\n",
    "let bad_first : int -> 'b -> string = first;;"
   ]
  },
  {
   "cell_type": "markdown",
   "id": "c8720c9d",
   "metadata": {},
   "source": [
    "## Labeled and Optional Arguments\n",
    "\n",
    "The type and name of a function usually give you a pretty good idea of what the\n",
    "arguments should be. However, for functions with many arguments (especially\n",
    "arguments of the same type), it can be useful to label them. For example, you\n",
    "might guess that the function `String.sub` returns a substring of the given\n",
    "string (and you would be correct). You could type in `String.sub` to find its\n",
    "type:"
   ]
  },
  {
   "cell_type": "code",
   "execution_count": null,
   "id": "dba02902",
   "metadata": {},
   "outputs": [],
   "source": [
    "String.sub;;"
   ]
  },
  {
   "cell_type": "markdown",
   "id": "991e3a3f",
   "metadata": {},
   "source": [
    "But it's not clear from the type how to use it&mdash;you're forced to consult\n",
    "the documentation.\n",
    "\n",
    "OCaml supports labeled arguments to functions. You can declare this kind of\n",
    "function using the following syntax:"
   ]
  },
  {
   "cell_type": "code",
   "execution_count": null,
   "id": "e3f80b22",
   "metadata": {},
   "outputs": [],
   "source": [
    "let f ~name1:arg1 ~name2:arg2 = arg1 + arg2;;"
   ]
  },
  {
   "cell_type": "markdown",
   "id": "8eae1808",
   "metadata": {},
   "source": [
    "This function can be called by passing the labeled arguments in either order:\n",
    "\n",
    "```ocaml\n",
    "f ~name2:3 ~name1:4\n",
    "```\n",
    "\n",
    "Labels for arguments are often the same as the variable names for them. OCaml\n",
    "provides a shorthand for this case. The following are equivalent:\n",
    "\n",
    "```ocaml\n",
    "let f ~name1:name1 ~name2:name2 = name1 + name2\n",
    "let f ~name1 ~name2 = name1 + name2\n",
    "```\n",
    "\n",
    "Use of labeled arguments is largely a matter of taste. They convey extra\n",
    "information, but they can also add clutter to types.\n",
    "\n",
    "The syntax to write both a labeled argument and an explicit type annotation for\n",
    "it is:\n",
    "\n",
    "```\n",
    "let f ~name1:(arg1 : int) ~name2:(arg2 : int) = arg1 + arg2\n",
    "```\n",
    "\n",
    "It is also possible to make some arguments optional. When called without an\n",
    "optional argument, a default value will be provided. To declare such a function,\n",
    "use the following syntax:"
   ]
  },
  {
   "cell_type": "code",
   "execution_count": null,
   "id": "0f69f2d9",
   "metadata": {},
   "outputs": [],
   "source": [
    "let f ?name:(arg1=8) arg2 = arg1 + arg2"
   ]
  },
  {
   "cell_type": "markdown",
   "id": "4cda57aa",
   "metadata": {},
   "source": [
    "You can then call a function with or without the argument:"
   ]
  },
  {
   "cell_type": "code",
   "execution_count": null,
   "id": "a250b813",
   "metadata": {},
   "outputs": [],
   "source": [
    "f ~name:2 7"
   ]
  },
  {
   "cell_type": "code",
   "execution_count": null,
   "id": "153fe118",
   "metadata": {},
   "outputs": [],
   "source": [
    "f 7"
   ]
  },
  {
   "cell_type": "markdown",
   "id": "1fec280c",
   "metadata": {},
   "source": [
    "## Partial Application\n",
    "\n",
    "{{ video_embed | replace(\"%%VID%%\", \"85xVK0wmDTw\")}}\n",
    "\n",
    "We could define an addition function as follows:"
   ]
  },
  {
   "cell_type": "code",
   "execution_count": null,
   "id": "4e43bdfa",
   "metadata": {},
   "outputs": [],
   "source": [
    "let add x y = x + y"
   ]
  },
  {
   "cell_type": "markdown",
   "id": "210a8598",
   "metadata": {},
   "source": [
    "Here's a rather similar function:"
   ]
  },
  {
   "cell_type": "code",
   "execution_count": null,
   "id": "650a905a",
   "metadata": {},
   "outputs": [],
   "source": [
    "let addx x = fun y -> x + y"
   ]
  },
  {
   "cell_type": "markdown",
   "id": "124d51d5",
   "metadata": {},
   "source": [
    "Function `addx` takes an integer `x` as input and returns a *function* of type\n",
    "`int -> int` that will add `x` to whatever is passed to it.\n",
    "\n",
    "The type of `addx` is `int -> int -> int`. The type of `add` is also\n",
    "`int -> int -> int`. So from the perspective of their types, they are the same\n",
    "function. But the form of `addx` suggests something interesting: we can apply it\n",
    "to just a single argument."
   ]
  },
  {
   "cell_type": "code",
   "execution_count": null,
   "id": "4f56aadf",
   "metadata": {},
   "outputs": [],
   "source": [
    "let add5 = addx 5"
   ]
  },
  {
   "cell_type": "code",
   "execution_count": null,
   "id": "ddea8047",
   "metadata": {},
   "outputs": [],
   "source": [
    "add5 2"
   ]
  },
  {
   "cell_type": "markdown",
   "id": "1ce50b6e",
   "metadata": {},
   "source": [
    "It turns out the same can be done with `add`:"
   ]
  },
  {
   "cell_type": "code",
   "execution_count": null,
   "id": "b7727312",
   "metadata": {},
   "outputs": [],
   "source": [
    "let add5 = add 5"
   ]
  },
  {
   "cell_type": "code",
   "execution_count": null,
   "id": "a60ddc3c",
   "metadata": {},
   "outputs": [],
   "source": [
    "add5 2;;"
   ]
  },
  {
   "cell_type": "markdown",
   "id": "c0e4a174",
   "metadata": {},
   "source": [
    "What we just did is called *partial application*: we partially applied the\n",
    "function `add` to one argument, even though you would normally think of it as a\n",
    "multi-argument function. This works because the following three functions are\n",
    "*syntactically different* but *semantically equivalent*. That is, they are\n",
    "different ways of expressing the same computation:\n",
    "\n",
    "```ocaml\n",
    "let add x y = x + y\n",
    "let add x = fun y -> x + y\n",
    "let add = fun x -> (fun y -> x + y)\n",
    "```\n",
    "\n",
    "So `add` is really a function that takes an argument `x` and returns a function\n",
    "`(fun y -> x + y)`. Which leads us to a deep truth...\n",
    "\n",
    "## Function Associativity\n",
    "\n",
    "Are you ready for the truth?  Take a deep breath.  Here goes...\n",
    "\n",
    "**Every OCaml function takes exactly one argument.**\n",
    "\n",
    "Why? Consider `add`: although we can write it as `let add x y = x + y`, we know\n",
    "that's semantically equivalent to `let add = fun x -> (fun y -> x + y)`. And in\n",
    "general,\n",
    "\n",
    "```ocaml\n",
    "let f x1 x2 ... xn = e\n",
    "```\n",
    "\n",
    "is semantically equivalent to\n",
    "\n",
    "```ocaml\n",
    "let f =\n",
    "  fun x1 ->\n",
    "    (fun x2 ->\n",
    "       (...\n",
    "          (fun xn -> e)...))\n",
    "```\n",
    "\n",
    "So even though you think of `f` as a function that takes `n` arguments, in\n",
    "reality it is a function that takes 1 argument and returns a function.\n",
    "\n",
    "The type of such a function\n",
    "\n",
    "```ocaml\n",
    "t1 -> t2 -> t3 -> t4\n",
    "```\n",
    "\n",
    "really means the same as\n",
    "\n",
    "```ocaml\n",
    "t1 -> (t2 -> (t3 -> t4))\n",
    "```\n",
    "\n",
    "That is, function types are *right associative*: there are implicit parentheses\n",
    "around function types, from right to left. The intuition here is that a function\n",
    "takes a single argument and returns a new function that expects the remaining\n",
    "arguments.\n",
    "\n",
    "Function application, on the other hand, is *left associative*: there\n",
    "are implicit parentheses around function applications, from left to right.\n",
    "So\n",
    "\n",
    "```ocaml\n",
    "e1 e2 e3 e4\n",
    "```\n",
    "\n",
    "really means the same as\n",
    "\n",
    "```ocaml\n",
    "((e1 e2) e3) e4\n",
    "```\n",
    "\n",
    "The intuition here is that the left-most expression grabs the next\n",
    "expression to its right as its single argument.\n",
    "\n",
    "## Operators as Functions\n",
    "\n",
    "{{ video_embed | replace(\"%%VID%%\", \"OVKOx8UiwxM\")}}\n",
    "\n",
    "The addition operator `+` has type `int -> int -> int`. It is normally written\n",
    "*infix*, e.g., `3 + 4`. By putting parentheses around it, we can make it a\n",
    "*prefix* operator:"
   ]
  },
  {
   "cell_type": "code",
   "execution_count": null,
   "id": "7c8283cd",
   "metadata": {},
   "outputs": [],
   "source": [
    "( + )"
   ]
  },
  {
   "cell_type": "code",
   "execution_count": null,
   "id": "87e8856a",
   "metadata": {},
   "outputs": [],
   "source": [
    "( + ) 3 4;;"
   ]
  },
  {
   "cell_type": "code",
   "execution_count": null,
   "id": "67831d21",
   "metadata": {},
   "outputs": [],
   "source": [
    "let add3 = ( + ) 3"
   ]
  },
  {
   "cell_type": "code",
   "execution_count": null,
   "id": "90649e27",
   "metadata": {},
   "outputs": [],
   "source": [
    "add3 2"
   ]
  },
  {
   "cell_type": "markdown",
   "id": "1c85b416",
   "metadata": {},
   "source": [
    "The same technique works for any built-in operator.\n",
    "\n",
    "Normally the spaces are unnecessary. We could write `(+)` or `( + )`, but it is\n",
    "best to include them. Beware of multiplication, which *must* be written as\n",
    "`( * )`, because `(*)` would be parsed as beginning a comment.\n",
    "\n",
    "We can even define our own new infix operators, for example:\n",
    "```ocaml\n",
    "let ( ^^ ) x y = max x y\n",
    "```\n",
    "And now `2 ^^ 3` evaluates to `3`.\n",
    "\n",
    "The rules for which punctuation can be used to create infix operators are not\n",
    "necessarily intuitive. Nor is the relative precedence with which such operators\n",
    "will be parsed. So be careful with this usage.\n",
    "\n",
    "## Tail Recursion\n",
    "\n",
    "Consider the following seemingly uninteresting function, which counts from 1 to\n",
    "`n`:"
   ]
  },
  {
   "cell_type": "code",
   "execution_count": null,
   "id": "b45d704b",
   "metadata": {},
   "outputs": [],
   "source": [
    "(** [count n] is [n], computed by adding 1 to itself [n] times.  That is,\n",
    "    this function counts up from 1 to [n]. *)\n",
    "let rec count n =\n",
    "  if n = 0 then 0 else 1 + count (n - 1)"
   ]
  },
  {
   "cell_type": "markdown",
   "id": "5d0a7ea6",
   "metadata": {},
   "source": [
    "Counting to 10 is no problem:"
   ]
  },
  {
   "cell_type": "code",
   "execution_count": null,
   "id": "ac7d6aff",
   "metadata": {},
   "outputs": [],
   "source": [
    "count 10"
   ]
  },
  {
   "cell_type": "markdown",
   "id": "90caf06f",
   "metadata": {},
   "source": [
    "Counting to 100,000 is no problem either:"
   ]
  },
  {
   "cell_type": "code",
   "execution_count": null,
   "id": "02a9f3b1",
   "metadata": {},
   "outputs": [],
   "source": [
    "count 100_000"
   ]
  },
  {
   "cell_type": "markdown",
   "id": "b132b28a",
   "metadata": {},
   "source": [
    "But try counting to 1,000,000 and you'll get the following error:\n",
    "```\n",
    "Stack overflow during evaluation (looping recursion?).\n",
    "```\n",
    "\n",
    "What's going on here?\n",
    "\n",
    "**The Call Stack.** The issue is that the *call stack* has a limited size. You\n",
    "probably learned in one of your introductory programming classes that most\n",
    "languages implement function calls with a stack. That stack contains one element\n",
    "for each function call that has been started but has not yet completed. Each\n",
    "element stores information like the values of local variables and which\n",
    "instruction in the function is currently being executed. When the evaluation of\n",
    "one function body calls another function, a new element is pushed on the call\n",
    "stack, and it is popped off when the called function completes.\n",
    "\n",
    "The size of the stack is usually limited by the operating system. So if the\n",
    "stack runs out of space, it becomes impossible to make another function call.\n",
    "Normally this doesn't happen, because there's no reason to make that many\n",
    "successive function calls before returning. In cases where it does happen,\n",
    "there's good reason for the operating system to make that program stop: it might\n",
    "be in the process of eating up *all* the memory available on the entire\n",
    "computer, thus harming other programs running on the same computer. The `count`\n",
    "function isn't likely to do that, but this function would:"
   ]
  },
  {
   "cell_type": "code",
   "execution_count": null,
   "id": "f5b23c60",
   "metadata": {},
   "outputs": [],
   "source": [
    "let rec count_forever n = 1 + count_forever n"
   ]
  },
  {
   "cell_type": "markdown",
   "id": "52d37c99",
   "metadata": {},
   "source": [
    "So the operating system for safety's sake limits the call stack size. That means\n",
    "eventually `count` will run out of stack space on a large enough input. Notice\n",
    "how that choice is really independent of the programming language. So this same\n",
    "issue can and does occur in languages other than OCaml, including Python and\n",
    "Java. You're just less likely to have seen it manifest there, because you\n",
    "probably never wrote quite as many recursive functions in those languages.\n",
    "\n",
    "**Tail Recursion.** There is a solution to this issue that was described in a\n",
    "[1977 paper about LISP by Guy Steele][lisp-tailcall]. The solution, *tail-call\n",
    "optimization*, requires some cooperation between the programmer and the\n",
    "compiler. The programmer does a little rewriting of the function, which the\n",
    "compiler then notices and applies an optimization. Let's see how it works.\n",
    "\n",
    "[lisp-tailcall]: https://dl.acm.org/doi/pdf/10.1145/800179.810196\n",
    "\n",
    "Suppose that a recursive function `f` calls itself then returns the result of\n",
    "that recursive call. Our `count` function does *not* do that:"
   ]
  },
  {
   "cell_type": "code",
   "execution_count": null,
   "id": "bde68557",
   "metadata": {},
   "outputs": [],
   "source": [
    "let rec count n =\n",
    "  if n = 0 then 0 else 1 + count (n - 1)"
   ]
  },
  {
   "cell_type": "markdown",
   "id": "e1b9c646",
   "metadata": {},
   "source": [
    "Rather, after the recursive call `count (n - 1)`, there is computation\n",
    "remaining: the computer still needs to add `1` to the result of that call.\n",
    "\n",
    "But we as programmers could rewrite the `count` function so that it does *not*\n",
    "need to do any additional computation after the recursive call. The trick is\n",
    "to create a helper function with an extra parameter:"
   ]
  },
  {
   "cell_type": "code",
   "execution_count": null,
   "id": "eeb50d92",
   "metadata": {},
   "outputs": [],
   "source": [
    "let rec count_aux n acc =\n",
    "  if n = 0 then acc else count_aux (n - 1) (acc + 1)\n",
    "\n",
    "let count_tr n = count_aux n 0"
   ]
  },
  {
   "cell_type": "markdown",
   "id": "890d5ac1",
   "metadata": {},
   "source": [
    "Function `count_aux` is almost the same as our original `count`, but it adds an\n",
    "extra parameter named `acc`, which is idiomatic and stands for \"accumulator\".\n",
    "The idea is that the value we want to return from the function is slowly, with\n",
    "each recursive call, being accumulated in it. The \"remaining computation\"\n",
    "&mdash;the addition of 1&mdash; now happens *before* the recursive call not\n",
    "*after*.  When the base case of the recursion finally arrives, the function\n",
    "now returns `acc`, where the answer has been accumulated.\n",
    "\n",
    "But the original base case of 0 still needs to exist in the code somewhere.\n",
    "And it does, as the original value of `acc` that is passed to `count_aux`.\n",
    "Now `count_tr` (we'll get to why the name is \"tr\" in just a minute) works\n",
    "as a replacement for our original `count`.\n",
    "\n",
    "At this point we've completed the programmer's responsibility, but it's probably\n",
    "not clear why we went through this effort. After all `count_aux` will still call\n",
    "itself recursively too many times as `count` did, and eventually overflow the\n",
    "stack.\n",
    "\n",
    "That's where the compiler's responsibility kicks in. A good compiler (and the\n",
    "OCaml compiler is good this way) can notice when a recursive call is in *tail\n",
    "position*, which is a technical way of saying \"there's no more computation to be\n",
    "done after it returns\". The recursive call to `count_aux` is in tail position;\n",
    "the recursive call to `count` is not. Here they are again so you can compare\n",
    "them:"
   ]
  },
  {
   "cell_type": "code",
   "execution_count": null,
   "id": "1d42f36d",
   "metadata": {
    "tags": [
     "remove-output"
    ]
   },
   "outputs": [],
   "source": [
    "let rec count n =\n",
    "  if n = 0 then 0 else 1 + count (n - 1)\n",
    "\n",
    "let rec count_aux n acc =\n",
    "  if n = 0 then acc else count_aux (n - 1) (acc + 1)"
   ]
  },
  {
   "cell_type": "markdown",
   "id": "d85fe72f",
   "metadata": {},
   "source": [
    "Here's why tail position matters: **A recursive call in tail position does not\n",
    "need a new stack frame. It can just reuse the existing stack frame.** That's\n",
    "because there's nothing left of use in the existing stack frame! There's no\n",
    "computation left to be done, so none of the local variables, or next instruction\n",
    "to execute, etc. matter any more. None of that memory ever needs to be read\n",
    "again, because that call is effectively already finished. So instead of wasting\n",
    "space by allocating another stack frame, the compiler \"recycles\" the space used\n",
    "by the previous frame.\n",
    "\n",
    "This is the *tail-call optimization*. It can even be applied in cases beyond\n",
    "recursive functions if the calling function's stack frame is suitably compatible\n",
    "with the callee. And, it's a big deal. The tail-call optimization reduces the\n",
    "stack space requirements from linear to constant. Whereas `count` needed $O(n)$\n",
    "stack frames, `count_aux` needs only $O(1)$, because the same frame gets reused\n",
    "over and over again for each recursive call. And that means `count_tr` actually\n",
    "can count to 1,000,000:"
   ]
  },
  {
   "cell_type": "code",
   "execution_count": null,
   "id": "fb82104d",
   "metadata": {},
   "outputs": [],
   "source": [
    "count_tr 1_000_000"
   ]
  },
  {
   "cell_type": "markdown",
   "id": "6c4eace4",
   "metadata": {},
   "source": [
    "Finally, why did we name this function `count_tr`? The \"tr\" stands for *tail\n",
    "recursive*. A tail recursive function is a recursive function whose recursive\n",
    "calls are all in tail position. In other words, it's a function that (unless\n",
    "there are other pathologies) will not exhaust the stack.\n",
    "\n",
    "**The Importance of Tail Recursion.** Sometimes beginning functional programmers\n",
    "fixate a bit too much upon it. If all you care about is writing the first draft\n",
    "of a function, you probably don't need to worry about tail recursion. It's\n",
    "pretty easy to make it tail recursive later if you need to, just by adding an\n",
    "accumulator argument. Or maybe you should rethink how you have designed the\n",
    "function. Take `count`, for example: it's kind of dumb. But later we'll see\n",
    "examples that aren't dumb, such as iterating over lists with thousands of\n",
    "elements.\n",
    "\n",
    "It is important that the compiler support the optimization. Otherwise, the\n",
    "transformation you do to the code as a programmer makes no difference. Indeed,\n",
    "most compilers do support it, at least as an option. Java is a notable\n",
    "exception.\n",
    "\n",
    "**The Recipe for Tail Recursion.** In a nutshell, here's how we made a function\n",
    "be tail recursive:\n",
    "\n",
    "1. Change the function into a helper function. Add an extra argument: the\n",
    "   accumulator, often named `acc`.\n",
    "1. Write a new \"main\" version of the function that calls the helper. It passes\n",
    "   the original base case's return value as the initial value of the\n",
    "   accumulator.\n",
    "1. Change the helper function to return the accumulator in the base case.\n",
    "1. Change the helper function's recursive case. It now needs to do the extra\n",
    "   work on the accumulator argument, before the recursive call. This is the only\n",
    "   step that requires much ingenuity.\n",
    "\n",
    "**An Example: Factorial.** Let's transform this factorial function to be\n",
    "tail recursive:"
   ]
  },
  {
   "cell_type": "code",
   "execution_count": null,
   "id": "2cf78659",
   "metadata": {},
   "outputs": [],
   "source": [
    "(** [fact n] is [n] factorial. *)\n",
    "let rec fact n =\n",
    "  if n = 0 then 1 else n * fact (n - 1)"
   ]
  },
  {
   "cell_type": "markdown",
   "id": "b26a3dfb",
   "metadata": {},
   "source": [
    "First, we change its name and add an accumulator argument:\n",
    "```ocaml\n",
    "let rec fact_aux n acc = ...\n",
    "```\n",
    "\n",
    "Second, we write a new \"main\" function that calls the helper with the original\n",
    "base case as the accumulator:\n",
    "```ocaml\n",
    "let fact_tr n = fact_aux n 1\n",
    "```\n",
    "\n",
    "Third, we change the helper function to return the accumulator in the base case:\n",
    "```ocaml\n",
    "if n = 0 then acc ...\n",
    "```\n",
    "\n",
    "Finally, we change the recursive case:\n",
    "```ocaml\n",
    "else fact_aux (n - 1) (n * acc)\n",
    "```\n",
    "\n",
    "Putting it all together, we have:"
   ]
  },
  {
   "cell_type": "code",
   "execution_count": null,
   "id": "9aaa22e5",
   "metadata": {},
   "outputs": [],
   "source": [
    "let rec fact_aux n acc =\n",
    "  if n = 0 then acc else fact_aux (n - 1) (n * acc)\n",
    "\n",
    "let fact_tr n = fact_aux n 1"
   ]
  },
  {
   "cell_type": "markdown",
   "id": "44e7826e",
   "metadata": {},
   "source": [
    "It was a nice exercise, but maybe not worthwhile.  Even before we exhaust the\n",
    "stack space, the computation suffers from integer overflow:"
   ]
  },
  {
   "cell_type": "code",
   "execution_count": null,
   "id": "309ab121",
   "metadata": {},
   "outputs": [],
   "source": [
    "fact 50"
   ]
  },
  {
   "cell_type": "markdown",
   "id": "16e6a3a6",
   "metadata": {},
   "source": [
    "To solve that problem, we turn to OCaml's big integer library,\n",
    "[Zarith][zarith]. Here we use a few OCaml features that are beyond anything\n",
    "we've seen so far, but hopefully nothing terribly surprising. (If you want to\n",
    "follow along with this code, first install Zarith in OPAM with\n",
    "`opam install zarith`.)\n",
    "\n",
    "[zarith]: https://antoinemine.github.io/Zarith/doc/latest/Z.html"
   ]
  },
  {
   "cell_type": "code",
   "execution_count": null,
   "id": "c1cdd432",
   "metadata": {
    "tags": [
     "remove-cell"
    ]
   },
   "outputs": [],
   "source": [
    "#use \"topfind\";;"
   ]
  },
  {
   "cell_type": "code",
   "execution_count": null,
   "id": "318f0dcb",
   "metadata": {
    "tags": [
     "remove-output"
    ]
   },
   "outputs": [],
   "source": [
    "#require \"zarith.top\";;"
   ]
  },
  {
   "cell_type": "code",
   "execution_count": null,
   "id": "8052f309",
   "metadata": {},
   "outputs": [],
   "source": [
    "let rec zfact_aux n acc =\n",
    "  if Z.equal n Z.zero then acc else zfact_aux (Z.pred n) (Z.mul acc n);;\n",
    "\n",
    "let zfact_tr n = zfact_aux n Z.one;;\n",
    "\n",
    "zfact_tr (Z.of_int 50)"
   ]
  },
  {
   "cell_type": "markdown",
   "id": "e4a18648",
   "metadata": {},
   "source": [
    "If you want you can use that code to compute `zfact_tr 1_000_000` without stack\n",
    "or integer overflow, though it will take several minutes.\n",
    "\n",
    "The chapter on modules will explain the OCaml features we used above in detail,\n",
    "but for now:\n",
    "\n",
    "- `#require` loads the library, which provides a module named `Z`. Recall that\n",
    "  $\\mathbb{Z}$ is the symbol used in mathematics to denote the integers.\n",
    "\n",
    "- `Z.n` means the name `n` defined inside of `Z`.\n",
    "\n",
    "- The type `Z.t` is the library's name for the type of big integers.\n",
    "\n",
    "- We use library values `Z.equal` for equality comparison, `Z.zero` for 0,\n",
    "  `Z.pred` for predecessor (i.e., subtracting 1), `Z.mul` for multiplication,\n",
    "  `Z.one` for 1, and `Z.of_int` to convert a primitive integer to a big integer."
   ]
  }
 ],
 "metadata": {
  "jupytext": {
   "cell_metadata_filter": "-all",
   "formats": "md:myst",
   "text_representation": {
    "extension": ".md",
    "format_name": "myst",
    "format_version": 0.13,
    "jupytext_version": "1.10.3"
   }
  },
  "kernelspec": {
   "display_name": "OCaml",
   "language": "OCaml",
   "name": "ocaml-jupyter"
  },
  "source_map": [
   14,
   78,
   82,
   102,
   106,
   161,
   171,
   213,
   215,
   218,
   220,
   228,
   231,
   321,
   323,
   327,
   330,
   340,
   343,
   360,
   362,
   365,
   367,
   376,
   380,
   389,
   391,
   396,
   399,
   403,
   405,
   427,
   429,
   437,
   440,
   448,
   450,
   472,
   477,
   488,
   490,
   498,
   500,
   530,
   532,
   536,
   540,
   542,
   550,
   552,
   556,
   558,
   568,
   572,
   574,
   578,
   582,
   584,
   670,
   674,
   678,
   682,
   684,
   707,
   712,
   715,
   717,
   720,
   722,
   749,
   751,
   770,
   773,
   780,
   785,
   810,
   817,
   835,
   837,
   874,
   878,
   902,
   907,
   911,
   913,
   922,
   927,
   932,
   939
  ]
 },
 "nbformat": 4,
 "nbformat_minor": 5
}