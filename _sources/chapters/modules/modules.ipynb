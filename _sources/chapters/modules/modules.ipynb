{
 "cells": [
  {
   "cell_type": "markdown",
   "id": "d7069f3c",
   "metadata": {},
   "source": [
    "# Modules\n",
    "\n",
    "{{ video_embed | replace(\"%%VID%%\", \"hIUSrPxCdHc\")}}\n",
    "\n",
    "We begin with a couple of examples of the OCaml module system before diving\n",
    "into the details.\n",
    "\n",
    "A *structure* is simply a collection of definitions, such as:\n",
    "\n",
    "```ocaml\n",
    "struct\n",
    "  let inc x = x + 1\n",
    "  type primary_color = Red | Green | Blue\n",
    "  exception Oops\n",
    "end\n",
    "```\n",
    "\n",
    "In a way, the structure is like a record: the structure has some distinct\n",
    "components with names. But unlike a record, it can define new types, exceptions,\n",
    "and so forth.\n",
    "\n",
    "By itself the code above won't compile, because structures do not have the same\n",
    "first-class status as values like integers or functions. You can't just enter\n",
    "that code in utop, or pass that structure to a function, etc. What you can do is\n",
    "bind the structure to a name:"
   ]
  },
  {
   "cell_type": "code",
   "execution_count": null,
   "id": "c49f466f",
   "metadata": {},
   "outputs": [],
   "source": [
    "module MyModule = struct\n",
    "  let inc x = x + 1\n",
    "  type primary_color = Red | Green | Blue\n",
    "  exception Oops\n",
    "end"
   ]
  },
  {
   "cell_type": "markdown",
   "id": "97afe6de",
   "metadata": {},
   "source": [
    "The output from OCaml has the form:\n",
    "\n",
    "```ocaml\n",
    "module MyModule : sig ... end\n",
    "```\n",
    "\n",
    "This indicates that `MyModule` has been defined, and that it has been inferred\n",
    "to have the *module type* that appears to the right of the colon. That module\n",
    "type is written as *signature*:\n",
    "\n",
    "```ocaml\n",
    "sig\n",
    "  val inc : int -> int\n",
    "  type primary_color = Red | Green | Blue\n",
    "  exception Oops\n",
    "end\n",
    "```\n",
    "\n",
    "The signature itself is a collection of *specifications*. The specifications for\n",
    "variant types and exceptions are simply their original definitions, so\n",
    "`primary_color` and `Oops` are no different than they were in the original\n",
    "structure. The specification for `inc` though is written with the `val` keyword,\n",
    "exactly as the toplevel would respond if we defined `inc` in it.\n",
    "\n",
    "```{note}\n",
    "This use of the word \"specification\" is perhaps confusing, since many\n",
    "programmers would use that word to mean \"the comments specifying the behavior of\n",
    "a function.\" But if we broaden our sight a little, we could allow that the type\n",
    "of a function is part of its specification. So it's at least a related sense of\n",
    "the word.\n",
    "```\n",
    "\n",
    "{{ video_embed | replace(\"%%VID%%\", \"8Q-2b7iGvXE\")}}\n",
    "\n",
    "The definitions in a module are usually more closely related than those in\n",
    "`MyModule`. Often a module will implement some data structure. For example, here\n",
    "is a module for stacks implemented as linked lists:"
   ]
  },
  {
   "cell_type": "code",
   "execution_count": null,
   "id": "207b992a",
   "metadata": {},
   "outputs": [],
   "source": [
    "module ListStack = struct\n",
    "  (** [empty] is the empty stack. *)\n",
    "  let empty = []\n",
    "\n",
    "  (** [is_empty s] is whether [s] is empty. *)\n",
    "  let is_empty = function [] -> true | _ -> false\n",
    "\n",
    "  (** [push x s] pushes [x] onto the top of [s]. *)\n",
    "  let push x s = x :: s\n",
    "\n",
    "  (** [Empty] is raised when an operation cannot be applied\n",
    "      to an empty stack. *)\n",
    "  exception Empty\n",
    "\n",
    "  (** [peek s] is the top element of [s].\n",
    "      Raises [Empty] if [s] is empty. *)\n",
    "  let peek = function\n",
    "    | [] -> raise Empty\n",
    "    | x :: _ -> x\n",
    "\n",
    "  (** [pop s] is all but the top element of [s].\n",
    "      Raises [Empty] if [s] is empty. *)\n",
    "  let pop = function\n",
    "    | [] -> raise Empty\n",
    "    | _ :: s -> s\n",
    "end"
   ]
  },
  {
   "cell_type": "markdown",
   "id": "c4d01d30",
   "metadata": {},
   "source": [
    "```{important}\n",
    "The specification of `pop` might surprise you. Note that it does not return the\n",
    "top element. That's the job of `peek`. Instead, `pop` returns all but the top\n",
    "element.\n",
    "```\n",
    "\n",
    "We can then use that module to manipulate a stack:"
   ]
  },
  {
   "cell_type": "code",
   "execution_count": null,
   "id": "1492d71d",
   "metadata": {},
   "outputs": [],
   "source": [
    "ListStack.push 2 (ListStack.push 1 ListStack.empty)"
   ]
  },
  {
   "cell_type": "markdown",
   "id": "a02b5a0a",
   "metadata": {},
   "source": [
    "```{warning}\n",
    "There's a common confusion lurking here for those programmers coming from\n",
    "object-oriented languages. It's tempting to think of `ListStack` as being an\n",
    "object on which you invoke methods. Indeed `ListStack.push` vaguely looks like\n",
    "we're invoking a `push` method on a `ListStack` object. But that's not what is\n",
    "happening. In an OO language you could instantiate many stack objects. But here,\n",
    "there is only one `ListStack`. Moreover it is not an object, in large part\n",
    "because it has no notion of a `this` or `self` keyword to denote the receiving\n",
    "object of the method call.\n",
    "```\n",
    "\n",
    "That's admittedly rather verbose code. Soon we'll see several solutions to that\n",
    "problem, but for now here's one:"
   ]
  },
  {
   "cell_type": "code",
   "execution_count": null,
   "id": "6d4ea55b",
   "metadata": {},
   "outputs": [],
   "source": [
    "ListStack.(push 2 (push 1 empty))"
   ]
  },
  {
   "cell_type": "markdown",
   "id": "5a96a742",
   "metadata": {},
   "source": [
    "By writing `ListStack.(e)`, all the names from `ListStack` become usable in `e`\n",
    "without needing to write the prefix `ListStack.` each time. Another improvement\n",
    "could be using the pipeline operator:"
   ]
  },
  {
   "cell_type": "code",
   "execution_count": null,
   "id": "9669b71f",
   "metadata": {},
   "outputs": [],
   "source": [
    "ListStack.(empty |> push 1 |> push 2)"
   ]
  },
  {
   "cell_type": "markdown",
   "id": "6aa78e14",
   "metadata": {},
   "source": [
    "Now we can read the code left-to-right without having to parse parentheses.\n",
    "Nice.\n",
    "\n",
    "```{warning}\n",
    "There's another common OO confusion lurking here. It's tempting to think of\n",
    "`ListStack` as being a class from which objects are instantiated. That's not the\n",
    "case though. Notice how there is no `new` operator used to create a stack above,\n",
    "nor any constructors (in the OO sense of that word).\n",
    "```\n",
    "\n",
    "Modules are considerably more basic than classes. A module is just a collection\n",
    "of definitions in its own namespace. In `ListStack`, we have some definitions of\n",
    "functions&mdash;`push`, `pop`, etc.&mdash;and one value, `empty`.\n",
    "\n",
    "So whereas in Java we might create a couple of stacks using code like this:\n",
    "\n",
    "```java\n",
    "Stack s1 = new Stack();\n",
    "s1.push(1);\n",
    "s1.push(2);\n",
    "Stack s2 = new Stack();\n",
    "s2.push(3);\n",
    "```\n",
    "\n",
    "In OCaml the same stacks could be created as follows:"
   ]
  },
  {
   "cell_type": "code",
   "execution_count": null,
   "id": "768e6827",
   "metadata": {},
   "outputs": [],
   "source": [
    "let s1 = ListStack.(empty |> push 1 |> push 2)\n",
    "let s2 = ListStack.(empty |> push 3)"
   ]
  },
  {
   "cell_type": "markdown",
   "id": "4c683e07",
   "metadata": {},
   "source": [
    "## Module Definitions\n",
    "\n",
    "{{ video_embed | replace(\"%%VID%%\", \"EUJXBpra0oY\")}}\n",
    "\n",
    "The `module` definition keyword is much like the `let` definition keyword that\n",
    "we learned before. (The OCaml designers hypothetically could have chosen to use\n",
    "`let_module` instead of `module` to emphasize the similarity.) The difference is\n",
    "just that:\n",
    "\n",
    "- `let` binds a value to a name, whereas\n",
    "- `module` binds a *module value* to a name.\n",
    "\n",
    "**Syntax.**\n",
    "\n",
    "The most common syntax for a module definition is simply:\n",
    "\n",
    "```ocaml\n",
    "module ModuleName = struct\n",
    "  module_items\n",
    "end\n",
    "```\n",
    "\n",
    "where `module_items` inside a structure can include `let` definitions, `type`\n",
    "definitions, and `exception` definitions, as well as nested `module`\n",
    "definitions. Module names must begin with an uppercase letter, and idiomatically\n",
    "they use `CamelCase` rather than `Snake_case`.\n",
    "\n",
    "But a more accurate version of the syntax would be:\n",
    "\n",
    "```ocaml\n",
    "module ModuleName = module_expression\n",
    "```\n",
    "\n",
    "where a `struct` is just one sort of `module_expression`. Here's another: the\n",
    "name of an already defined module. For example, you can write `module L = List`\n",
    "if you'd like a short alias for the `List` module. We'll see other sorts of\n",
    "module expressions later in this section and chapter.\n",
    "\n",
    "The definitions inside a structure can optionally be terminated by `;;` as in\n",
    "the toplevel:"
   ]
  },
  {
   "cell_type": "code",
   "execution_count": null,
   "id": "2ea80b67",
   "metadata": {},
   "outputs": [],
   "source": [
    "module M = struct\n",
    "  let x = 0;;\n",
    "  type t = int;;\n",
    "end"
   ]
  },
  {
   "cell_type": "markdown",
   "id": "c4e4dace",
   "metadata": {},
   "source": [
    "Sometimes that can be useful to add temporarily if you are trying to diagnose\n",
    "a syntax error.  It will help OCaml understand that you want two definitions\n",
    "to be syntactically separate.  After fixing whatever the underlying error is,\n",
    "though, you can remove the `;;`.\n",
    "\n",
    "One use case for `;;` is if you want to evaluate an expression as part of a\n",
    "module:"
   ]
  },
  {
   "cell_type": "code",
   "execution_count": null,
   "id": "31422493",
   "metadata": {},
   "outputs": [],
   "source": [
    "module M = struct\n",
    "  let x = 0;;\n",
    "  assert (x = 0);;\n",
    "end"
   ]
  },
  {
   "cell_type": "markdown",
   "id": "a02f9bf5",
   "metadata": {},
   "source": [
    "But that can be rewritten without `;;` as:"
   ]
  },
  {
   "cell_type": "code",
   "execution_count": null,
   "id": "0d89276d",
   "metadata": {},
   "outputs": [],
   "source": [
    "module M = struct\n",
    "  let x = 0\n",
    "  let _ = assert (x = 0)\n",
    "end"
   ]
  },
  {
   "cell_type": "markdown",
   "id": "63fe8b4a",
   "metadata": {},
   "source": [
    "Structures can also be written on a single line, with optional `;;` between\n",
    "items for readability:"
   ]
  },
  {
   "cell_type": "code",
   "execution_count": null,
   "id": "7dcc0b9e",
   "metadata": {},
   "outputs": [],
   "source": [
    "module N = struct let x = 0 let y = 1 end\n",
    "module O = struct let x = 0;; let y = 1 end"
   ]
  },
  {
   "cell_type": "markdown",
   "id": "f7105388",
   "metadata": {},
   "source": [
    "An empty structure is permitted:"
   ]
  },
  {
   "cell_type": "code",
   "execution_count": null,
   "id": "8ab5c157",
   "metadata": {},
   "outputs": [],
   "source": [
    "module E = struct end"
   ]
  },
  {
   "cell_type": "markdown",
   "id": "de70055f",
   "metadata": {},
   "source": [
    "**Dynamic semantics.**\n",
    "\n",
    "We already know that expressions are evaluated to values. Similarly, a module\n",
    "expression is evaluated to a *module value* or just \"module\" for short. The only\n",
    "interesting kind of module expression we have so far, from the perspective of\n",
    "evaluation anyway, is the structure. Evaluation of structures is easy: just\n",
    "evaluate each definition in it, in the order they occur. Because of that,\n",
    "earlier definitions are therefore in scope in later definitions, but not vice\n",
    "versa. So this module is fine:"
   ]
  },
  {
   "cell_type": "code",
   "execution_count": null,
   "id": "40c0b40b",
   "metadata": {},
   "outputs": [],
   "source": [
    "module M = struct\n",
    "  let x = 0\n",
    "  let y = x\n",
    "end"
   ]
  },
  {
   "cell_type": "markdown",
   "id": "5759ba90",
   "metadata": {},
   "source": [
    "But this module is not, because at the time the `let` definition of `x` is\n",
    "being evaluated, `y` has not yet been bound:"
   ]
  },
  {
   "cell_type": "code",
   "execution_count": null,
   "id": "d045a87e",
   "metadata": {
    "tags": [
     "raises-exception"
    ]
   },
   "outputs": [],
   "source": [
    "module M = struct\n",
    "  let x = y\n",
    "  let y = 0\n",
    "end"
   ]
  },
  {
   "cell_type": "markdown",
   "id": "46c73860",
   "metadata": {},
   "source": [
    "Of course, mutual recursion can be used if desired:"
   ]
  },
  {
   "cell_type": "code",
   "execution_count": null,
   "id": "7e67d061",
   "metadata": {},
   "outputs": [],
   "source": [
    "module M = struct\n",
    "  (* Requires: input is non-negative. *)\n",
    "  let rec even = function \n",
    "    | 0 -> true \n",
    "    | n -> odd (n - 1)\n",
    "  and odd = function \n",
    "    | 0 -> false \n",
    "    | n -> even (n - 1)\n",
    "end"
   ]
  },
  {
   "cell_type": "markdown",
   "id": "fffae3f7",
   "metadata": {},
   "source": [
    "**Static semantics.**\n",
    "\n",
    "A structure is well-typed if all the definitions in it are themselves\n",
    "well-typed, according to all the typing rules we have already learned.\n",
    "\n",
    "As we've seen in toplevel output, the module type of a structure is a signature.\n",
    "There's more to module types than that, though. Let's put that off for a moment\n",
    "to first talk about scope.\n",
    "\n",
    "## Scope and Open\n",
    "\n",
    "{{ video_embed | replace(\"%%VID%%\", \"GjlKfsY2nY8\")}}\n",
    "\n",
    "After a module `M` has been defined, you can access the names within it using\n",
    "the dot operator. For example:"
   ]
  },
  {
   "cell_type": "code",
   "execution_count": null,
   "id": "83842655",
   "metadata": {},
   "outputs": [],
   "source": [
    "module M = struct let x = 42 end"
   ]
  },
  {
   "cell_type": "code",
   "execution_count": null,
   "id": "82e308bc",
   "metadata": {},
   "outputs": [],
   "source": [
    "M.x"
   ]
  },
  {
   "cell_type": "markdown",
   "id": "d13e5926",
   "metadata": {},
   "source": [
    "Of course from outside the module the name `x` by itself is not meaningful:"
   ]
  },
  {
   "cell_type": "code",
   "execution_count": null,
   "id": "30051e2f",
   "metadata": {
    "tags": [
     "raises-exception"
    ]
   },
   "outputs": [],
   "source": [
    "x"
   ]
  },
  {
   "cell_type": "markdown",
   "id": "10a9539b",
   "metadata": {},
   "source": [
    "But you can bring all of the definitions of a module into the current scope\n",
    "using `open`:"
   ]
  },
  {
   "cell_type": "code",
   "execution_count": null,
   "id": "5b83aea6",
   "metadata": {},
   "outputs": [],
   "source": [
    "open M"
   ]
  },
  {
   "cell_type": "code",
   "execution_count": null,
   "id": "157a6745",
   "metadata": {},
   "outputs": [],
   "source": [
    "x"
   ]
  },
  {
   "cell_type": "markdown",
   "id": "eae021fa",
   "metadata": {},
   "source": [
    "Opening a module is like writing a local definition for each name defined in the\n",
    "module. For example, `open String` brings all the definitions from the\n",
    "[String module][string] into scope, and has an effect similar to the following\n",
    "on the local namespace:\n",
    "```ocaml\n",
    "let length = String.length\n",
    "let get = String.get\n",
    "let lowercase_ascii = String.lowercase_ascii\n",
    "...\n",
    "```\n",
    "\n",
    "[string]: https://ocaml.org/api/String.html\n",
    "\n",
    "If there are types, exceptions, or modules defined in a module, those also are\n",
    "brought into scope with `open`.\n",
    "\n",
    "**The Always-Open Module.**\n",
    "There is a [special module called `Stdlib`][stdlib] that is automatically opened\n",
    "in every OCaml program. It contains the \"built-in\" functions and operators. You\n",
    "therefore never need to prefix any of the names it defines with `Stdlib.`,\n",
    "though you could do so if you ever needed to unambiguously identify a name from\n",
    "it. In earlier days, this module was named `Pervasives`, and you might still see\n",
    "that name in some code bases.\n",
    "\n",
    "[stdlib]: https://ocaml.org/api/Stdlib.html\n",
    "\n",
    "**Open as a Module Item.**\n",
    "An `open` is another sort of `module_item`. So we can open one module inside\n",
    "another:"
   ]
  },
  {
   "cell_type": "code",
   "execution_count": null,
   "id": "0fe039f5",
   "metadata": {},
   "outputs": [],
   "source": [
    "module M = struct\n",
    "  open List\n",
    "\n",
    "  (** [uppercase_all lst] upper-cases all the elements of [lst]. *)\n",
    "  let uppercase_all = map String.uppercase_ascii\n",
    "end"
   ]
  },
  {
   "cell_type": "markdown",
   "id": "f2df976a",
   "metadata": {},
   "source": [
    "Since `List` is open, the name `map` from it is in scope.  But what if we wanted\n",
    "to get rid of the `String.` as well?"
   ]
  },
  {
   "cell_type": "code",
   "execution_count": null,
   "id": "4135d8f1",
   "metadata": {
    "tags": [
     "raises-exception"
    ]
   },
   "outputs": [],
   "source": [
    "module M = struct\n",
    "  open List\n",
    "  open String\n",
    "\n",
    "  (** [uppercase_all lst] upper-cases all the elements of [lst]. *)\n",
    "  let uppercase_all = map uppercase_ascii\n",
    "end"
   ]
  },
  {
   "cell_type": "markdown",
   "id": "a059f5c9",
   "metadata": {},
   "source": [
    "Now we have a problem, because `String` also defines the name `map`, but with a\n",
    "different type than `List`. As usual a later definition shadows an earlier one,\n",
    "so it's `String.map` that gets chosen instead of `List.map` as we intended.\n",
    "\n",
    "If you're using many modules inside your code, chances are you'll have at least\n",
    "one collision like this. Often it will be with a standard higher-order function\n",
    "like `map` that is defined in many library modules.\n",
    "\n",
    "```{tip}\n",
    "It is therefore generally good practice **not** to `open` all the modules you're\n",
    "going to use at the top of a `.ml` file or structure. This is perhaps different\n",
    "than how you're used to working with languages like Java, where you might\n",
    "`import` many packages with `*`. Instead, it's good to restrict the scope in\n",
    "which you open modules.\n",
    "```\n",
    "\n",
    "**Limiting the Scope of Open.**\n",
    "We've already seen one way of limiting the scope of an open: `M.(e)`. Inside `e`\n",
    "all the names from module `M` are in scope. This is useful for briefly using `M`\n",
    "in a short expression:"
   ]
  },
  {
   "cell_type": "code",
   "execution_count": null,
   "id": "81b044ab",
   "metadata": {},
   "outputs": [],
   "source": [
    "(* remove surrounding whitespace from [s] and convert it to lower case *)\n",
    "let s = \"BigRed \"\n",
    "let s' = s |> String.trim |> String.lowercase_ascii (* long way *)\n",
    "let s'' = String.(s |> trim |> lowercase_ascii) (* short way *)"
   ]
  },
  {
   "cell_type": "markdown",
   "id": "0ea34a1d",
   "metadata": {},
   "source": [
    "But what if you want to bring a module into scope for an entire function, or\n",
    "some other large block of code? The (admittedly strange) syntax for that is\n",
    "`let open M in e`. It makes all the names from `M` be in scope in `e`. For\n",
    "example:"
   ]
  },
  {
   "cell_type": "code",
   "execution_count": null,
   "id": "b05cbc9e",
   "metadata": {},
   "outputs": [],
   "source": [
    "(** [lower_trim s] is [s] in lower case with whitespace removed. *)\n",
    "let lower_trim s =\n",
    "  let open String in\n",
    "  s |> trim |> lowercase_ascii"
   ]
  },
  {
   "cell_type": "markdown",
   "id": "5224929c",
   "metadata": {},
   "source": [
    "Going back to our `uppercase_all` example, it might be best to eschew any kind\n",
    "of opening and simply to be explicit about which module we are using where:"
   ]
  },
  {
   "cell_type": "code",
   "execution_count": null,
   "id": "c7f9ba85",
   "metadata": {},
   "outputs": [],
   "source": [
    "module M = struct\n",
    "  (** [uppercase_all lst] upper-cases all the elements of [lst]. *)\n",
    "  let uppercase_all = List.map String.uppercase_ascii\n",
    "end"
   ]
  },
  {
   "cell_type": "markdown",
   "id": "e47622a6",
   "metadata": {},
   "source": [
    "## Module Type Definitions\n",
    "\n",
    "{{ video_embed | replace(\"%%VID%%\", \"4Uew8GEegyg\")}}\n",
    "\n",
    "We've already seen that OCaml will infer a signature as the type of a module.\n",
    "Let's now see how to write those modules types ourselves. As an example, here is\n",
    "a module type for our list-based stacks:"
   ]
  },
  {
   "cell_type": "code",
   "execution_count": null,
   "id": "3f046752",
   "metadata": {},
   "outputs": [],
   "source": [
    "module type LIST_STACK = sig\n",
    "  exception Empty\n",
    "  val empty : 'a list\n",
    "  val is_empty : 'a list -> bool\n",
    "  val push : 'a -> 'a list -> 'a list\n",
    "  val peek : 'a list -> 'a\n",
    "  val pop : 'a list -> 'a list\n",
    "end"
   ]
  },
  {
   "cell_type": "markdown",
   "id": "9a116370",
   "metadata": {},
   "source": [
    "Now that we have both a module and a module type for list-based stacks, we\n",
    "should move the specification comments from the structure into the signature.\n",
    "Those comments are properly part of the specification of the names in the\n",
    "signature. They specify behavior, thus augmenting the specification of types\n",
    "provided by the `val` declarations."
   ]
  },
  {
   "cell_type": "code",
   "execution_count": null,
   "id": "580dec61",
   "metadata": {
    "tags": [
     "hide-output"
    ]
   },
   "outputs": [],
   "source": [
    "module type LIST_STACK = sig\n",
    "  (** [Empty] is raised when an operation cannot be applied\n",
    "      to an empty stack. *)\n",
    "  exception Empty\n",
    "\n",
    "  (** [empty] is the empty stack. *)\n",
    "  val empty : 'a list\n",
    "\n",
    "  (** [is_empty s] is whether [s] is empty. *)\n",
    "  val is_empty : 'a list -> bool\n",
    "\n",
    "  (** [push x s] pushes [x] onto the top of [s]. *)\n",
    "  val push : 'a -> 'a list -> 'a list\n",
    "\n",
    "  (** [peek s] is the top element of [s].\n",
    "      Raises [Empty] if [s] is empty. *)\n",
    "  val peek : 'a list -> 'a\n",
    "\n",
    "  (** [pop s] is all but the top element of [s].\n",
    "      Raises [Empty] if [s] is empty. *)\n",
    "  val pop : 'a list -> 'a list\n",
    "end\n",
    "\n",
    "module ListStack = struct\n",
    "  let empty = []\n",
    "\n",
    "  let is_empty = function [] -> true | _ -> false\n",
    "\n",
    "  let push x s = x :: s\n",
    "\n",
    "  exception Empty\n",
    "\n",
    "  let peek = function\n",
    "    | [] -> raise Empty\n",
    "    | x :: _ -> x\n",
    "\n",
    "  let pop = function\n",
    "    | [] -> raise Empty\n",
    "    | _ :: s -> s\n",
    "end"
   ]
  },
  {
   "cell_type": "markdown",
   "id": "662f087d",
   "metadata": {},
   "source": [
    "Nothing so far, however, tells OCaml that there is a relationship between\n",
    "`LIST_STACK` and `ListStack`. If we want OCaml to ensure that `ListStack` really\n",
    "does have the module type specified by `LIST_STACK`, we can add a type\n",
    "annotation in the first line of the `module` definition:"
   ]
  },
  {
   "cell_type": "code",
   "execution_count": null,
   "id": "6350c70f",
   "metadata": {},
   "outputs": [],
   "source": [
    "module ListStack : LIST_STACK = struct\n",
    "  let empty = []\n",
    "\n",
    "  let is_empty = function [] -> true | _ -> false\n",
    "\n",
    "  let push x s = x :: s\n",
    "\n",
    "  exception Empty\n",
    "\n",
    "  let peek = function\n",
    "    | [] -> raise Empty\n",
    "    | x :: _ -> x\n",
    "\n",
    "  let pop = function\n",
    "    | [] -> raise Empty\n",
    "    | _ :: s -> s\n",
    "end"
   ]
  },
  {
   "cell_type": "markdown",
   "id": "3f0f5fab",
   "metadata": {},
   "source": [
    "The compiler agrees that the module `ListStack` does define all the items\n",
    "specified by `LIST_STACK` with appropriate types.  If we had accidentally\n",
    "omitted some item, the type annotation would have been rejected:"
   ]
  },
  {
   "cell_type": "code",
   "execution_count": null,
   "id": "7aeb345c",
   "metadata": {
    "tags": [
     "raises-exception"
    ]
   },
   "outputs": [],
   "source": [
    "module ListStack : LIST_STACK = struct\n",
    "  let empty = []\n",
    "\n",
    "  let is_empty = function [] -> true | _ -> false\n",
    "\n",
    "  let push x s = x :: s\n",
    "\n",
    "  exception Empty\n",
    "\n",
    "  let peek = function\n",
    "    | [] -> raise Empty\n",
    "    | x :: _ -> x\n",
    "\n",
    "  (* [pop] is missing *)\n",
    "end"
   ]
  },
  {
   "cell_type": "markdown",
   "id": "41f3ff51",
   "metadata": {},
   "source": [
    "**Syntax.**\n",
    "\n",
    "The most common syntax for a module type is simply:\n",
    "\n",
    "```ocaml\n",
    "module type ModuleTypeName = sig\n",
    "  specifications\n",
    "end\n",
    "```\n",
    "\n",
    "where `specifications` inside a signature can include `val` declarations, type\n",
    "definitions, exception definitions, and nested `module type` definitions. Like\n",
    "structures, a signature can be written on many lines or just one line, and the\n",
    "empty signature `sig end` is allowed.\n",
    "\n",
    "But, as we saw with module definitions, a more accurate version of the syntax\n",
    "would be:\n",
    "\n",
    "```ocaml\n",
    "module type ModuleTypeName = module_type\n",
    "```\n",
    "\n",
    "where a signature is just one sort of `module_type`. Another would be the name\n",
    "of an already defined module type&mdash;e.g., `module type LS = LIST_STACK`.\n",
    "We'll see other module types later in this section and chapter.\n",
    "\n",
    "By convention, module type names are usually `CamelCase`, like module names. So\n",
    "why did we use `ALL_CAPS` above for `LIST_STACK`? It was to avoid a possible\n",
    "point of confusion in that example, which we now illustrate. We could instead\n",
    "have used `ListStack` as the name of both the module and the module type:\n",
    "\n",
    "```ocaml\n",
    "module type ListStack = sig ... end\n",
    "module ListStack : ListStack = struct ... end\n",
    "```\n",
    "\n",
    "In OCaml the namespaces for modules and module types are distinct, so it's\n",
    "perfectly valid to have a module named `ListStack` and a module type named\n",
    "`ListStack`. The compiler will not get confused about which you mean, because\n",
    "they occur in distinct syntactic contexts. But as a human you might well get\n",
    "confused by those seemingly overloaded names.\n",
    "\n",
    "```{note}\n",
    "The use of `ALL_CAPS` for module types was at one point common, and you might\n",
    "see it still. It's an older convention from Standard ML. But the social\n",
    "conventions of all caps have changed since those days. To modern readers, a name\n",
    "like `LIST_STACK` might feel like your code is impolitely shouting at you. That\n",
    "is a connotation that [evolved in the 1980s][all-caps]. Older programming\n",
    "languages (e.g., Pascal, COBOL, FORTRAN) commonly used all caps for keywords and\n",
    "even their own names. Modern languages still idiomatically use all caps for\n",
    "constants&mdash;see, for example, Java's `Math.PI` or Python's\n",
    "[style guide][python-caps].\n",
    "```\n",
    "\n",
    "[all-caps]: https://newrepublic.com/article/117390/netiquette-capitalization-how-caps-became-code-yelling\n",
    "\n",
    "[python-caps]: https://www.python.org/dev/peps/pep-0008/#constants\n",
    "\n",
    "**More Syntax.**\n",
    "\n",
    "We should also add syntax now for module type annotations.  Module\n",
    "definitions may include an optional type annotation:\n",
    "```ocaml\n",
    "module ModuleName : module_type = module_expression\n",
    "```\n",
    "And module expressions may include manual type annotations:\n",
    "```ocaml\n",
    "(module_expression : module_type)\n",
    "```\n",
    "That syntax is analogous to how we can write `(e : t)` to manually specify the\n",
    "type `t` of an expression `e`.\n",
    "\n",
    "Here are a few examples to show how that syntax can be used:"
   ]
  },
  {
   "cell_type": "code",
   "execution_count": null,
   "id": "ec6c4add",
   "metadata": {
    "tags": [
     "hide-output"
    ]
   },
   "outputs": [],
   "source": [
    "module ListStackAlias : LIST_STACK = ListStack\n",
    "(* equivalently *)\n",
    "module ListStackAlias = (ListStack : LIST_STACK)\n",
    "\n",
    "module M : sig val x : int end = struct let x = 42 end\n",
    "(* equivalently *)\n",
    "module M = (struct let x = 42 end : sig val x : int end)"
   ]
  },
  {
   "cell_type": "markdown",
   "id": "c8c4c435",
   "metadata": {},
   "source": [
    "And, module types can include nested module specifications:"
   ]
  },
  {
   "cell_type": "code",
   "execution_count": null,
   "id": "b09d1ca5",
   "metadata": {
    "tags": [
     "hide-output"
    ]
   },
   "outputs": [],
   "source": [
    "module type X = sig\n",
    "  val x : int\n",
    "end\n",
    "\n",
    "module type T = sig\n",
    "  module Inner : X\n",
    "end\n",
    "\n",
    "module M : T = struct\n",
    "  module Inner : X = struct\n",
    "    let x = 42\n",
    "  end\n",
    "end"
   ]
  },
  {
   "cell_type": "markdown",
   "id": "2f605389",
   "metadata": {},
   "source": [
    "In the example above, `T` specifies that there must be an inner module named\n",
    "`Inner` whose module type is `X`. Here, the type annotation is mandatory,\n",
    "because otherwise nothing would be known about `Inner`. In implementing `T`,\n",
    "module `M` therefore has to provide a module (i) with that name, which also (ii)\n",
    "meets the specifications of module type `X`.\n",
    "\n",
    "**Dynamic semantics.**\n",
    "\n",
    "Since module types are in fact types, they are not evaluated. They have no\n",
    "dynamic semantics.\n",
    "\n",
    "**Static semantics.**\n",
    "\n",
    "Earlier in this section we delayed discussing the static semantics of module\n",
    "expressions. Now that we have learned about module types, we can return to that\n",
    "discussion.  We do so, next, in its own section, because the discussion will\n",
    "be lengthy.\n",
    "\n",
    "## Module Type Semantics\n",
    "\n",
    "{{ video_embed | replace(\"%%VID%%\", \"VprvFk7KKWk\")}}\n",
    "\n",
    "If `M` is just a `struct` block, its module type is whatever signature the\n",
    "compiler infers for it. But that can be changed by module type annotations. The\n",
    "key question we have to answer is: what does a type annotation mean for modules?\n",
    "That is, what does it mean when we write the `: T` in `module M : T = ...`?\n",
    "\n",
    "There are two properties the compiler guarantees:\n",
    "\n",
    "  1. *Signature matching:* every name declared in `T` is defined in `M` at the\n",
    "      same or a more general type.\n",
    "\n",
    "  2. *Opacity:* any name defined in `M` that does not appear in `T` is not\n",
    "     visible to code outside of `M`.\n",
    "\n",
    "But a more complete answer turns out to involve *subtyping*, which is a concept\n",
    "you've probably seen before in an object-oriented language. We're going to take\n",
    "a brief detour into that realm now, then come back to OCaml and modules.\n",
    "\n",
    "In Java, the `extends` keyword creates subtype relationships between classes:\n",
    "\n",
    "```java\n",
    "class C { }\n",
    "class D extends C { }\n",
    "\n",
    "D d = new D();\n",
    "C c = d;\n",
    "```\n",
    "\n",
    "Subtyping is what permits the assignment of `d` to `c` on the last line of that\n",
    "example. Because `D` extends `C`, Java considers `D` to be a subtype of `C`, and\n",
    "therefore permits an object instantiated from `D` to be used any place where an\n",
    "object instantiated from `C` is expected. It's up to the programmer of `D` to\n",
    "ensure that doesn't lead to any run-time errors, of course. The methods of `D`\n",
    "have to ensure that class invariants of `C` hold, for example. So by writing\n",
    "`D extends C`, the programmer is taking on some responsibility, and in turn\n",
    "gaining some flexibility by being able to write such assignment statements.\n",
    "\n",
    "So what is a \"subtype\"? That notion is in many ways dependent on the language.\n",
    "For a language-independent notion, we turn to Barbara Liskov. She won the Turing\n",
    "Award in 2008 in part for her work on object-oriented language design. Twenty\n",
    "years before that, she invented what is now called the *Liskov Substitution\n",
    "Principle* to explain subtyping. It says that if `S` is a subtype of `T`, then\n",
    "substituting an object of type `S` for an object of type `T` should not change\n",
    "any desirable behaviors of a program. You can see that at work in the Java\n",
    "example above, both in terms of what the language allows and what the programmer\n",
    "must guarantee.\n",
    "\n",
    "The particular flavor of subtyping in Java is called *nominal subtyping*, which\n",
    "is to say, it is based on names. In our example, `D` is a subtype of `C` just\n",
    "because of the way the names were declared. The programmer decreed that subtype\n",
    "relationship, and the language accepted the decree without question. Indeed, the\n",
    "*only* subtype relationships that exist are those that have been decreed by name\n",
    "through such uses of `extends` and `implements`.\n",
    "\n",
    "Now it's time to return to OCaml. Its module system also uses subtyping, with\n",
    "the same underlying intuition about the Liskov Substitution Principle. But OCaml\n",
    "uses a different flavor called *structural subtyping*. That is, it is based on\n",
    "the structure of modules rather than their names. \"Structure\" here simply means\n",
    "the definitions contained in the module. Those definitions are used to determine\n",
    "whether `(M : T)` is acceptable as a type annotation, where `M` is a module and\n",
    "`T` is a module type.\n",
    "\n",
    "Let's play with this idea of structure through several examples, starting with\n",
    "this module:"
   ]
  },
  {
   "cell_type": "code",
   "execution_count": null,
   "id": "5cffc11a",
   "metadata": {},
   "outputs": [],
   "source": [
    "module M = struct\n",
    "  let x = 0\n",
    "  let z = 2\n",
    "end"
   ]
  },
  {
   "cell_type": "markdown",
   "id": "c84cb3c9",
   "metadata": {},
   "source": [
    "Module `M` contains two definitions. You can see those in the signature for\n",
    "the module that OCaml outputs: it contains `x : int` and `z : int`.  Because\n",
    "of the former, the module type annotation below is accepted:"
   ]
  },
  {
   "cell_type": "code",
   "execution_count": null,
   "id": "ac070e1f",
   "metadata": {},
   "outputs": [],
   "source": [
    "module type X = sig\n",
    "  val x : int\n",
    "end\n",
    "\n",
    "module MX = (M : X)"
   ]
  },
  {
   "cell_type": "markdown",
   "id": "7eb9136c",
   "metadata": {},
   "source": [
    "Module type `X` requires a module item named `x` with type `int`.  Module `M`\n",
    "does contain such an item.  So `(M : X)` is valid.  The same would work\n",
    "for `z`:"
   ]
  },
  {
   "cell_type": "code",
   "execution_count": null,
   "id": "9b829868",
   "metadata": {},
   "outputs": [],
   "source": [
    "module type Z = sig\n",
    "  val z : int\n",
    "end\n",
    "\n",
    "module MZ = (M : Z)"
   ]
  },
  {
   "cell_type": "markdown",
   "id": "20b4c552",
   "metadata": {},
   "source": [
    "Or for both `x` and `z`:"
   ]
  },
  {
   "cell_type": "code",
   "execution_count": null,
   "id": "5d89e001",
   "metadata": {},
   "outputs": [],
   "source": [
    "module type XZ = sig\n",
    "  val x : int\n",
    "  val z : int\n",
    "end\n",
    "\n",
    "module MXZ = (M : XZ)"
   ]
  },
  {
   "cell_type": "markdown",
   "id": "11850526",
   "metadata": {},
   "source": [
    "But not for `y`, because `M` contains no such item:"
   ]
  },
  {
   "cell_type": "code",
   "execution_count": null,
   "id": "fac0cbca",
   "metadata": {
    "tags": [
     "raises-exception"
    ]
   },
   "outputs": [],
   "source": [
    "module type Y = sig\n",
    "  val y : int\n",
    "end\n",
    "\n",
    "module MY = (M : Y)"
   ]
  },
  {
   "cell_type": "markdown",
   "id": "fe254e7a",
   "metadata": {},
   "source": [
    "Take a close look at that error message. Learning to read such errors on small\n",
    "examples will help you when they appear in large bodies of code. OCaml is\n",
    "comparing two signatures, corresponding to the two expressions on either side of\n",
    "the colon in `(M : Y)`. The line\n",
    "\n",
    "```ocaml\n",
    "sig val x : int val z : int end\n",
    "```\n",
    "\n",
    "is the signature that OCaml is using for `M`. Since `M` is a module, that\n",
    "signature is just the names and types as they were defined in `M`. OCaml\n",
    "compares that signature to `Y`, and discovers a mismatch:\n",
    "\n",
    "```text\n",
    "The value `y' is required but not provided\n",
    "```\n",
    "\n",
    "That's because `Y` requires `y` but `M` provides no such definition.\n",
    "\n",
    "Here's another error message to practice reading:"
   ]
  },
  {
   "cell_type": "code",
   "execution_count": null,
   "id": "0e2f0c7c",
   "metadata": {
    "tags": [
     "raises-exception"
    ]
   },
   "outputs": [],
   "source": [
    "module type Xstring = sig\n",
    "  val x : string\n",
    "end\n",
    "\n",
    "module MXstring = (M : Xstring)"
   ]
  },
  {
   "cell_type": "markdown",
   "id": "e397a7be",
   "metadata": {},
   "source": [
    "This time the error is\n",
    "\n",
    "```text\n",
    "Values do not match: val x : int is not included in val x : string\n",
    "```\n",
    "\n",
    "The error changed, because `M` does provide a definition of `x`, but at a\n",
    "different type than `Xstring` requires. That's what \"is not included in\" means\n",
    "here. So why doesn't OCaml say something a little more straightforward, like \"is\n",
    "not the same as\"? It's because the types do not have to be exactly the same. If\n",
    "the provided value's type is polymorphic, it suffices for the required value's\n",
    "type to be an instantiation of that polymorphic type.\n",
    "\n",
    "For example, if a signature requires a type `int -> int`, it suffices for a\n",
    "structure to provide a value of type `'a -> 'a`:"
   ]
  },
  {
   "cell_type": "code",
   "execution_count": null,
   "id": "7e47a34e",
   "metadata": {
    "tags": [
     "raises-exception"
    ]
   },
   "outputs": [],
   "source": [
    "module type IntFun = sig\n",
    "  val f : int -> int\n",
    "end\n",
    "\n",
    "module IdFun = struct\n",
    "  let f x = x\n",
    "end\n",
    "\n",
    "module Iid = (IdFun : IntFun)"
   ]
  },
  {
   "cell_type": "markdown",
   "id": "0c2941b0",
   "metadata": {},
   "source": [
    "So far all these examples were just a matter of comparing the definitions\n",
    "required by a signature to the definitions provided by a structure. But here's\n",
    "an example that might be surprising:"
   ]
  },
  {
   "cell_type": "code",
   "execution_count": null,
   "id": "c8df7c88",
   "metadata": {
    "tags": [
     "raises-exception"
    ]
   },
   "outputs": [],
   "source": [
    "module MXZ' = ((M : X) : Z)"
   ]
  },
  {
   "cell_type": "markdown",
   "id": "529fd140",
   "metadata": {},
   "source": [
    "Why does OCaml complain that `z` is required but not provided? We know from the\n",
    "definition of `M` that it indeed does have a value `z : int`.  Yet the\n",
    "error message perhaps strangely claims:\n",
    "\n",
    "```text\n",
    "The value `z' is required but not provided.\n",
    "```\n",
    "\n",
    "The reason for this error is that we've already supplied the type annotation\n",
    "`X` in the module expression `(M : X)`.  That causes the module expression\n",
    "to be known only at the module type `X`.  In other words, we've forgotten\n",
    "irrevocably about the existence of `z` after that annotation.  All that is\n",
    "known is that the module has items required by `X`.\n",
    "\n",
    "After all those examples, here are the static semantics of module type\n",
    "annotations:\n",
    "\n",
    "- Module type annotation `(M : T)` is valid if the module type of `M` is a\n",
    "  subtype of `T`. The module type of `(M : T)` is then `T` in any further type\n",
    "  checking.\n",
    "\n",
    "- Module type `S` is a subtype of `T` if the set of definitions in `S` is a\n",
    "  superset of those in `T`.  Definitions in `T` are permitted to instantiate\n",
    "  type variables from `S`.\n",
    "\n",
    "The \"sub\" vs. \"super\" in the second rule is not a typo. Consider these module\n",
    "types and modules:"
   ]
  },
  {
   "cell_type": "code",
   "execution_count": null,
   "id": "544f6bff",
   "metadata": {},
   "outputs": [],
   "source": [
    "module type T = sig\n",
    "  val a : int\n",
    "end\n",
    "\n",
    "module type S = sig\n",
    "  val a : int\n",
    "  val b : bool\n",
    "end\n",
    "\n",
    "module A = struct\n",
    "  let a = 0\n",
    "end\n",
    "\n",
    "module AB = struct\n",
    "  let a = 0\n",
    "  let b = true\n",
    "end\n",
    "\n",
    "module AC = struct\n",
    "  let a = 0\n",
    "  let c = 'c'\n",
    "end"
   ]
  },
  {
   "cell_type": "markdown",
   "id": "e624b76e",
   "metadata": {},
   "source": [
    "Module type `S` provides a *super*set of the definitions in `T`, because it adds\n",
    "a definition of `b`. So why is `S` called a *sub*type of `T`? Think about the\n",
    "set $\\mathit{Type}(T)$ of all module values `M` such that `M : T`. That set\n",
    "contains `A`, `AB`, `AC`, and many others. Also think about the set\n",
    "$\\mathit{Type}(S)$ of all module values `M` such that `M : S`. That set contains\n",
    "`AB` but not `A` nor `AC`. So $\\mathit{Type}(S) \\subset \\mathit{Type}(T)$,\n",
    "because there are some module values that are in $\\mathit{Type}(T)$ but not in\n",
    "$\\mathit{Type}(S)$.\n",
    "\n",
    "As another example, a module type `StackHistory` for stacks might customize our\n",
    "usual `Stack` signature by adding an operation `history : 'a t -> int` to return\n",
    "how many items have ever been pushed on the stack in its history. That `history`\n",
    "operation makes the set of definitions in `StackHistory` bigger than the set in\n",
    "`Stack`, hence the use of \"superset\" in the rule above. But the set of module\n",
    "values that implement `StackHistory` is smaller than the set of module values\n",
    "that implement `Stack`, hence the use of \"subset\".\n",
    "\n",
    "## Module Types are Static\n",
    "\n",
    "Decisions about validity of module type annotations are made at compile time\n",
    "rather than run time.\n",
    "\n",
    "```{important}\n",
    "Module type annotations therefore offer potential confusion to programmers\n",
    "accustomed to object-oriented languages, in which subtyping works differently.\n",
    "```\n",
    "\n",
    "Python programmers, for example, are accustomed to so-called \"duck typing\". They\n",
    "might expect `((M : X) : Z)` to be valid, because `z` does exist at run-time in\n",
    "`M`. But in OCaml, the compile-time type of `(M : X)` has hidden `z` from view\n",
    "irrevocably.\n",
    "\n",
    "Java programmers, on the other hand, might expect that module type annotations\n",
    "work like type casts. So it might seem valid to first \"cast\" `M` to `X` then to\n",
    "`Z`. In Java such type casts are checked, as needed, at run time. But OCaml\n",
    "module type annotations are static. Once an annotation of `X` is made, there is\n",
    "no way to check at compile time what other items might exist in the\n",
    "module&mdash;that would require a run-time check, which OCaml does not permit.\n",
    "\n",
    "In both cases it might feel as though OCaml is being too restrictive. Maybe. But\n",
    "in return for that restrictiveness, OCaml is guaranteeing an **absence of\n",
    "run-time errors** of the kind that would occur in Java or Python, whether\n",
    "because of a run-time error from a cast, or a run-time error from a missing\n",
    "method.\n",
    "\n",
    "## First-Class Modules\n",
    "\n",
    "Modules are not as first-class in OCaml as functions. But it is possible to\n",
    "*package* modules as first-class values. Briefly:\n",
    "\n",
    "- `(module M : T)` packages module `M` with module type `T` into a value.\n",
    "- `(val e : T)` un-packages `e` into a module with type `T`.\n",
    "\n",
    "We won't cover this much further, but if you're curious you can have a look at\n",
    "[the manual][firstclassmodules].\n",
    "\n",
    "[firstclassmodules]: https://ocaml.org/manual/firstclassmodules.html"
   ]
  }
 ],
 "metadata": {
  "jupytext": {
   "cell_metadata_filter": "-all",
   "formats": "md:myst",
   "text_representation": {
    "extension": ".md",
    "format_name": "myst",
    "format_version": 0.13,
    "jupytext_version": "1.10.3"
   }
  },
  "kernelspec": {
   "display_name": "OCaml",
   "language": "OCaml",
   "name": "ocaml-jupyter"
  },
  "source_map": [
   14,
   42,
   48,
   88,
   115,
   125,
   127,
   143,
   145,
   151,
   153,
   181,
   184,
   228,
   233,
   242,
   247,
   251,
   256,
   261,
   264,
   268,
   270,
   282,
   287,
   292,
   298,
   302,
   312,
   330,
   334,
   336,
   340,
   343,
   348,
   352,
   354,
   386,
   393,
   398,
   407,
   430,
   435,
   442,
   447,
   452,
   457,
   467,
   476,
   484,
   526,
   533,
   551,
   557,
   574,
   650,
   659,
   663,
   678,
   766,
   771,
   777,
   783,
   789,
   795,
   799,
   806,
   810,
   817,
   840,
   847,
   865,
   876,
   882,
   885,
   915,
   938
  ]
 },
 "nbformat": 4,
 "nbformat_minor": 5
}