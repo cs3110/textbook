{
 "cells": [
  {
   "cell_type": "markdown",
   "id": "02a78c5f",
   "metadata": {},
   "source": [
    "# Includes\n",
    "\n",
    "{{ video_embed | replace(\"%%VID%%\", \"SmG3ChuOLpQ\")}}\n",
    "\n",
    "Copying and pasting code is almost always a bad idea. Duplication of code causes\n",
    "duplication and proliferation of errors. So why are we so prone to making this\n",
    "mistake? Maybe because it always seems like the easier option &mdash; easier and\n",
    "quicker than applying the Abstraction Principle as we should to factor out\n",
    "common code.\n",
    "\n",
    "The OCaml module system provides a neat feature called *includes* that is like a\n",
    "principled copy-and-paste that is quick and easy to use, but avoids actual\n",
    "duplication. It can be used to solve some of the same problems as *inheritance*\n",
    "in object-oriented languages.\n",
    "\n",
    "Let's start with an example. Recall this implementation of sets as lists:"
   ]
  },
  {
   "cell_type": "code",
   "execution_count": null,
   "id": "bc02b989",
   "metadata": {
    "tags": [
     "hide-output"
    ]
   },
   "outputs": [],
   "source": [
    "module type Set = sig\n",
    "  type 'a t\n",
    "  val empty : 'a t\n",
    "  val mem : 'a -> 'a t -> bool\n",
    "  val add : 'a -> 'a t -> 'a t\n",
    "  val elements : 'a t -> 'a list\n",
    "end\n",
    "\n",
    "module ListSet : Set = struct\n",
    "  type 'a t = 'a list\n",
    "  let empty = []\n",
    "  let mem = List.mem\n",
    "  let add = List.cons\n",
    "  let elements s = List.sort_uniq Stdlib.compare s\n",
    "end"
   ]
  },
  {
   "cell_type": "markdown",
   "id": "1609c145",
   "metadata": {},
   "source": [
    "Suppose we wanted to add a function `of_list : 'a list -> 'a t` that could\n",
    "construct a set out of a list. If we had access to the source code of both\n",
    "`ListSet` and `Set`, and if we were permitted to modify it, this wouldn't be\n",
    "hard. But what if they were third-party libraries for which we didn't have\n",
    "source code?\n",
    "\n",
    "In Java, we might use inheritance to solve this problem:\n",
    "\n",
    "```java\n",
    "interface Set<T> { ... }\n",
    "class ListSet<T> implements Set<T> { ... }\n",
    "class ListSetExtended<T> extends ListSet<T> {\n",
    "  Set<T> ofList(List<T> lst) { ... }\n",
    "}\n",
    "```\n",
    "\n",
    "That helps us to reuse code, because the subclass inherits all the methods of\n",
    "its superclass.\n",
    "\n",
    "OCaml *includes* are similar. They enable a module to include all the items\n",
    "defined by another module, or a module type to include all the specifications of\n",
    "another module type.\n",
    "\n",
    "Here's how we can use includes to solve the problem of adding `of_list` to\n",
    "`ListSet`:"
   ]
  },
  {
   "cell_type": "code",
   "execution_count": null,
   "id": "970308c7",
   "metadata": {},
   "outputs": [],
   "source": [
    "module ListSetExtended = struct\n",
    "  include ListSet\n",
    "  let of_list lst = List.fold_right add lst empty\n",
    "end"
   ]
  },
  {
   "cell_type": "markdown",
   "id": "9b3327ea",
   "metadata": {},
   "source": [
    "This code says that `ListSetExtended` is a module that includes all the\n",
    "definitions of the `ListSet` module, as well as a definition of `of_list`. We\n",
    "don't have to know the source code implementing `ListSet` to make this happen.\n",
    "\n",
    "```{note}\n",
    "You might wonder why we can't simply implement `of_list` as the identity\n",
    "function. See the section below on encapsulation for the answer.\n",
    "```\n",
    "\n",
    "## Semantics of Includes\n",
    "\n",
    "Includes can be used inside of structures and signatures. When we include inside\n",
    "a signature, we must be including another signature. And when we include inside\n",
    "a structure, we must be including another structure.\n",
    "\n",
    "**Including a structure** is effectively just syntactic sugar for writing a\n",
    "local definition for each name defined in the module. Writing `include ListSet`\n",
    "as we did above, for example, has an effect similar to writing the following:"
   ]
  },
  {
   "cell_type": "code",
   "execution_count": null,
   "id": "07bbc71d",
   "metadata": {},
   "outputs": [],
   "source": [
    "module ListSetExtended = struct\n",
    "  (* BEGIN all the includes *)\n",
    "  type 'a t = 'a ListSet.t\n",
    "  let empty = ListSet.empty\n",
    "  let mem = ListSet.mem\n",
    "  let add = ListSet.add\n",
    "  let elements = ListSet.elements\n",
    "  (* END all the includes *)\n",
    "  let of_list lst = List.fold_right add lst empty\n",
    "end"
   ]
  },
  {
   "cell_type": "markdown",
   "id": "8f1a6927",
   "metadata": {},
   "source": [
    "None of that is actually copying the source code of `ListSet`. Rather, the\n",
    "`include` just creates a new definition in `ListSetExtended` with the same name\n",
    "as each definition in `ListSet`. But if the set of names defined inside\n",
    "`ListSet` ever changed, the `include` would reflect that change, whereas a\n",
    "copy-paste job would not.\n",
    "\n",
    "**Including a signature** is much the same. For example, we could write:"
   ]
  },
  {
   "cell_type": "code",
   "execution_count": null,
   "id": "3809f9c9",
   "metadata": {},
   "outputs": [],
   "source": [
    "module type SetExtended = sig\n",
    "  include Set\n",
    "  val of_list : 'a list -> 'a t\n",
    "end"
   ]
  },
  {
   "cell_type": "markdown",
   "id": "c16e9531",
   "metadata": {},
   "source": [
    "Which would have an effect similar to writing the following:"
   ]
  },
  {
   "cell_type": "code",
   "execution_count": null,
   "id": "1d69bdc7",
   "metadata": {},
   "outputs": [],
   "source": [
    "module type SetExtended = sig\n",
    "  (* BEGIN all the includes *)\n",
    "  type 'a t\n",
    "  val empty : 'a t\n",
    "  val mem : 'a -> 'a t -> bool\n",
    "  val add : 'a -> 'a t -> 'a t\n",
    "  val elements  : 'a t -> 'a list\n",
    "  (* END all the includes *)\n",
    "  val of_list : 'a list -> 'a t\n",
    "end"
   ]
  },
  {
   "cell_type": "markdown",
   "id": "169aad8e",
   "metadata": {},
   "source": [
    "That module type would be suitable for `ListSetExtended`:"
   ]
  },
  {
   "cell_type": "code",
   "execution_count": null,
   "id": "aa48ce6a",
   "metadata": {},
   "outputs": [],
   "source": [
    "module ListSetExtended : SetExtended = struct\n",
    "  include ListSet\n",
    "  let of_list lst = List.fold_right add lst empty\n",
    "end"
   ]
  },
  {
   "cell_type": "markdown",
   "id": "2f62d1cd",
   "metadata": {},
   "source": [
    "## Encapsulation and Includes\n",
    "\n",
    "We mentioned above that you might wonder why we didn't write this simpler\n",
    "definition of `of_list`:"
   ]
  },
  {
   "cell_type": "code",
   "execution_count": null,
   "id": "369049c3",
   "metadata": {
    "tags": [
     "raises-exception"
    ]
   },
   "outputs": [],
   "source": [
    "module ListSetExtended : SetExtended = struct\n",
    "  include ListSet\n",
    "  let of_list lst = lst\n",
    "end"
   ]
  },
  {
   "cell_type": "markdown",
   "id": "41b7d4b5",
   "metadata": {},
   "source": [
    "Check out that error message.  It looks like `of_list` doesn't have the right\n",
    "type.  What if we try adding some type annotations?"
   ]
  },
  {
   "cell_type": "code",
   "execution_count": null,
   "id": "6e0b03e0",
   "metadata": {
    "tags": [
     "raises-exception"
    ]
   },
   "outputs": [],
   "source": [
    "module ListSetExtended : SetExtended = struct\n",
    "  include ListSet\n",
    "  let of_list (lst : 'a list) : 'a t = lst\n",
    "end"
   ]
  },
  {
   "cell_type": "markdown",
   "id": "9a23e371",
   "metadata": {},
   "source": [
    "Ah, now the problem is clearer: in the body of `of_list`, the equality of `'a t`\n",
    "and `'a list` isn't known. In `ListSetExtended`, we do know that\n",
    "`'a t = 'a ListSet.t`, because that's what the `include` gave us. But the fact\n",
    "that `'a ListSet.t = 'a list` was hidden when `ListSet` was sealed at module\n",
    "type `Set`. So, includes must obey encapsulation, just like the rest of the\n",
    "module system.\n",
    "\n",
    "One workaround is to rewrite the definitions as follows:"
   ]
  },
  {
   "cell_type": "code",
   "execution_count": null,
   "id": "96e6e62e",
   "metadata": {},
   "outputs": [],
   "source": [
    "module ListSetImpl = struct\n",
    "  type 'a t = 'a list\n",
    "  let empty = []\n",
    "  let mem = List.mem\n",
    "  let add = List.cons\n",
    "  let elements s = List.sort_uniq Stdlib.compare s\n",
    "end\n",
    "\n",
    "module ListSet : Set = ListSetImpl\n",
    "\n",
    "module type SetExtended = sig\n",
    "  include Set\n",
    "  val of_list : 'a list -> 'a t\n",
    "end\n",
    "\n",
    "module ListSetExtendedImpl = struct\n",
    "  include ListSetImpl\n",
    "  let of_list lst = lst\n",
    "end\n",
    "\n",
    "module ListSetExtended : SetExtended = ListSetExtendedImpl"
   ]
  },
  {
   "cell_type": "markdown",
   "id": "36453247",
   "metadata": {},
   "source": [
    "The important change is that `ListSetImpl` is not sealed, so its type `'a t` is\n",
    "not abstract. When we include it in `ListSetExtended`, we can therefore exploit\n",
    "the fact that it's a synonym for `'a list`.\n",
    "\n",
    "What we just did is effectively the same as what Java does to handle the\n",
    "visibility modifiers `public`, `private`, etc. The \"private version\" of a class\n",
    "is like the `Impl` version above: anyone who can see that version gets to see\n",
    "all the exposed items (fields in Java, types in OCaml), without any\n",
    "encapsulation. The \"public version\" of a class is like the sealed version above:\n",
    "anyone who can see that version is forced to treat the items as abstract, hence\n",
    "encapsulated.\n",
    "\n",
    "With that technique, if we want to provide a new implementation of one of the\n",
    "included functions we *could* do that too:"
   ]
  },
  {
   "cell_type": "code",
   "execution_count": null,
   "id": "52bde7cd",
   "metadata": {},
   "outputs": [],
   "source": [
    "module ListSetExtendedImpl = struct\n",
    "  include ListSetImpl\n",
    "  let of_list lst = List.fold_right add lst empty\n",
    "  let rec elements = function\n",
    "    | [] -> []\n",
    "    | h :: t -> if mem h t then elements t else h :: elements t\n",
    "end"
   ]
  },
  {
   "cell_type": "markdown",
   "id": "814905a7",
   "metadata": {},
   "source": [
    "But that's a bad idea. First, it's actually a quadratic implementation of\n",
    "`elements` instead of linearithmic. Second, it does not *replace* the original\n",
    "implementation of `elements`. Remember the semantics of modules: all definitions\n",
    "are evaluated from top to bottom, in order. So the new definition of `elements`\n",
    "above won't come into use until the very end of evaluation. If any earlier\n",
    "functions had happened to use `elements` as a helper, they would use the\n",
    "original linearithmic version, not the new quadratic version.\n",
    "\n",
    "```{warning}\n",
    "This differs from what you might expect from Java, which uses a language feature\n",
    "called [dynamic dispatch][dd] to figure out which method implementation to\n",
    "invoke. Dynamic dispatch is arguably *the* defining feature of object-oriented\n",
    "languages. OCaml functions are not methods, and they do not use dynamic\n",
    "dispatch.\n",
    "```\n",
    "\n",
    "[dd]: https://en.wikipedia.org/wiki/Dynamic_dispatch\n",
    "\n",
    "\n",
    "## Include vs. Open\n",
    "\n",
    "{{ video_embed | replace(\"%%VID%%\", \"P1-gLiagAK4\")}}\n",
    "\n",
    "The `include` and `open` statements are quite similar, but they have\n",
    "a subtly different effect on a structure.  Consider this code:"
   ]
  },
  {
   "cell_type": "code",
   "execution_count": null,
   "id": "72336590",
   "metadata": {},
   "outputs": [],
   "source": [
    "module M = struct\n",
    "  let x = 0\n",
    "end\n",
    "\n",
    "module N = struct\n",
    "  include M\n",
    "  let y = x + 1\n",
    "end\n",
    "\n",
    "module O = struct\n",
    "  open M\n",
    "  let y = x + 1\n",
    "end"
   ]
  },
  {
   "cell_type": "markdown",
   "id": "de47fbed",
   "metadata": {},
   "source": [
    "Look closely at the values contained in each structure. `N` has both an `x` and\n",
    "`y`, whereas `O` has only a `y`. The reason is that `include M` causes all the\n",
    "definitions of `M` to also be included in `N`, so the definition of `x` from `M`\n",
    "is present in `N`. But `open M` only made those definitions available in the\n",
    "*scope* of `O`; it doesn't actually make them part of the *structure*. So `O`\n",
    "does not contain a definition of `x`, even though `x` is in scope during the\n",
    "evaluation of `O`'s definition of `y`.\n",
    "\n",
    "A metaphor for understanding this difference might be: `open M` imports\n",
    "definitions from `M` and makes them available for local consumption, but they\n",
    "aren't exported to the outside world. Whereas `include M` imports definitions\n",
    "from `M`, makes them available for local consumption, and additionally exports\n",
    "them to the outside world.\n",
    "\n",
    "## Including Code in Multiple Modules\n",
    "\n",
    "Recall that we also had an implementation of sets that made sure every element\n",
    "of the underlying list was unique:"
   ]
  },
  {
   "cell_type": "code",
   "execution_count": null,
   "id": "f9ed7d19",
   "metadata": {},
   "outputs": [],
   "source": [
    "module UniqListSet : Set = struct\n",
    "  (** All values in the list must be unique. *)\n",
    "  type 'a t = 'a list\n",
    "  let empty = []\n",
    "  let mem = List.mem\n",
    "  let add x s = if mem x s then s else x :: s\n",
    "  let elements = Fun.id\n",
    "end"
   ]
  },
  {
   "cell_type": "markdown",
   "id": "ab3c6bf1",
   "metadata": {},
   "source": [
    "Suppose we wanted to add `of_list` to that module too. One possibility would be to\n",
    "copy and paste that function from `ListSet` into `UniqListSet`. But that's poor\n",
    "software engineering. So let's rule that out right away as a non-solution.\n",
    "\n",
    "Instead, suppose we try to define the function outside of either module:"
   ]
  },
  {
   "cell_type": "code",
   "execution_count": null,
   "id": "5816e2f8",
   "metadata": {
    "tags": [
     "raises-exception"
    ]
   },
   "outputs": [],
   "source": [
    "let of_list lst = List.fold_right add lst empty"
   ]
  },
  {
   "cell_type": "markdown",
   "id": "b9e42877",
   "metadata": {},
   "source": [
    "The problem is we either need to choose which module's `add` and `empty` we\n",
    "want. But as soon as we do, the function becomes useful only with that one\n",
    "module:"
   ]
  },
  {
   "cell_type": "code",
   "execution_count": null,
   "id": "12606a22",
   "metadata": {},
   "outputs": [],
   "source": [
    "let of_list lst = List.fold_right ListSet.add lst ListSet.empty"
   ]
  },
  {
   "cell_type": "markdown",
   "id": "f23d95f9",
   "metadata": {},
   "source": [
    "We could make `add` and `empty` be parameters instead:"
   ]
  },
  {
   "cell_type": "code",
   "execution_count": null,
   "id": "0069daf2",
   "metadata": {},
   "outputs": [],
   "source": [
    "let of_list' add empty lst = List.fold_right add lst empty\n",
    "\n",
    "let of_list lst = of_list' ListSet.add ListSet.empty lst\n",
    "let of_list_uniq lst = of_list' UniqListSet.add UniqListSet.empty lst"
   ]
  },
  {
   "cell_type": "markdown",
   "id": "1b090bf9",
   "metadata": {},
   "source": [
    "But this is annoying in a couple of ways. First, we have to remember which\n",
    "function name to call, whereas all the other operations that are part of those\n",
    "modules have the same name, regardless of which module they're in. Second, the\n",
    "`of_list` functions live outside either module, so clients who open one of the\n",
    "modules won't automatically get the ability to name those functions.\n",
    "\n",
    "Let's try to use includes to solve this problem. First, we write a module that\n",
    "contains the parameterized implementation:"
   ]
  },
  {
   "cell_type": "code",
   "execution_count": null,
   "id": "b73134ef",
   "metadata": {},
   "outputs": [],
   "source": [
    "module SetOfList = struct\n",
    "  let of_list' add empty lst = List.fold_right add lst empty\n",
    "end"
   ]
  },
  {
   "cell_type": "markdown",
   "id": "ead4b106",
   "metadata": {},
   "source": [
    "Then we include that module to get the helper function:"
   ]
  },
  {
   "cell_type": "code",
   "execution_count": null,
   "id": "27df776b",
   "metadata": {},
   "outputs": [],
   "source": [
    "module UniqListSetExtended : SetExtended = struct\n",
    "  include UniqListSet\n",
    "  include SetOfList\n",
    "  let of_list lst = of_list' add empty lst\n",
    "end\n",
    "\n",
    "module ListSetExtended : SetExtended = struct\n",
    "  include ListSet\n",
    "  include SetOfList\n",
    "  let of_list lst = of_list' add empty lst\n",
    "end"
   ]
  },
  {
   "cell_type": "markdown",
   "id": "37dbb36a",
   "metadata": {},
   "source": [
    "That works, but we've only partially succeeded in achieving code reuse:\n",
    "\n",
    "- On the positive side, the code that implements `of_list'` has been factored\n",
    "  out into a single location and reused in the two structures.\n",
    "\n",
    "- But on the negative side, we still had to write an implementation of `of_list`\n",
    "  in both modules. Worse yet, those implementations are identical. So there's\n",
    "  still code duplication occurring.\n",
    "\n",
    "Could we do better? Yes. And that leads us to functors, next."
   ]
  }
 ],
 "metadata": {
  "jupytext": {
   "cell_metadata_filter": "-all",
   "formats": "md:myst",
   "text_representation": {
    "extension": ".md",
    "format_name": "myst",
    "format_version": 0.13,
    "jupytext_version": "1.10.3"
   }
  },
  "kernelspec": {
   "display_name": "OCaml",
   "language": "OCaml",
   "name": "ocaml-jupyter"
  },
  "source_map": [
   14,
   33,
   50,
   78,
   83,
   104,
   115,
   124,
   129,
   133,
   144,
   148,
   153,
   160,
   166,
   171,
   177,
   188,
   210,
   227,
   235,
   263,
   277,
   298,
   307,
   315,
   318,
   324,
   326,
   330,
   335,
   346,
   350,
   354,
   366
  ]
 },
 "nbformat": 4,
 "nbformat_minor": 5
}