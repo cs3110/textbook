{
 "cells": [
  {
   "cell_type": "markdown",
   "id": "3573197d",
   "metadata": {},
   "source": [
    "# Encapsulation\n",
    "\n",
    "One of the main concerns of a module system is to provide *encapsulation*: the\n",
    "hiding of information about implementation behind an interface. OCaml's module\n",
    "system makes this possible with a feature we've already seen: the *opacity* that\n",
    "module type annotations create. One special use of opacity is the declaration of\n",
    "*abstract types*. We'll study both of those ideas in this section.\n",
    "\n",
    "## Opacity\n",
    "\n",
    "When implementing a module, you might sometimes have helper functions that you\n",
    "don't want to expose to clients of the module.  For example, maybe you're\n",
    "implementing a math module that provides a tail-recursive factorial function:"
   ]
  },
  {
   "cell_type": "code",
   "execution_count": null,
   "id": "fb86d50e",
   "metadata": {},
   "outputs": [],
   "source": [
    "module Math = struct\n",
    "  (** [fact_aux n acc] is [n! * acc]. *)\n",
    "  let rec fact_aux n acc =\n",
    "    if n = 0 then acc else fact_aux (n - 1) (n * acc)\n",
    "\n",
    "  (** [fact n] is [n!]. *)\n",
    "  let fact n = fact_aux n 1\n",
    "end"
   ]
  },
  {
   "cell_type": "markdown",
   "id": "cf24c5ee",
   "metadata": {},
   "source": [
    "You'd like to make `fact` usable by clients of `Math`, but you'd also like to\n",
    "keep `fact_aux` hidden. But in the code above, you can see that `fact_aux` is\n",
    "visible in the signature inferred for `Math`. One way to hide it is simply to\n",
    "nest `fact_aux`:"
   ]
  },
  {
   "cell_type": "code",
   "execution_count": null,
   "id": "ccff3ee9",
   "metadata": {},
   "outputs": [],
   "source": [
    "module Math = struct\n",
    "  (** [fact n] is [n!]. *)\n",
    "  let fact n =\n",
    "    (** [fact_aux n acc] is [n! * acc]. *)\n",
    "    let rec fact_aux n acc =\n",
    "      if n = 0 then acc else fact_aux (n - 1) (n * acc)\n",
    "    in\n",
    "    fact_aux n 1\n",
    "end"
   ]
  },
  {
   "cell_type": "markdown",
   "id": "c784f8f3",
   "metadata": {},
   "source": [
    "Look at the signature, and notice how `fact_aux` is gone. But, that nesting\n",
    "makes `fact` just a little harder to read. It also means `fact_aux` is not\n",
    "available for any other functions *inside* `Math` to use. In this case that's\n",
    "probably fine&mdash;there probably aren't any other functions in `Math` that\n",
    "need `fact_aux`. But if there were, we couldn't nest `fact_aux`.\n",
    "\n",
    "So another way to hide `fact_aux` from clients of `Math`, while still leaving it\n",
    "available for implementers of `Math`, is to use a module type that exposes only\n",
    "those names that clients should see:"
   ]
  },
  {
   "cell_type": "code",
   "execution_count": null,
   "id": "06e21723",
   "metadata": {},
   "outputs": [],
   "source": [
    "module type MATH = sig\n",
    "  (** [fact n] is [n!]. *)\n",
    "  val fact : int -> int\n",
    "end\n",
    "\n",
    "module Math : MATH = struct\n",
    "  (** [fact_aux n acc] is [n! * acc]. *)\n",
    "  let rec fact_aux n acc =\n",
    "    if n = 0 then acc else fact_aux (n - 1) (n * acc)\n",
    "\n",
    "  let fact n = fact_aux n 1\n",
    "end"
   ]
  },
  {
   "cell_type": "markdown",
   "id": "96e63831",
   "metadata": {},
   "source": [
    "Now since `MATH` does not mention `fact_aux`, the module type annotation\n",
    "`Math : MATH` causes `fact_aux` to be hidden:"
   ]
  },
  {
   "cell_type": "code",
   "execution_count": null,
   "id": "d48a08a8",
   "metadata": {
    "tags": [
     "raises-exception"
    ]
   },
   "outputs": [],
   "source": [
    "Math.fact_aux"
   ]
  },
  {
   "cell_type": "markdown",
   "id": "dc575186",
   "metadata": {},
   "source": [
    "In that sense, module type annotations are *opaque*: they can prevent visibility\n",
    "of module items. We say that the module type *seals* the module, making any\n",
    "components not named in the module type be inaccessible.\n",
    "\n",
    "```{important}\n",
    "Remember that module type annotations are therefore not *only* about checking to\n",
    "see whether a module defines certain items. The annotations also hide items.\n",
    "```\n",
    "\n",
    "What if you did want to just check the definitions, but not hide anything?\n",
    "Then don't supply the annotation at the time of module definition:"
   ]
  },
  {
   "cell_type": "code",
   "execution_count": null,
   "id": "c539a735",
   "metadata": {},
   "outputs": [],
   "source": [
    "module type MATH = sig\n",
    "  (** [fact n] is [n!]. *)\n",
    "  val fact : int -> int\n",
    "end\n",
    "\n",
    "module Math = struct\n",
    "  (** [fact_aux n acc] is [n! * acc]. *)\n",
    "  let rec fact_aux n acc =\n",
    "    if n = 0 then acc else fact_aux (n - 1) (n * acc)\n",
    "\n",
    "  let fact n = fact_aux n 1\n",
    "end\n",
    "\n",
    "module MathCheck : MATH = Math"
   ]
  },
  {
   "cell_type": "markdown",
   "id": "78116ee4",
   "metadata": {},
   "source": [
    "Now `Math.fact_aux` is visible, but `MathCheck.fact_aux` is not:"
   ]
  },
  {
   "cell_type": "code",
   "execution_count": null,
   "id": "d49eb199",
   "metadata": {},
   "outputs": [],
   "source": [
    "Math.fact_aux"
   ]
  },
  {
   "cell_type": "code",
   "execution_count": null,
   "id": "650045c0",
   "metadata": {
    "tags": [
     "raises-exception"
    ]
   },
   "outputs": [],
   "source": [
    "MathCheck.fact_aux"
   ]
  },
  {
   "cell_type": "markdown",
   "id": "9fda2a9f",
   "metadata": {},
   "source": [
    "You wouldn't even have to give the \"check\" module a name since you probably\n",
    "never intend to access it; you could instead leave it anonymous:"
   ]
  },
  {
   "cell_type": "code",
   "execution_count": null,
   "id": "695a0511",
   "metadata": {},
   "outputs": [],
   "source": [
    "module _ : MATH = Math"
   ]
  },
  {
   "cell_type": "markdown",
   "id": "cc0798dc",
   "metadata": {},
   "source": [
    "**A Comparison to Visibility Modifiers.** The use of sealing in OCaml is thus\n",
    "similar to the use of visibility modifiers such as `private` and `public` in\n",
    "Java. In fact one way to think about Java class definitions is that they\n",
    "simultaneously define multiple signatures.\n",
    "\n",
    "For example, consider this Java class:\n",
    "```java\n",
    "class C {\n",
    "  private int x;\n",
    "  public int y;\n",
    "}\n",
    "```\n",
    "\n",
    "An analogy to it in OCaml would be the following modules and types:"
   ]
  },
  {
   "cell_type": "code",
   "execution_count": null,
   "id": "ee2fe147",
   "metadata": {},
   "outputs": [],
   "source": [
    "module type C_PUBLIC = sig\n",
    "  val y : int\n",
    "end\n",
    "\n",
    "module CPrivate = struct\n",
    "  let x = 0\n",
    "  let y = 0\n",
    "end\n",
    "\n",
    "module C : C_PUBLIC = CPrivate"
   ]
  },
  {
   "cell_type": "markdown",
   "id": "d6765b7b",
   "metadata": {},
   "source": [
    "With those definitions, any code that uses `C` will have access only to the\n",
    "names exposed in the `C_PUBLIC` module type.\n",
    "\n",
    "That analogy can be extended to the other visibility modifiers, `protected` and\n",
    "default, as well. Which means that Java classes are effectively defining four\n",
    "related types, and the compiler is making sure the right type is used at each\n",
    "place in the code base `C` is named. No wonder it can be challenging to master\n",
    "visibility in OO languages at first.\n",
    "\n",
    "## Abstract Types\n",
    "\n",
    "{{ video_embed | replace(\"%%VID%%\", \"vuKBUhMpr-c\")}}\n",
    "\n",
    "In an earlier section we implemented stacks as lists with the following\n",
    "module and type:"
   ]
  },
  {
   "cell_type": "code",
   "execution_count": null,
   "id": "9fb96af9",
   "metadata": {
    "tags": [
     "hide-output"
    ]
   },
   "outputs": [],
   "source": [
    "module type LIST_STACK = sig\n",
    "  (** [Empty] is raised when an operation cannot be applied\n",
    "      to an empty stack. *)\n",
    "  exception Empty\n",
    "\n",
    "  (** [empty] is the empty stack. *)\n",
    "  val empty : 'a list\n",
    "\n",
    "  (** [is_empty s] is whether [s] is empty. *)\n",
    "  val is_empty : 'a list -> bool\n",
    "\n",
    "  (** [push x s] pushes [x] onto the top of [s]. *)\n",
    "  val push : 'a -> 'a list -> 'a list\n",
    "\n",
    "  (** [peek s] is the top element of [s].\n",
    "      Raises [Empty] if [s] is empty. *)\n",
    "  val peek : 'a list -> 'a\n",
    "\n",
    "  (** [pop s] is all but the top element of [s].\n",
    "      Raises [Empty] if [s] is empty. *)\n",
    "  val pop : 'a list -> 'a list\n",
    "end\n",
    "\n",
    "module ListStack : LIST_STACK = struct\n",
    "  exception Empty\n",
    "  let empty = []\n",
    "  let is_empty = function [] -> true | _ -> false\n",
    "  let push x s = x :: s\n",
    "  let peek = function [] -> raise Empty | x :: _ -> x\n",
    "  let pop = function [] -> raise Empty | _ :: s -> s\n",
    "end"
   ]
  },
  {
   "cell_type": "markdown",
   "id": "90254ff6",
   "metadata": {},
   "source": [
    "What if we wanted to modify that data structure to add an operation for\n",
    "the size of the stack?  The easy way would be to implement it using\n",
    "`List.length`:\n",
    "\n",
    "```ocaml\n",
    "module type LIST_STACK = sig\n",
    "  ...\n",
    "  (** [size s] is the number of elements on the stack. *)\n",
    "  val size : 'a list -> int\n",
    "end\n",
    "\n",
    "module ListStack : LIST_STACK = struct\n",
    "  ...\n",
    "  let size = List.length\n",
    "end\n",
    "```\n",
    "\n",
    "That results in a linear-time implementation of `size`. What if we wanted a\n",
    "faster, constant-time implementation? At the cost of a little space, we could\n",
    "cache the size of the stack. Let's now represent the stack as a pair, where the\n",
    "first component of the pair is the same list as before, and the second component\n",
    "of the pair is the size of the stack:"
   ]
  },
  {
   "cell_type": "code",
   "execution_count": null,
   "id": "4347c3bc",
   "metadata": {
    "tags": [
     "hide-output"
    ]
   },
   "outputs": [],
   "source": [
    "module ListStackCachedSize = struct\n",
    "  exception Empty\n",
    "  let empty = ([], 0)\n",
    "  let is_empty = function ([], _) -> true | _ -> false\n",
    "  let push x (stack, size) = (x :: stack, size + 1)\n",
    "  let peek = function ([], _) -> raise Empty | (x :: _, _) -> x\n",
    "  let pop = function\n",
    "    | ([], _) -> raise Empty\n",
    "    | (_ :: stack, size) -> (stack, size - 1)\n",
    "end"
   ]
  },
  {
   "cell_type": "markdown",
   "id": "e4c95d91",
   "metadata": {},
   "source": [
    "We have a big problem.  `ListStackCachedSize` does not implement the\n",
    "`LIST_STACK` module type, because that module type specifies `'a list`\n",
    "throughout it to represent the stack&mdash;not `'a list * int`."
   ]
  },
  {
   "cell_type": "code",
   "execution_count": null,
   "id": "dbc0863e",
   "metadata": {
    "tags": [
     "raises-exception"
    ]
   },
   "outputs": [],
   "source": [
    "module CheckListStackCachedSize : LIST_STACK = ListStackCachedSize"
   ]
  },
  {
   "cell_type": "markdown",
   "id": "c8bb287d",
   "metadata": {},
   "source": [
    "Moreover, any code we previously wrote using `ListStack` now has to be modified\n",
    "to deal with the pair, which could mean revising pattern matches, function\n",
    "types, and so forth.\n",
    "\n",
    "As you no doubt learned in earlier programming courses, the problem we are\n",
    "encountering here is a lack of encapsulation. We should have kept the type that\n",
    "implements `ListStack` hidden from clients. In Java, for example, we might have\n",
    "written:\n",
    "\n",
    "```java\n",
    "class ListStack<T> {\n",
    "  private List<T> stack;\n",
    "  private int size;\n",
    "  ...\n",
    "}\n",
    "```\n",
    "\n",
    "That way clients of `ListStack` would be unaware of `stack` or `size`.  In fact,\n",
    "they wouldn't be able to name those fields at all.  Instead, they would\n",
    "just use `ListStack` as the type of the stack:\n",
    "\n",
    "```java\n",
    "ListStack<Integer> s = new ListStack<>();\n",
    "s.push(1);\n",
    "```\n",
    "\n",
    "So in OCaml, how can we keep the *representation type* of the stack hidden? What\n",
    "we learned about opacity and sealing thus far does not suffice. The problem is\n",
    "that the type `'a list * int` literally appears in the signature of\n",
    "`ListStackCachedSize`, e.g., in `push`:"
   ]
  },
  {
   "cell_type": "code",
   "execution_count": null,
   "id": "6b132a3e",
   "metadata": {},
   "outputs": [],
   "source": [
    "ListStackCachedSize.push"
   ]
  },
  {
   "cell_type": "markdown",
   "id": "fd5114d3",
   "metadata": {},
   "source": [
    "A module type annotation could hide one of the values defined in\n",
    "`ListStackCachedSize`, e.g., `push` itself, but that doesn't solve the problem:\n",
    "we need to **hide the type** `'a list * int` while **exposing the operation**\n",
    "`push`. So OCaml has a feature for doing exactly that: *abstract types*.\n",
    "Let's see an example of this feature.\n",
    "\n",
    "We begin by modifying `LIST_STACK`, replacing `'a list` with a new type\n",
    "`'a stack` everywhere. We won't repeat the specification comments here, so as to\n",
    "keep the example shorter. And while we're at it, let's add the `size` operation."
   ]
  },
  {
   "cell_type": "code",
   "execution_count": null,
   "id": "2deaa2c4",
   "metadata": {
    "tags": [
     "hide-output"
    ]
   },
   "outputs": [],
   "source": [
    "module type LIST_STACK = sig\n",
    "  type 'a stack\n",
    "  exception Empty\n",
    "  val empty : 'a stack\n",
    "  val is_empty : 'a stack -> bool\n",
    "  val push : 'a -> 'a stack -> 'a stack\n",
    "  val peek : 'a stack -> 'a\n",
    "  val pop : 'a stack -> 'a stack\n",
    "  val size : 'a stack -> int\n",
    "end"
   ]
  },
  {
   "cell_type": "markdown",
   "id": "d853236b",
   "metadata": {},
   "source": [
    "Note how `'a stack` is not actually defined in that signature. We haven't said\n",
    "anything about what it is. It might be `'a list`, or `'a list * int`, or\n",
    "`{stack : 'a list; size : int}`, or anything else. That is what makes it an\n",
    "*abstract* type: we've declared its name but not specified its definition.\n",
    "\n",
    "Now `ListStackCachedSize` can implement that module type with the addition\n",
    "of just one line of code: the first line of the structure, which defines\n",
    "`'a stack`:"
   ]
  },
  {
   "cell_type": "code",
   "execution_count": null,
   "id": "e60cbeff",
   "metadata": {},
   "outputs": [],
   "source": [
    "module ListStackCachedSize : LIST_STACK = struct\n",
    "  type 'a stack = 'a list * int\n",
    "  exception Empty\n",
    "  let empty = ([], 0)\n",
    "  let is_empty = function ([], _) -> true | _ -> false\n",
    "  let push x (stack, size) = (x :: stack, size + 1)\n",
    "  let peek = function ([], _) -> raise Empty | (x :: _, _) -> x\n",
    "  let pop = function\n",
    "    | ([], _) -> raise Empty\n",
    "    | (_ :: stack, size) -> (stack, size - 1)\n",
    "  let size = snd\n",
    "end"
   ]
  },
  {
   "cell_type": "markdown",
   "id": "ce0dd241",
   "metadata": {},
   "source": [
    "Take a careful look at the output: nowhere does `'a list` show up in it. In\n",
    "fact, only `LIST_STACK` does. And `LIST_STACK` mentions only `'a stack`. So no\n",
    "one's going to know that internally a list is used. (Ok, they're going to know:\n",
    "the name suggests it. But the point is they can't take advantage of that,\n",
    "because the type is abstract.)\n",
    "\n",
    "Likewise, our original implementation with linear-time `size` satisfies\n",
    "the module type.  We just have to add a line to define `'a stack`:"
   ]
  },
  {
   "cell_type": "code",
   "execution_count": null,
   "id": "0aab1bb1",
   "metadata": {},
   "outputs": [],
   "source": [
    "module ListStack : LIST_STACK = struct\n",
    "  type 'a stack = 'a list\n",
    "  exception Empty\n",
    "  let empty = []\n",
    "  let is_empty = function [] -> true | _ -> false\n",
    "  let push x s = x :: s\n",
    "  let peek = function [] -> raise Empty | x :: _ -> x\n",
    "  let pop = function [] -> raise Empty | _ :: s -> s\n",
    "  let size = List.length\n",
    "end"
   ]
  },
  {
   "cell_type": "markdown",
   "id": "8a19084c",
   "metadata": {},
   "source": [
    "Note that omitting that added line would result in an error, just as if\n",
    "we had failed to define `push` or any of the other operations from\n",
    "the module type:"
   ]
  },
  {
   "cell_type": "code",
   "execution_count": null,
   "id": "9b715eb4",
   "metadata": {
    "tags": [
     "raises-exception"
    ]
   },
   "outputs": [],
   "source": [
    "module ListStack : LIST_STACK = struct\n",
    "  (* type 'a stack = 'a list *)\n",
    "  exception Empty\n",
    "  let empty = []\n",
    "  let is_empty = function [] -> true | _ -> false\n",
    "  let push x s = x :: s\n",
    "  let peek = function [] -> raise Empty | x :: _ -> x\n",
    "  let pop = function [] -> raise Empty | _ :: s -> s\n",
    "  let size = List.length\n",
    "end"
   ]
  },
  {
   "cell_type": "markdown",
   "id": "5fd93b4f",
   "metadata": {},
   "source": [
    "Here is a third, custom implementation of `LIST_STACK`. This one is deliberately\n",
    "overly-complicated, in part to illustrate how the abstract type can hide\n",
    "implementation details that are better not revealed to clients:"
   ]
  },
  {
   "cell_type": "code",
   "execution_count": null,
   "id": "662bd370",
   "metadata": {},
   "outputs": [],
   "source": [
    "module CustomStack : LIST_STACK = struct\n",
    "  type 'a entry = {top : 'a; rest : 'a stack; size : int}\n",
    "  and 'a stack = S of 'a entry option\n",
    "  exception Empty\n",
    "  let empty = S None\n",
    "  let is_empty = function S None -> true | _ -> false\n",
    "  let size = function S None -> 0 | S (Some {size}) -> size\n",
    "  let push x s = S (Some {top = x; rest = s; size = size s + 1})\n",
    "  let peek = function S None -> raise Empty | S (Some {top}) -> top\n",
    "  let pop = function S None -> raise Empty | S (Some {rest}) -> rest\n",
    "end"
   ]
  },
  {
   "cell_type": "markdown",
   "id": "ec3826b0",
   "metadata": {},
   "source": [
    "Is that really a \"list\" stack? It satisfies the module type `LIST_STACK`. But\n",
    "upon reflection, that module type never really had anything to do with lists\n",
    "once we made the type `'a stack` abstract. There's really no need to call it\n",
    "`LIST_STACK`. We'd be better off using just `STACK`, since it can be implemented\n",
    "with `list` or without. At that point, we could just go with `Stack` as its\n",
    "name, since there is no module named `Stack` we've written that would be\n",
    "confused with it. That avoids the all-caps look of our code shouting at us."
   ]
  },
  {
   "cell_type": "code",
   "execution_count": null,
   "id": "ac963f30",
   "metadata": {
    "tags": [
     "hide-output"
    ]
   },
   "outputs": [],
   "source": [
    "module type Stack = sig\n",
    "  type 'a stack\n",
    "  exception Empty\n",
    "  val empty : 'a stack\n",
    "  val is_empty : 'a stack -> bool\n",
    "  val push : 'a -> 'a stack -> 'a stack\n",
    "  val peek : 'a stack -> 'a\n",
    "  val pop : 'a stack -> 'a stack\n",
    "  val size : 'a stack -> int\n",
    "end\n",
    "\n",
    "module ListStack : Stack = struct\n",
    "  type 'a stack = 'a list\n",
    "  exception Empty\n",
    "  let empty = []\n",
    "  let is_empty = function [] -> true | _ -> false\n",
    "  let push x s = x :: s\n",
    "  let peek = function [] -> raise Empty | x :: _ -> x\n",
    "  let pop = function [] -> raise Empty | _ :: s -> s\n",
    "  let size = List.length\n",
    "end"
   ]
  },
  {
   "cell_type": "markdown",
   "id": "5dfffa0b",
   "metadata": {},
   "source": [
    "There's one further naming improvement we could make. Notice the type of\n",
    "`ListStack.empty` (and don't worry about the `abstr` part for now; we'll come\n",
    "back to it):"
   ]
  },
  {
   "cell_type": "code",
   "execution_count": null,
   "id": "4b01c292",
   "metadata": {},
   "outputs": [],
   "source": [
    "ListStack.empty"
   ]
  },
  {
   "cell_type": "markdown",
   "id": "ef65f665",
   "metadata": {},
   "source": [
    "That type, `'a ListStack.stack`, is rather unwieldy, because it conveys the word\n",
    "\"stack\" twice: once in the name of the module, and again in the name of the\n",
    "representation type inside that module. In places like this, OCaml programmers\n",
    "idiomatically use a standard name, `t`, in place of a longer representation type\n",
    "name:"
   ]
  },
  {
   "cell_type": "code",
   "execution_count": null,
   "id": "b287cc7f",
   "metadata": {
    "tags": [
     "hide-output"
    ]
   },
   "outputs": [],
   "source": [
    "module type Stack = sig\n",
    "  type 'a t\n",
    "  exception Empty\n",
    "  val empty : 'a t\n",
    "  val is_empty : 'a t -> bool\n",
    "  val push : 'a -> 'a t -> 'a t\n",
    "  val peek : 'a t -> 'a\n",
    "  val pop : 'a t -> 'a t\n",
    "  val size : 'a t -> int\n",
    "end\n",
    "\n",
    "module ListStack : Stack = struct\n",
    "  type 'a t = 'a list\n",
    "  exception Empty\n",
    "  let empty = []\n",
    "  let is_empty = function [] -> true | _ -> false\n",
    "  let push x s = x :: s\n",
    "  let peek = function [] -> raise Empty | x :: _ -> x\n",
    "  let pop = function [] -> raise Empty | _ :: s -> s\n",
    "  let size = List.length\n",
    "end\n",
    "\n",
    "module CustomStack : Stack = struct\n",
    "  type 'a entry = {top : 'a; rest : 'a t; size : int}\n",
    "  and 'a t = S of 'a entry option\n",
    "  exception Empty\n",
    "  let empty = S None\n",
    "  let is_empty = function S None -> true | _ -> false\n",
    "  let size = function S None -> 0 | S (Some {size}) -> size\n",
    "  let push x s = S (Some {top = x; rest = s; size = size s + 1})\n",
    "  let peek = function S None -> raise Empty | S (Some {top}) -> top\n",
    "  let pop = function S None -> raise Empty | S (Some {rest}) -> rest\n",
    "end"
   ]
  },
  {
   "cell_type": "markdown",
   "id": "e0cc11f7",
   "metadata": {},
   "source": [
    "Now the type of stacks is simpler:"
   ]
  },
  {
   "cell_type": "code",
   "execution_count": null,
   "id": "9230eab9",
   "metadata": {},
   "outputs": [],
   "source": [
    "ListStack.empty;;\n",
    "CustomStack.empty;;"
   ]
  },
  {
   "cell_type": "markdown",
   "id": "e3277354",
   "metadata": {},
   "source": [
    "That idiom is fairly common when there's a single representation type exposed by\n",
    "an interface to a data structure. You'll see it used throughout the standard\n",
    "library.\n",
    "\n",
    "In informal conversation we would usually pronounce those types without the \"dot\n",
    "t\" part. For example, we might say \"alpha ListStack\", simply ignoring the\n",
    "`t`&mdash;though it does technically have to be there to be legal OCaml code.\n",
    "\n",
    "Finally, abstract types are really just a special case of opacity. You actually\n",
    "can expose the definition of a type in a signature if you want to:"
   ]
  },
  {
   "cell_type": "code",
   "execution_count": null,
   "id": "63f33c22",
   "metadata": {},
   "outputs": [],
   "source": [
    "module type T = sig\n",
    "  type t = int\n",
    "  val x : t\n",
    "end\n",
    "\n",
    "module M : T = struct\n",
    "  type t = int\n",
    "  let x = 42\n",
    "end\n",
    "\n",
    "let a : int = M.x"
   ]
  },
  {
   "cell_type": "markdown",
   "id": "b04deaba",
   "metadata": {},
   "source": [
    "Note how we're able to use `M.x` at its type of `int`.  That works because\n",
    "the equality of types `t` and `int` has been exposed in the module type.\n",
    "But if we kept `t` abstract, the same usage would fail:"
   ]
  },
  {
   "cell_type": "code",
   "execution_count": null,
   "id": "2ca6ed85",
   "metadata": {
    "tags": [
     "raises-exception"
    ]
   },
   "outputs": [],
   "source": [
    "module type T = sig\n",
    "  type t (* = int *)\n",
    "  val x : t\n",
    "end\n",
    "\n",
    "module M : T = struct\n",
    "  type t = int\n",
    "  let x = 42\n",
    "end\n",
    "\n",
    "let a : int = M.x"
   ]
  },
  {
   "cell_type": "markdown",
   "id": "7fda177a",
   "metadata": {},
   "source": [
    "We're not allowed to use `M.x` at type `int` outside of `M`, because its type\n",
    "`M.t` is abstract. This is encapsulation at work, keeping that implementation\n",
    "detail hidden.\n",
    "\n",
    "## Pretty Printing\n",
    "\n",
    "In some output above, we observed something curious: the toplevel prints\n",
    "`<abstr>` in place of the actual contents of a value whose type is abstract:"
   ]
  },
  {
   "cell_type": "code",
   "execution_count": null,
   "id": "547ef73c",
   "metadata": {},
   "outputs": [],
   "source": [
    "ListStack.empty;;\n",
    "ListStack.(empty |> push 1 |> push 2);;"
   ]
  },
  {
   "cell_type": "markdown",
   "id": "c15b6a51",
   "metadata": {},
   "source": [
    "Recall that the toplevel uses this angle-bracket convention to indicate an\n",
    "unprintable value. We've encountered that before with functions and `<fun>`:"
   ]
  },
  {
   "cell_type": "code",
   "execution_count": null,
   "id": "2a145f90",
   "metadata": {},
   "outputs": [],
   "source": [
    "fun x -> x"
   ]
  },
  {
   "cell_type": "markdown",
   "id": "d19ed9c8",
   "metadata": {},
   "source": [
    "On the one hand, it's reasonable for the toplevel to behave this way. Once a\n",
    "type is abstract, its implementation isn't meant to be revealed to clients. So\n",
    "actually printing out the list `[]` or `[2; 1]` as responses to the above inputs\n",
    "would be revealing more than is intended.\n",
    "\n",
    "On the other hand, it's also reasonable for implementers to provide clients with\n",
    "a friendly way to view a value of an abstract type. Java programmers, for\n",
    "example, will often write `toString()` methods so that objects can be printed\n",
    "as output in the terminal or in JShell.  To support that, the OCaml toplevel\n",
    "has a directive `#install_printer`, which registers a function to print values.\n",
    "Here's how it works.\n",
    "\n",
    "- You write a *pretty printing* function of type\n",
    "  `Format.formatter -> t -> unit`, for whatever type `t` you like. Let's suppose\n",
    "  for sake of example that you name that function `pp`.\n",
    "\n",
    "- You invoke `#install_printer pp` in the toplevel.\n",
    "\n",
    "- From now on, anytime the toplevel wants to print a value of type `t` it uses\n",
    "  your function `pp` to do so.\n",
    "\n",
    "It probably makes sense the pretty printing function needs to take in a value of\n",
    "type `t` (because that's what it needs to print) and returns `unit` (as other\n",
    "printing functions do). But why does it take the `Format.formatter` argument?\n",
    "It's because of a fairly high-powered feature that OCaml is attempting to\n",
    "provide here: automatic line breaking and indentation in the middle of very\n",
    "large outputs.\n",
    "\n",
    "Consider the output from this expression, which creates nested lists:"
   ]
  },
  {
   "cell_type": "code",
   "execution_count": null,
   "id": "ae88ecb2",
   "metadata": {},
   "outputs": [],
   "source": [
    "List.init 15 (fun n -> List.init n (Fun.const n))"
   ]
  },
  {
   "cell_type": "markdown",
   "id": "8be096f0",
   "metadata": {},
   "source": [
    "Each inner list contains `n` copies of the number `n`. Note how the indentation\n",
    "and line breaks are somewhat sophisticated. All the inner lists are indented one\n",
    "space from the left-hand margin. Line breaks have been inserted to avoid\n",
    "splitting inner lists over multiple lines.\n",
    "\n",
    "The `Format` module is what provides this functionality, and `Format.formatter`\n",
    "is an abstract type in it. You could think of a formatter as being a place to\n",
    "send output, like a file, and have it be automatically formatted along the way.\n",
    "The typical use of a formatter is as argument to a function such as\n",
    "`Format.fprintf`, which like `Printf` uses format specifiers.\n",
    "\n",
    "For example, suppose you wanted to change how strings are printed by the\n",
    "toplevel and add \" kupo\" to the end of each string. Here's code that would do\n",
    "it:"
   ]
  },
  {
   "cell_type": "code",
   "execution_count": null,
   "id": "77808b0a",
   "metadata": {},
   "outputs": [],
   "source": [
    "let kupo_pp fmt s = Format.fprintf fmt \"%s kupo\" s;;\n",
    "#install_printer kupo_pp;;"
   ]
  },
  {
   "cell_type": "markdown",
   "id": "53575149",
   "metadata": {},
   "source": [
    "Now you can see that the toplevel adds \" kupo\" to each string while printing it,\n",
    "even though it's not actual a part of the original string:"
   ]
  },
  {
   "cell_type": "code",
   "execution_count": null,
   "id": "4f2f31f4",
   "metadata": {},
   "outputs": [],
   "source": [
    "let h = \"Hello\"\n",
    "let s = String.length h"
   ]
  },
  {
   "cell_type": "markdown",
   "id": "4778b0dc",
   "metadata": {},
   "source": [
    "To keep ourselves from getting confused about strings in the rest of this\n",
    "section, let's uninstall that pretty printer before going on:"
   ]
  },
  {
   "cell_type": "code",
   "execution_count": null,
   "id": "8b910d77",
   "metadata": {},
   "outputs": [],
   "source": [
    "#remove_printer kupo_pp;;"
   ]
  },
  {
   "cell_type": "markdown",
   "id": "75cfbf74",
   "metadata": {},
   "source": [
    "As a bigger example, let's add pretty printing to `ListStack`:"
   ]
  },
  {
   "cell_type": "code",
   "execution_count": null,
   "id": "9a48d26d",
   "metadata": {
    "tags": [
     "hide-output"
    ]
   },
   "outputs": [],
   "source": [
    "module type Stack = sig\n",
    "  type 'a t\n",
    "  exception Empty\n",
    "  val empty : 'a t\n",
    "  val is_empty : 'a t -> bool\n",
    "  val push : 'a -> 'a t -> 'a t\n",
    "  val peek : 'a t -> 'a\n",
    "  val pop : 'a t -> 'a t\n",
    "  val size : 'a t -> int\n",
    "  val pp :\n",
    "    (Format.formatter -> 'a -> unit) -> Format.formatter -> 'a t -> unit\n",
    "end"
   ]
  },
  {
   "cell_type": "markdown",
   "id": "b723e20f",
   "metadata": {},
   "source": [
    "First, notice that we have to expose `pp` as part of the module type.\n",
    "Otherwise it would be encapsulated, hence we wouldn't be able to install it.\n",
    "Second, notice that the type of `pp` now takes an extra first argument\n",
    "of type `Format.formatter -> 'a -> unit`.  That is itself a pretty printer\n",
    "for type `'a`, on which `t` is parameterized.  We need that argument in order\n",
    "to be able to pretty print the values of type `'a`."
   ]
  },
  {
   "cell_type": "code",
   "execution_count": null,
   "id": "428ddf30",
   "metadata": {
    "tags": [
     "hide-output"
    ]
   },
   "outputs": [],
   "source": [
    "module ListStack : Stack = struct\n",
    "  type 'a t = 'a list\n",
    "  exception Empty\n",
    "  let empty = []\n",
    "  let is_empty = function [] -> true | _ -> false\n",
    "  let push x s = x :: s\n",
    "  let peek = function [] -> raise Empty | x :: _ -> x\n",
    "  let pop = function [] -> raise Empty | _ :: s -> s\n",
    "  let size = List.length\n",
    "  let pp pp_val fmt s =\n",
    "    let open Format in\n",
    "    let pp_break fmt () = fprintf fmt \"@,\" in\n",
    "    fprintf fmt \"@[<v 0>top of stack\";\n",
    "    if s <> [] then fprintf fmt \"@,\";\n",
    "    pp_print_list ~pp_sep:pp_break pp_val fmt s;\n",
    "    fprintf fmt \"@,bottom of stack@]\"\n",
    "end"
   ]
  },
  {
   "cell_type": "markdown",
   "id": "8dba5336",
   "metadata": {},
   "source": [
    "In `ListStack.pp`, we use some of the advanced features of the `Format` module.\n",
    "Function `Format.pp_print_list` does the heavy lifting to print all the elements\n",
    "of the stack. The rest of the code handles the indentation and line breaks.\n",
    "Here's the result:"
   ]
  },
  {
   "cell_type": "code",
   "execution_count": null,
   "id": "0c3666f7",
   "metadata": {},
   "outputs": [],
   "source": [
    "#install_printer ListStack.pp"
   ]
  },
  {
   "cell_type": "code",
   "execution_count": null,
   "id": "a324593f",
   "metadata": {},
   "outputs": [],
   "source": [
    "ListStack.empty"
   ]
  },
  {
   "cell_type": "code",
   "execution_count": null,
   "id": "c11cb80e",
   "metadata": {},
   "outputs": [],
   "source": [
    "ListStack.(empty |> push 1 |> push 2)"
   ]
  },
  {
   "cell_type": "markdown",
   "id": "695f0c1c",
   "metadata": {},
   "source": [
    "For more information, see the [toplevel manual][toplevel] (search for\n",
    "`#install_printer`), the [Format module][format], and this\n",
    "[OCaml GitHub issue][poly-printer]. The latter seems to be the only place that\n",
    "documents the use of extra arguments, as in `pp_val` above, to print values of\n",
    "polymorphic types.\n",
    "\n",
    "[toplevel]: https://ocaml.org/manual/toplevel.html\n",
    "[format]: https://ocaml.org/api/Format.html\n",
    "[poly-printer]: https://github.com/ocaml/ocaml/issues/5958"
   ]
  }
 ],
 "metadata": {
  "jupytext": {
   "cell_metadata_filter": "-all",
   "formats": "md:myst",
   "text_representation": {
    "extension": ".md",
    "format_name": "myst",
    "format_version": 0.13,
    "jupytext_version": "1.10.3"
   }
  },
  "kernelspec": {
   "display_name": "OCaml",
   "language": "OCaml",
   "name": "ocaml-jupyter"
  },
  "source_map": [
   14,
   30,
   39,
   46,
   56,
   68,
   81,
   86,
   89,
   103,
   118,
   122,
   126,
   129,
   134,
   136,
   153,
   164,
   182,
   215,
   240,
   252,
   258,
   261,
   294,
   296,
   308,
   320,
   331,
   344,
   355,
   366,
   372,
   384,
   390,
   402,
   412,
   435,
   441,
   443,
   451,
   486,
   490,
   493,
   506,
   518,
   524,
   537,
   548,
   551,
   556,
   558,
   590,
   592,
   609,
   612,
   617,
   620,
   625,
   627,
   631,
   645,
   654,
   673,
   680,
   684,
   688,
   690
  ]
 },
 "nbformat": 4,
 "nbformat_minor": 5
}