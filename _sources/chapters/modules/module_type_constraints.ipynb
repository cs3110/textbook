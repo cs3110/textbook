{
 "cells": [
  {
   "cell_type": "markdown",
   "id": "9f992a9e",
   "metadata": {},
   "source": [
    "# Module Type Constraints\n",
    "\n",
    "We have extolled the virtues of encapsulation. Now we're going to do something\n",
    "that might seem counter-intuitive: selectively violate encapsulation.\n",
    "\n",
    "As a motivating example, here is a module type that represents values that\n",
    "support the usual addition and multiplication operations from arithmetic, or more precisely, a *[ring][]*:\n",
    "\n",
    "[ring]: https://en.wikipedia.org/wiki/Ring_(mathematics)"
   ]
  },
  {
   "cell_type": "code",
   "execution_count": null,
   "id": "f7b88c74",
   "metadata": {},
   "outputs": [],
   "source": [
    "module type Ring = sig\n",
    "  type t\n",
    "  val zero : t\n",
    "  val one : t\n",
    "  val ( + ) : t -> t -> t\n",
    "  val ( * ) : t -> t -> t\n",
    "  val ( ~- ) : t -> t  (* additive inverse *)\n",
    "  val to_string : t -> string\n",
    "end"
   ]
  },
  {
   "cell_type": "markdown",
   "id": "770faccb",
   "metadata": {},
   "source": [
    "Recall that we must write `( * )` instead of `(*)` because the latter would be\n",
    "parsed as beginning a comment. And we write the `~` in `( ~- )` to indicate a\n",
    "*unary* operator.\n",
    "\n",
    "This is a bit weird of an example. We don't normally think of numbers as a data\n",
    "structure. But what is a data structure except for a set of values and\n",
    "operations on them? The `Ring` module type makes it clear that's what we have.\n",
    "\n",
    "Here is a module that implements that module type:"
   ]
  },
  {
   "cell_type": "code",
   "execution_count": null,
   "id": "f8b4dcd8",
   "metadata": {},
   "outputs": [],
   "source": [
    "module IntRing : Ring = struct\n",
    "  type t = int\n",
    "  let zero = 0\n",
    "  let one = 1\n",
    "  let ( + ) = Stdlib.( + )\n",
    "  let ( * ) = Stdlib.( * )\n",
    "  let ( ~- ) = Stdlib.( ~- )\n",
    "  let to_string = string_of_int\n",
    "end"
   ]
  },
  {
   "cell_type": "markdown",
   "id": "3cbe1b40",
   "metadata": {},
   "source": [
    "Because `t` is abstract, the toplevel can't give us good output about what the\n",
    "sum of one and one is:"
   ]
  },
  {
   "cell_type": "code",
   "execution_count": null,
   "id": "cefa6477",
   "metadata": {},
   "outputs": [],
   "source": [
    "IntRing.(one + one)"
   ]
  },
  {
   "cell_type": "markdown",
   "id": "5dec07c9",
   "metadata": {},
   "source": [
    "But we could convert it to a string:"
   ]
  },
  {
   "cell_type": "code",
   "execution_count": null,
   "id": "5c02bb31",
   "metadata": {},
   "outputs": [],
   "source": [
    "IntRing.(one + one |> to_string)"
   ]
  },
  {
   "cell_type": "markdown",
   "id": "7640c036",
   "metadata": {},
   "source": [
    "We could even install a pretty printer to avoid having to manually call\n",
    "`to_string`:"
   ]
  },
  {
   "cell_type": "code",
   "execution_count": null,
   "id": "a9a9e27c",
   "metadata": {},
   "outputs": [],
   "source": [
    "let pp_intring fmt i =\n",
    "  Format.fprintf fmt \"%s\" (IntRing.to_string i);;\n",
    "\n",
    "#install_printer pp_intring;;\n",
    "\n",
    "IntRing.(one + one)"
   ]
  },
  {
   "cell_type": "markdown",
   "id": "6c7acc60",
   "metadata": {},
   "source": [
    "We could implement other kinds of rings, too:"
   ]
  },
  {
   "cell_type": "code",
   "execution_count": null,
   "id": "3b94813b",
   "metadata": {},
   "outputs": [],
   "source": [
    "module FloatRing : Ring = struct\n",
    "  type t = float\n",
    "  let zero = 0.\n",
    "  let one = 1.\n",
    "  let ( + ) = Stdlib.( +. )\n",
    "  let ( * ) = Stdlib.( *. )\n",
    "  let ( ~- ) = Stdlib.( ~-. )\n",
    "  let to_string = string_of_float\n",
    "end"
   ]
  },
  {
   "cell_type": "markdown",
   "id": "4c948622",
   "metadata": {},
   "source": [
    "Then we'd have to install a printer for it, too:"
   ]
  },
  {
   "cell_type": "code",
   "execution_count": null,
   "id": "1e292087",
   "metadata": {},
   "outputs": [],
   "source": [
    "let pp_floatring fmt f =\n",
    "  Format.fprintf fmt \"%s\" (FloatRing.to_string f);;\n",
    "\n",
    "#install_printer pp_floatring;;\n",
    "\n",
    "FloatRing.(one + one)"
   ]
  },
  {
   "cell_type": "markdown",
   "id": "41e00974",
   "metadata": {},
   "source": [
    "Was there really a need to make type `t` abstract in the ring examples above?\n",
    "Arguably not. And if it were not abstract, we wouldn't have to go to the trouble\n",
    "of converting abstract values into strings, or installing printers. Let's pursue\n",
    "that idea, next.\n",
    "\n",
    "## Specializing Module Types\n",
    "\n",
    "In the past, we've seen that we can leave off the module type annotation,\n",
    "then do a separate check to make sure the structure satisfies the signature:"
   ]
  },
  {
   "cell_type": "code",
   "execution_count": null,
   "id": "b28e9360",
   "metadata": {
    "tags": [
     "hide-output"
    ]
   },
   "outputs": [],
   "source": [
    "module IntRing = struct\n",
    "  type t = int\n",
    "  let zero = 0\n",
    "  let one = 1\n",
    "  let ( + ) = Stdlib.( + )\n",
    "  let ( * ) = Stdlib.( * )\n",
    "  let ( ~- ) = Stdlib.( ~- )\n",
    "  let to_string = string_of_int\n",
    "end\n",
    "\n",
    "module _ : Ring = IntRing"
   ]
  },
  {
   "cell_type": "code",
   "execution_count": null,
   "id": "79ab3b68",
   "metadata": {},
   "outputs": [],
   "source": [
    "IntRing.(one + one)"
   ]
  },
  {
   "cell_type": "markdown",
   "id": "4c60c9ed",
   "metadata": {},
   "source": [
    "There's a more sophisticated way of accomplishing the same goal. We can\n",
    "specialize the `Ring` module type to specify that `t` must be `int` or `float`.\n",
    "We do that by adding a *constraint* using the `with` keyword:"
   ]
  },
  {
   "cell_type": "code",
   "execution_count": null,
   "id": "dd207b65",
   "metadata": {},
   "outputs": [],
   "source": [
    "module type INT_RING = Ring with type t = int"
   ]
  },
  {
   "cell_type": "markdown",
   "id": "e86d98c6",
   "metadata": {},
   "source": [
    "Note how the `INT_RING` module type now specifies that `t` and `int` are the\n",
    "same type. It exposes or *shares* that fact with the world, so we could\n",
    "call these \"sharing constraints.\"\n",
    "\n",
    "Now `IntRing` can be given that module type:"
   ]
  },
  {
   "cell_type": "code",
   "execution_count": null,
   "id": "97fef67a",
   "metadata": {},
   "outputs": [],
   "source": [
    "module IntRing : INT_RING = struct\n",
    "  type t = int\n",
    "  let zero = 0\n",
    "  let one = 1\n",
    "  let ( + ) = Stdlib.( + )\n",
    "  let ( * ) = Stdlib.( * )\n",
    "  let ( ~- ) = Stdlib.( ~- )\n",
    "  let to_string = string_of_int\n",
    "end"
   ]
  },
  {
   "cell_type": "markdown",
   "id": "c5dcd92b",
   "metadata": {},
   "source": [
    "And since the equality of `t` and `int` is exposed, the toplevel can print\n",
    "values of type `t` without any help needed from a pretty printer:"
   ]
  },
  {
   "cell_type": "code",
   "execution_count": null,
   "id": "7f5d48ae",
   "metadata": {},
   "outputs": [],
   "source": [
    "IntRing.(one + one)"
   ]
  },
  {
   "cell_type": "markdown",
   "id": "b0125b3e",
   "metadata": {},
   "source": [
    "Programmers can even mix and match built-in `int` values with those provided\n",
    "by `IntRing`:"
   ]
  },
  {
   "cell_type": "code",
   "execution_count": null,
   "id": "ef3756e0",
   "metadata": {},
   "outputs": [],
   "source": [
    "IntRing.(1 + one)"
   ]
  },
  {
   "cell_type": "markdown",
   "id": "958b77f3",
   "metadata": {},
   "source": [
    "The same can be done for floats:"
   ]
  },
  {
   "cell_type": "code",
   "execution_count": null,
   "id": "8b0951ed",
   "metadata": {},
   "outputs": [],
   "source": [
    "module type FLOAT_RING = Ring with type t = float\n",
    "\n",
    "module FloatRing : FLOAT_RING = struct\n",
    "  type t = float\n",
    "  let zero = 0.\n",
    "  let one = 1.\n",
    "  let ( + ) = Stdlib.( +. )\n",
    "  let ( * ) = Stdlib.( *. )\n",
    "  let ( ~- ) = Stdlib.( ~-. )\n",
    "  let to_string = string_of_float\n",
    "end"
   ]
  },
  {
   "cell_type": "markdown",
   "id": "d852891f",
   "metadata": {},
   "source": [
    "It turns out there's no need to separately define `INT_RING` and `FLOAT_RING`.\n",
    "The `with` keyword can be used as part of the `module` definition, though the\n",
    "syntax becomes a little harder to read because of the proximity of the two `=`\n",
    "signs:"
   ]
  },
  {
   "cell_type": "code",
   "execution_count": null,
   "id": "b22dc9bd",
   "metadata": {},
   "outputs": [],
   "source": [
    "module FloatRing : Ring with type t = float = struct\n",
    "  type t = float\n",
    "  let zero = 0.\n",
    "  let one = 1.\n",
    "  let ( + ) = Stdlib.( +. )\n",
    "  let ( * ) = Stdlib.( *. )\n",
    "  let ( ~- ) = Stdlib.( ~-. )\n",
    "  let to_string = string_of_float\n",
    "end"
   ]
  },
  {
   "cell_type": "markdown",
   "id": "560904e5",
   "metadata": {},
   "source": [
    "## Constraints\n",
    "\n",
    "**Syntax.**\n",
    "\n",
    "There are two sorts of constraints. One is the sort we saw above, with `type`\n",
    "equations:\n",
    "\n",
    "- `T with type x = t`, where `T` is a module type, `x` is a type name, and\n",
    "  `t` is a type.\n",
    "\n",
    "The other sort is a `module` equation, which is syntactic sugar for specifying\n",
    "the equality of *all* types in the two modules:\n",
    "\n",
    "- `T with module M = N`, where `M` and `N` are module names.\n",
    "\n",
    "Multiple constraints can be added with the `and` keyword:\n",
    "\n",
    "- `T with constraint1 and constraint2 and ... constraintN`\n",
    "\n",
    "**Static semantics.**\n",
    "\n",
    "The constrained module type `T with type x = t` is the same as `T`, except that\n",
    "the declaration of `type x` inside `T` is replaced by `type x = t`. For example,\n",
    "compare the two signatures output below:"
   ]
  },
  {
   "cell_type": "code",
   "execution_count": null,
   "id": "4b2eaa5a",
   "metadata": {},
   "outputs": [],
   "source": [
    "module type T = sig type t end\n",
    "module type U = T with type t = int"
   ]
  },
  {
   "cell_type": "markdown",
   "id": "84c27114",
   "metadata": {},
   "source": [
    "Likewise, `T with module M = N` is the same as `T`, except that the any\n",
    "declaration `type x` inside the module type of `M` is replaced by\n",
    "`type x = N.x`. (And the same recursively for any nested modules.) It takes more\n",
    "work to give and understand this example:"
   ]
  },
  {
   "cell_type": "code",
   "execution_count": null,
   "id": "22181846",
   "metadata": {},
   "outputs": [],
   "source": [
    "module type XY = sig\n",
    "  type x\n",
    "  type y\n",
    "end\n",
    "\n",
    "module type T = sig\n",
    "  module A : XY\n",
    "end\n",
    "\n",
    "module B = struct\n",
    "  type x = int\n",
    "  type y = float\n",
    "end\n",
    "\n",
    "module type U = T with module A = B\n",
    "\n",
    "module C : U = struct\n",
    "  module A = struct\n",
    "    type x = int\n",
    "    type y = float\n",
    "    let x = 42\n",
    "  end\n",
    "end"
   ]
  },
  {
   "cell_type": "markdown",
   "id": "4229a8fe",
   "metadata": {},
   "source": [
    "Focus on the output for module type `U`. Notice that the types of `x` and `y` in\n",
    "it have become `int` and `float` because of the `module A = B` constraint. Also\n",
    "notice how modules `B` and `C.A` are *not* the same module; the latter has an\n",
    "extra item `x` in it. So the syntax `module A = B` is potentially confusing. The\n",
    "constraint is not specifying that the two *modules* are the same. Rather, it\n",
    "specifies that all their *types* are constrained to be equal.\n",
    "\n",
    "**Dynamic semantics.**\n",
    "\n",
    "There are no dynamic semantics for constraints, because they are only for type\n",
    "checking."
   ]
  }
 ],
 "metadata": {
  "jupytext": {
   "cell_metadata_filter": "-all",
   "formats": "md:myst",
   "text_representation": {
    "extension": ".md",
    "format_name": "myst",
    "format_version": 0.13,
    "jupytext_version": "1.10.3"
   }
  },
  "kernelspec": {
   "display_name": "OCaml",
   "language": "OCaml",
   "name": "ocaml-jupyter"
  },
  "source_map": [
   14,
   26,
   36,
   48,
   58,
   63,
   65,
   69,
   71,
   76,
   83,
   87,
   97,
   101,
   108,
   120,
   135,
   137,
   143,
   145,
   153,
   163,
   168,
   170,
   175,
   177,
   181,
   193,
   200,
   210,
   237,
   240,
   247,
   271
  ]
 },
 "nbformat": 4,
 "nbformat_minor": 5
}