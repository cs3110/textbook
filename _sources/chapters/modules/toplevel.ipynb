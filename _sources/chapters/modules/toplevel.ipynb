{
 "cells": [
  {
   "cell_type": "markdown",
   "id": "eb89ca6c",
   "metadata": {},
   "source": [
    "# Modules and the Toplevel\n",
    "\n",
    "```{note}\n",
    "The video below uses the legacy build system, ocamlbuild, rather than the new\n",
    "build system, dune. Some of the details change with dune, as described in the\n",
    "text below.\n",
    "```\n",
    "\n",
    "{{ video_embed | replace(\"%%VID%%\", \"4yo-04VVzIw\")}}\n",
    "\n",
    "There are several pragmatics involving modules and the toplevel that are\n",
    "important to master to use the two together effectively.\n",
    "\n",
    "## Loading Compiled Modules\n",
    "\n",
    "Compiling an OCaml file produces a module having the same name as the file, but\n",
    "with the first letter capitalized. These compiled modules can be loaded into the\n",
    "toplevel using `#load`.\n",
    "\n",
    "For example, suppose you create a file called `mods.ml`, and put the following\n",
    "code in it:\n",
    "\n",
    "```ocaml\n",
    "let b = \"bigred\"\n",
    "let inc x = x + 1\n",
    "module M = struct\n",
    "  let y = 42\n",
    "end\n",
    "```\n",
    "\n",
    "Note that there is no `module Mods = struct ... end` around that. The code is at\n",
    "the topmost level of the file, as it were.\n",
    "\n",
    "Then suppose you type `ocamlc mods.ml` to compile it. One of the newly-created\n",
    "files is `mods.cmo`: this is a <u>c</u>ompiled <u>m</u>odule <u>o</u>bject file,\n",
    "aka bytecode.\n",
    "\n",
    "You can make this bytecode available for use in the toplevel with the following\n",
    "directives. Recall that the `#` character is required in front of a directive.\n",
    "It is not part of the prompt.\n",
    "\n",
    "```ocaml\n",
    "# #load \"mods.cmo\";;\n",
    "```\n",
    "\n",
    "That directive loads the bytecode found in `mods.cmo`, thus making a module\n",
    "named `Mods` available to be used. It is exactly as if you had entered this\n",
    "code:"
   ]
  },
  {
   "cell_type": "code",
   "execution_count": null,
   "id": "256f685a",
   "metadata": {},
   "outputs": [],
   "source": [
    "module Mods = struct\n",
    "  let b = \"bigred\"\n",
    "  let inc x = x + 1\n",
    "  module M = struct\n",
    "    let y = 42\n",
    "  end\n",
    "end"
   ]
  },
  {
   "cell_type": "markdown",
   "id": "520169b9",
   "metadata": {},
   "source": [
    "Both of these expressions will therefore evaluate successfully:"
   ]
  },
  {
   "cell_type": "code",
   "execution_count": null,
   "id": "3970fa1b",
   "metadata": {},
   "outputs": [],
   "source": [
    "Mods.b;;\n",
    "Mods.M.y;;"
   ]
  },
  {
   "cell_type": "markdown",
   "id": "75d9a849",
   "metadata": {},
   "source": [
    "But this will fail:"
   ]
  },
  {
   "cell_type": "code",
   "execution_count": null,
   "id": "35debe15",
   "metadata": {
    "tags": [
     "raises-exception"
    ]
   },
   "outputs": [],
   "source": [
    "inc"
   ]
  },
  {
   "cell_type": "markdown",
   "id": "86586d97",
   "metadata": {},
   "source": [
    "It fails because `inc` is in the namespace of `Mods`."
   ]
  },
  {
   "cell_type": "code",
   "execution_count": null,
   "id": "ed59df5e",
   "metadata": {},
   "outputs": [],
   "source": [
    "Mods.inc"
   ]
  },
  {
   "cell_type": "markdown",
   "id": "6edb4573",
   "metadata": {},
   "source": [
    "Of course, if you open the module, you can directly name `inc`:"
   ]
  },
  {
   "cell_type": "code",
   "execution_count": null,
   "id": "a061f01c",
   "metadata": {},
   "outputs": [],
   "source": [
    "open Mods;;\n",
    "inc;;"
   ]
  },
  {
   "cell_type": "markdown",
   "id": "01236d47",
   "metadata": {},
   "source": [
    "## Dune\n",
    "\n",
    "Dune provides a command to make it easier to start utop with libraries already\n",
    "loaded. Suppose we add this dune file to the same directory as `mods.ml`:\n",
    "\n",
    "```text\n",
    "(library\n",
    " (name mods))\n",
    "```\n",
    "\n",
    "That tells dune to build a library named `Mods` out of `mods.ml` (and any other\n",
    "files in the same directory, if they existed).  Then we can run this command\n",
    "to launch utop with that library already loaded:\n",
    "\n",
    "```console\n",
    "$ dune utop\n",
    "```\n",
    "\n",
    "Now right away we can access components of `Mods` without having to issue\n",
    "a `#load` directive:"
   ]
  },
  {
   "cell_type": "code",
   "execution_count": null,
   "id": "774116ce",
   "metadata": {},
   "outputs": [],
   "source": [
    "Mods.inc"
   ]
  },
  {
   "cell_type": "markdown",
   "id": "16c79728",
   "metadata": {},
   "source": [
    "The `dune utop` command accepts a directory name as an argument if you want to\n",
    "load libraries in a particular subdirectory of your source code.\n",
    "\n",
    "## Initializing the Toplevel\n",
    "\n",
    "If you are doing a lot of testing of a particular module, it can be annoying to\n",
    "have to type directives every time you start utop. You really want to initialize\n",
    "the toplevel with some code as it launches, so that you don't have to keep\n",
    "typing that code.\n",
    "\n",
    "The solution is to create a file in the working directory and call that file\n",
    "`.ocamlinit`. Note that the `.` at the front of that filename is required and\n",
    "makes it a [hidden file][hidden] that won't appear in directory listings unless\n",
    "explicitly requested (e.g., with `ls -a`). Everything in `.ocamlinit` will be\n",
    "processed by utop when it loads.\n",
    "\n",
    "[hidden]: https://en.wikipedia.org/wiki/Hidden_file_and_hidden_directory\n",
    "\n",
    "For example, suppose you create a file named `.ocamlinit` in the same directory\n",
    "as `mods.ml`, and in that file put the following code:\n",
    "\n",
    "```ocaml\n",
    "open Mods;;\n",
    "```\n",
    "\n",
    "Now restart utop with `dune utop`. All the names defined in `Mods` will already\n",
    "be in scope. For example, these will both succeed:"
   ]
  },
  {
   "cell_type": "code",
   "execution_count": null,
   "id": "c527efd2",
   "metadata": {},
   "outputs": [],
   "source": [
    "inc;;\n",
    "M.y;;"
   ]
  },
  {
   "cell_type": "markdown",
   "id": "defd9001",
   "metadata": {},
   "source": [
    "## Requiring Libraries\n",
    "\n",
    "Suppose you wanted to experiment with some OUnit code in utop. You can't\n",
    "actually open it:"
   ]
  },
  {
   "cell_type": "code",
   "execution_count": null,
   "id": "4f265bd0",
   "metadata": {
    "tags": [
     "raises-exception"
    ]
   },
   "outputs": [],
   "source": [
    "open OUnit2;;"
   ]
  },
  {
   "cell_type": "markdown",
   "id": "940f76bb",
   "metadata": {},
   "source": [
    "The problem is that the OUnit library hasn't been loaded into utop yet. It can\n",
    "be with the following directive:"
   ]
  },
  {
   "cell_type": "code",
   "execution_count": null,
   "id": "5f96b1c4",
   "metadata": {
    "tags": [
     "remove-cell"
    ]
   },
   "outputs": [],
   "source": [
    "#use \"topfind\";;"
   ]
  },
  {
   "cell_type": "code",
   "execution_count": null,
   "id": "3783aa79",
   "metadata": {
    "tags": [
     "remove-output"
    ]
   },
   "outputs": [],
   "source": [
    "#require \"ounit2\";;"
   ]
  },
  {
   "cell_type": "markdown",
   "id": "949a3f23",
   "metadata": {},
   "source": [
    "Now you can successfully load your own module without getting an error.\n",
    "\n",
    "```ocaml\n",
    "open OUnit2;;\n",
    "```\n",
    "\n",
    "<!--\n",
    "MRC 8/12/21: I don't think we need this section anymore.  `dune utop` takes\n",
    "  care of recursive loads automatically, and none of the assignments needs\n",
    "  this functionality.  Moreover, we can't actually demo this easily without\n",
    "  ocamlbuild.  We'd have to use ocamlc or set up a kind of strange dune\n",
    "  hierarchy.  So I'm commenting out now, with the intent of deleting in a year\n",
    "  or so if all is going well.\n",
    "\n",
    "## Dependencies\n",
    "\n",
    "When compiling a file, the build system automatically figures out which other\n",
    "files it depends on and recompiles those as necessary. The toplevel, however, is\n",
    "not as sophisticated: you have to make sure to load all the dependencies of a\n",
    "file.\n",
    "\n",
    "Suppose you have a file named `mods2.ml` in the same directory as `mods.ml`\n",
    "from above, and `mods2.ml` contains this code:\n",
    "\n",
    "```ocaml\n",
    "open Mods\n",
    "let x = inc 0\n",
    "```\n",
    "\n",
    "If you run `ocamlbuild -pkg ounit2 mods2.byte`, the compilation will succeed.\n",
    "You don't have to name `mods.byte` on the command line, even though `mods2.ml`\n",
    "depends on the module `Mod`. The build system is smart that way.\n",
    "\n",
    "Also suppose that `.ocamlinit` contains exactly the following:\n",
    "\n",
    "```ocaml\n",
    "#directory \"_build\";;\n",
    "#require \"ounit2\";;\n",
    "```\n",
    "\n",
    "If you restart utop and try to load `mods2.cmo`, you will get an error:\n",
    "\n",
    "```text\n",
    "# #load \"mods2.cmo\";;\n",
    "Error: Reference to undefined global `Mods'\n",
    "```\n",
    "\n",
    "The problem is that the toplevel does not automatically load the modules that\n",
    "`Mods2` depends upon. There are two ways to solve this problem.\n",
    "First, you can manually load the dependencies, like this:\n",
    "\n",
    "```ocaml\n",
    "# #load \"mods.cmo\";;\n",
    "# #load \"mods2.cmo\";;\n",
    "```\n",
    "\n",
    "Second, you could instead tell the toplevel to load `Mods2` and recursively\n",
    "to load everything it depends on:\n",
    "\n",
    "```ocaml\n",
    "# #load_rec \"mods2.cmo\";;\n",
    "```\n",
    "\n",
    "And that is probably the better solution.\n",
    "-->\n",
    "\n",
    "## Load vs Use\n",
    "\n",
    "There is a big difference between `#load`-ing a compiled module file and\n",
    "`#use`-ing an uncompiled source file. The former loads bytecode and makes it\n",
    "available for use. For example, loading `mods.cmo` caused the `Mod` module to be\n",
    "available, and we could access its members with expressions like `Mod.b`. The\n",
    "latter (`#use`) is *textual inclusion*: it's like typing the contents of the\n",
    "file directly into the toplevel. So using `mods.ml` does **not** cause a `Mod`\n",
    "module to be available, and the definitions in the file can be accessed\n",
    "directly, e.g., `b`.\n",
    "\n",
    "For example, in the following interaction, we can directly refer to `b` but\n",
    "cannot use the qualified name `Mods.b`:\n",
    "\n",
    "```text\n",
    "# #use \"mods.ml\"\n",
    "\n",
    "# b;;\n",
    "val b : string = \"bigred\"\n",
    "\n",
    "# Mods.b;;\n",
    "Error: Unbound module Mods\n",
    "```\n",
    "\n",
    "Whereas in this interaction the situation is reversed:\n",
    "\n",
    "```text\n",
    "# #directory \"_build\";;\n",
    "# #load \"mods.cmo\";;\n",
    "\n",
    "# Mods.b;;\n",
    "- : string = \"bigred\"\n",
    "\n",
    "# b;;\n",
    "Error: Unbound value b\n",
    "```\n",
    "\n",
    "So when you're using the toplevel to experiment with your code, it's often\n",
    "better to work with `#load` rather than `#use`. The `#load` directive accurately\n",
    "reflects how your modules interact with each other and with the outside world."
   ]
  }
 ],
 "metadata": {
  "jupytext": {
   "cell_metadata_filter": "-all",
   "formats": "md:myst",
   "text_representation": {
    "extension": ".md",
    "format_name": "myst",
    "format_version": 0.13,
    "jupytext_version": "1.10.3"
   }
  },
  "kernelspec": {
   "display_name": "OCaml",
   "language": "OCaml",
   "name": "ocaml-jupyter"
  },
  "source_map": [
   14,
   65,
   73,
   77,
   80,
   83,
   86,
   89,
   91,
   95,
   98,
   120,
   122,
   152,
   155,
   162,
   165,
   170,
   175,
   178
  ]
 },
 "nbformat": 4,
 "nbformat_minor": 5
}