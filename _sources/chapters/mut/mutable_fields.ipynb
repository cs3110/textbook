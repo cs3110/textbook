{
 "cells": [
  {
   "cell_type": "markdown",
   "id": "745704d8",
   "metadata": {},
   "source": [
    "# Mutable Fields\n",
    "\n",
    "{{ video_embed | replace(\"%%VID%%\", \"9RNeX5t4_xA\")}}\n",
    "\n",
    "The fields of a record can be declared as mutable, meaning their contents can be\n",
    "updated without constructing a new record. For example, here is a record type\n",
    "for two-dimensional colored points whose color field `c` is mutable:"
   ]
  },
  {
   "cell_type": "code",
   "execution_count": null,
   "id": "9d647acd",
   "metadata": {},
   "outputs": [],
   "source": [
    "type point = {x : int; y : int; mutable c : string}"
   ]
  },
  {
   "cell_type": "markdown",
   "id": "8437e9ea",
   "metadata": {},
   "source": [
    "Note that `mutable` is a property of the field, rather than the type of the\n",
    "field. In particular, we write `mutable field : type`, not\n",
    "`field : mutable type`.\n",
    "\n",
    "The operator to update a mutable field is `<-` which is meant to look like\n",
    "a left arrow."
   ]
  },
  {
   "cell_type": "code",
   "execution_count": null,
   "id": "595c30a1",
   "metadata": {},
   "outputs": [],
   "source": [
    "let p = {x = 0; y = 0; c = \"red\"}"
   ]
  },
  {
   "cell_type": "code",
   "execution_count": null,
   "id": "4acb9361",
   "metadata": {},
   "outputs": [],
   "source": [
    "p.c <- \"white\""
   ]
  },
  {
   "cell_type": "code",
   "execution_count": null,
   "id": "25d79125",
   "metadata": {},
   "outputs": [],
   "source": [
    "p"
   ]
  },
  {
   "cell_type": "markdown",
   "id": "73e6ce38",
   "metadata": {},
   "source": [
    "Non-mutable fields cannot be updated that way:"
   ]
  },
  {
   "cell_type": "code",
   "execution_count": null,
   "id": "855236e7",
   "metadata": {
    "tags": [
     "raises-exception"
    ]
   },
   "outputs": [],
   "source": [
    "p.x <- 3;;"
   ]
  },
  {
   "cell_type": "markdown",
   "id": "b503dec3",
   "metadata": {},
   "source": [
    "* **Syntax:** `e1.f <- e2`\n",
    "\n",
    "* **Dynamic semantics:** To evaluate `e1.f <- e2`, evaluate `e2` to a value\n",
    "  `v2`, and `e1` to a value `v1`, which must have a field named `f`. Update\n",
    "  `v1.f` to `v2`. Return `()`.\n",
    "\n",
    "* **Static semantics:** `e1.f <- e2 : unit` if `e1 : t1` and\n",
    "  `t1 = {...; mutable f : t2; ...}`, and `e2 : t2`.\n",
    "\n",
    "## Refs Are Mutable Fields\n",
    "\n",
    "It turns out that refs are actually implemented as mutable fields. In\n",
    "[`Stdlib`][stdlib] we find the following declaration:\n",
    "\n",
    "```ocaml\n",
    "type 'a ref = { mutable contents : 'a }\n",
    "```\n",
    "\n",
    "And that's why when the toplevel outputs a ref it looks like a record: it *is* a\n",
    "record with a single mutable field named `contents`!"
   ]
  },
  {
   "cell_type": "code",
   "execution_count": null,
   "id": "710a0cdc",
   "metadata": {},
   "outputs": [],
   "source": [
    "let r = ref 42"
   ]
  },
  {
   "cell_type": "markdown",
   "id": "2490439c",
   "metadata": {},
   "source": [
    "The other syntax we've seen for refs is in fact equivalent to simple OCaml\n",
    "functions:"
   ]
  },
  {
   "cell_type": "code",
   "execution_count": null,
   "id": "48064173",
   "metadata": {},
   "outputs": [],
   "source": [
    "let ref x = {contents = x}"
   ]
  },
  {
   "cell_type": "code",
   "execution_count": null,
   "id": "f812a183",
   "metadata": {},
   "outputs": [],
   "source": [
    "let ( ! ) r = r.contents"
   ]
  },
  {
   "cell_type": "code",
   "execution_count": null,
   "id": "8459f1fc",
   "metadata": {},
   "outputs": [],
   "source": [
    "let ( := ) r x = r.contents <- x"
   ]
  },
  {
   "cell_type": "markdown",
   "id": "f17416d9",
   "metadata": {},
   "source": [
    "The reason we say \"equivalent\" is that those functions are actually implemented\n",
    "not in OCaml itself but in the OCaml run-time, which is implemented mostly in C.\n",
    "Nonetheless the functions do behave the same as the OCaml source given above.\n",
    "\n",
    "[stdlib]: https://ocaml.org/api/Stdlib.html\n",
    "\n",
    "## Example: Mutable Singly-Linked Lists\n",
    "\n",
    "{{ video_embed | replace(\"%%VID%%\", \"dLi6Vo_Yp34\")}}\n",
    "\n",
    "Using mutable fields, we can implement singly-linked lists almost the same as we\n",
    "did with references. The types for nodes and lists are simplified:"
   ]
  },
  {
   "cell_type": "code",
   "execution_count": null,
   "id": "2b60343c",
   "metadata": {},
   "outputs": [],
   "source": [
    "(** An ['a node] is a node of a mutable singly-linked list. It contains a value\n",
    "    of type ['a] and optionally has a pointer to the next node. *)\n",
    "type 'a node = {\n",
    "  mutable next : 'a node option;\n",
    "  value : 'a\n",
    "}\n",
    "\n",
    "(** An ['a mlist] is a mutable singly-linked list with elements of type ['a].\n",
    "    RI: The list does not contain any cycles. *)\n",
    "type 'a mlist = {\n",
    "  mutable first : 'a node option;\n",
    "}"
   ]
  },
  {
   "cell_type": "markdown",
   "id": "c78215d4",
   "metadata": {},
   "source": [
    "{{ video_embed | replace(\"%%VID%%\", \"EEXa3bY4ZwI\")}}\n",
    "\n",
    "And there is no essential difference in the algorithms for implementing\n",
    "the operations, but the code is slightly simplified because we don't\n",
    "have to use reference operations:"
   ]
  },
  {
   "cell_type": "code",
   "execution_count": null,
   "id": "4df39cce",
   "metadata": {},
   "outputs": [],
   "source": [
    "(** [insert_first lst n] mutates mlist [lst] by inserting value [v] as the\n",
    "    first value in the list. *)\n",
    "let insert_first (lst : 'a mlist) (v : 'a) =\n",
    "  lst.first <- Some {value = v; next = lst.first}\n",
    "\n",
    "(** [empty ()] is an empty singly-linked list. *)\n",
    "let empty () : 'a mlist = {\n",
    "  first = None\n",
    "}\n",
    "\n",
    "(** [to_list lst] is an OCaml list containing the same values as [lst]\n",
    "    in the same order. Not tail recursive. *)\n",
    "let to_list (lst : 'a mlist) : 'a list =\n",
    "  let rec helper = function\n",
    "    | None -> []\n",
    "    | Some {next; value} -> value :: helper next\n",
    "  in\n",
    "  helper lst.first"
   ]
  },
  {
   "cell_type": "markdown",
   "id": "a60ae337",
   "metadata": {},
   "source": [
    "## Example: Mutable Stacks\n",
    "\n",
    "We already know that lists and stacks can be implemented in quite similar\n",
    "ways. Let's use what we've learned from mutable linked lists to\n",
    "implement mutable stacks.  Here is an interface:"
   ]
  },
  {
   "cell_type": "code",
   "execution_count": null,
   "id": "d46b0b7a",
   "metadata": {},
   "outputs": [],
   "source": [
    "module type MutableStack = sig\n",
    "  (** ['a t] is the type of mutable stacks whose elements have type ['a].\n",
    "      The stack is mutable not in the sense that its elements can\n",
    "      be changed, but in the sense that it is not persistent:\n",
    "      the operations [push] and [pop] destructively modify the stack. *)\n",
    "  type 'a t\n",
    "\n",
    "  (** Raised if [peek] or [pop] encounter the empty stack. *)\n",
    "  exception Empty\n",
    "\n",
    "  (** [empty ()] is the empty stack. *)\n",
    "  val empty : unit -> 'a t\n",
    "\n",
    "  (** [push x s] modifies [s] to make [x] its top element.\n",
    "      The rest of the elements are unchanged. *)\n",
    "  val push : 'a -> 'a t -> unit\n",
    "\n",
    "  (** [peek s] is the top element of [s].\n",
    "      Raises: [Empty] if [s] is empty. *)\n",
    "  val peek : 'a t -> 'a\n",
    "\n",
    "  (** [pop s] removes the top element of [s].\n",
    "      Raises: [Empty] if [s] is empty. *)\n",
    "  val pop : 'a t -> unit\n",
    "end"
   ]
  },
  {
   "cell_type": "markdown",
   "id": "deee26f6",
   "metadata": {},
   "source": [
    "Now let's implement the mutable stack with a mutable linked list."
   ]
  },
  {
   "cell_type": "code",
   "execution_count": null,
   "id": "940aafad",
   "metadata": {},
   "outputs": [],
   "source": [
    "module MutableRecordStack : MutableStack = struct\n",
    "  (** An ['a node] is a node of a mutable linked list.  It has\n",
    "     a field [value] that contains the node's value, and\n",
    "     a mutable field [next] that is [None] if the node has\n",
    "     no successor, or [Some n] if the successor is [n]. *)\n",
    "  type 'a node = {value : 'a; mutable next : 'a node option}\n",
    "\n",
    " (** AF: An ['a t] is a stack represented by a mutable linked list.\n",
    "     The mutable field [top] is the first node of the list,\n",
    "     which is the top of the stack. The empty stack is represented\n",
    "     by {top = None}.  The node {top = Some n} represents the\n",
    "     stack whose top is [n], and whose remaining elements are\n",
    "     the successors of [n]. *)\n",
    "  type 'a t = {mutable top : 'a node option}\n",
    "\n",
    "  exception Empty\n",
    "\n",
    "  let empty () = {top = None}\n",
    "\n",
    "  let push x s = s.top <- Some {value = x; next = s.top}\n",
    "\n",
    "  let peek s =\n",
    "    match s.top with\n",
    "    | None -> raise Empty\n",
    "    | Some {value} -> value\n",
    "\n",
    "  let pop s =\n",
    "    match s.top with\n",
    "    | None -> raise Empty\n",
    "    | Some {next} -> s.top <- next\n",
    "end"
   ]
  }
 ],
 "metadata": {
  "jupytext": {
   "cell_metadata_filter": "-all",
   "formats": "md:myst",
   "text_representation": {
    "extension": ".md",
    "format_name": "myst",
    "format_version": 0.13,
    "jupytext_version": "1.10.3"
   }
  },
  "kernelspec": {
   "display_name": "OCaml",
   "language": "OCaml",
   "name": "ocaml-jupyter"
  },
  "source_map": [
   14,
   24,
   26,
   35,
   39,
   43,
   45,
   49,
   52,
   75,
   77,
   82,
   86,
   90,
   92,
   107,
   120,
   128,
   147,
   155,
   181,
   185
  ]
 },
 "nbformat": 4,
 "nbformat_minor": 5
}