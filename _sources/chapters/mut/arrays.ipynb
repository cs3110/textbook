{
 "cells": [
  {
   "cell_type": "markdown",
   "id": "168f4527",
   "metadata": {},
   "source": [
    "# Arrays and Loops\n",
    "\n",
    "{{ video_embed | replace(\"%%VID%%\", \"-k4rM1viJH4\")}}\n",
    "\n",
    "Arrays are fixed-length mutable sequences with constant-time access and update.\n",
    "So they are similar in various ways to refs, lists, and tuples. Like refs, they\n",
    "are mutable. Like lists, they are (finite) sequences. Like tuples, their length\n",
    "is fixed in advance and cannot be resized.\n",
    "\n",
    "The syntax for arrays is similar to lists:"
   ]
  },
  {
   "cell_type": "code",
   "execution_count": null,
   "id": "8a9a6d39",
   "metadata": {},
   "outputs": [],
   "source": [
    "let v = [|0.; 1.|]"
   ]
  },
  {
   "cell_type": "markdown",
   "id": "b21337e7",
   "metadata": {},
   "source": [
    "That code creates an array whose length is fixed to be 2 and whose contents are\n",
    "initialized to `0.` and `1.`. The keyword `array` is a type constructor, much\n",
    "like `list`.\n",
    "\n",
    "Later those contents can be changed using the `<-` operator:"
   ]
  },
  {
   "cell_type": "code",
   "execution_count": null,
   "id": "50d9abdd",
   "metadata": {},
   "outputs": [],
   "source": [
    "v.(0) <- 5."
   ]
  },
  {
   "cell_type": "code",
   "execution_count": null,
   "id": "ebec53e1",
   "metadata": {},
   "outputs": [],
   "source": [
    "v"
   ]
  },
  {
   "cell_type": "markdown",
   "id": "14ee7feb",
   "metadata": {},
   "source": [
    "As you can see in that example, indexing into an array uses the syntax\n",
    "`array.(index)`, where the parentheses are mandatory.\n",
    "\n",
    "The [`Array` module][array] has many useful functions on arrays.\n",
    "\n",
    "[array]: https://ocaml.org/api/Array.html\n",
    "\n",
    "**Syntax.**\n",
    "\n",
    "* Array creation: `[|e0; e1; ...; en|]`\n",
    "\n",
    "* Array indexing: `e1.(e2)`\n",
    "\n",
    "* Array assignment: `e1.(e2) <- e3`\n",
    "\n",
    "**Dynamic semantics.**\n",
    "\n",
    "* To evaluate `[|e0; e1; ...; en|]`, evaluate each `ei` to a value `vi`, create\n",
    "  a new array of length `n+1`, and store each value in the array at its index.\n",
    "\n",
    "* To evaluate `e1.(e2)`, evaluate `e1` to an array value `v1`, and `e2` to an\n",
    "  integer `v2`. If `v2` is not within the bounds of the array (i.e., `0` to\n",
    "  `n-1`, where `n` is the length of the array), raise `Invalid_argument`.\n",
    "  Otherwise, index into `v1` to get the value `v` at index `v2`, and return `v`.\n",
    "\n",
    "* To evaluate `e1.(e2) <- e3`, evaluate each expression `ei` to a value `vi`.\n",
    "  Check that `v2` is within bounds, as in the semantics of indexing. Mutate the\n",
    "  element of `v1` at index `v2` to be `v3`.\n",
    "\n",
    "**Static semantics.**\n",
    "\n",
    "* `[|e0; e1; ...; en|] : t array` if `ei : t` for all the `ei`.\n",
    "\n",
    "* `e1.(e2) : t` if `e1 : t array` and `e2 : int`.\n",
    "\n",
    "* `e1.(e2) <- e3 : unit` if `e1 : t array` and `e2 : int` and `e3 : t`.\n",
    "\n",
    "**Loops.**\n",
    "\n",
    "OCaml has while loops and for loops. Their syntax is as follows:\n",
    "\n",
    "```ocaml\n",
    "while e1 do e2 done\n",
    "for x=e1 to e2 do e3 done\n",
    "for x=e1 downto e2 do e3 done\n",
    "```\n",
    "\n",
    "Each of these three expressions evaluates the expression between `do` and `done`\n",
    "for each iteration of the loop; `while` loops terminate when `e1` becomes false;\n",
    "`for` loops execute once for each integer from `e1` to `e2`; `for..to` loops\n",
    "evaluate starting at `e1` and incrementing `x` each iteration; `for..downto`\n",
    "loops evaluate starting at `e1` and decrementing `x` each iteration. All three\n",
    "expressions evaluate to `()` after the termination of the loop. Because they\n",
    "always evaluate to `()`, they are less general than folds, maps, or recursive\n",
    "functions.\n",
    "\n",
    "Loops are themselves not inherently mutable, but they are most often used in\n",
    "conjunction with mutable features like arrays&mdash;typically, the body of the\n",
    "loop causes side effects. We can also use functions like `Array.iter`,\n",
    "`Array.map`, and `Array.fold_left` instead of loops.\n",
    "\n",
    "{{ video_embed | replace(\"%%VID%%\", \"GkIgGhqHI7M\")}}"
   ]
  }
 ],
 "metadata": {
  "jupytext": {
   "cell_metadata_filter": "-all",
   "formats": "md:myst",
   "text_representation": {
    "extension": ".md",
    "format_name": "myst",
    "format_version": 0.13,
    "jupytext_version": "1.10.3"
   }
  },
  "kernelspec": {
   "display_name": "OCaml",
   "language": "OCaml",
   "name": "ocaml-jupyter"
  },
  "source_map": [
   14,
   27,
   29,
   37,
   41,
   43
  ]
 },
 "nbformat": 4,
 "nbformat_minor": 5
}